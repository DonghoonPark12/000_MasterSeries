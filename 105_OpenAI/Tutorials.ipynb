{
 "cells": [
  {
   "cell_type": "markdown",
   "metadata": {},
   "source": [
    "## Whisper 및 GPT-4를 사용하여 자동화된 회의록 생성기 만들기  \n",
    "(Creating an automated meeting minutes generator with Whisper and GPT-4)"
   ]
  },
  {
   "cell_type": "markdown",
   "metadata": {},
   "source": [
    "이 튜토리얼에서는 OpenAI의 Whisper 및 GPT-4 모델의 기능을 활용하여 자동화된 회의록 생성기를 개발합니다.  \n",
    "애플리케이션은 회의의 오디오를 `기록`하고, `토론 요약`을 제공하고, `핵심 사항`과 `작업 항목`을 추출하고, `감정 분석`을 수행합니다.  "
   ]
  },
  {
   "cell_type": "markdown",
   "metadata": {},
   "source": [
    "### 시작 하기"
   ]
  },
  {
   "cell_type": "code",
   "execution_count": null,
   "metadata": {},
   "outputs": [],
   "source": []
  }
 ],
 "metadata": {
  "language_info": {
   "name": "python"
  }
 },
 "nbformat": 4,
 "nbformat_minor": 2
}
