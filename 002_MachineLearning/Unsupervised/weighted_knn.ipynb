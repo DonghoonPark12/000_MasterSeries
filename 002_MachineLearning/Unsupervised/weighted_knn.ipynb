{
 "cells": [
  {
   "cell_type": "code",
   "execution_count": null,
   "metadata": {},
   "outputs": [],
   "source": [
    "# Python3 program to implement the \n",
    "# weighted K nearest neighbour algorithm.  \n",
    "  \n",
    "import math  \n",
    "  \n",
    "def weightedkNN(points,p,k=3):  \n",
    "    '''  \n",
    "    This function finds classification of p using  \n",
    "    weighted k nearest neighbour algorithm. It assumes only two  \n",
    "    two classes and returns 0 if p belongs to class 0, else  \n",
    "    1 (belongs to class 1).  \n",
    "  \n",
    "    Parameters -  \n",
    "        points : Dictionary of training points having two keys - 0 and 1  \n",
    "            Each key have a list of training data points belong to that  \n",
    "  \n",
    "        p : A tuple ,test data point of form (x,y)  \n",
    "  \n",
    "        k : number of nearest neighbour to consider, default is 3  \n",
    "    '''\n",
    "  \n",
    "    distance=[]  \n",
    "    for group in points.keys(): # 0, 1\n",
    "        for feature in points[group]:  \n",
    "  \n",
    "            #calculate the euclidean distance of p from training points  \n",
    "            euclidean_distance = math.sqrt((feature[0]-p[0])**2 +(feature[1]-p[1])**2)  \n",
    "  \n",
    "            # Add a tuple of form (distance,group) in the distance list  \n",
    "            distance.append((euclidean_distance,group))  # p와 0번 그룹 포인트 간의 거리를 리스트로 저장\n",
    "                                                         # p와 1번 그룹 포인트 간의 거리를 리스트로 저장\n",
    "    # sort the distance list in ascending order  \n",
    "    # and select first k distances  \n",
    "    distance = sorted(distance)[:k]  \n",
    "  \n",
    "    freq1 = 0 # weighted sum of group 0  \n",
    "    freq2 = 0 # weighted sum of group 1  \n",
    "  \n",
    "    for d in distance: # 5개만 선택해서 \n",
    "        if d[1] == 0: \n",
    "            freq1 += (1 / d[0]) \n",
    "              \n",
    "        elif d[1] == 1:  \n",
    "            freq2 += (1 /d[0]) \n",
    "              \n",
    "  \n",
    "    return 0 if freq1>freq2 else 1\n",
    "  \n",
    "# Driver function  \n",
    "def main():  \n",
    "  \n",
    "    # Dictionary of training points having two keys - 0 and 1  \n",
    "    # key 0 have points belong to class 0  \n",
    "    # key 1 have points belong to class 1  \n",
    "  \n",
    "    points = {0:[(0, 4),(1, 4.9),(1.6, 5.4),(2.2, 6),(2.8, 7),(3.2, 8),(3.4, 9)],  \n",
    "              1:[(1.8, 1),(2.2, 3),(3, 4),(4, 4.5),(5, 5),(6, 5.5)]}  \n",
    "  \n",
    "    # query point p(x,y)  \n",
    "    p = (2, 4)  \n",
    "  \n",
    "    # Number of neighbours  \n",
    "    k = 5\n",
    "  \n",
    "    print(\"The value classified to query point is: {}\".format(weightedkNN(points,p,k)))  \n",
    "  \n",
    "if __name__ == '__main__':  \n",
    "    main() "
   ]
  },
  {
   "cell_type": "code",
   "execution_count": 1,
   "metadata": {},
   "outputs": [
    {
     "data": {
      "image/png": "[encoded data removed]",
      "text/plain": [
       "<Figure size 640x480 with 2 Axes>"
      ]
     },
     "metadata": {},
     "output_type": "display_data"
    }
   ],
   "source": [
    "import matplotlib.pyplot as plt\n",
    "from sklearn.datasets import make_classification\n",
    "from sklearn.metrics import confusion_matrix, ConfusionMatrixDisplay\n",
    "from sklearn.model_selection import train_test_split\n",
    "from sklearn.svm import SVC\n",
    "X, y = make_classification(random_state=0)\n",
    "X_train, X_test, y_train, y_test = train_test_split(X, y,\n",
    "                                                    random_state=0)\n",
    "clf = SVC(random_state=0)\n",
    "clf.fit(X_train, y_train)\n",
    "predictions = clf.predict(X_test)\n",
    "cm = confusion_matrix(y_test, predictions, labels=clf.classes_)\n",
    "disp = ConfusionMatrixDisplay(confusion_matrix=cm,\n",
    "                              display_labels=clf.classes_)\n",
    "disp.plot()\n",
    "plt.show()"
   ]
  }
 ],
 "metadata": {
  "kernelspec": {
   "display_name": "torchWin_rev",
   "language": "python",
   "name": "python3"
  },
  "language_info": {
   "codemirror_mode": {
    "name": "ipython",
    "version": 3
   },
   "file_extension": ".py",
   "mimetype": "text/x-python",
   "name": "python",
   "nbconvert_exporter": "python",
   "pygments_lexer": "ipython3",
   "version": "3.8.17"
  }
 },
 "nbformat": 4,
 "nbformat_minor": 2
}
