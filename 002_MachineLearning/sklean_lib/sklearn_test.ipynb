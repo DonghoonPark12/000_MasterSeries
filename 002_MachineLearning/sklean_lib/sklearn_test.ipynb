{
 "cells": [
  {
   "cell_type": "markdown",
   "metadata": {},
   "source": [
    "<목차>\n",
    "- sklearn.pipeline.Pipeline\n",
    "- sklearn.preprocessing.PolynomialFeatures\n",
    "- sklearn.manifold.TSNE"
   ]
  },
  {
   "cell_type": "markdown",
   "metadata": {},
   "source": [
    "##### `class sklearn.pipeline.Pipeline(steps, *, memory=None, verbose=False)`\n",
    "- 최종 추정기를 사용한 변환 파이프라인\n",
    "- 순차적으로 transforms 와 final estimator를 적용한다.\n",
    "- 파이프라인의 중간 단계는 반드시 'transforms' 여야 한다. 즉, fit, transform 메소드를 구현하여야 한다.\n",
    "- 최종 추정자는 fit만 구현하면 된다.\n",
    "- 파이프라인에 존재하는 transformers는 memory 인자로 캐시화 될 수 있다.\n",
    "- https://scikit-learn.org/stable/modules/generated/sklearn.pipeline.Pipeline.html#sklearn.pipeline.Pipeline\n",
    "  \n",
    "- pipeline의 목적은 교차 검증이 적용가능 할때, 서로 다른 파라미터를 적용한 몇몇 스텝을 합치기 위함이다."
   ]
  },
  {
   "cell_type": "code",
   "execution_count": null,
   "metadata": {},
   "outputs": [],
   "source": [
    "polyfitting_model = RANSACRegressor(make_pipeline(PolynomialFeatures(degree=3), LinearRegression()), # Model Declaration\n",
    "            #residual_threshold=2,\n",
    "            max_trials=1000,\n",
    "            random_state=42,\n",
    "            min_samples=0.1\n",
    "        ) "
   ]
  },
  {
   "cell_type": "code",
   "execution_count": 1,
   "metadata": {},
   "outputs": [
    {
     "data": {
      "text/plain": [
       "0.76"
      ]
     },
     "execution_count": 1,
     "metadata": {},
     "output_type": "execute_result"
    }
   ],
   "source": [
    "from sklearn.svm import SVC\n",
    "from sklearn.preprocessing import StandardScaler\n",
    "from sklearn.datasets import make_classification\n",
    "from sklearn.model_selection import train_test_split\n",
    "from sklearn.pipeline import Pipeline\n",
    "\n",
    "X, y = make_classification(random_state=0)\n",
    "X_train, X_test, y_train, y_test = train_test_split(X, y,\n",
    "                                                    random_state=0)\n",
    "pipe = Pipeline([('scaler', StandardScaler()), ('svc', SVC())])\n",
    "# The pipeline can be used as any other estimator\n",
    "# and avoids leaking the test set into the train set\n",
    "pipe.fit(X_train, y_train).score(X_test, y_test)\n",
    "# An estimator's parameter can be set using '__' syntax\n",
    "pipe.set_params(svc__C=10).fit(X_train, y_train).score(X_test, y_test)"
   ]
  },
  {
   "cell_type": "markdown",
   "metadata": {},
   "source": [
    "##### class sklearn.preprocessing.PolynomialFeatures(degree=2, *, interaction_only=False, include_bias=True, order='C')"
   ]
  },
  {
   "cell_type": "markdown",
   "metadata": {},
   "source": [
    "##### `class sklearn.manifold.TSNE(n_components=2, *, perplexity=30.0, early_exaggeration=12.0, learning_rate='auto', n_iter=1000, n_iter_without_progress=300, min_grad_norm=1e-07, metric='euclidean', metric_params=None, init='pca', verbose=0, random_state=None, method='barnes_hut', angle=0.5, n_jobs=None)`\n",
    "- https://scikit-learn.org/stable/modules/generated/sklearn.manifold.TSNE.html\n",
    "- t-SNE는 고차원 데이터를 시각화 하는 도구\n",
    "- 데이터 점간의 유사성을 결합 확률 분포로 변환하여, `저차원 임베딩의 결합 확률`과 `고차원 데이터 간 KL-발산`을 최소화 한다. \n",
    "- t-SNE에는 볼록하지 않은 비용함수가 있어서, 초기화 값이 다르면 결과가 달라 질 수 있다.\n",
    "  \n",
    "- 만약 데이터 차원이 매우 높다면, (Dense 데이터의 경우) PCA 혹은 (Sparse 데이터의 경우) TruncatedSVD를 사용하는 것이 권장된다.\n",
    "  - 차원 약 50으로 조정 위해"
   ]
  },
  {
   "cell_type": "markdown",
   "metadata": {},
   "source": [
    "특징이 너무 많으면 모델 성능을 저하시킬 수 있다(?)  \n",
    "Dimensionality Reduction은 다음과 같은 방법으로 사용 할 수 있다.\n",
    "- 특징 제거\n",
    "  - 특징을 단순히 삭제\n",
    "- 특징 선택\n",
    "  - 통계적인 방법을 이용하여 feature들의 중요도에 rank를 정한다.\n",
    "  - 이 방법에서는 정보 손실이 발생할 수 있다."
   ]
  },
  {
   "cell_type": "code",
   "execution_count": 1,
   "metadata": {},
   "outputs": [
    {
     "name": "stdout",
     "output_type": "stream",
     "text": [
      "(4, 2)\n"
     ]
    }
   ],
   "source": [
    "import numpy as np\n",
    "from sklearn.manifold import TSNE\n",
    "X = np.array([[0, 0, 0],\n",
    "              [0, 1, 1],\n",
    "              [1, 0, 1], [1, 1, 1]])\n",
    "X_embedded = TSNE(n_components=2, learning_rate='auto',\n",
    "                   init='random', perplexity=3).fit_transform(X)\n",
    "print(X_embedded.shape)\n"
   ]
  },
  {
   "cell_type": "code",
   "execution_count": 1,
   "metadata": {},
   "outputs": [
    {
     "name": "stdout",
     "output_type": "stream",
     "text": [
      "Files already downloaded and verified\n"
     ]
    },
    {
     "ename": "",
     "evalue": "",
     "output_type": "error",
     "traceback": [
      "\u001b[1;31m현재 셀 또는 이전 셀에서 코드를 실행하는 동안 Kernel이 충돌했습니다. 셀의 코드를 검토하여 오류의 가능한 원인을 식별하세요. 자세한 내용을 보려면 <a href='https://aka.ms/vscodeJupyterKernelCrash'> 여기 </a> 를 클릭하세요. 자세한 내용은 Jupyter <a href='command:jupyter.viewOutput'>로그</a>를 참조하세요."
     ]
    }
   ],
   "source": [
    "from sklearn.manifold import TSNE # sklearn 사용하면 easy !! \n",
    "import numpy as np\n",
    "from matplotlib import pyplot as plt\n",
    "\n",
    "import torch\n",
    "import torchvision\n",
    "import torchvision.transforms as transforms\n",
    "from torch.utils.data import DataLoader\n",
    "import torch.nn as nn\n",
    "\n",
    "device = torch.device(\"cuda:0\" if torch.cuda.is_available() else \"cpu\")\n",
    "\n",
    "transform = transforms.Compose([transforms.ToTensor(), transforms.Normalize((0.5, 0.5, 0.5), (0.5, 0.5, 0.5))])\n",
    "testset = torchvision.datasets.CIFAR10(root='./data', train=False, download=True, transform=transform)\n",
    "testloader = torch.utils.data.DataLoader(testset, batch_size=16)\n",
    "\n",
    "# 이하 참고 : https://velog.io/@pppanghyun/%EC%8B%9C%EA%B0%81%ED%99%94-t-SNE-t-Stochastic-Neighbor-Embedding"
   ]
  },
  {
   "cell_type": "markdown",
   "metadata": {},
   "source": [
    "기타 참고\n",
    "- https://www.kaggle.com/code/danielkorth/visualizing-neural-networks-using-t-sne-and-umap\n",
    "- https://towardsdatascience.com/t-sne-clearly-explained-d84c537f53a"
   ]
  },
  {
   "cell_type": "code",
   "execution_count": null,
   "metadata": {},
   "outputs": [],
   "source": []
  }
 ],
 "metadata": {
  "kernelspec": {
   "display_name": "Python 3.8.17 ('mm3d')",
   "language": "python",
   "name": "python3"
  },
  "language_info": {
   "codemirror_mode": {
    "name": "ipython",
    "version": 3
   },
   "file_extension": ".py",
   "mimetype": "text/x-python",
   "name": "python",
   "nbconvert_exporter": "python",
   "pygments_lexer": "ipython3",
   "version": "3.8.17"
  },
  "orig_nbformat": 4,
  "vscode": {
   "interpreter": {
    "hash": "d69b847d396095f32f676329057412de0235e6809d7fbe768ce2e81f9c069d24"
   }
  }
 },
 "nbformat": 4,
 "nbformat_minor": 2
}
