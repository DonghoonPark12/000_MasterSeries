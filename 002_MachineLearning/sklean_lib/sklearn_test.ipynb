{
 "cells": [
  {
   "cell_type": "markdown",
   "metadata": {},
   "source": [
    "class sklearn.pipeline.Pipeline(steps, *, memory=None, verbose=False)\n",
    "- 최종 추정기를 사용한 변환 파이프라인\n",
    "- 순차적으로 transforms 와 final estimator를 적용한다.\n",
    "- 파이프라인의 중간 단계는 반드시 'transforms' 여야 한다. 즉, fit, transform 메소드를 구현하여야 한다.\n",
    "- 최종 추정자는 fit만 구현하면 된다.\n",
    "- 파이프라인에 존재하는 transformers는 memory 인자로 캐시화 될 수 있다.\n",
    "- https://scikit-learn.org/stable/modules/generated/sklearn.pipeline.Pipeline.html#sklearn.pipeline.Pipeline\n",
    "  \n",
    "- pipeline의 목적은 교차 검증이 적용가능 할때, 서로 다른 파라미터를 적용한 몇몇 스텝을 합치기 위함이다."
   ]
  },
  {
   "cell_type": "code",
   "execution_count": null,
   "metadata": {},
   "outputs": [],
   "source": [
    "polyfitting_model = RANSACRegressor(make_pipeline(PolynomialFeatures(degree=3), LinearRegression()), # Model Declaration\n",
    "            #residual_threshold=2,\n",
    "            max_trials=1000,\n",
    "            random_state=42,\n",
    "            min_samples=0.1\n",
    "        ) "
   ]
  },
  {
   "cell_type": "code",
   "execution_count": 1,
   "metadata": {},
   "outputs": [
    {
     "data": {
      "text/plain": [
       "0.76"
      ]
     },
     "execution_count": 1,
     "metadata": {},
     "output_type": "execute_result"
    }
   ],
   "source": [
    "from sklearn.svm import SVC\n",
    "from sklearn.preprocessing import StandardScaler\n",
    "from sklearn.datasets import make_classification\n",
    "from sklearn.model_selection import train_test_split\n",
    "from sklearn.pipeline import Pipeline\n",
    "\n",
    "X, y = make_classification(random_state=0)\n",
    "X_train, X_test, y_train, y_test = train_test_split(X, y,\n",
    "                                                    random_state=0)\n",
    "pipe = Pipeline([('scaler', StandardScaler()), ('svc', SVC())])\n",
    "# The pipeline can be used as any other estimator\n",
    "# and avoids leaking the test set into the train set\n",
    "pipe.fit(X_train, y_train).score(X_test, y_test)\n",
    "# An estimator's parameter can be set using '__' syntax\n",
    "pipe.set_params(svc__C=10).fit(X_train, y_train).score(X_test, y_test)"
   ]
  },
  {
   "cell_type": "markdown",
   "metadata": {},
   "source": [
    "class sklearn.preprocessing.PolynomialFeatures(degree=2, *, interaction_only=False, include_bias=True, order='C')"
   ]
  }
 ],
 "metadata": {
  "kernelspec": {
   "display_name": "Python 3.8.17 ('mm3d')",
   "language": "python",
   "name": "python3"
  },
  "language_info": {
   "codemirror_mode": {
    "name": "ipython",
    "version": 3
   },
   "file_extension": ".py",
   "mimetype": "text/x-python",
   "name": "python",
   "nbconvert_exporter": "python",
   "pygments_lexer": "ipython3",
   "version": "3.8.17"
  },
  "orig_nbformat": 4,
  "vscode": {
   "interpreter": {
    "hash": "d69b847d396095f32f676329057412de0235e6809d7fbe768ce2e81f9c069d24"
   }
  }
 },
 "nbformat": 4,
 "nbformat_minor": 2
}
