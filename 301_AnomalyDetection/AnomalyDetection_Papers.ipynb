{
 "cells": [
  {
   "cell_type": "markdown",
   "metadata": {},
   "source": [
    "#### WinCLIP: Zero-/Few-Shot Anomaly Classification and Segmentation\n",
    "- zero-shot, few-shot 이상 탐지 분류/분할 문제 해결\n",
    "- CLIP은 이상 분류/분할 역량 부족\n",
    "- WinCLIP은 \n",
    "  - (1) 상태 및 프롬프트 템플릿에 대한 구성의 앙상블?\n",
    "  - (2) 윈도우/패치/이미지 수준의 효율적인 특징 추출 및 집계\n",
    "\n",
    "- 이미지의 보완(complementary) 정보를 사용하는 WindCLIP+를 제안\n",
    "- MVTec-AD (그리고 VISA)에서 추가 조정 없이 anomaly classification and segmentation 에서\n",
    "  - 91.8%/85.1% (78.1%/79.6%) AUROC in zero-shot \n",
    "  - 93.1%/95.2% (83.8%/96.4%) in 1- normal-shot"
   ]
  }
 ],
 "metadata": {
  "language_info": {
   "name": "python"
  }
 },
 "nbformat": 4,
 "nbformat_minor": 2
}
