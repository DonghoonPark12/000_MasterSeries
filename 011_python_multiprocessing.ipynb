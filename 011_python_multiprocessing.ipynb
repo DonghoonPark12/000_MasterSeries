{
 "cells": [
  {
   "cell_type": "markdown",
   "metadata": {},
   "source": [
    "### multiprocessing — 프로세스 기반 병렬 처리\n",
    "- multiprocessing 은 threading 모듈과 유사한 API를 사용하여 프로세스 스포닝(spawning)을 지원하는 패키지\n",
    "- multiprocessing 패키지는 지역(local)과 원격 동시성(remote concurrency)을 모두 제공하며 스레드 대신 서브 프로세스를 사용하여 전역 인터프리터 록 을 효과적으로 피한다.\n",
    "- 유닉스와 윈도우에서 모두 실행된다.\n",
    "  \n",
    "- multiprocessing 모듈을 threading 모듈에 없는 API도 제공한다. 대표적인 예가 Pool 객체.\n",
    "- Pool 객체는 여러 입력 값에 걸쳐 함수의 실행을 병렬 처리하고, 입력 데이터를 프로세스에 분산시키는 편리한 방법을 제공\n",
    "Q. 전역 인터프리터 록(GIL)을 왜 피해야 하는가?"
   ]
  },
  {
   "cell_type": "code",
   "execution_count": 3,
   "metadata": {},
   "outputs": [],
   "source": [
    "from multiprocessing import Pool\n",
    "\n",
    "def f(x):\n",
    "    return x ** 2\n",
    "\n",
    "if __name__ == '__main__':\n",
    "    with Pool(5) as p:\n",
    "        print(p.map(f, [1, 2, 3]))"
   ]
  },
  {
   "cell_type": "markdown",
   "metadata": {},
   "source": [
    "### GIL: global interpreter lock (전역 인터프리터 록) 이란\n",
    "- 한 번에 오직 하나의 스레드가 파이썬 바이트 코드 를 실행하도록 보장하기 위해 CPython 인터프리터가 사용하는 메커니즘\n",
    "- 객체 모델이 묵시적으로 동시 엑세스에 대해 안전하도록 만들어서, CPython 구현을 단순하게 만든다.\n",
    "- 인터프리터 전체를 잠그는 것은 인터프리터를 다중스레드화 하기 쉽게 만드는 대신, 다중 프로세서 기계가 제공하는 병렬성의 많은 부분을 희생한다.\n",
    "\n",
    "\n",
    "- 출처: https://docs.python.org/ko/3/glossary.html#term-global-interpreter-lock"
   ]
  },
  {
   "cell_type": "markdown",
   "metadata": {},
   "source": [
    "### 바이트 코드란?\n",
    "- "
   ]
  },
  {
   "cell_type": "code",
   "execution_count": null,
   "metadata": {},
   "outputs": [],
   "source": []
  },
  {
   "cell_type": "code",
   "execution_count": null,
   "metadata": {},
   "outputs": [],
   "source": []
  }
 ],
 "metadata": {
  "kernelspec": {
   "display_name": "Python 3",
   "language": "python",
   "name": "python3"
  },
  "language_info": {
   "codemirror_mode": {
    "name": "ipython",
    "version": 3
   },
   "file_extension": ".py",
   "mimetype": "text/x-python",
   "name": "python",
   "nbconvert_exporter": "python",
   "pygments_lexer": "ipython3",
   "version": "3.11.4"
  },
  "orig_nbformat": 4
 },
 "nbformat": 4,
 "nbformat_minor": 2
}
