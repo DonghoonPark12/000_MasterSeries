{
 "cells": [
  {
   "cell_type": "markdown",
   "metadata": {},
   "source": [
    "#### Fucntional Programming"
   ]
  },
  {
   "cell_type": "markdown",
   "metadata": {},
   "source": [
    "#### numpy.apply_along_axis(func1d, axis, arr, *args, **kwargs)\n",
    "- 주어진 축을 따라 1차원 슬라이스에 함수를 적용\n",
    "- func1d(a, *args, **kwargs)를 실행하고, func1d는 1차원 배열에서 연산을 수행한다.\n",
    "- 아래의 두 식과 동일하지만, 연산 시간은 더 빠르다."
   ]
  },
  {
   "cell_type": "code",
   "execution_count": null,
   "metadata": {},
   "outputs": [],
   "source": [
    "Ni, Nk = a.shape[:axis], a.shape[axis+1:]\n",
    "for ii in ndindex(Ni):\n",
    "    for kk in ndindex(Nk):\n",
    "        f = func1d(arr[ii + s_[:,] + kk])\n",
    "        Nj = f.shape\n",
    "        for jj in ndindex(Nj):\n",
    "            out[ii + jj + kk] = f[jj]\n",
    "\n",
    "for ii in ndindex(Ni):\n",
    "    for kk in ndindex(Nk):\n",
    "        out[ii + s_[...,] + kk] = func1d(arr[ii + s_[:,] + kk])"
   ]
  },
  {
   "cell_type": "code",
   "execution_count": 2,
   "metadata": {},
   "outputs": [
    {
     "name": "stdout",
     "output_type": "stream",
     "text": [
      "[4. 5. 6.]\n",
      "[2. 5. 8.]\n"
     ]
    }
   ],
   "source": [
    "import numpy as np\n",
    "\n",
    "def my_func(a):\n",
    "    \"\"\"Average first and last element of a 1-D array\"\"\"\n",
    "    return (a[0] + a[-1]) * 0.5\n",
    "\n",
    "b = np.array([[1,2,3], \n",
    "              [4,5,6],\n",
    "              [7,8,9]])\n",
    "print(np.apply_along_axis(my_func, 0, b)) # ↓\n",
    "print(np.apply_along_axis(my_func, 1, b)) # →"
   ]
  },
  {
   "cell_type": "code",
   "execution_count": 3,
   "metadata": {},
   "outputs": [
    {
     "name": "stdout",
     "output_type": "stream",
     "text": [
      "[[4 1 6]\n",
      " [5 2 7]\n",
      " [8 3 9]]\n",
      "[[1 7 8]\n",
      " [3 4 9]\n",
      " [2 5 6]]\n"
     ]
    }
   ],
   "source": [
    "b = np.array([[8,1,7],\n",
    "              [4,3,9],\n",
    "              [5,2,6]])\n",
    "              \n",
    "print(np.apply_along_axis(sorted, 0, b))\n",
    "print(np.apply_along_axis(sorted, 1, b))"
   ]
  },
  {
   "cell_type": "code",
   "execution_count": 5,
   "metadata": {},
   "outputs": [
    {
     "name": "stdout",
     "output_type": "stream",
     "text": [
      "[[[8 0 0]\n",
      "  [0 1 0]\n",
      "  [0 0 7]]\n",
      "\n",
      " [[4 0 0]\n",
      "  [0 3 0]\n",
      "  [0 0 9]]\n",
      "\n",
      " [[5 0 0]\n",
      "  [0 2 0]\n",
      "  [0 0 6]]]\n"
     ]
    }
   ],
   "source": [
    "b = np.array([[8,1,7],\n",
    "              [4,3,9],\n",
    "              [5,2,6]])\n",
    "\n",
    "print(np.apply_along_axis(np.diag, -1, b))\n",
    "# array([[[1, 0, 0],\n",
    "#         [0, 2, 0],\n",
    "#         [0, 0, 3]],\n",
    "#        [[4, 0, 0],\n",
    "#         [0, 5, 0],\n",
    "#         [0, 0, 6]],\n",
    "#        [[7, 0, 0],\n",
    "#         [0, 8, 0],\n",
    "#         [0, 0, 9]]])"
   ]
  }
 ],
 "metadata": {
  "kernelspec": {
   "display_name": "Python 3.8.17 ('torchWin_rev')",
   "language": "python",
   "name": "python3"
  },
  "language_info": {
   "codemirror_mode": {
    "name": "ipython",
    "version": 3
   },
   "file_extension": ".py",
   "mimetype": "text/x-python",
   "name": "python",
   "nbconvert_exporter": "python",
   "pygments_lexer": "ipython3",
   "version": "3.8.17"
  },
  "orig_nbformat": 4,
  "vscode": {
   "interpreter": {
    "hash": "dcfd0bbc3e25ae79d1f134c08b87e3777d49169aec2e55e1b5fb8249822c085d"
   }
  }
 },
 "nbformat": 4,
 "nbformat_minor": 2
}
