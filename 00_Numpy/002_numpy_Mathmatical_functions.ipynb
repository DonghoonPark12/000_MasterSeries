{
 "cells": [
  {
   "cell_type": "markdown",
   "metadata": {},
   "source": [
    "### numpy.diff(a, n=1, axis=-1, prepend=<no value>, append=<no value>)\n",
    "- n : 값의 차이를 발생 시키는 간격"
   ]
  },
  {
   "cell_type": "code",
   "execution_count": 9,
   "metadata": {},
   "outputs": [
    {
     "name": "stdout",
     "output_type": "stream",
     "text": [
      "[ 1  2  3 -7]\n",
      "[  1   1 -10]\n",
      "[  0 -11]\n",
      "[-11]\n",
      "[]\n",
      "[]\n",
      "[1 2 4 7 0]\n"
     ]
    }
   ],
   "source": [
    "import numpy as np\n",
    "x = np.array([1, 2, 4, 7, 0])\n",
    "r = np.diff(x)\n",
    "print(r) # [ 1  2  3 -7]\n",
    "\n",
    "r = np.diff(x, n=2) \n",
    "print(r)\n",
    "# 본인은 위의 결과가 간격을 2로 두어 [3(4-1의 결과), 5(7-2의 결과), -4(0-4의 결과)] --> [3, 5, -4] 가 나온다고 생각하였다.\n",
    "# 하지만, 실제 연산 결과는 n=1 즉, 1차 차분 결과를 한번 더 차분한다.\n",
    "# [1(2-1의 결과), 1(3-2의 결과), -10(-7)] -->[1, 1, -10]\n",
    "\n",
    "r = np.diff(x, n=3) \n",
    "print(r) # 2차 차분 결과를 한번 더 차분한다.\n",
    "\n",
    "r = np.diff(x, n=4) \n",
    "print(r)\n",
    "\n",
    "r = np.diff(x, n=5) # 더이상 차분할 게 없으면, 에러 대신 빈 값을 반환한다.\n",
    "print(r)\n",
    "\n",
    "r = np.diff(x, n=6) \n",
    "print(r)\n",
    "\n",
    "r = np.diff(x, n=0)\n",
    "print(r)"
   ]
  },
  {
   "cell_type": "code",
   "execution_count": null,
   "metadata": {},
   "outputs": [],
   "source": []
  }
 ],
 "metadata": {
  "kernelspec": {
   "display_name": "Python 3.8.17 ('torchWin_rev')",
   "language": "python",
   "name": "python3"
  },
  "language_info": {
   "codemirror_mode": {
    "name": "ipython",
    "version": 3
   },
   "file_extension": ".py",
   "mimetype": "text/x-python",
   "name": "python",
   "nbconvert_exporter": "python",
   "pygments_lexer": "ipython3",
   "version": "3.8.17"
  },
  "orig_nbformat": 4,
  "vscode": {
   "interpreter": {
    "hash": "dcfd0bbc3e25ae79d1f134c08b87e3777d49169aec2e55e1b5fb8249822c085d"
   }
  }
 },
 "nbformat": 4,
 "nbformat_minor": 2
}
