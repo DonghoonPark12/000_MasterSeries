{
 "cells": [
  {
   "cell_type": "markdown",
   "metadata": {},
   "source": [
    "### concurrent.futures - 병렬 작업 시작하기\n",
    "- python 3.2 부터 추가\n",
    "- concurrent.futures 모듈은 비동기적으로 콜러블을 실행하는 고수준 인터페이스를 제공\n",
    "- 비 동기 실행은 ThreadPoolExecutor를 사용해서 스레드 혹은 ProcessPoolExecutor를 사용해서 프로세스로 수행할 수 있다.\n",
    "- 둘다 추상 Executor 클래스로 정의된 것과 같은 인터페이스를 구현한다."
   ]
  },
  {
   "cell_type": "markdown",
   "metadata": {},
   "source": [
    "#### Executor 객체"
   ]
  },
  {
   "cell_type": "code",
   "execution_count": 7,
   "metadata": {},
   "outputs": [
    {
     "name": "stdout",
     "output_type": "stream",
     "text": [
      "256\n"
     ]
    }
   ],
   "source": [
    "from concurrent import futures\n",
    "\n",
    "with futures.ThreadPoolExecutor(max_workers=1) as executor:\n",
    "    future = executor.submit(pow, 2, 8)\n",
    "    print(future.result())"
   ]
  },
  {
   "cell_type": "markdown",
   "metadata": {},
   "source": [
    "#### ThreadPoolExecutor\n",
    "- 용법: class concurrent.futures.ThreadPoolExecutor(max_workers=None thread_name_prefix='', initializer=None, initargs=())\n",
    "- ThreadPoolExecutor는 스레드 풀을 사용하여 호출을 비 동기적으로 실행하는 Executor 서브 클래스이다.\n",
    "- Future와 관련된 Callable 객체다 다른 Future의 결과를 기다릴 때 교착상태가 발생할 수 있다. 예를 들면"
   ]
  },
  {
   "cell_type": "code",
   "execution_count": 33,
   "metadata": {},
   "outputs": [
    {
     "name": "stdout",
     "output_type": "stream",
     "text": [
      "DoneAndNotDoneFutures(done=set(), not_done={<Future at 0x2c77a6dae80 state=running>, <Future at 0x2c77a6daa30 state=running>})\n"
     ]
    }
   ],
   "source": [
    "import time\n",
    "from concurrent.futures import ThreadPoolExecutor, ProcessPoolExecutor, wait, as_completed\n",
    "\n",
    "def wait_on_b():\n",
    "    time.sleep(5)\n",
    "    print(b.result())  # b will never complete because it is waiting on a.\n",
    "    return 5\n",
    "\n",
    "def wait_on_a():\n",
    "    time.sleep(5)\n",
    "    print(a.result())  # a will never complete because it is waiting on b.\n",
    "    return 6\n",
    "\n",
    "futures_list = []\n",
    "\n",
    "executor = futures.ThreadPoolExecutor(max_workers=2)\n",
    "a = executor.submit(wait_on_b)\n",
    "b = executor.submit(wait_on_a)\n",
    "\n",
    "futures_list = [a, b]\n",
    "\n",
    "result = wait(futures_list, timeout=7)\n",
    "print(result) # 두 스레드가 교착상태에 빠져 done 된게 없다."
   ]
  },
  {
   "cell_type": "code",
   "execution_count": 34,
   "metadata": {},
   "outputs": [
    {
     "name": "stdout",
     "output_type": "stream",
     "text": [
      "DoneAndNotDoneFutures(done=set(), not_done={<Future at 0x2c77913edf0 state=running>})\n"
     ]
    }
   ],
   "source": [
    "def wait_on_future():\n",
    "    f = executor.submit(pow, 5, 2)\n",
    "    # This will never complete because there is only one worker thread and\n",
    "    # it is executing this function.\n",
    "    print(f.result())\n",
    "\n",
    "futures_list = []\n",
    "\n",
    "executor = futures.ThreadPoolExecutor(max_workers=1)\n",
    "c = executor.submit(wait_on_future)\n",
    "\n",
    "futures_list.append(c)\n",
    "\n",
    "result = wait(futures_list, timeout=7)\n",
    "print(result) "
   ]
  },
  {
   "cell_type": "markdown",
   "metadata": {},
   "source": [
    "#### ========== 이하 강의 자료 =========="
   ]
  },
  {
   "cell_type": "markdown",
   "metadata": {},
   "source": [
    "<Futures 동시성>  \n",
    "비동기 작업 실행 예시  \n",
    ": 비동기 작업과 적합한 프로그램일 경우 압도적으로 성능 향상  \n",
    ": 지연시간(Block) CPU 및 리소스 낭비 방지 -> (File)Network I/O 관련 작업 -> 동시성 활용 권장\n",
    "\n",
    "<futures 모듈>  \n",
    ": concurrent.Futures\n",
    ": futures : 비동기 실행을 위한 API를 고수준으로 작성 -> 사용하기 쉽도록 개선\n",
    "  1. (★) 멀티스레딩/멀티프로세싱 API 통일 -> 매우 사용하기 쉬움\n",
    "  2. 실행중이 작업 취소, 완료 여부 체크, 타임아웃 옵션, 콜백추가, 동기화 코드 매우 쉽게 작성 -> Promise 개념(?)\n",
    "\n",
    "<GIL, Global Interpreter Lock>  \n",
    "GIL : 두 개 이상의 스레드가 동시에 실행 될 때 하나의 자원을 엑세스 하는 경우 -> 문제점을 방지하기 위해 GIL 실행, 리소스 전체에 락이 걸린다. -> Context Switch(문맥 교환)이 오히려 속도를 느리게 하는 경우가 있다.\n",
    "\n",
    "GIL을 우회하기 위해선,,, 멀티프로세싱 사용, CPython"
   ]
  },
  {
   "cell_type": "markdown",
   "metadata": {},
   "source": [
    "### concurrent.futures map"
   ]
  },
  {
   "cell_type": "code",
   "execution_count": 4,
   "metadata": {},
   "outputs": [
    {
     "name": "stdout",
     "output_type": "stream",
     "text": [
      "\n",
      " Result -> [5000050000, 500000500000, 50000005000000, 50000005000000] Time : 1.23s\n"
     ]
    }
   ],
   "source": [
    "import os, time\n",
    "from concurrent import futures\n",
    "\n",
    "WORK_LIST = [100000, 1000000, 10000000, 10000000]\n",
    "\n",
    "def sum_generate(n):\n",
    "    return sum(n for n in range(1, n + 1))\n",
    "\n",
    "def main():\n",
    "    # Worker Count\n",
    "    worker = min(10, len(WORK_LIST))\n",
    "\n",
    "    start_tm = time.time()\n",
    "    # ProcessPoolExecutor\n",
    "    with futures.ThreadPoolExecutor() as executor:\n",
    "        result = executor.map(sum_generate, WORK_LIST)\n",
    "\n",
    "    end_tm = time.time() - start_tm\n",
    "\n",
    "    msg = '\\n Result -> {} Time : {:.2f}s'\n",
    "\n",
    "    print(msg.format(list(result), end_tm))\n",
    "\n",
    "if __name__ == '__main__':\n",
    "    main()\n"
   ]
  },
  {
   "cell_type": "markdown",
   "metadata": {},
   "source": [
    "### concurrent.futures wait, as_completed\n",
    "\n",
    "- submit(fn, /, *args, **kwargs) : callable이 실행되도록 예약한다. callable 실행을 나타내는 Future 객체를 반환한다.\n",
    "- wait은 대기할 최대 시간을 제어하는데 사용할 수 있다. \n",
    "    - {wait 리턴값}.done : 실행 완료된 future 객체를 집합에 담는다.\n",
    "    - {wait 리턴값}.not_done : 실행 완료되지 않은 future 객체를 집합에 담는다.\n",
    "- {Future객체}.result(): 반환 값을 나타낸다.\n",
    "- (강의자에 의하면) wait는 테스트를 특정 단위별로 완료하여 처리할 때 사용하고(e.g. DB에 삽입), 끝나는 대로 바로 처리할 때는 "
   ]
  },
  {
   "cell_type": "code",
   "execution_count": 19,
   "metadata": {},
   "outputs": [
    {
     "name": "stdout",
     "output_type": "stream",
     "text": [
      "Scheduled for 100000 : <Future at 0x29478e3c6d0 state=finished returned int>\n",
      "Scheduled for 1000000 : <Future at 0x29478b32610 state=pending>\n",
      "Scheduled for 10000000 : <Future at 0x29478b32280 state=running>\n",
      "Scheduled for 100000000 : <Future at 0x29478e3f250 state=running>\n",
      "\n",
      "DoneAndNotDoneFutures(done={<Future at 0x29478b32280 state=finished returned int>, <Future at 0x29478b32610 state=finished returned int>, <Future at 0x29478e3f250 state=finished returned int>, <Future at 0x29478e3c6d0 state=finished returned int>}, not_done=set())\n",
      "Completed Tasks : {<Future at 0x29478b32280 state=finished returned int>, <Future at 0x29478b32610 state=finished returned int>, <Future at 0x29478e3f250 state=finished returned int>, <Future at 0x29478e3c6d0 state=finished returned int>}\n",
      "Pending ones after waiting for 7seconds : set()\n",
      "[50000005000000, 500000500000, 5000000050000000, 5000050000]\n",
      "\n",
      " Time : 6.53s\n"
     ]
    }
   ],
   "source": [
    "import time\n",
    "from concurrent.futures import ThreadPoolExecutor, ProcessPoolExecutor, wait, as_completed\n",
    "\n",
    "WORK_LIST = [100000, 1000000, 10000000, 100000000]\n",
    "\n",
    "\n",
    "# 동시성 합계 계산 메인 함수\n",
    "# 누적 합계 함수(제레네이터)\n",
    "def sum_generator(n):\n",
    "    return sum(n for n in range(1, n+1))\n",
    "\n",
    "# wait\n",
    "# as_completed\n",
    "def main():\n",
    "    # Worker Count\n",
    "    worker = min(10, len(WORK_LIST))\n",
    "\n",
    "    start_tm = time.time()\n",
    "\n",
    "    # Futures \n",
    "    futures_list = []\n",
    "\n",
    "    with ThreadPoolExecutor(max_workers=worker) as executor:\n",
    "        for work in WORK_LIST:\n",
    "            future = executor.submit(sum_generator, work) # sum_generator 함수에 work 인자들이 담긴다.\n",
    "            # 스케줄링\n",
    "            futures_list.append(future) # future 객체를 리스트에 담는다.\n",
    "            # 스케줄링 확인\n",
    "            print('Scheduled for {} : {}'.format(work, future))\n",
    "\n",
    "        print()\n",
    "          \n",
    "        result = wait(futures_list, timeout=7) # 앞의 map 예제와는 다르게 timeout을 걸 수 있다.\n",
    "        print(result)\n",
    "        # 성공\n",
    "        print('Completed Tasks : ' + str(result.done))\n",
    "        # 실패\n",
    "        print('Pending ones after waiting for 7seconds : ' + str(result.not_done))\n",
    "        # 결과 값 출력s\n",
    "        print([future.result() for future in result.done])\n",
    "\n",
    "    # 종료 시간\n",
    "    end_tm = time.time() - start_tm\n",
    "    # 출력 포멧\n",
    "    msg = '\\n Time : {:.2f}s'\n",
    "    #msg = '\\n Result -> {} Time : {:.2f}s'\n",
    "    \n",
    "    # 최종 결과 출력\n",
    "    print(msg.format(end_tm))\n",
    "    #print(msg.format(list(result), end_tm))\n",
    "\n",
    "if __name__ == '__main__':\n",
    "    main()"
   ]
  },
  {
   "cell_type": "markdown",
   "metadata": {},
   "source": [
    "#### concurrent.futures.as_completed(fs, timeout=None)"
   ]
  },
  {
   "cell_type": "code",
   "execution_count": 18,
   "metadata": {},
   "outputs": [
    {
     "ename": "NameError",
     "evalue": "name 'worker' is not defined",
     "output_type": "error",
     "traceback": [
      "\u001b[1;31m---------------------------------------------------------------------------\u001b[0m",
      "\u001b[1;31mNameError\u001b[0m                                 Traceback (most recent call last)",
      "Cell \u001b[1;32mIn[18], line 59\u001b[0m\n\u001b[0;32m     56\u001b[0m     \u001b[39m#print(msg.format(list(result), end_tm))\u001b[39;00m\n\u001b[0;32m     58\u001b[0m \u001b[39mif\u001b[39;00m \u001b[39m__name__\u001b[39m \u001b[39m==\u001b[39m \u001b[39m'\u001b[39m\u001b[39m__main__\u001b[39m\u001b[39m'\u001b[39m:\n\u001b[1;32m---> 59\u001b[0m     main()\n",
      "Cell \u001b[1;32mIn[18], line 21\u001b[0m, in \u001b[0;36mmain\u001b[1;34m()\u001b[0m\n\u001b[0;32m     18\u001b[0m \u001b[39m# Futures \u001b[39;00m\n\u001b[0;32m     19\u001b[0m futures_list \u001b[39m=\u001b[39m []\n\u001b[1;32m---> 21\u001b[0m \u001b[39mwith\u001b[39;00m ThreadPoolExecutor(max_workers\u001b[39m=\u001b[39mworker) \u001b[39mas\u001b[39;00m executor:\n\u001b[0;32m     22\u001b[0m     \u001b[39mfor\u001b[39;00m work \u001b[39min\u001b[39;00m WORK_LIST:\n\u001b[0;32m     23\u001b[0m         future \u001b[39m=\u001b[39m executor\u001b[39m.\u001b[39msubmit(sum_generator, work) \u001b[39m# sum_generator 함수에 work 인자들이 담긴다.\u001b[39;00m\n",
      "\u001b[1;31mNameError\u001b[0m: name 'worker' is not defined"
     ]
    }
   ],
   "source": [
    "import time\n",
    "from concurrent.futures import ThreadPoolExecutor, ProcessPoolExecutor, wait, as_completed\n",
    "\n",
    "WORK_LIST = [100000, 1000000, 10000000, 100000000]\n",
    "\n",
    "\n",
    "# 동시성 합계 계산 메인 함수\n",
    "# 누적 합계 함수(제레네이터)\n",
    "def sum_generator(n):\n",
    "    return sum(n for n in range(1, n+1))\n",
    "\n",
    "# wait\n",
    "# as_completed\n",
    "def main():\n",
    "    # Worker Count\n",
    "    worker = min(10, len(WORK_LIST))\n",
    "    \n",
    "    start_tm = time.time()\n",
    "\n",
    "    # Futures \n",
    "    futures_list = []\n",
    "\n",
    "    with ThreadPoolExecutor(max_workers=worker) as executor:\n",
    "        for work in WORK_LIST:\n",
    "            future = executor.submit(sum_generator, work) # sum_generator 함수에 work 인자들이 담긴다.\n",
    "            # 스케줄링\n",
    "            futures_list.append(future) # future 객체를 리스트에 담는다.\n",
    "            # 스케줄링 확인\n",
    "            print('Scheduled for {} : {}'.format(work, future))\n",
    "\n",
    "        print()\n",
    "\n",
    "        # # 성공\n",
    "        # print('Completed Tasks : ' + str(result.done))\n",
    "        # # 실패\n",
    "        # print('Pending ones after waiting for 7seconds : ' + str(result.not_done))\n",
    "        # # 결과 값 출력s\n",
    "        # print([future.result() for future in result.done])\n",
    "\n",
    "        # as_completed 결과 출력\n",
    "        for future in as_completed(futures_list):\n",
    "            result = future.result()\n",
    "            done = future.done()\n",
    "            cancelled = future.cancelled\n",
    "\n",
    "            print('Future Result : {}, Done : {}'.format(result, done))\n",
    "            print('Future Cancelled : {}'.format(cancelled))\n",
    "            print()\n",
    "\n",
    "    # 종료 시간\n",
    "    end_tm = time.time() - start_tm\n",
    "    # 출력 포멧\n",
    "    msg = '\\n Time : {:.2f}s'\n",
    "    #msg = '\\n Result -> {} Time : {:.2f}s'\n",
    "    \n",
    "    # 최종 결과 출력\n",
    "    print(msg.format(end_tm))\n",
    "    #print(msg.format(list(result), end_tm))\n",
    "\n",
    "if __name__ == '__main__':\n",
    "    main()"
   ]
  },
  {
   "cell_type": "markdown",
   "metadata": {},
   "source": [
    "참고자료: https://docs.python.org/ko/3/library/concurrent.futures.html"
   ]
  },
  {
   "cell_type": "code",
   "execution_count": 17,
   "metadata": {},
   "outputs": [
    {
     "name": "stdout",
     "output_type": "stream",
     "text": [
      "Scheduled for 100000 : <Future at 0x29478b29d90 state=finished returned int>\n",
      "Scheduled for 1000000 : <Future at 0x29478dde100 state=pending>\n",
      "Scheduled for 10000000 : <Future at 0x29478e3b2e0 state=pending>\n",
      "Scheduled for 100000000 : <Future at 0x29478e3b3d0 state=pending>\n",
      "Completed Tasks : {<Future at 0x29478dde100 state=finished returned int>, <Future at 0x29478b29d90 state=finished returned int>, <Future at 0x29478e3b3d0 state=finished returned int>, <Future at 0x29478e3b2e0 state=finished returned int>}\n",
      "Pending ones after waiting for 7seconds : set()\n",
      "[500000500000, 5000050000, 5000000050000000, 50000005000000]\n",
      "\n",
      " Time : 6.42s\n"
     ]
    }
   ],
   "source": [
    "import time\n",
    "from concurrent.futures import ThreadPoolExecutor, ProcessPoolExecutor, wait, as_completed\n",
    "\n",
    "WORK_LIST = [100000, 1000000, 10000000, 100000000]\n",
    "\n",
    "\n",
    "# 동시성 합계 계산 메인 함수\n",
    "# 누적 합계 함수(제레네이터)\n",
    "def sum_generator(n):\n",
    "    return sum(n for n in range(1, n+1))\n",
    "\n",
    "# wait\n",
    "# as_completed\n",
    "def main():\n",
    "    # Worker Count\n",
    "    worker = min(10, len(WORK_LIST))\n",
    "    \n",
    "    # 시작 시간\n",
    "    start_tm = time.time()\n",
    "    # Futures\n",
    "    futures_list = []\n",
    "\n",
    "    # 결과 건수\n",
    "    # ProcessPoolExecutor\n",
    "    with ThreadPoolExecutor(max_workers=1) as excutor:\n",
    "        for work in WORK_LIST:\n",
    "            # future 반환\n",
    "            future = excutor.submit(sum_generator, work)\n",
    "            # 스케쥴링\n",
    "            futures_list.append(future)\n",
    "            # 스케쥴링 확인\n",
    "            print('Scheduled for {} : {}'.format(work, future))\n",
    "            # print()\n",
    "        \n",
    "        #wait 결과 출력\n",
    "        result = wait(futures_list, timeout=7)\n",
    "        # 성공\n",
    "        print('Completed Tasks : ' + str(result.done))\n",
    "        # 실패\n",
    "        print('Pending ones after waiting for 7seconds : ' + str(result.not_done))\n",
    "        # 결과 값 출력\n",
    "        print([future.result() for future in result.done])\n",
    "        \n",
    "        # # as_completed 결과 출력\n",
    "        # for future in as_completed(futures_list):\n",
    "        #     result = future.result()\n",
    "        #     done = future.done()\n",
    "        #     cancelled = future.cancelled\n",
    "            \n",
    "        #     # future 결과 확인\n",
    "        #     print('Future Result : {}, Done : {}'.format(result, done))\n",
    "        #     print('Future Cancelled : {}'.format(cancelled))\n",
    "        \n",
    "        \n",
    "            \n",
    "    # 종료 시간\n",
    "    end_tm = time.time() - start_tm\n",
    "    # 출력 포멧\n",
    "    msg = '\\n Time : {:.2f}s'\n",
    "    # 최종 결과 출력\n",
    "    print(msg.format(end_tm))\n",
    "\n",
    "\n",
    "\n",
    "# 실행\n",
    "if __name__ == '__main__':\n",
    "    main()\n"
   ]
  }
 ],
 "metadata": {
  "kernelspec": {
   "display_name": "mm3d",
   "language": "python",
   "name": "python3"
  },
  "language_info": {
   "codemirror_mode": {
    "name": "ipython",
    "version": 3
   },
   "file_extension": ".py",
   "mimetype": "text/x-python",
   "name": "python",
   "nbconvert_exporter": "python",
   "pygments_lexer": "ipython3",
   "version": "3.8.17"
  },
  "orig_nbformat": 4
 },
 "nbformat": 4,
 "nbformat_minor": 2
}
