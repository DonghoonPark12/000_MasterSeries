{
 "cells": [
  {
   "cell_type": "markdown",
   "metadata": {},
   "source": [
    "### Indexing routine"
   ]
  },
  {
   "cell_type": "markdown",
   "metadata": {},
   "source": [
    "#### numpy.ndenumerate\n",
    "- 다차원 인덱스 이터레이터 반환: (좌표), 값"
   ]
  },
  {
   "cell_type": "code",
   "execution_count": 3,
   "metadata": {},
   "outputs": [
    {
     "name": "stdout",
     "output_type": "stream",
     "text": [
      "(0, 0) 1\n",
      "(0, 1) 2\n",
      "(1, 0) 3\n",
      "(1, 1) 4\n",
      "\n",
      "\n",
      "(0, 0, 0) 1\n",
      "(0, 0, 1) 2\n",
      "(0, 1, 0) 3\n",
      "(0, 1, 1) 4\n",
      "(1, 0, 0) 5\n",
      "(1, 0, 1) 6\n",
      "(1, 1, 0) 7\n",
      "(1, 1, 1) 8\n"
     ]
    }
   ],
   "source": [
    "import numpy as np\n",
    "a = np.array([[1, 2],\n",
    "              [3, 4]])\n",
    "for idx, x in np.ndenumerate(a):\n",
    "    print(idx, x)\n",
    "\n",
    "print('\\n')\n",
    "\n",
    "b = np.array([[[1, 2],\n",
    "               [3, 4]],\n",
    "              [[5, 6],\n",
    "               [7, 8]]])\n",
    "\n",
    "for idx, x in np.ndenumerate(b):\n",
    "    print(idx, x)"
   ]
  },
  {
   "cell_type": "code",
   "execution_count": null,
   "metadata": {},
   "outputs": [],
   "source": []
  }
 ],
 "metadata": {
  "kernelspec": {
   "display_name": "torchWin_rev",
   "language": "python",
   "name": "python3"
  },
  "language_info": {
   "codemirror_mode": {
    "name": "ipython",
    "version": 3
   },
   "file_extension": ".py",
   "mimetype": "text/x-python",
   "name": "python",
   "nbconvert_exporter": "python",
   "pygments_lexer": "ipython3",
   "version": "3.8.17"
  }
 },
 "nbformat": 4,
 "nbformat_minor": 2
}
