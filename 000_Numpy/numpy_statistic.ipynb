{
 "cells": [
  {
   "cell_type": "code",
   "execution_count": 2,
   "metadata": {},
   "outputs": [
    {
     "name": "stdout",
     "output_type": "stream",
     "text": [
      "[ 0.  1.  2.  3.  4.  5.  6.  7.  8.  9. 10.]\n"
     ]
    },
    {
     "name": "stderr",
     "output_type": "stream",
     "text": [
      "c:\\ProgramData\\miniconda3\\envs\\mm3d\\lib\\site-packages\\IPython\\core\\pylabtools.py:152: UserWarning: Glyph 44208 (\\N{HANGUL SYLLABLE GYEOL}) missing from current font.\n",
      "  fig.canvas.print_figure(bytes_io, **kw)\n",
      "c:\\ProgramData\\miniconda3\\envs\\mm3d\\lib\\site-packages\\IPython\\core\\pylabtools.py:152: UserWarning: Glyph 44284 (\\N{HANGUL SYLLABLE GWA}) missing from current font.\n",
      "  fig.canvas.print_figure(bytes_io, **kw)\n",
      "c:\\ProgramData\\miniconda3\\envs\\mm3d\\lib\\site-packages\\IPython\\core\\pylabtools.py:152: UserWarning: Glyph 49884 (\\N{HANGUL SYLLABLE SI}) missing from current font.\n",
      "  fig.canvas.print_figure(bytes_io, **kw)\n",
      "c:\\ProgramData\\miniconda3\\envs\\mm3d\\lib\\site-packages\\IPython\\core\\pylabtools.py:152: UserWarning: Glyph 44033 (\\N{HANGUL SYLLABLE GAG}) missing from current font.\n",
      "  fig.canvas.print_figure(bytes_io, **kw)\n",
      "c:\\ProgramData\\miniconda3\\envs\\mm3d\\lib\\site-packages\\IPython\\core\\pylabtools.py:152: UserWarning: Glyph 54868 (\\N{HANGUL SYLLABLE HWA}) missing from current font.\n",
      "  fig.canvas.print_figure(bytes_io, **kw)\n",
      "c:\\ProgramData\\miniconda3\\envs\\mm3d\\lib\\site-packages\\IPython\\core\\pylabtools.py:152: UserWarning: Glyph 45936 (\\N{HANGUL SYLLABLE DE}) missing from current font.\n",
      "  fig.canvas.print_figure(bytes_io, **kw)\n",
      "c:\\ProgramData\\miniconda3\\envs\\mm3d\\lib\\site-packages\\IPython\\core\\pylabtools.py:152: UserWarning: Glyph 51060 (\\N{HANGUL SYLLABLE I}) missing from current font.\n",
      "  fig.canvas.print_figure(bytes_io, **kw)\n",
      "c:\\ProgramData\\miniconda3\\envs\\mm3d\\lib\\site-packages\\IPython\\core\\pylabtools.py:152: UserWarning: Glyph 53552 (\\N{HANGUL SYLLABLE TEO}) missing from current font.\n",
      "  fig.canvas.print_figure(bytes_io, **kw)\n",
      "c:\\ProgramData\\miniconda3\\envs\\mm3d\\lib\\site-packages\\IPython\\core\\pylabtools.py:152: UserWarning: Glyph 44050 (\\N{HANGUL SYLLABLE GABS}) missing from current font.\n",
      "  fig.canvas.print_figure(bytes_io, **kw)\n",
      "c:\\ProgramData\\miniconda3\\envs\\mm3d\\lib\\site-packages\\IPython\\core\\pylabtools.py:152: UserWarning: Glyph 48712 (\\N{HANGUL SYLLABLE BIN}) missing from current font.\n",
      "  fig.canvas.print_figure(bytes_io, **kw)\n",
      "c:\\ProgramData\\miniconda3\\envs\\mm3d\\lib\\site-packages\\IPython\\core\\pylabtools.py:152: UserWarning: Glyph 46020 (\\N{HANGUL SYLLABLE DO}) missing from current font.\n",
      "  fig.canvas.print_figure(bytes_io, **kw)\n"
     ]
    },
    {
     "data": {
      "image/png": "[encoded data removed]",
      "text/plain": [
       "<Figure size 640x480 with 1 Axes>"
      ]
     },
     "metadata": {},
     "output_type": "display_data"
    }
   ],
   "source": [
    "import numpy as np\n",
    "import matplotlib.pyplot as plt\n",
    "\n",
    "# 임의의 데이터 생성\n",
    "data = np.random.rand(100) * 10\n",
    "\n",
    "# 구간 정의\n",
    "bins = np.linspace(0, 10, 11)\n",
    "print(bins)\n",
    "\n",
    "# np.digitize를 사용하여 각 데이터 포인트의 구간 인덱스 계산\n",
    "# np.digitize와 np.meshgrid는 전혀 다른 함수\n",
    "indices = np.digitize(data, bins)\n",
    "\n",
    "# 히스토그램 그리기\n",
    "plt.hist(data, bins, edgecolor='black', alpha=0.7)\n",
    "plt.title('np.digitize 결과 시각화')\n",
    "plt.xlabel('데이터 값')\n",
    "plt.ylabel('빈도')\n",
    "plt.show()\n"
   ]
  },
  {
   "cell_type": "code",
   "execution_count": null,
   "metadata": {},
   "outputs": [],
   "source": [
    "# 2차원 그리드와 그리드에 속한 값(e.g. 평균 높이 값)을 z 값으로 해서 표현\n",
    "fig = plt.figure()\n",
    "ax = fig.add_subplot(111, projection='3d')\n",
    "\n",
    "# Create a grid of X and Y values corresponding to the indices of the 2D array\n",
    "x = np.arange(0, mean_z_values.shape[1]) # 0 ~ 19\n",
    "y = np.arange(0, mean_z_values.shape[0]) # 0 ~ 29\n",
    "x, y = np.meshgrid(x, y)\n",
    "\n",
    "# Flatten the 2D array to a 1D array for the Z values\n",
    "z = mean_z_values.flatten()\n",
    "\n",
    "# Create a surface plot\n",
    "ax.plot_surface(x, y, mean_z_values, cmap='viridis')\n",
    "\n",
    "# Set axis labels\n",
    "ax.set_xlabel('X Axis')\n",
    "ax.set_ylabel('Y Axis')\n",
    "ax.set_zlabel('Z Axis')\n",
    "\n",
    "# Add a colorbar to show the values of z\n",
    "cbar = plt.colorbar(ax.plot_surface([], [], [], cmap='viridis'), ax=ax)\n",
    "cbar.set_label('Z Values')\n",
    "\n",
    "# Show the plot\n",
    "plt.show()\n",
    "#This code creates a 3D surface plot using the plot_surface function and sets the X, Y, and Z values according to the dimensions and values of road_mean_z_values_total. Adjust the axis labels, color mapping, and other plot parameters as needed for your specific data."
   ]
  }
 ],
 "metadata": {
  "kernelspec": {
   "display_name": "Python 3.8.17 ('mm3d')",
   "language": "python",
   "name": "python3"
  },
  "language_info": {
   "codemirror_mode": {
    "name": "ipython",
    "version": 3
   },
   "file_extension": ".py",
   "mimetype": "text/x-python",
   "name": "python",
   "nbconvert_exporter": "python",
   "pygments_lexer": "ipython3",
   "version": "3.8.17"
  },
  "orig_nbformat": 4,
  "vscode": {
   "interpreter": {
    "hash": "d69b847d396095f32f676329057412de0235e6809d7fbe768ce2e81f9c069d24"
   }
  }
 },
 "nbformat": 4,
 "nbformat_minor": 2
}
