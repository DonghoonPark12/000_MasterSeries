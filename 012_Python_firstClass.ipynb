{
 "cells": [
  {
   "cell_type": "markdown",
   "metadata": {},
   "source": [
    "#### 함수형 프로그래밍\n",
    "#### 목차\n",
    "- 파이썬 함수 특징\n",
    "- map, filter\n",
    "- reduce\n",
    "- lambda(익명함수)\n",
    "- partial "
   ]
  },
  {
   "cell_type": "markdown",
   "metadata": {},
   "source": [
    "파이썬 함수 특정\n",
    "- 1. 런타임 초기화\n",
    "- 2. 변수 할당 가능\n",
    "- 3. 함수 인수 전달 가능\n",
    "- 4. 함수 결과 반환 가능"
   ]
  },
  {
   "cell_type": "code",
   "execution_count": 5,
   "metadata": {},
   "outputs": [
    {
     "name": "stdout",
     "output_type": "stream",
     "text": [
      "720\n",
      "Factorial Function -> n : int\n",
      "<class 'function'> <class 'type'>\n",
      "{'__call__', '__name__', '__get__', '__qualname__', '__globals__', '__closure__', '__code__', '__defaults__', '__kwdefaults__', '__annotations__'}\n",
      "factorial\n",
      "<code object factorial at 0x00000216B8B2AF50, file \"C:\\Users\\Administrator\\AppData\\Local\\Temp\\ipykernel_48696\\3827774361.py\", line 2>\n"
     ]
    }
   ],
   "source": [
    "# 함수 객체\n",
    "def factorial(n):\n",
    "    '''Factorial Function -> n : int'''\n",
    "    if n == 1: # n < 2\n",
    "        return 1\n",
    "    return n * factorial(n-1)\n",
    "\n",
    "class A:\n",
    "    pass\n",
    "\n",
    "print(factorial(6))\n",
    "print(factorial.__doc__)\n",
    "print(type(factorial), type(A))\n",
    "\n",
    "# 함수만 가지고 있는 속성 프린트\n",
    "print(set(sorted(dir(factorial))) - set(sorted(dir(A))))\n",
    "\n",
    "print(factorial.__name__)\n",
    "print(factorial.__code__) # 함수 주소와 파일 위치 출력\n"
   ]
  },
  {
   "cell_type": "markdown",
   "metadata": {},
   "source": [
    "#### Map, Filter"
   ]
  },
  {
   "cell_type": "code",
   "execution_count": 11,
   "metadata": {},
   "outputs": [
    {
     "name": "stdout",
     "output_type": "stream",
     "text": [
      "<function factorial at 0x00000216B95A10D0>\n",
      "3628800\n",
      "<map object at 0x00000216B98F8250>\n",
      "[1, 2, 6, 24, 120, 720, 5040, 40320]\n"
     ]
    }
   ],
   "source": [
    "# 변수 할당\n",
    "var_func = factorial # 함수 이름을 변수에 할당 가능하다.\n",
    "print(var_func)\n",
    "print(var_func(10))\n",
    "print(map(var_func, range(1, 9)))\n",
    "print(list(map(var_func, range(1, 9))))"
   ]
  },
  {
   "cell_type": "code",
   "execution_count": 16,
   "metadata": {},
   "outputs": [
    {
     "name": "stdout",
     "output_type": "stream",
     "text": [
      "[1, 6, 120, 5040]\n",
      "[<map object at 0x00000216B957BD00>]\n",
      "[1, 6, 120, 5040]\n"
     ]
    }
   ],
   "source": [
    "# 함수 인수 전달 및 함수로 결과 반환 \n",
    "# -> 고위 함수(Higher-order function)\n",
    "# map, reduce, filter 등\n",
    "\n",
    "# 함수를 map의 인수로 전달할 수 있다\n",
    "print(list(map(var_func, filter(lambda x : x % 2, range(1, 9)))))\n",
    "print([map(var_func, filter(lambda x : x % 2, range(1, 9)))])\n",
    "print([var_func(i) for i in range(1, 9) if i % 2])\n"
   ]
  },
  {
   "cell_type": "markdown",
   "metadata": {},
   "source": [
    "#### reduce"
   ]
  },
  {
   "cell_type": "code",
   "execution_count": 24,
   "metadata": {},
   "outputs": [
    {
     "name": "stdout",
     "output_type": "stream",
     "text": [
      "55\n",
      "55\n",
      "55\n"
     ]
    }
   ],
   "source": [
    "from functools import reduce\n",
    "from operator import add\n",
    "\n",
    "print(reduce(add, range(1, 11)))\n",
    "print(reduce(add, [1, 2, 3, 4, 5, 6, 7, 8, 9, 10]))\n",
    "print(sum(range(1, 11)))"
   ]
  },
  {
   "cell_type": "markdown",
   "metadata": {},
   "source": [
    "#### 익명함수(lambda)\n",
    "- 이름이 없는 함수이기 때문에 가급적 주석 작성을 권장한다."
   ]
  },
  {
   "cell_type": "code",
   "execution_count": 31,
   "metadata": {},
   "outputs": [
    {
     "name": "stdout",
     "output_type": "stream",
     "text": [
      "55\n"
     ]
    }
   ],
   "source": [
    "print(reduce(lambda x, t: x + t, range(1, 11)))"
   ]
  },
  {
   "cell_type": "markdown",
   "metadata": {},
   "source": [
    "#### Callable\n",
    "- 호출 연산자 -> 메소드 형태로 호출 가능한지 확인"
   ]
  },
  {
   "cell_type": "code",
   "execution_count": 32,
   "metadata": {},
   "outputs": [
    {
     "name": "stdout",
     "output_type": "stream",
     "text": [
      "True True True False\n"
     ]
    }
   ],
   "source": [
    "# 호출 가능 확인\n",
    "print(callable(str), callable(list), callable(var_func), callable(3.14))"
   ]
  },
  {
   "cell_type": "markdown",
   "metadata": {},
   "source": [
    "#### Partial\n",
    "- 인수 고정, 콜백 함수 사용"
   ]
  },
  {
   "cell_type": "code",
   "execution_count": 39,
   "metadata": {},
   "outputs": [
    {
     "name": "stdout",
     "output_type": "stream",
     "text": [
      "100\n",
      "50\n",
      "30\n"
     ]
    },
    {
     "ename": "TypeError",
     "evalue": "mul expected 2 arguments, got 3",
     "output_type": "error",
     "traceback": [
      "\u001b[1;31m---------------------------------------------------------------------------\u001b[0m",
      "\u001b[1;31mTypeError\u001b[0m                                 Traceback (most recent call last)",
      "Cell \u001b[1;32mIn[39], line 14\u001b[0m\n\u001b[0;32m     12\u001b[0m \u001b[39mprint\u001b[39m(five(\u001b[39m10\u001b[39m))\n\u001b[0;32m     13\u001b[0m \u001b[39mprint\u001b[39m(six())\n\u001b[1;32m---> 14\u001b[0m \u001b[39mprint\u001b[39m(six(\u001b[39m10\u001b[39;49m))\n",
      "\u001b[1;31mTypeError\u001b[0m: mul expected 2 arguments, got 3"
     ]
    }
   ],
   "source": [
    "from operator import mul\n",
    "from functools import partial\n",
    "\n",
    "print(mul(10, 10))\n",
    "\n",
    "# partial은 함수를 인수로 전달 가능하고, 함수를 변수에 할당할 수 있다\n",
    "five = partial(mul, 5) # 인수 고정\n",
    "\n",
    "# 고정 추가\n",
    "six = partial(five, 6)\n",
    "\n",
    "print(five(10))\n",
    "print(six())\n",
    "print(six(10))"
   ]
  },
  {
   "cell_type": "code",
   "execution_count": 41,
   "metadata": {},
   "outputs": [
    {
     "name": "stdout",
     "output_type": "stream",
     "text": [
      "[5, 10, 15, 20, 25, 30, 35, 40, 45, 50]\n",
      "[5, 10, 15, 20, 25, 30, 35, 40, 45, 50]\n"
     ]
    }
   ],
   "source": [
    "print([five(i) for i in range(1,11)])\n",
    "print(list(map(five, range(1, 11))))"
   ]
  },
  {
   "cell_type": "code",
   "execution_count": 28,
   "metadata": {},
   "outputs": [
    {
     "name": "stdout",
     "output_type": "stream",
     "text": [
      "(n)\n",
      "OrderedDict([('n', <Parameter \"n\">)])\n"
     ]
    }
   ],
   "source": [
    "from inspect import signature\n",
    "sg = signature(var_func)\n",
    "\n",
    "print(sg)\n",
    "print(sg.parameters)"
   ]
  },
  {
   "cell_type": "markdown",
   "metadata": {},
   "source": [
    "#### 클로저\n",
    "- 외부에서 호출된 함수의 변수 값, 상태(레퍼런스) 복사 후 저장\n",
    "- 후에 접근(엑세스) 가능"
   ]
  },
  {
   "cell_type": "code",
   "execution_count": 9,
   "metadata": {},
   "outputs": [
    {
     "name": "stdout",
     "output_type": "stream",
     "text": [
      "inner >>> [15] / 1\n",
      "15.0\n",
      "inner >>> [15, 35] / 2\n",
      "25.0\n",
      "inner >>> [15, 35, 40] / 3\n",
      "30.0\n"
     ]
    }
   ],
   "source": [
    "# 함수 형태 클로저\n",
    "def closure_ex1():\n",
    "    # Free variable\n",
    "    series = [] # 사용하려는 함수의 바깥에 선언된 변수를 자유 변수\n",
    "    def averager(v):\n",
    "        series.append(v)\n",
    "        print('inner >>> {} / {}'.format(series, len(series)))\n",
    "        return sum(series) / len(series)\n",
    "    return averager\n",
    "\n",
    "avg_closure1 = closure_ex1()\n",
    "\n",
    "print(avg_closure1(15))\n",
    "print(avg_closure1(35))\n",
    "print(avg_closure1(40))\n"
   ]
  },
  {
   "cell_type": "code",
   "execution_count": 11,
   "metadata": {},
   "outputs": [
    {
     "name": "stdout",
     "output_type": "stream",
     "text": [
      "['__annotations__', '__call__', '__class__', '__closure__', '__code__', '__defaults__', '__delattr__', '__dict__', '__dir__', '__doc__', '__eq__', '__format__', '__ge__', '__get__', '__getattribute__', '__globals__', '__gt__', '__hash__', '__init__', '__init_subclass__', '__kwdefaults__', '__le__', '__lt__', '__module__', '__name__', '__ne__', '__new__', '__qualname__', '__reduce__', '__reduce_ex__', '__repr__', '__setattr__', '__sizeof__', '__str__', '__subclasshook__']\n",
      "['__class__', '__delattr__', '__dir__', '__doc__', '__eq__', '__format__', '__ge__', '__getattribute__', '__gt__', '__hash__', '__init__', '__init_subclass__', '__le__', '__lt__', '__ne__', '__new__', '__reduce__', '__reduce_ex__', '__repr__', '__setattr__', '__sizeof__', '__str__', '__subclasshook__', 'co_argcount', 'co_cellvars', 'co_code', 'co_consts', 'co_filename', 'co_firstlineno', 'co_flags', 'co_freevars', 'co_kwonlyargcount', 'co_lnotab', 'co_name', 'co_names', 'co_nlocals', 'co_posonlyargcount', 'co_stacksize', 'co_varnames', 'replace']\n",
      "('series',)\n",
      "[15, 35, 40]\n"
     ]
    }
   ],
   "source": [
    "print(dir(avg_closure1))\n",
    "print(dir(avg_closure1.__code__))\n",
    "print(avg_closure1.__code__.co_freevars)\n",
    "print(avg_closure1.__closure__[0].cell_contents)"
   ]
  },
  {
   "cell_type": "code",
   "execution_count": 2,
   "metadata": {},
   "outputs": [
    {
     "name": "stdout",
     "output_type": "stream",
     "text": [
      "inner >>> [15] / 1\n",
      "15.0\n",
      "inner >>> [15, 35] / 2\n",
      "25.0\n",
      "inner >>> [15, 35, 40] / 3\n",
      "30.0\n"
     ]
    }
   ],
   "source": [
    "# 클래스 형태 클로저\n",
    "class Averager():\n",
    "    def __init__(self):\n",
    "        self._series = []\n",
    "\n",
    "    def __call__(self, v):\n",
    "        self._series.append(v)\n",
    "        print('inner >>> {} / {}'.format(self._series, len(self._series)))\n",
    "        return sum(self._series) / len(self._series)\n",
    "\n",
    "averager_cls = Averager()\n",
    "print(averager_cls(15))\n",
    "print(averager_cls(35))\n",
    "print(averager_cls(40)) # 해당 영역에 상태를 기억하고 있다. "
   ]
  },
  {
   "cell_type": "code",
   "execution_count": 20,
   "metadata": {},
   "outputs": [
    {
     "name": "stdout",
     "output_type": "stream",
     "text": [
      "15.0\n",
      "22.5\n",
      "28.333333333333332\n"
     ]
    }
   ],
   "source": [
    "# 잘못된 클로저 사용 예\n",
    "def closure_ex2():\n",
    "    # Free variable\n",
    "    cnt = 0\n",
    "    total = 0\n",
    "\n",
    "    def averager(v):\n",
    "        # cnt, total 하면 error 발생\n",
    "        nonlocal cnt, total # cnt와 total은 Free variable이라는 것을 알려야 한다.\n",
    "        cnt += 1 # cnt = cnt + 1\n",
    "        total += v\n",
    "        return total / cnt\n",
    "    \n",
    "    return averager\n",
    "\n",
    "avg_closure2 = closure_ex2()\n",
    "\n",
    "print(avg_closure2(15)) # 예외\n",
    "print(avg_closure2(30))\n",
    "print(avg_closure2(40))"
   ]
  }
 ],
 "metadata": {
  "kernelspec": {
   "display_name": "Python 3.8.17 ('torchWin_rev')",
   "language": "python",
   "name": "python3"
  },
  "language_info": {
   "codemirror_mode": {
    "name": "ipython",
    "version": 3
   },
   "file_extension": ".py",
   "mimetype": "text/x-python",
   "name": "python",
   "nbconvert_exporter": "python",
   "pygments_lexer": "ipython3",
   "version": "3.8.17"
  },
  "orig_nbformat": 4,
  "vscode": {
   "interpreter": {
    "hash": "dcfd0bbc3e25ae79d1f134c08b87e3777d49169aec2e55e1b5fb8249822c085d"
   }
  }
 },
 "nbformat": 4,
 "nbformat_minor": 2
}
