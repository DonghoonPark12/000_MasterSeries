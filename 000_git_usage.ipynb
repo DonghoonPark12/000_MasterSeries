{
 "cells": [
  {
   "cell_type": "markdown",
   "metadata": {},
   "source": [
    "#### git add 취소하기\n",
    "- [file]이 없으면 add한 파일 전체 취소한다.\n",
    "- staged 파일을 unstaged 상태로 변경한다.\n",
    "  \n",
    "    ```\n",
    "    $ git restore --staged [file]\n",
    "    (or)\n",
    "    $ git reset HEAD [file]\n",
    "    ```"
   ]
  },
  {
   "cell_type": "markdown",
   "metadata": {},
   "source": [
    "#### git commit 취소하기\n",
    "\n",
    "```\n",
    "# commit 취소하고 해당 파일들은 staged 상태로 wd에 보존된다.\n",
    "$ git reset --soft HEAD^\n",
    "\n",
    "# commit을 취소하고 해당 파일들은 unstaged 상태로 wd에 보존된다(default)\n",
    "$ git reset --mixed HEAD^\n",
    "(or)\n",
    "$ git reset HEAD^\n",
    "\n",
    "# commit을 취소하고 해당 파일들은 unstaged 상태로 wd에서 삭제 (변경한 것 모두 삭제)\n",
    "$ git reset --hard HEAD^\n",
    "```"
   ]
  },
  {
   "cell_type": "code",
   "execution_count": null,
   "metadata": {},
   "outputs": [],
   "source": []
  },
  {
   "cell_type": "code",
   "execution_count": null,
   "metadata": {},
   "outputs": [],
   "source": []
  }
 ],
 "metadata": {
  "kernelspec": {
   "display_name": "Python 3.8.17 ('torchWin_rev')",
   "language": "python",
   "name": "python3"
  },
  "language_info": {
   "name": "python",
   "version": "3.8.17"
  },
  "orig_nbformat": 4,
  "vscode": {
   "interpreter": {
    "hash": "dcfd0bbc3e25ae79d1f134c08b87e3777d49169aec2e55e1b5fb8249822c085d"
   }
  }
 },
 "nbformat": 4,
 "nbformat_minor": 2
}
