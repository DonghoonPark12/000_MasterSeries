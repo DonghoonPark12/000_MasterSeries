{
 "cells": [
  {
   "cell_type": "markdown",
   "metadata": {},
   "source": [
    "## TypeScript for the New Programmer\n",
    "- 웹 브라우저 개발자들은 늘어나는 JS 사용량에 대하여 실행 엔진(동적 컴파일)을 최적화시키고 최적화 된 것을 이용해 할 수 있는 일(API 추가)을 확장하여 웹 개발자가 더 많이 JS를 사용할 수 있게 했습니다.\n",
    "- JS는 node.js를 사용하여 JS 서버들을 구현하는 것처럼, 브라우저 맥락에서 벗어나는 일에 사용하기 충분할 정도로 유명해졌습니다. “어디서든 작동됨”과 같은 JS의 성질은 교차 플랫폼(cross-platform) 개발을 위한 매력적인 선택지이기도 합니다. 오늘날 많은 개발자들은 오직 JavaScript만을 이용하여 전체 스택을 프로그래밍하고 있습니다\n",
    "- 하지만, "
   ]
  },
  {
   "cell_type": "code",
   "execution_count": null,
   "metadata": {
    "vscode": {
     "languageId": "javascript"
    }
   },
   "outputs": [],
   "source": [
    "//JavaScript의 동일 연산자는 (==) 인수를 강제로 변환하여(coerces), \n",
    "// 예기치 않은 동작을 유발합니다:\n",
    "\n",
    "if (\"\" == 0) {\n",
    "  // 참입니다! 근데 왜죠??\n",
    "}\n",
    "if (1 < x < 3) {\n",
    "  // *어떤* x 값이던 참입니다!\n",
    "}\n",
    "\n",
    "// JavaScript는 또한 존재하지 않는 프로퍼티의 접근을 허용합니다:\n",
    "\n",
    "const obj = { width: 10, height: 15 };\n",
    "// 왜 이게 NaN이죠? 철자가 어렵네요!\n",
    "const area = obj.width * obj.heigth;"
   ]
  },
  {
   "cell_type": "markdown",
   "metadata": {},
   "source": [
    "## TypeScript: 정적 타입 검사자 (TypeScript: A Static Type Checker)\n",
    "- JS의 동적 컴파일로 생기는 문제를 보완하기 위해 만들어진 언어가 TypeScript\n",
    "- 어떤 것이 오류인지와 어떤 것이 연산 되는 값에 기인하지 않음을 정하는 것이 정적 타입 검사"
   ]
  }
 ],
 "metadata": {
  "language_info": {
   "name": "python"
  }
 },
 "nbformat": 4,
 "nbformat_minor": 2
}
