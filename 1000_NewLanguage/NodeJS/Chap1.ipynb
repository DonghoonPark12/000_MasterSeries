{
 "cells": [
  {
   "cell_type": "markdown",
   "metadata": {},
   "source": [
    "#### Node란?\n",
    "- NodeJs는 크롬 v8 자바스크립트 엔진으로 빌드된 **자바스크립트 런타임**입니다. NodeJs는 이벤트 기반, 논블로킹 I/O 모델을 사용해 가볍고 효율적입니다.\n",
    "- NojeJS 패키지 생태계인 npm은 세계에서 가장 큰 오픈소스 라이브러리 생태계이기도 합니다.\n",
    "- 노드는 자바스크립트 어플리케이션이 서버로서 기능하기 위한 도구를 제공한다."
   ]
  },
  {
   "cell_type": "markdown",
   "metadata": {},
   "source": [
    "- 기존에는 자바스크립트 프로그램을 인터넷 브라우저에서만 실행할 수 있었으나, 노드는 자바스크립트 프로그램을 컴퓨터에서 실행할 수 있게 해준다.\n",
    "- 라이언 달(Ryan Dahl)은 크롬의 V8 엔진과 libuv 라이브러리를 이용해 노드 프로젝트를 시작하였다.\n",
    "  (V8 엔진과 libuv 라이브러리는 C/C++로 구현되어 있다)\n",
    "  \n",
    "※ V8: 오픈소스 자바스크립트 엔진, 크롬에 사용  \n",
    "※ libuv: 이벤트 기반, 비동기 논블로킹 I/O 모델 제공 라이브러리"
   ]
  },
  {
   "cell_type": "markdown",
   "metadata": {},
   "source": [
    "알아야할 개념  \n",
    "**이벤트 루프**: 이벤트 발생 시 호출할 콜백 함수들을 관리하고, 호출된 콜백 함수의 실행 순서를 결정하는 역할을 담당. \n",
    "노드가 종료될 때까지 이벤트 처리를 위한 작업을 반복하므로 루프라고 불린다.  \n",
    "테스크 큐: 이벤트 발생 후 호출되어야 할 콜백 함수들이 기다리는 공간. 이벤트 루트가 정한 순서대로 줄을 서 있어 콜백 큐라고도 부른다.  \n",
    "백그라운드: 타이머나 I/O 작업 콜백 또는 이벤트 리스너들이 대기하는 곳"
   ]
  },
  {
   "cell_type": "markdown",
   "metadata": {},
   "source": []
  }
 ],
 "metadata": {
  "kernelspec": {
   "display_name": "Python 3.8.17 ('mm3d')",
   "language": "python",
   "name": "python3"
  },
  "language_info": {
   "name": "python",
   "version": "3.8.17"
  },
  "orig_nbformat": 4,
  "vscode": {
   "interpreter": {
    "hash": "d69b847d396095f32f676329057412de0235e6809d7fbe768ce2e81f9c069d24"
   }
  }
 },
 "nbformat": 4,
 "nbformat_minor": 2
}
