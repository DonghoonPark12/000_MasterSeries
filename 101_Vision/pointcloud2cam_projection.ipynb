{
 "cells": [
  {
   "cell_type": "markdown",
   "metadata": {},
   "source": [
    "#### point cloud in camera coordinate → (normalized uv plane) → xy plane"
   ]
  },
  {
   "cell_type": "code",
   "execution_count": 26,
   "metadata": {},
   "outputs": [
    {
     "name": "stdout",
     "output_type": "stream",
     "text": [
      "point cloud in camera coordinate:  [30 40 50]\n",
      "z of point cloud:  50\n",
      "\n",
      "normalized uv plane:  [0.6 0.8 1. ]\n",
      "xy plane(calculated with K):  [42 64  1]\n",
      "xy plane(calculated with K):  [42 64  1]\n"
     ]
    }
   ],
   "source": [
    "import numpy as np\n",
    "\n",
    "Pt = np.array([30, 40, 50]).T\n",
    "z = Pt[2]\n",
    "K = np.array([\n",
    "    [20, 0, 30],\n",
    "    [0, 30, 40],\n",
    "    [0, 0, 1]\n",
    "])\n",
    "print('point cloud in camera coordinate: ', Pt)\n",
    "print('z of point cloud: ', z)\n",
    "\n",
    "print()\n",
    "\n",
    "# point cloud in camera coordinate → normalized uv plane\n",
    "uv_norm = Pt / z\n",
    "print('normalized uv plane: ', uv_norm)\n",
    "# [0.6 0.8 1. ]\n",
    "\n",
    "# normalized uv plane → xy plane\n",
    "xy = np.matmul(K, uv_norm).astype(np.uint8)\n",
    "print('xy plane(calculated with K): ', xy)\n",
    "# [42 64  1]\n",
    "\n",
    "# 위의 과정을 한번에 표현\n",
    "xy = (1/z)*np.matmul(K, X)\n",
    "xy = xy.astype(np.uint8)\n",
    "print('xy plane(calculated with K): ', xy)\n",
    "# [42 64  1]"
   ]
  },
  {
   "cell_type": "markdown",
   "metadata": {},
   "source": [
    "#### xy plane -> (normalized uv plane) -> point cloud in camera coordinate"
   ]
  },
  {
   "cell_type": "code",
   "execution_count": 25,
   "metadata": {},
   "outputs": [
    {
     "name": "stdout",
     "output_type": "stream",
     "text": [
      "xy plane(calculated with K):  [42 64  1]\n",
      "z of point cloud:  50\n",
      "\n",
      "normalized uv plane:  [0.6 0.8 1. ]\n",
      "point cloud in camera coordinate:  [30. 40. 50.]\n",
      "point cloud in camera coordinate:  [30. 40. 50.]\n"
     ]
    }
   ],
   "source": [
    "print('xy plane(calculated with K): ', xy)\n",
    "print('z of point cloud: ', z)\n",
    "\n",
    "print()\n",
    "\n",
    "# xy plane → normalized uv plane\n",
    "uv_norm = np.linalg.inv(K) @ xy\n",
    "print('normalized uv plane: ', uv_norm)\n",
    "\n",
    "# normalized uv plane -> point cloud in camera coordinate\n",
    "Pt = uv_norm * z\n",
    "print('point cloud in camera coordinate: ', Pt)\n",
    "\n",
    "# 위의 과정을 한번에 표현\n",
    "Pt = (np.linalg.inv(K) @ xy) * z\n",
    "print('point cloud in camera coordinate: ', Pt)"
   ]
  },
  {
   "cell_type": "markdown",
   "metadata": {},
   "source": [
    "중간 결론: z 값을 알아야, 기존 3차원 좌표 값을 정확히 복원해 낼 수 있다는 것을 알 수 있다."
   ]
  },
  {
   "cell_type": "markdown",
   "metadata": {},
   "source": [
    "##### z 값을 잘못 추정한 경우 .."
   ]
  },
  {
   "cell_type": "code",
   "execution_count": 29,
   "metadata": {},
   "outputs": [
    {
     "name": "stdout",
     "output_type": "stream",
     "text": [
      "point cloud in camera coordinate:  [24. 32. 40.]\n",
      "point cloud in camera coordinate:  [22.8 30.4 38. ]\n",
      "point cloud in camera coordinate:  [33. 44. 55.]\n"
     ]
    }
   ],
   "source": [
    "z = 40\n",
    "Pt = (np.linalg.inv(K) @ xy) * z\n",
    "print('point cloud in camera coordinate: ', Pt)\n",
    "\n",
    "z = 38\n",
    "Pt = (np.linalg.inv(K) @ xy) * z\n",
    "print('point cloud in camera coordinate: ', Pt)\n",
    "\n",
    "z = 55\n",
    "Pt = (np.linalg.inv(K) @ xy) * z\n",
    "print('point cloud in camera coordinate: ', Pt)"
   ]
  },
  {
   "cell_type": "code",
   "execution_count": null,
   "metadata": {},
   "outputs": [],
   "source": []
  }
 ],
 "metadata": {
  "kernelspec": {
   "display_name": "Python 3.8.17 ('mm3d')",
   "language": "python",
   "name": "python3"
  },
  "language_info": {
   "codemirror_mode": {
    "name": "ipython",
    "version": 3
   },
   "file_extension": ".py",
   "mimetype": "text/x-python",
   "name": "python",
   "nbconvert_exporter": "python",
   "pygments_lexer": "ipython3",
   "version": "3.8.17"
  },
  "orig_nbformat": 4,
  "vscode": {
   "interpreter": {
    "hash": "d69b847d396095f32f676329057412de0235e6809d7fbe768ce2e81f9c069d24"
   }
  }
 },
 "nbformat": 4,
 "nbformat_minor": 2
}
