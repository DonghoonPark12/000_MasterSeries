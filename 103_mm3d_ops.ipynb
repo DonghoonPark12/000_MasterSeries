{
 "cells": [
  {
   "cell_type": "markdown",
   "metadata": {},
   "source": [
    "CenterPoint\n",
    "- https://github.com/tianweiy/CenterPoint/tree/master"
   ]
  },
  {
   "cell_type": "markdown",
   "metadata": {},
   "source": []
  },
  {
   "cell_type": "code",
   "execution_count": null,
   "metadata": {},
   "outputs": [],
   "source": [
    "# CenterPoint/det3d/ops/iou3d_nms/iou3d_nms_utils.py\n",
    "\n",
    "\"\"\"\n",
    "3D IoU Calculation and Rotated NMS\n",
    "Written by Shaoshuai Shi\n",
    "All Rights Reserved 2019-2020.\n",
    "\"\"\"\n",
    "import torch\n",
    "\n",
    "from . import iou3d_nms_cuda\n",
    "import numpy as np \n",
    "\n",
    "def boxes_iou_bev(boxes_a, boxes_b):\n",
    "    \"\"\"\n",
    "    Args:\n",
    "        boxes_a: (N, 7) [x, y, z, dx, dy, dz, heading]\n",
    "        boxes_b: (N, 7) [x, y, z, dx, dy, dz, heading]\n",
    "\n",
    "    Returns:\n",
    "        ans_iou: (N, M)\n",
    "    \"\"\"\n",
    "\n",
    "    assert boxes_a.shape[1] == boxes_b.shape[1] == 7\n",
    "    ans_iou = torch.cuda.FloatTensor(torch.Size((boxes_a.shape[0], boxes_b.shape[0]))).zero_()\n",
    "    iou3d_nms_cuda.boxes_iou_bev_gpu(boxes_a.contiguous(), boxes_b.contiguous(), ans_iou)\n",
    "\n",
    "    return ans_iou\n",
    "\n",
    "def to_pcdet(boxes):\n",
    "    # transform back to pcdet's coordinate\n",
    "    boxes = boxes[:, [0, 1, 2, 4, 3, 5, -1]]\n",
    "    boxes[:, -1] = -boxes[:, -1] - np.pi/2\n",
    "    return boxes\n",
    "\n",
    "def boxes_iou3d_gpu(boxes_a, boxes_b):\n",
    "    \"\"\"\n",
    "    Args:\n",
    "        boxes_a: (N, 7) [x, y, z, dx, dy, dz, heading]\n",
    "        boxes_b: (N, 7) [x, y, z, dx, dy, dz, heading]\n",
    "\n",
    "    Returns:\n",
    "        ans_iou: (N, M)\n",
    "    \"\"\"\n",
    "    assert boxes_a.shape[1] == boxes_b.shape[1] == 7\n",
    "\n",
    "    # transform back to pcdet's coordinate\n",
    "    boxes_a = to_pcdet(boxes_a)\n",
    "    boxes_b = to_pcdet(boxes_b)\n",
    "\n",
    "    # height overlap\n",
    "    boxes_a_height_max = (boxes_a[:, 2] + boxes_a[:, 5] / 2).view(-1, 1)\n",
    "    \n",
    "\n"
   ]
  },
  {
   "cell_type": "code",
   "execution_count": null,
   "metadata": {},
   "outputs": [],
   "source": []
  }
 ],
 "metadata": {
  "kernelspec": {
   "display_name": "Python 3.8.17 ('torchWin_rev')",
   "language": "python",
   "name": "python3"
  },
  "language_info": {
   "name": "python",
   "version": "3.8.17"
  },
  "orig_nbformat": 4,
  "vscode": {
   "interpreter": {
    "hash": "dcfd0bbc3e25ae79d1f134c08b87e3777d49169aec2e55e1b5fb8249822c085d"
   }
  }
 },
 "nbformat": 4,
 "nbformat_minor": 2
}
