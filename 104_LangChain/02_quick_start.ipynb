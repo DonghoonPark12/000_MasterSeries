{
 "cells": [
  {
   "cell_type": "markdown",
   "metadata": {},
   "source": [
    "<목차>\n",
    "- "
   ]
  },
  {
   "cell_type": "markdown",
   "metadata": {},
   "source": [
    "#### Quickstart\n",
    "- LangChain, LangSmith 및 LangServe로 설정\n",
    "- LangChain의 가장 기본적이고 일반적인 구성 요소인 `Prompt Templates, Model` 및 `Output Parser`를 사용합니다.\n",
    "- LangChain이 구축되고 구성 요소 연결을 용이하게 하는 프로토콜인 LangChain Expression Language를 사용합니다.\n",
    "- LangChain으로 간단한 애플리케이션 구축\n",
    "- LangSmith로 애플리케이션 추적\n",
    "- LangServe로 애플리케이션 배포"
   ]
  },
  {
   "cell_type": "markdown",
   "metadata": {},
   "source": [
    "#### LangSmith\n",
    "- LangChain으로 구축한 많은 애플리케이션에는 LLM 호출을 여러 번 호출하는 단계가 포함됩니다.\n",
    "- 이러한 애플리케이션이 점점 더 복잡해짐에 따라 `체인이나 에이전트 내부에서 정확히 무슨 일이 일어나고 있는지 검사할 수 있는 것이 중요`해졌습니다.\n",
    "- 이를 수행하는 가장 좋은 방법은 LangSmith를 사용하는 것입니다.\n",
    "- LangSmith는 필요하지 않지만 도움이 됩니다. LangSmith를 사용하려면 [링크](https://smith.langchain.com/o/d9ac21cb-e3d4-54df-a570-fba11484ffd9/)에 가입한 후 추적 로깅을 시작하도록 환경 변수를 설정해야 합니다."
   ]
  },
  {
   "cell_type": "code",
   "execution_count": null,
   "metadata": {},
   "outputs": [],
   "source": [
    "export LANGCHAIN_TRACING_V2=\"true\"\n",
    "export LANGCHAIN_API_KEY=\"...\""
   ]
  },
  {
   "cell_type": "markdown",
   "metadata": {},
   "source": [
    "#### Building with LangChain\n",
    "- LangChain은 외부 데이터 소스와 계산을 LLM에 연결하는 애플리케이션 구축을 가능하게 합니다.\n",
    "- 아래에서는 이를 수행하는 몇가지 방법을 살펴 봅니다.\n",
    "- (1) 프롬프트 템플릿의 정보에 의존하여 응답하는 간단한 LLM 체인부터 시작"
   ]
  },
  {
   "cell_type": "markdown",
   "metadata": {},
   "source": [
    "#### LLM Chain"
   ]
  },
  {
   "cell_type": "code",
   "execution_count": 2,
   "metadata": {},
   "outputs": [],
   "source": [
    "import os\n",
    "from dotenv import load_dotenv\n",
    "load_dotenv()\n",
    "openai_api_key = os.getenv(\"OPENAI_API_KEY\")\n"
   ]
  },
  {
   "cell_type": "code",
   "execution_count": 3,
   "metadata": {},
   "outputs": [],
   "source": [
    "from langchain_openai import ChatOpenAI\n",
    "llm = ChatOpenAI()"
   ]
  },
  {
   "cell_type": "code",
   "execution_count": null,
   "metadata": {},
   "outputs": [],
   "source": []
  }
 ],
 "metadata": {
  "kernelspec": {
   "display_name": "watsonx",
   "language": "python",
   "name": "python3"
  },
  "language_info": {
   "codemirror_mode": {
    "name": "ipython",
    "version": 3
   },
   "file_extension": ".py",
   "mimetype": "text/x-python",
   "name": "python",
   "nbconvert_exporter": "python",
   "pygments_lexer": "ipython3",
   "version": "3.11.5"
  }
 },
 "nbformat": 4,
 "nbformat_minor": 2
}
