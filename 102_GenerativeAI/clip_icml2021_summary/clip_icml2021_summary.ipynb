{
 "cells": [
  {
   "cell_type": "markdown",
   "metadata": {},
   "source": [
    "### CLIP\n"
   ]
  },
  {
   "cell_type": "markdown",
   "metadata": {},
   "source": [
    "참조 자료\n",
    "- https://www.youtube.com/watch?v=HkkaKI6NN-8\n",
    "- "
   ]
  },
  {
   "cell_type": "markdown",
   "metadata": {},
   "source": [
    "이하 아래 코드에서 파 볼만한 것들  \n",
    "- clip.load(\"ViT-B/32\", device=device) <- done\n",
    "- clip.tokenize <- done\n",
    "- model.encode_image(image)\n",
    "- model.encode_text(text)\n",
    "- model(image, text)"
   ]
  },
  {
   "cell_type": "markdown",
   "metadata": {},
   "source": [
    "![img.png](https://github.com/openai/CLIP/raw/main/CLIP.png)"
   ]
  },
  {
   "cell_type": "markdown",
   "metadata": {},
   "source": [
    "#### 예시1\n",
    "- 다이어그램 그림을 다이어그램으로 인식함"
   ]
  },
  {
   "cell_type": "code",
   "execution_count": 12,
   "metadata": {},
   "outputs": [
    {
     "name": "stdout",
     "output_type": "stream",
     "text": [
      "['RN50', 'RN101', 'RN50x4', 'RN50x16', 'RN50x64', 'ViT-B/32', 'ViT-B/16', 'ViT-L/14', 'ViT-L/14@336px']\n",
      "Model parameters: 151,277,313\n",
      "Input resolution: 224\n",
      "Context length: 77\n",
      "Vocab size: 49408\n",
      "\n",
      "\n",
      "Label probs: [[0.9927   0.004253 0.003016]]\n"
     ]
    }
   ],
   "source": [
    "import torch\n",
    "import clip\n",
    "from PIL import Image\n",
    "import numpy as np\n",
    "\n",
    "import sys\n",
    "sys.path.append(\"D:/00_PILSA/CLIP\")\n",
    "\n",
    "device = \"cuda\" if torch.cuda.is_available() else \"cpu\"\n",
    "print(clip.available_models())\n",
    "model, preprocess = clip.load(\"ViT-B/32\", device=device)\n",
    "\n",
    "model.cuda().eval()\n",
    "input_resolution = model.visual.input_resolution\n",
    "context_length = model.context_length\n",
    "vocab_size = model.vocab_size\n",
    "\n",
    "# Vit-B/32 가장 작은 모델도 파라미터 수가 1.5억개 이다.\n",
    "print(\"Model parameters:\", f\"{np.sum([int(np.prod(p.shape)) for p in model.parameters()]):,}\")\n",
    "print(\"Input resolution:\", input_resolution)\n",
    "print(\"Context length:\", context_length)\n",
    "print(\"Vocab size:\", vocab_size)\n",
    "\n",
    "image = preprocess(Image.open(\"D:/00_PILSA/CLIP/CLIP.png\")).unsqueeze(0).to(device) # torch.Size([1, 3, 224, 224])\n",
    "text = clip.tokenize([\"a diagram\", \"a dog\", \"a cat\"]).to(device) # torch.Size([3, 77])\n",
    "\n",
    "print('\\n')\n",
    "\n",
    "with torch.no_grad():\n",
    "    image_features = model.encode_image(image) # torch.Size([1, 512])\n",
    "    text_features = model.encode_text(text) # torch.Size([3, 512])\n",
    "    \n",
    "    logits_per_image, logits_per_text = model(image, text)\n",
    "    probs = logits_per_image.softmax(dim=-1).cpu().numpy()\n",
    "\n",
    "print(\"Label probs:\", probs)  # prints: [[0.9927937  0.00421068 0.00299572]]"
   ]
  },
  {
   "cell_type": "markdown",
   "metadata": {},
   "source": [
    "### 예시2"
   ]
  },
  {
   "cell_type": "markdown",
   "metadata": {},
   "source": [
    "- clip을 zero-shot prediction으로 활용하기 위해서는 아래 그림 처럼 가능한 클래스를 모두 token으로 만든다.\n",
    "- 즉, \"a photo of a beaver\" ~ \"a photo of a tractor\" 까지 100개의 클래스를 모두 [1, 512] 사이즈로 임베딩 해야 하니 [100, 512] 가 된다."
   ]
  },
  {
   "cell_type": "code",
   "execution_count": 7,
   "metadata": {},
   "outputs": [
    {
     "name": "stdout",
     "output_type": "stream",
     "text": [
      "Files already downloaded and verified\n",
      "\n",
      "Top predictions:\n",
      "\n",
      "        oak_tree: 40.16%\n",
      "     willow_tree: 25.93%\n",
      "      maple_tree: 15.97%\n",
      "       pine_tree: 14.10%\n",
      "       palm_tree: 1.19%\n"
     ]
    },
    {
     "data": {
      "text/plain": [
       "<matplotlib.image.AxesImage at 0x2716f8e3610>"
      ]
     },
     "execution_count": 7,
     "metadata": {},
     "output_type": "execute_result"
    },
    {
     "data": {
      "image/png": "[encoded data removed]",
      "text/plain": [
       "<Figure size 640x480 with 1 Axes>"
      ]
     },
     "metadata": {},
     "output_type": "display_data"
    }
   ],
   "source": [
    "import os\n",
    "import clip\n",
    "import torch\n",
    "from torchvision.datasets import CIFAR100\n",
    "\n",
    "# Load the model\n",
    "device = \"cuda\" if torch.cuda.is_available() else \"cpu\"\n",
    "model, preprocess = clip.load('ViT-B/32', device)\n",
    "\n",
    "# Download the dataset\n",
    "cifar100 = CIFAR100(root=os.path.expanduser(\"~/.cache\"), download=True, train=False)\n",
    "\n",
    "# Prepare the inputs\n",
    "image, class_id = cifar100[3635]\n",
    "image_input = preprocess(image).unsqueeze(0).to(device)\n",
    "# cifar 클래스의 \"a photo of a {object}\" 는 일단 다 생성한다!!\n",
    "text_inputs = torch.cat([clip.tokenize(f\"a photo of a {c}\") for c in cifar100.classes]).to(device)\n",
    "\n",
    "# Calculate features\n",
    "with torch.no_grad():\n",
    "    image_features = model.encode_image(image_input)\n",
    "    text_features = model.encode_text(text_inputs)\n",
    "\n",
    "# Pick the top 5 most similar labels for the image\n",
    "image_features /= image_features.norm(dim=-1, keepdim=True) # torch.Size([1, 512])\n",
    "text_features /= text_features.norm(dim=-1, keepdim=True) # torch.Size([100, 512]) \n",
    "# 두개의 임베딩을 dot product 한다!!\n",
    "simirality = (100.0 * image_features @ text_features.T).softmax(dim=-1) # torch.Size([1, 100])\n",
    "values, indices = simirality[0].topk(5) # 텐서는 기본적으로 topk() 메소드가 내장되어 있나 보다\n",
    "\n",
    "# Print the result\n",
    "print(\"\\nTop predictions:\\n\")\n",
    "for value, index in zip(values, indices):\n",
    "    print(f\"{cifar100.classes[index]:>16s}: {100 * value.item():.2f}%\")\n",
    "\n",
    "from matplotlib import pyplot as plt\n",
    "plt.imshow(image, interpolation='nearest')"
   ]
  },
  {
   "cell_type": "markdown",
   "metadata": {},
   "source": [
    "#### 이하 CLIP 모델"
   ]
  },
  {
   "cell_type": "code",
   "execution_count": null,
   "metadata": {},
   "outputs": [],
   "source": [
    "def tokenize(texts: Union[str, List[str]], context_length: int=77, truncate: bool=False) -> Union[torch.IntTensor, torch.LongTensor]:\n",
    "    \"\"\" 주어진 입력 스트링에 대해 토큰화된 표현으로 변경\n",
    "\n",
    "        context_length : int\n",
    "            문맥 길이, 모든 CLIP 모델은 77을 문맥 길이(?)로 사용한다.\n",
    "\n",
    "        truncate: bool\n",
    "            인코딩된 것이 문맥 길이 보다 길 경우 자른 건지 여부\n",
    "\n",
    "        Returns\n",
    "        -------\n",
    "        shape = [입력 스트링 길이, 문맥 길이]의 2차원 텐서 반환\n",
    "    \"\"\"\n",
    "    if isinstance(texts, str):\n",
    "            texts = [texts]\n",
    "\n",
    "        sot_token = _tokenizer.encoder[\"<|startoftext|>\"]\n",
    "        eot_token = _tokenizer.encoder[\"<|endoftext|>\"]\n",
    "        all_tokens = [[sot_token] + _tokenizer.encode(text) + [eot_token] for text in texts]\n",
    "\n",
    "        # 2차원 빈 텐서 생성\n",
    "        if packaging.version.parse(torch.__version__) < packaging.version.parse(\"1.8.0\"):\n",
    "            result = torch.zeros(len(all_tokens), context_length, dtype=torch.long)\n",
    "        else:\n",
    "            result = torch.zeros(len(all_tokens), context_length, dtype=torch.int)\n",
    "\n",
    "        for i, tokens in enumerate(all_tokens):\n",
    "            if len(tokens) > context_length:\n",
    "                if truncate:\n",
    "                    tokens = tokens[:context_length]\n",
    "                    tokens[-1] = eot_token\n",
    "                else:\n",
    "                    raise RuntimeError(f\"Input {texts[i]} is too long for context length {context_length}\")\n",
    "            result[i, :len(tokens)] = torch.tensor(tokens)\n",
    "        return result"
   ]
  },
  {
   "cell_type": "code",
   "execution_count": null,
   "metadata": {},
   "outputs": [],
   "source": [
    "class CLIP(nn.Module):\n",
    "    def __init__(self,\n",
    "                 embed_dim: int,\n",
    "                 # vision\n",
    "                 image_resolution: int,\n",
    "                 vision_layers: Union[Tuple[int, int, int, int], int],\n",
    "                 vision_width: int,\n",
    "                 vision_patch_size: int,\n",
    "                 # text\n",
    "                 context_length: int,\n",
    "                 vocab_size: int,\n",
    "                 transformer_width: int,\n",
    "                 transformer_heads: int,\n",
    "                 transformer_layers: int\n",
    "                 ):\n",
    "        super().__init__()\n",
    "\n",
    "        self.context_length = context_length\n",
    "\n",
    "        if isinstance(vison_layers, (tuple, list)):\n",
    "            vision_heads = vision_width * 32 // 64\n",
    "            self.visual = ModifiedResNet(\n",
    "                layers = vision_layers,\n",
    "                output_dim = embed_dim,\n",
    "                heads = vision_heads,\n",
    "                input_resolution = image_resolution,\n",
    "                width = vision_width\n",
    "            )\n",
    "        else:\n",
    "            vision_heads = vision_width // 64\n",
    "            self.visual = VisionTransformer(\n",
    "                layers=vision_layers,\n",
    "                output_dim=embed_dim,\n",
    "                heads=vision_heads,\n",
    "                input_resolution=image_resolution,\n",
    "                width=vision_width,\n",
    "                patch_size=vision_patch_size\n",
    "            )\n",
    "        \n",
    "        self.transformer = Transformer(\n",
    "            width=transformer_width,\n",
    "            layers=transformer_layers,\n",
    "            heads=transformer_heads,\n",
    "            attn_mask=self.build_attention_mask()\n",
    "        )\n",
    "\n",
    "        self.vocab_size = vocab_size\n",
    "        self.token_embedding = nn.Embedding(vocab_size, transformer_width) # nn.Embedding과 nn.Parameter 차이는??\n",
    "        self.positional_embedding = nn.Parameter(torch.empty(self.context_length, transformer_width))\n",
    "        self.ln_final = LayerNorm(transformer_width)\n",
    "\n",
    "        self.text_projection = nn.Parameter(torch.empty(transformer_width, embed_dim))\n",
    "        self.logit_scale = nn.Parameter(torch.ones([]) * np.log(1 / 0.07))\n",
    "\n",
    "        self.initialize_parameters()\n",
    "\n",
    "    def initialize_parameters(self):\n",
    "        nn.init.normal_(self.token_embedding.weight, std=0.02)\n",
    "        nn.init.normal_(self.positional_embedding, std=0.01)\n",
    "\n",
    "        if isinstance(self.visual, ModifiedResNet):\n",
    "            if self.visual.attnpool is not None:\n",
    "                std = self.visual.attnpool.c_proj.in_features ** -0.5 # c_proj?? -sqrt()??\n",
    "                nn.init.normal_(self.visual.attnpool.q_proj.weight, std=std)\n",
    "                nn.init.normal_(self.visual.attnpool.k_proj.weight, std=std)\n",
    "                nn.init.normal_(self.visual.attnpool.v_proj.weight, std=std)\n",
    "                nn.init.normal_(self.visual.attnpool.c_proj.weight, std=std)\n",
    "\n",
    "            for resnet_block in [self.visual.layer1, self.visual.layer2, self.visual.layer3, self.visual.layer4]:\n",
    "                for name, param in resnet_block.named_parameters():\n",
    "                    if name.endswith(\"bn3.weight\"):\n",
    "                        nn.init.zeros_(param)\n",
    "\n",
    "        proj_std = (self.transformer.width ** -0.5) * ((2 * self.transformer.layers) ** -0.5)\n",
    "        attn_std = self.transformer.width ** -0.5\n",
    "        fc_std = (2 * self.transformer.width) ** -0.5\n",
    "        for block in self.transformer.resblocks:\n",
    "            nn.init.normal_(block.attn.in_proj_weight, std=attn_std)\n",
    "            nn.init.normal_(block.attn.out_proj.weight, std=proj_std)\n",
    "            nn.init.normal_(block.mlp.c_fc.weight, std=fc_std)\n",
    "            nn.init.normal_(block.mlp.c_proj.weight, std=proj_std)\n",
    "        \n",
    "        if self.text_projection is not None:\n",
    "            nn.init.normal_(self.text_projection, std=self.transformer.width ** -0.5)\n",
    "\n",
    "    def build_attention_mask(self):\n",
    "        # lazily create causal attention mask, with full attention between the vision tokens\n",
    "        # pytorch uses additive attention mask; fill with -inf\n",
    "        mask = torch.empty(self.context_length, self.context_length)\n",
    "        mask.fill_(float(\"-inf\"))\n",
    "        mask.triu_(1)  # zero out the lower diagonal\n",
    "        return mask"
   ]
  }
 ],
 "metadata": {
  "kernelspec": {
   "display_name": "Python 3.8.17 ('torchWin_rev')",
   "language": "python",
   "name": "python3"
  },
  "language_info": {
   "codemirror_mode": {
    "name": "ipython",
    "version": 3
   },
   "file_extension": ".py",
   "mimetype": "text/x-python",
   "name": "python",
   "nbconvert_exporter": "python",
   "pygments_lexer": "ipython3",
   "version": "3.8.17"
  },
  "orig_nbformat": 4,
  "vscode": {
   "interpreter": {
    "hash": "dcfd0bbc3e25ae79d1f134c08b87e3777d49169aec2e55e1b5fb8249822c085d"
   }
  }
 },
 "nbformat": 4,
 "nbformat_minor": 2
}
