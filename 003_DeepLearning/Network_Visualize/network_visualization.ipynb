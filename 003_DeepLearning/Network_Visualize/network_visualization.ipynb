{
 "cells": [
  {
   "cell_type": "markdown",
   "metadata": {},
   "source": [
    "#### 네트워크 시각화\n",
    "- 기본적으로 torch 는 print('모델')하면 텍스트로 모델 구조 보여준다\n",
    "- 그외 방법으로 Torchviz, Netron, TorchView 등의 모듈이 있다.\n",
    "- https://stackoverflow.com/questions/52468956/how-do-i-visualize-a-net-in-pytorch/60253769#60253769"
   ]
  },
  {
   "cell_type": "markdown",
   "metadata": {},
   "source": [
    "##### Torchviz\n",
    "- 대략적으로 보려면 다음과 같이 -> make_dot(y.mean(), params=dict(model.named_parameters()))\n",
    "- autograd save 까지 보려면 다음과 같이 한다. make_dot(y.mean(), params=dict(model.named_parameters()), show_attrs=True, show_saved=True)\n",
    "- 그래프 저장 관련 문의\n",
    "  - https://github.com/szagoruyko/pytorchviz/issues/2"
   ]
  },
  {
   "cell_type": "code",
   "execution_count": 4,
   "metadata": {},
   "outputs": [
    {
     "name": "stdout",
     "output_type": "stream",
     "text": [
      "main_model----> MainModule(\n",
      "  (submodule1): SubModule(\n",
      "    (linear): Linear(in_features=10, out_features=5, bias=True)\n",
      "    (activation): ReLU()\n",
      "  )\n",
      "  (submodule2): SubModule(\n",
      "    (linear): Linear(in_features=5, out_features=3, bias=True)\n",
      "    (activation): ReLU()\n",
      "  )\n",
      ")\n",
      "dict(main_model.named_parameters())----> {'submodule1.linear.weight': Parameter containing:\n",
      "tensor([[ 0.0584,  0.2024,  0.0744,  0.1123, -0.2596,  0.0081, -0.1063, -0.2419,\n",
      "         -0.0972,  0.1196],\n",
      "        [ 0.1679, -0.0120,  0.1341, -0.0239,  0.2706, -0.0184,  0.1535,  0.2570,\n",
      "          0.3005,  0.2690],\n",
      "        [-0.1113,  0.1624,  0.1905, -0.1317,  0.0950, -0.0105,  0.0093,  0.1520,\n",
      "         -0.0597, -0.2505],\n",
      "        [-0.1164,  0.0367, -0.2348, -0.2752, -0.0581, -0.1413,  0.1665,  0.1227,\n",
      "         -0.0771,  0.2088],\n",
      "        [ 0.2613, -0.1239, -0.1983, -0.0537,  0.0058,  0.0162, -0.2227, -0.1866,\n",
      "          0.2778,  0.1969]], requires_grad=True), 'submodule1.linear.bias': Parameter containing:\n",
      "tensor([-0.2914, -0.0185,  0.2233,  0.3057, -0.1747], requires_grad=True), 'submodule2.linear.weight': Parameter containing:\n",
      "tensor([[ 0.0819,  0.2016, -0.0056, -0.2657, -0.0306],\n",
      "        [-0.0786,  0.0242,  0.1448, -0.2921, -0.3218],\n",
      "        [-0.1405,  0.3541, -0.1450, -0.3725, -0.1453]], requires_grad=True), 'submodule2.linear.bias': Parameter containing:\n",
      "tensor([0.2107, 0.4008, 0.0345], requires_grad=True)}\n",
      "\n",
      "\n",
      "\n",
      "\n",
      "Main Module:\n",
      "MainModule(\n",
      "  (submodule1): SubModule(\n",
      "    (linear): Linear(in_features=10, out_features=5, bias=True)\n",
      "    (activation): ReLU()\n",
      "  )\n",
      "  (submodule2): SubModule(\n",
      "    (linear): Linear(in_features=5, out_features=3, bias=True)\n",
      "    (activation): ReLU()\n",
      "  )\n",
      ")\n",
      "\n",
      "Submodule 1:\n",
      "SubModule(\n",
      "  (linear): Linear(in_features=10, out_features=5, bias=True)\n",
      "  (activation): ReLU()\n",
      ")\n",
      "\n",
      "Submodule 2:\n",
      "SubModule(\n",
      "  (linear): Linear(in_features=5, out_features=3, bias=True)\n",
      "  (activation): ReLU()\n",
      ")\n"
     ]
    }
   ],
   "source": [
    "import torch\n",
    "import torch.nn as nn\n",
    "from torchviz import make_dot\n",
    "\n",
    "# 예시 모듈 정의\n",
    "class SubModule(nn.Module):\n",
    "    def __init__(self, input_size, output_size):\n",
    "        super(SubModule, self).__init__()\n",
    "        self.linear = nn.Linear(input_size, output_size)\n",
    "        self.activation = nn.ReLU()\n",
    "\n",
    "    def forward(self, x):\n",
    "        x = self.linear(x)\n",
    "        x = self.activation(x)\n",
    "        return x\n",
    "\n",
    "# 메인 모듈 정의\n",
    "class MainModule(nn.Module):\n",
    "    def __init__(self):\n",
    "        super(MainModule, self).__init__()\n",
    "\n",
    "        # SubModule을 포함하는 예시\n",
    "        self.submodule1 = SubModule(input_size=10, output_size=5)\n",
    "        self.submodule2 = SubModule(input_size=5, output_size=3)\n",
    "\n",
    "    def forward(self, x):\n",
    "        x = self.submodule1(x)\n",
    "        x = self.submodule2(x)\n",
    "        return x\n",
    "\n",
    "# 모델 인스턴스 생성\n",
    "main_model = MainModule()\n",
    "print('main_model---->',main_model)\n",
    "\n",
    "# 모델 사용 예시\n",
    "input_data = torch.randn(1, 10)  # 입력 데이터 생성\n",
    "output = main_model(input_data)   # 모델에 입력 데이터 전달\n",
    "\n",
    "print('dict(main_model.named_parameters())---->', dict(main_model.named_parameters()))\n",
    "print('\\n')\n",
    "\n",
    "make_dot(output.mean(), params=dict(main_model.named_parameters())).render(\"output_\", format=\"png\")\n",
    "\n",
    "print('\\n')\n",
    "\n",
    "# 모듈 및 서브모듈에 대한 속성 접근\n",
    "print(\"Main Module:\")\n",
    "print(main_model)\n",
    "\n",
    "print(\"\\nSubmodule 1:\")\n",
    "print(main_model.submodule1)\n",
    "\n",
    "print(\"\\nSubmodule 2:\")\n",
    "print(main_model.submodule2)"
   ]
  },
  {
   "cell_type": "markdown",
   "metadata": {},
   "source": [
    "#### 시행 착오\n",
    "모델을 객체로 불러서 시각화 하면 되었었는데(아래예시)  \n",
    "las_inference_model = model_builder.build(self.m_model_config)  \n",
    "  \n",
    "밑의 과정을 거치니 마지막 노드만 출력이 되었다.  \n",
    "las_inference_model = load_checkpoint(model_load_path, las_inference_model)  \n",
    "las_inference_model.to(self.m_pytorch_device)  \n",
    "las_inference_model.eval()  \n",
    "  \n",
    "load_checkpoint() 함수에서 문제가 발생한 것인지, 아니면, eval()이 문제인지(train()일때는 수행 되었었다)\n",
    "원인 파악이 안되었다."
   ]
  },
  {
   "cell_type": "markdown",
   "metadata": {},
   "source": [
    "#### Torchview\n",
    "- input_size를 입력으로 받아서, 본인의 모델과 같이 여러 서브 모듈을 가지고 있는 모듈은 어떻게 input_size로 줘야 할지 파악하지 못했다.\n",
    "- 모델 저장 관련: https://github.com/mert-kurttutan/torchview/issues/35"
   ]
  },
  {
   "cell_type": "code",
   "execution_count": 6,
   "metadata": {},
   "outputs": [
    {
     "ename": "NameError",
     "evalue": "name 'MLP' is not defined",
     "output_type": "error",
     "traceback": [
      "\u001b[1;31m---------------------------------------------------------------------------\u001b[0m",
      "\u001b[1;31mNameError\u001b[0m                                 Traceback (most recent call last)",
      "Cell \u001b[1;32mIn[6], line 3\u001b[0m\n\u001b[0;32m      1\u001b[0m \u001b[39mfrom\u001b[39;00m \u001b[39mtorchview\u001b[39;00m \u001b[39mimport\u001b[39;00m draw_graph\n\u001b[1;32m----> 3\u001b[0m model \u001b[39m=\u001b[39m MLP()\n\u001b[0;32m      4\u001b[0m batch_size \u001b[39m=\u001b[39m \u001b[39m2\u001b[39m\n\u001b[0;32m      5\u001b[0m \u001b[39m# device='meta' -> no memory is consumed for visualization\u001b[39;00m\n",
      "\u001b[1;31mNameError\u001b[0m: name 'MLP' is not defined"
     ]
    }
   ],
   "source": [
    "from torchview import draw_graph\n",
    "\n",
    "model = MLP()\n",
    "batch_size = 2\n",
    "# device='meta' -> no memory is consumed for visualization\n",
    "model_graph = draw_graph(model, input_size=(batch_size, 128), device='meta')\n",
    "model_graph.visual_graph"
   ]
  },
  {
   "cell_type": "markdown",
   "metadata": {},
   "source": []
  }
 ],
 "metadata": {
  "kernelspec": {
   "display_name": "Python 3.8.17 ('mm3d')",
   "language": "python",
   "name": "python3"
  },
  "language_info": {
   "codemirror_mode": {
    "name": "ipython",
    "version": 3
   },
   "file_extension": ".py",
   "mimetype": "text/x-python",
   "name": "python",
   "nbconvert_exporter": "python",
   "pygments_lexer": "ipython3",
   "version": "3.8.17"
  },
  "orig_nbformat": 4,
  "vscode": {
   "interpreter": {
    "hash": "d69b847d396095f32f676329057412de0235e6809d7fbe768ce2e81f9c069d24"
   }
  }
 },
 "nbformat": 4,
 "nbformat_minor": 2
}
