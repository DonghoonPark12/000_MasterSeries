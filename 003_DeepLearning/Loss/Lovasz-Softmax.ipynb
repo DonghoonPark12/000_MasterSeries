{
 "cells": [
  {
   "cell_type": "markdown",
   "metadata": {},
   "source": [
    "#### Lovasz-Softmax Loss\n",
    "- \"The Lovasz-Softmax loss: A tractable surrogate for optimize of cross-over-union measure in neural network\"(https://arxiv.org/abs/1705.08790)\n",
    "- "
   ]
  },
  {
   "cell_type": "code",
   "execution_count": null,
   "metadata": {},
   "outputs": [],
   "source": [
    "# 아래 설명은 아래 링크를 참조 하였음\n",
    "# https://www.kaggle.com/c/tgs-salt-identification-challenge/discussion/67791\n",
    "\n",
    "# Step1) 예측 에러를 계산\n",
    "'''\n",
    "에러 벡터는 예측이 False이면 양수이고, 예측이 True이면 음수이다.\n",
    "올바른 예측에서 margin 이 1보다 낮으면 오류로 간주된다.\n",
    "'''\n",
    "signs = 2. * labels.float() - 1.\n",
    "errors = (1. - logits * Variable(signs))\n",
    "error_sorted, perm = torch.sort(errors, dim=0, desending=True)\n",
    "\n",
    "# Step2) 정렬된 에러를 기준으로 Lovasz Extension\n",
    "'''\n",
    "벡터 jaccard에는 정렬된 오류와 관련된 jaccard 인덱스를 포함한다. \n",
    "값은 0 ~ jaccard index 사이이다.\n",
    "'''\n",
    "gts = gt_sorted.sum()\n",
    "intersection = gts - gt_sorted.float().cumsum(0)\n",
    "union = gts + (1 - gt_sorted).float().cumsum(0)\n",
    "jaccard = 1. - intersection / union\n",
    "\n",
    "# Step3) 정렬된 에러를 기준으로 Lovasz Extension의 기울기\n",
    "'''\n",
    "위에서 구한 벡터의 gradient 계산\n",
    "해당 벡터는 오류가 Jaccard 지수 변화에 미치는 영향을 나타낸다.\n",
    "Jaccard 지수에 가장 큰 불이익을 주는 오류를 최소화한다.\n",
    "'''\n",
    "jaccard[1:p] = jaccard[1:p] - jaccard[0:-1]\n",
    "\n",
    "# Step4) 로스를 계산\n",
    "'''\n",
    "에러 벡터와 Lovasz extension 기울기 와의 dot product로 실제 로스가 계산된다.\n",
    "'''\n",
    "loss = torch.dot(F.relu(errors_sorted), Variable(grad))"
   ]
  },
  {
   "cell_type": "markdown",
   "metadata": {},
   "source": [
    "### 이하 논문 참고"
   ]
  },
  {
   "cell_type": "markdown",
   "metadata": {},
   "source": [
    "The Jaccard index, also referred to as the intersection-over-union score, is commonly employed in the evaluation of image segmentation results given its perceptual qualities, scale invariance - which lends appropriate relevance to small objects, and appropriate counting of false negatives, in comparison to per-pixel losses.  \n",
    "--> IoU 점수라고도 하는 Jaccard 계수는  \n",
    "We present a method for direct optimization of the mean intersection-over-union loss in neural networks, in the context of semantic image segmentation, based on the convex Lovász extension of submodular losses. The loss is shown to perform better with respect to the Jaccard index measure than the traditionally used cross-entropy loss. We show quantitative and qualitative differences between optimizing the Jaccard index per image versus optimizing the Jaccard index taken over an entire dataset. We evaluate the impact of our method in a semantic segmentation pipeline and show substantially improved intersection-over-union segmentation scores on the Pascal VOC and Cityscapes datasets using state-of-the-art deep learning segmentation architectures."
   ]
  },
  {
   "cell_type": "markdown",
   "metadata": {},
   "source": [
    "자카드 (Jaccard Index) 계수\n",
    "- 두 집합의 교집합을 합집합으로 나눈 값\n",
    "\n",
    "\n",
    "![img.png](https://miro.medium.com/v2/resize:fit:640/format:webp/1*TG5hwQ3lYaKSCEBlvMlPPw.png)"
   ]
  },
  {
   "cell_type": "code",
   "execution_count": null,
   "metadata": {},
   "outputs": [],
   "source": []
  }
 ],
 "metadata": {
  "kernelspec": {
   "display_name": "Python 3.8.17 ('mm3d')",
   "language": "python",
   "name": "python3"
  },
  "language_info": {
   "name": "python",
   "version": "3.8.17"
  },
  "orig_nbformat": 4,
  "vscode": {
   "interpreter": {
    "hash": "d69b847d396095f32f676329057412de0235e6809d7fbe768ce2e81f9c069d24"
   }
  }
 },
 "nbformat": 4,
 "nbformat_minor": 2
}
