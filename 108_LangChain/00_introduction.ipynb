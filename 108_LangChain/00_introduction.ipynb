{
 "cells": [
  {
   "cell_type": "markdown",
   "metadata": {},
   "source": [
    "<목차>\n",
    "- Introduction\n",
    "- LangChain Libraries\n",
    "- LangChain Expression Language (LCEL)\n",
    "- Modules\n",
    "- Examples, ecosystem, and resources"
   ]
  },
  {
   "cell_type": "markdown",
   "metadata": {},
   "source": [
    "<요약>\n",
    "- 랭체인 라이브러리는 아래의 3가지로 이루어지고\n",
    "    - `langchain-core`: 기본 추상화 및 LangChain 표현 언어\n",
    "    - `langchain-communit`: 제3자 통합.\n",
    "    - `langchain`: 애플리케이션의 인지 아키텍처를 구성하는 체인, 에이전트 및 검색 전략\n",
    "- 그외, `랭 체인 템플릿`, `랭 서브`, `랭 스미스`가 있다.   \n",
    "  \n",
    "==> 일단 기본 기능 부터 사용해 보고, 필요할 때 마다 익혀 나간다."
   ]
  },
  {
   "cell_type": "markdown",
   "metadata": {},
   "source": [
    "## Introduction"
   ]
  },
  {
   "cell_type": "markdown",
   "metadata": {},
   "source": [
    "- LangChain은 언어 모델을 기반으로 하는 어플리케이션 개발을 위한 프레임워크 입니다.\n",
    "- 다음과 같은 어플리케이션을 가능하게 합니다 \n",
    "    - Are context-aware : (상황 인식) 언어 모델을 문맥에 기반한 소스(프롬프트 명령, Few-Shot 예시, 응답을 기반으로 하는 콘텐츠 등)에 연결합니다. \n",
    "    - Reason : (추론) 추론하기 위해 언어 모델에 의존합니다 (제공된 맥락에 따라 대답하는 방법, 취해야 할 조치 등에 대해).\n",
    "\n",
    "LangChain 프레임워크는 다음의 파트로 구성이 됩니다."
   ]
  },
  {
   "cell_type": "markdown",
   "metadata": {},
   "source": [
    "- `랭 체인 라이브러리`: 파이썬 과 JS 라이브러리 포함. 수 많은 구성요소에 대한 인터페이스 및 통합. 그리고 이러한 구성 요소를 체인 및 에이전트로 결합하기 위한 기본 런타임(?), 체인 및 에이전트의 기성 구현이 포함되어 있습니다.\n",
    "- [`랭 체인 템플릿`](https://python.langchain.com/docs/templates) : 다양한 작업을 위해 쉽게 배포할 수 있는 참조 가능한 아키텍처 모음\n",
    "- ['랭 서브'](https://python.langchain.com/docs/langserve) : 랭 체인을 REST API로 배포하기 위한 라이브러리\n",
    "- ['랭 스미스'](https://python.langchain.com/docs/langsmith) : LLM 프레임워크에 구축된 체인을 디버그, 테스트, 평가 및 모니터링하고 LangChain과 원활하게 통합할 수 있는 개발자 플랫폼\n",
    "![image.png](./asset/00_introduction.png)"
   ]
  },
  {
   "cell_type": "markdown",
   "metadata": {},
   "source": [
    "- 이들 제품을 함께 사용하면 전체 어플리케이션 라이프 사이클이 단순화 됩니다.\n",
    "    - Develop: LangChain/LangChain.js에 애플리케이션을 작성합니다. 참조용 템플릿을 사용하여 순조롭게 진행하세요.\n",
    "    - 생산화: LangSmith를 사용하여 체인을 검사, 테스트 및 모니터링하면 자신감을 갖고 지속적으로 개선하고 배포할 수 있습니다.\n",
    "    - 배포: LangServe를 사용하여 모든 체인을 API로 전환합니다."
   ]
  },
  {
   "cell_type": "markdown",
   "metadata": {},
   "source": [
    "### LangChain Libraries\n",
    "- 랭체인 패키지의 주요 장점은 다음과 같다.\n",
    "    1. 컴포넌트(Components): 언어 모델 작업을 위한 구성 가능한 도구 및 통합. 구성 요소는 모듈식이며 사용하기 쉽다.\n",
    "    2. 기성품 체인(Off-the-shelf chains): 더 높은 수준의 작업을 위한 컴포넌트 조립체\n",
    "- 기성품 체인을 사용하면 쉽게 시작할 수 있습니다. 구성요소를 사용하면 기존 체인을 쉽게 맞춤화하고 새 체인을 구축할 수 있다.\n",
    "- 랭체인 라이브러리 자체는 여러가지 페키지로 구성된다.\n",
    "    - `langchain-core`: 기본 추상화 및 LangChain 표현 언어\n",
    "    - `langchain-communit`: 제3자 통합.\n",
    "    - `langchain`: 애플리케이션의 인지 아키텍처를 구성하는 체인, 에이전트 및 검색 전략\n"
   ]
  },
  {
   "cell_type": "markdown",
   "metadata": {},
   "source": [
    "### LangChain Expression Language (LCEL)\n",
    "- LCEL은 체인을 구성하는 선언적 방법이다. LCEL은 가장 단순한 \"프롬프트 + LLM\" 부터 가장 복잡한 체인 까지 코드 변경 없이 프로토타입을 프로덕션에 투입할 수 있도록 설계 되었다. \n",
    "    - [Overview](https://python.langchain.com/docs/expression_language/): LCEL 및 그 이점\n",
    "    - [Interface](https://python.langchain.com/docs/expression_language/interface): LCEL 객체의 표준 인터페이스\n",
    "    - [How-to](https://python.langchain.com/docs/expression_language/how_to): LCEL의 주요 기능\n",
    "    - [Cookbook](https://python.langchain.com/docs/expression_language/cookbook): 일반적인 작업을 수행하기 위한 예제 코드"
   ]
  },
  {
   "cell_type": "markdown",
   "metadata": {},
   "source": [
    "### Modules\n",
    "- 랭체인은 표준, 확장 가능한 인터페이스 그리고 통합을 제공해 준다. \n",
    "- [Model I/O](https://python.langchain.com/docs/modules/model_io/)\n",
    "     - 언어 모델과의 인터페이스\n",
    "- [Retrieval](https://python.langchain.com/docs/modules/data_connection/)\n",
    "    - 애플리케이션별 데이터와의 인터페이스\n",
    "- [Agents](https://python.langchain.com/docs/modules/agents/)\n",
    "    - 모델이 주어진 상위 수준 지침을 사용할 도구를 선택하도록 허용"
   ]
  },
  {
   "cell_type": "markdown",
   "metadata": {},
   "source": [
    "#### Examples, ecosystem, and resources\n",
    "- [Document question answering](https://python.langchain.com/docs/use_cases/question_answering/)\n",
    "- [Chatbots](https://python.langchain.com/docs/use_cases/chatbots/)\n",
    "- [Analyzing structured data](https://python.langchain.com/docs/use_cases/sql/)\n",
    "- [Integrations](https://python.langchain.com/docs/integrations/providers/)\n",
    "- [Guides](https://python.langchain.com/docs/guides/debugging)\n",
    "- [API reference](https://api.python.langchain.com/) : LangChain 및 LangChain Experimental Python 패키지의 모든 클래스와 메서드에 대한 전체 문서\n",
    "- [Developer's guide](https://python.langchain.com/docs/contributing)\n",
    "- [Community](https://python.langchain.com/docs/community)"
   ]
  },
  {
   "cell_type": "markdown",
   "metadata": {},
   "source": [
    "https://python.langchain.com/docs/get_started/introduction"
   ]
  },
  {
   "cell_type": "markdown",
   "metadata": {},
   "source": []
  }
 ],
 "metadata": {
  "language_info": {
   "name": "python"
  }
 },
 "nbformat": 4,
 "nbformat_minor": 2
}
