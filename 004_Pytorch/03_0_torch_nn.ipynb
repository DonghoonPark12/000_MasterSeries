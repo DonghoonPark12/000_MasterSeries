{
 "cells": [
  {
   "cell_type": "markdown",
   "metadata": {},
   "source": [
    "<★★★자주 쓰는 것들★★★>\n",
    "- torch.nn (https://pytorch.org/docs/stable/nn.html)\n",
    "  - torch.nn.functional (https://pytorch.org/docs/stable/nn.functional.html)\n",
    "  - torch.nn.Module(https://pytorch.org/docs/stable/generated/torch.nn.Module.html#torch.nn.Module)\n",
    "- torch.util\n",
    "  - torch.utils.data (https://pytorch.org/docs/stable/data.html)\n",
    "- torch.tensor(https://pytorch.org/docs/stable/tensors.html)"
   ]
  },
  {
   "cell_type": "markdown",
   "metadata": {},
   "source": [
    "---"
   ]
  },
  {
   "cell_type": "markdown",
   "metadata": {},
   "source": [
    "#### 1. 텐서 차원 확장, 감소\n",
    "확장 방법\n",
    "- tensor.view(1, -1)\n",
    "- tensor.unsqueeze()\n",
    "- tensor[..., np.new_axis]\n",
    "- tensor[..., 1]\n",
    "\n",
    "축소 방법\n",
    "- tensor.reshape(-1)\n",
    "- tensor.squeeze()\n",
    "- tensor.flatten()"
   ]
  },
  {
   "cell_type": "markdown",
   "metadata": {},
   "source": [
    "``` python\n",
    "# torch.Size([1000, 512, 1, 1]) -> torch.Size([1000, 512])\n",
    "feas_sim_i = torch.flatten(feas_sim_i, start_dim=1) \n",
    "```"
   ]
  },
  {
   "cell_type": "markdown",
   "metadata": {},
   "source": [
    "----"
   ]
  },
  {
   "cell_type": "markdown",
   "metadata": {},
   "source": []
  },
  {
   "cell_type": "markdown",
   "metadata": {},
   "source": [
    "#### `CLASS torch.nn.Identity(*args, **kwargs)`\n",
    "- 인수를 구분하지 않는 Placeholder ID 연산자\n",
    "- 입력과 동일한 텐서를 출력으로 내보내주는 layer다\n",
    "- 관련 이슈: https://github.com/pytorch/pytorch/issues/9160"
   ]
  },
  {
   "cell_type": "code",
   "execution_count": 4,
   "metadata": {},
   "outputs": [
    {
     "name": "stdout",
     "output_type": "stream",
     "text": [
      "tensor([[ 1.5573,  0.0421, -1.8752,  ..., -0.0031,  0.4080,  1.5668],\n",
      "        [-0.3170,  0.7242, -0.0494,  ..., -0.2612,  0.4649,  0.0139],\n",
      "        [ 0.7769,  0.2675,  0.8932,  ..., -1.7541, -0.1944, -1.2333],\n",
      "        ...,\n",
      "        [ 0.7780, -0.9834, -0.5951,  ...,  1.0033,  2.6036,  1.6209],\n",
      "        [ 0.3349,  0.8116,  1.4694,  ..., -1.0343,  0.4855, -2.1370],\n",
      "        [ 0.0744, -0.8772, -0.7785,  ..., -0.5631, -0.5481, -0.3703]])\n",
      "torch.Size([128, 20])\n",
      "torch.Size([128, 20])\n"
     ]
    }
   ],
   "source": [
    "import torch\n",
    "import torch.nn as nn\n",
    "m = nn.Identity(54, unused_argument1=0.1, unused_argument2=False)\n",
    "input_ = torch.randn(128, 20)\n",
    "output = m(input_)\n",
    "print(output)\n",
    "print(output.shape)\n",
    "print(output.size())"
   ]
  },
  {
   "cell_type": "code",
   "execution_count": null,
   "metadata": {},
   "outputs": [],
   "source": [
    "class Identity(nn.Module):\n",
    "    def __init__(self, *args, **kwargs):\n",
    "        super().__init__()\n",
    "    def forward(self, x):\n",
    "        return x"
   ]
  },
  {
   "cell_type": "markdown",
   "metadata": {},
   "source": [
    "#### `CLASS torch.nn.AdaptiveAvgPool2d(output_size)`\n",
    "- 파라미터: Union[int, None, Tuple[Optional[int], Optional[int]]]\n",
    "- 입력 사이즈 (B, C, H_in, W_in) or (C, H_in, W_in)\n",
    "- 출력 사이즈 (B, C, S_0, S_1) or (C, S_0, S_1)"
   ]
  },
  {
   "cell_type": "code",
   "execution_count": null,
   "metadata": {},
   "outputs": [],
   "source": [
    "pool = nn.AdaptiveAvgPool2d(1)\n",
    "feas_sim_i = pool(feas_sim_i) # torch.Size([1000, 512, 7, 7]) -> torch.Size([1000, 512, 1, 1])"
   ]
  },
  {
   "cell_type": "code",
   "execution_count": 9,
   "metadata": {},
   "outputs": [
    {
     "name": "stdout",
     "output_type": "stream",
     "text": [
      "torch.Size([1, 64, 5, 7])\n",
      "torch.Size([1, 64, 7, 7])\n",
      "torch.Size([1, 64, 8, 7])\n"
     ]
    }
   ],
   "source": [
    "import torch\n",
    "import torch.nn as nn\n",
    "input = torch.randn(1, 64, 8, 9)\n",
    "\n",
    "m = nn.AdaptiveAvgPool2d((5, 7))\n",
    "output = m(input)\n",
    "print(output.shape)\n",
    "\n",
    "m = nn.AdaptiveAvgPool2d(7)\n",
    "output = m(input)\n",
    "print(output.shape)\n",
    "\n",
    "m = nn.AdaptiveAvgPool2d((None, 7)) # 앞에 것은 신경 안쓰고 뒤의 크기를 7로\n",
    "output = m(input) # 클래스를 __call__ 메소드를 정의하여 함수 처럼 쓴다\n",
    "print(output.shape)"
   ]
  },
  {
   "cell_type": "markdown",
   "metadata": {},
   "source": [
    "#### `torch.flatten(input, start_dim=0, end_dim=-1)`\n",
    "- https://pytorch.org/docs/stable/generated/torch.flatten.html"
   ]
  },
  {
   "cell_type": "markdown",
   "metadata": {},
   "source": [
    "#### `torch.nn.parameter.Parameter(data=None, requires_grad=True)`\n",
    "- 모듈 파라미터로 간주되는 일종의 Tensor(?)\n",
    "- 파라미터는 Tensor의 하위 클래스로, Module과 함께 사용될 때 매우 특별한 속성을 갖는다.\n",
    "- 파라미터 Tensor는 모듈의 속성으로 할당되면, 자동으로 파라미터 리스트에 추가되고, .parameters() 이터레이터로 참조할 수 있다.\n",
    "- `모델에는 모듈이 있고, 모듈에는 파라미터가 있다`\n",
    "  \n",
    "- Tensor를 할당하는 것은 그런 효과는 없다(??)\n",
    "- 이는 RNN 모델의 숨겨진 상태와 같이 일부 임시(temporary) 상태를 캐시하려고 할 수 있기 때문.\n",
    "- Parameter() 와 같은 클래스가 없으면 이런 임시 항목도 등록이 된다. \n",
    "  `(그렇기 때문에 모듈에서 파라미터라는 것을 따로 뺐다??)`\n",
    "  \n",
    "--> 모듈도 클래스고, 파라미터도 클래스다. 모듈과 파라미터 클래스는 서로 소통한다."
   ]
  },
  {
   "cell_type": "markdown",
   "metadata": {},
   "source": [
    "- data: 파라미터 텐서  \n",
    "- requires_grad: 파라미터가 gradient를 필요로 한다면, torch.no_grad() 컨텍스트는 파라미터 생성의 기본 동작에 영향을 미치지 않는다. \n",
    "  - 파라미터는 no_grad 모드에서도 여전히 requires_grad=True를 갖는다(???)\n",
    "  - (생성에는 영향을 미치지 않고, 생성 이후에 해당 문맥 안에서는 requires_grad=False 란 의미인가??)"
   ]
  },
  {
   "cell_type": "code",
   "execution_count": null,
   "metadata": {},
   "outputs": [],
   "source": [
    "'''\n",
    "Conv2d(3, 64, kernel_size=(7, 7), stride=(2, 2), padding=(3, 3), bias=False)\n",
    "==================================================\n",
    "<class 'torch.nn.parameter.Parameter'> torch.Size([64, 3, 7, 7])\n",
    "==================================================\n",
    "BatchNorm2d(64, eps=1e-05, momentum=0.1, affine=True, track_running_stats=True)\n",
    "==================================================\n",
    "<class 'torch.nn.parameter.Parameter'> torch.Size([64])\n",
    "<class 'torch.nn.parameter.Parameter'> torch.Size([64])\n",
    "==================================================\n",
    "ReLU(inplace=True)\n",
    "==================================================\n",
    "==================================================\n",
    "MaxPool2d(kernel_size=3, stride=2, padding=1, dilation=1, ceil_mode=False)\n",
    "==================================================\n",
    "==================================================\n",
    "Sequential(\n",
    "  (0): BasicBlock(\n",
    "    (conv1): Conv2d(64, 64, kernel_size=(3, 3), stride=(1, 1), padding=(1, 1), bias=False)\n",
    "    (bn1): BatchNorm2d(64, eps=1e-05, momentum=0.1, affine=True, track_running_stats=True)\n",
    "    (relu): ReLU(inplace=True)\n",
    "    (conv2): Conv2d(64, 64, kernel_size=(3, 3), stride=(1, 1), padding=(1, 1), bias=False)\n",
    "    (bn2): BatchNorm2d(64, eps=1e-05, momentum=0.1, affine=True, track_running_stats=True)\n",
    "  )\n",
    "  (1): BasicBlock(\n",
    "    (conv1): Conv2d(64, 64, kernel_size=(3, 3), stride=(1, 1), padding=(1, 1), bias=False)\n",
    "    (bn1): BatchNorm2d(64, eps=1e-05, momentum=0.1, affine=True, track_running_stats=True)\n",
    "    (relu): ReLU(inplace=True)\n",
    "    (conv2): Conv2d(64, 64, kernel_size=(3, 3), stride=(1, 1), padding=(1, 1), bias=False)\n",
    "    (bn2): BatchNorm2d(64, eps=1e-05, momentum=0.1, affine=True, track_running_stats=True)\n",
    "  )\n",
    ")\n",
    "==================================================\n",
    "<class 'torch.nn.parameter.Parameter'> torch.Size([64, 64, 3, 3])\n",
    "<class 'torch.nn.parameter.Parameter'> torch.Size([64])\n",
    "<class 'torch.nn.parameter.Parameter'> torch.Size([64])\n",
    "<class 'torch.nn.parameter.Parameter'> torch.Size([64, 64, 3, 3])\n",
    "<class 'torch.nn.parameter.Parameter'> torch.Size([64])\n",
    "<class 'torch.nn.parameter.Parameter'> torch.Size([64])\n",
    "<class 'torch.nn.parameter.Parameter'> torch.Size([64, 64, 3, 3])\n",
    "<class 'torch.nn.parameter.Parameter'> torch.Size([64])\n",
    "<class 'torch.nn.parameter.Parameter'> torch.Size([64])\n",
    "<class 'torch.nn.parameter.Parameter'> torch.Size([64, 64, 3, 3])\n",
    "<class 'torch.nn.parameter.Parameter'> torch.Size([64])\n",
    "<class 'torch.nn.parameter.Parameter'> torch.Size([64])\n",
    "'''"
   ]
  },
  {
   "cell_type": "markdown",
   "metadata": {},
   "source": []
  }
 ],
 "metadata": {
  "kernelspec": {
   "display_name": "torchWin_rev",
   "language": "python",
   "name": "python3"
  },
  "language_info": {
   "codemirror_mode": {
    "name": "ipython",
    "version": 3
   },
   "file_extension": ".py",
   "mimetype": "text/x-python",
   "name": "python",
   "nbconvert_exporter": "python",
   "pygments_lexer": "ipython3",
   "version": "3.8.17"
  }
 },
 "nbformat": 4,
 "nbformat_minor": 2
}
