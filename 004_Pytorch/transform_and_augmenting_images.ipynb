{
 "cells": [
  {
   "cell_type": "markdown",
   "metadata": {},
   "source": [
    "### TRANSFORMING AND AUGMENTING IMAGES\n",
    "- 출처: https://pytorch.org/vision/stable/transforms.html\n",
    "- Torchvision은 컴퓨터 비전 이미지 변환은 torchvision.transform 과 torchvision.transform.v2 모듈을 통해 제공한다.\n",
    "- Transforms은 데이터 변환, 학습시 증강, 다른 테스크의 추론 등에 사용될 수 있다.\n",
    "\n",
    "\n",
    "```\n",
    "from torchvision.transforms import transform\n",
    "from torchvision.transforms import v2\n",
    "```"
   ]
  },
  {
   "cell_type": "code",
   "execution_count": null,
   "metadata": {},
   "outputs": [],
   "source": []
  },
  {
   "cell_type": "markdown",
   "metadata": {},
   "source": [
    "### TORCHVISION.TRANSFORMS\n",
    "- 출처: https://pytorch.org/vision/0.9/transforms.html"
   ]
  }
 ],
 "metadata": {
  "language_info": {
   "name": "python"
  }
 },
 "nbformat": 4,
 "nbformat_minor": 2
}
