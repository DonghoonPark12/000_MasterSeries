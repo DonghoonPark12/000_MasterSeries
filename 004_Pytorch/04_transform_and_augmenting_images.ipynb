{
 "cells": [
  {
   "cell_type": "markdown",
   "metadata": {},
   "source": [
    "### TRANSFORMING AND AUGMENTING IMAGES\n",
    "- 출처: https://pytorch.org/vision/stable/transforms.html\n",
    "- Torchvision은 컴퓨터 비전 이미지 변환은 torchvision.transform 과 torchvision.transform.v2 모듈을 통해 제공한다.\n",
    "- Transforms은 데이터 변환, 학습시 증강, 다른 테스크의 추론 등에 사용될 수 있다.\n",
    "\n",
    "\n",
    "```\n",
    "from torchvision.transforms import transform\n",
    "from torchvision.transforms import v2\n",
    "```"
   ]
  },
  {
   "cell_type": "code",
   "execution_count": null,
   "metadata": {},
   "outputs": [],
   "source": []
  },
  {
   "cell_type": "markdown",
   "metadata": {},
   "source": [
    "### TORCHVISION.TRANSFORMS\n",
    "- 출처: https://pytorch.org/vision/0.9/transforms.html\n",
    "- https://tutorials.pytorch.kr/beginner/basics/transforms_tutorial.html\n",
    "- https://pytorch.org/vision/main/auto_examples/transforms/plot_cutmix_mixup.html#sphx-glr-auto-examples-transforms-plot-cutmix-mixup-py"
   ]
<<<<<<< HEAD
=======
  },
  {
   "cell_type": "markdown",
   "metadata": {},
   "source": [
    "#### torchvision.transforms.RandomResizedCrop(size, scale=(0.08, 1.0), ratio=(0.75, 1.3333333333333333), interpolation=InterpolationMode.BILINEAR, antialias: Optional[bool] = True)\n",
    "- 이미지의 임의 부분을 자르고, 주어진 크기로 조정한다.\n",
    "- 이미지가 토치 텐서인 경우 [..., H, W] 모양을 가질 것으로 예상. 여기서 ...는 임의의 행간 차원 수를 의미.\n",
    "- 원본 이미지의 Cropped 이미지가 만들어 진다. 자르기에는 (H*W)과 임의의 종횡비가 있다. \n",
    "- scale: 크기를 조정하기 전에 임의의 영역에 대한 하한/상한을 지정한다. 스케일은 원본 이미지의 영역을 기준으로 정의된다."
   ]
  },
  {
   "cell_type": "markdown",
   "metadata": {},
   "source": []
>>>>>>> c8466e689ed75b6312593f5de4dce27dd5743d46
  }
 ],
 "metadata": {
  "language_info": {
   "name": "python"
  }
 },
 "nbformat": 4,
 "nbformat_minor": 2
}
