{
 "cells": [
  {
   "cell_type": "markdown",
   "metadata": {},
   "source": [
    "- https://pytorch.org/docs/stable/notes/autograd.html"
   ]
  },
  {
   "cell_type": "markdown",
   "metadata": {},
   "source": [
    "#### Locally disabling gradient computation (지역적 그레디언트 계산 비활성화)\n",
    "- 파이썬에서 기울기 계산을 로컬에서 비활성화 하기 위한 몇가지 방법이 있다.\n",
    "- 전체 코드에서 기울기 계산을 비 활성화 하기 위해서는 no_grad 모드 및 추론 모드(?)와 같은 문맥 관리자가 있다.\n",
    "- 그레디언트 계산에서 하위 그래프를 보다 세밀하게 제어하려면, require_grad 필드를 설정하라(?)\n",
    "  \n",
    "- 아래에서는 nn.Module.eval()에 대해서도 설명한다."
   ]
  },
  {
   "cell_type": "markdown",
   "metadata": {},
   "source": [
    "##### Setting requires_grad\n",
    "- "
   ]
  },
  {
   "cell_type": "code",
   "execution_count": null,
   "metadata": {},
   "outputs": [],
   "source": []
  }
 ],
 "metadata": {
  "language_info": {
   "name": "python"
  }
 },
 "nbformat": 4,
 "nbformat_minor": 2
}
