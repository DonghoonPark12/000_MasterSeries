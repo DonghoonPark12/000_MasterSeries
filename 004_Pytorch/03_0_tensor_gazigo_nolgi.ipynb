{
 "cells": [
  {
   "cell_type": "markdown",
   "metadata": {},
   "source": [
    "<★★★자주 쓰는 것들★★★>\n",
    "- torch.nn (https://pytorch.org/docs/stable/nn.html)\n",
    "  - torch.nn.functional (https://pytorch.org/docs/stable/nn.functional.html)\n",
    "  - torch.nn.Module(https://pytorch.org/docs/stable/generated/torch.nn.Module.html#torch.nn.Module)\n",
    "- torch.util\n",
    "  - torch.utils.data (https://pytorch.org/docs/stable/data.html)\n",
    "- torch.tensor(https://pytorch.org/docs/stable/tensors.html)"
   ]
  },
  {
   "cell_type": "markdown",
   "metadata": {},
   "source": [
    "---"
   ]
  },
  {
   "cell_type": "markdown",
   "metadata": {},
   "source": [
    "#### 1. 텐서 차원 확장, 감소\n",
    "확장 방법\n",
    "- tensor.view(1, -1)\n",
    "- tensor.unsqueeze()\n",
    "- tensor[..., np.new_axis]\n",
    "- tensor[..., 1]\n",
    "\n",
    "축소 방법\n",
    "- tensor.reshape(-1)\n",
    "- tensor.squeeze()\n",
    "- tensor.flatten()"
   ]
  },
  {
   "cell_type": "markdown",
   "metadata": {},
   "source": [
    "``` python\n",
    "# torch.Size([1000, 512, 1, 1]) -> torch.Size([1000, 512])\n",
    "feas_sim_i = torch.flatten(feas_sim_i, start_dim=1) \n",
    "```"
   ]
  },
  {
   "cell_type": "markdown",
   "metadata": {},
   "source": [
    "----"
   ]
  },
  {
   "cell_type": "markdown",
   "metadata": {},
   "source": [
    "#### `CLASS torch.nn.Identity(*args, **kwargs)`\n",
    "- 인수를 구분하지 않는 Placeholder ID 연산자\n",
    "- 입력과 동일한 텐서를 출력으로 내보내주는 layer다\n",
    "- 관련 이슈: https://github.com/pytorch/pytorch/issues/9160"
   ]
  },
  {
   "cell_type": "code",
   "execution_count": 4,
   "metadata": {},
   "outputs": [
    {
     "name": "stdout",
     "output_type": "stream",
     "text": [
      "tensor([[ 1.5573,  0.0421, -1.8752,  ..., -0.0031,  0.4080,  1.5668],\n",
      "        [-0.3170,  0.7242, -0.0494,  ..., -0.2612,  0.4649,  0.0139],\n",
      "        [ 0.7769,  0.2675,  0.8932,  ..., -1.7541, -0.1944, -1.2333],\n",
      "        ...,\n",
      "        [ 0.7780, -0.9834, -0.5951,  ...,  1.0033,  2.6036,  1.6209],\n",
      "        [ 0.3349,  0.8116,  1.4694,  ..., -1.0343,  0.4855, -2.1370],\n",
      "        [ 0.0744, -0.8772, -0.7785,  ..., -0.5631, -0.5481, -0.3703]])\n",
      "torch.Size([128, 20])\n",
      "torch.Size([128, 20])\n"
     ]
    }
   ],
   "source": [
    "import torch\n",
    "import torch.nn as nn\n",
    "m = nn.Identity(54, unused_argument1=0.1, unused_argument2=False)\n",
    "input_ = torch.randn(128, 20)\n",
    "output = m(input_)\n",
    "print(output)\n",
    "print(output.shape)\n",
    "print(output.size())"
   ]
  },
  {
   "cell_type": "code",
   "execution_count": null,
   "metadata": {},
   "outputs": [],
   "source": [
    "class Identity(nn.Module):\n",
    "    def __init__(self, *args, **kwargs):\n",
    "        super().__init__()\n",
    "    def forward(self, x):\n",
    "        return x"
   ]
  },
  {
   "cell_type": "markdown",
   "metadata": {},
   "source": [
    "#### `CLASS torch.nn.AdaptiveAvgPool2d(output_size)`\n",
    "- 파라미터: Union[int, None, Tuple[Optional[int], Optional[int]]]\n",
    "- 입력 사이즈 (B, C, H_in, W_in) or (C, H_in, W_in)\n",
    "- 출력 사이즈 (B, C, S_0, S_1) or (C, S_0, S_1)"
   ]
  },
  {
   "cell_type": "code",
   "execution_count": null,
   "metadata": {},
   "outputs": [],
   "source": [
    "pool = nn.AdaptiveAvgPool2d(1)\n",
    "feas_sim_i = pool(feas_sim_i) # torch.Size([1000, 512, 7, 7]) -> torch.Size([1000, 512, 1, 1])"
   ]
  },
  {
   "cell_type": "code",
   "execution_count": 9,
   "metadata": {},
   "outputs": [
    {
     "name": "stdout",
     "output_type": "stream",
     "text": [
      "torch.Size([1, 64, 5, 7])\n",
      "torch.Size([1, 64, 7, 7])\n",
      "torch.Size([1, 64, 8, 7])\n"
     ]
    }
   ],
   "source": [
    "import torch\n",
    "import torch.nn as nn\n",
    "input = torch.randn(1, 64, 8, 9)\n",
    "\n",
    "m = nn.AdaptiveAvgPool2d((5, 7))\n",
    "output = m(input)\n",
    "print(output.shape)\n",
    "\n",
    "m = nn.AdaptiveAvgPool2d(7)\n",
    "output = m(input)\n",
    "print(output.shape)\n",
    "\n",
    "m = nn.AdaptiveAvgPool2d((None, 7)) # 앞에 것은 신경 안쓰고 뒤의 크기를 7로\n",
    "output = m(input) # 클래스를 __call__ 메소드를 정의하여 함수 처럼 쓴다\n",
    "print(output.shape)"
   ]
  },
  {
   "cell_type": "markdown",
   "metadata": {},
   "source": [
    "#### `torch.flatten(input, start_dim=0, end_dim=-1)`\n",
    "- https://pytorch.org/docs/stable/generated/torch.flatten.html"
   ]
  },
  {
   "cell_type": "markdown",
   "metadata": {},
   "source": []
  }
 ],
 "metadata": {
  "kernelspec": {
   "display_name": "torchWin_rev",
   "language": "python",
   "name": "python3"
  },
  "language_info": {
   "codemirror_mode": {
    "name": "ipython",
    "version": 3
   },
   "file_extension": ".py",
   "mimetype": "text/x-python",
   "name": "python",
   "nbconvert_exporter": "python",
   "pygments_lexer": "ipython3",
   "version": "3.8.17"
  }
 },
 "nbformat": 4,
 "nbformat_minor": 2
}
