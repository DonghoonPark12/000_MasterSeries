{
 "cells": [
  {
   "cell_type": "markdown",
   "metadata": {},
   "source": [
    "#### 1. 텐서 차원 확장, 감소\n",
    "확장 방법\n",
    "- tensor.view(1, -1)\n",
    "- tensor.unsqueeze()\n",
    "- tensor[..., np.new_axis]\n",
    "- tensor[..., 1]\n",
    "\n",
    "축소 방법\n",
    "- tensor.reshape(-1)\n",
    "- tensor.squeeze()\n",
    "  "
   ]
  },
  {
   "cell_type": "code",
   "execution_count": null,
   "metadata": {},
   "outputs": [],
   "source": []
  }
 ],
 "metadata": {
  "language_info": {
   "name": "python"
  }
 },
 "nbformat": 4,
 "nbformat_minor": 2
}
