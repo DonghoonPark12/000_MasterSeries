{
 "cells": [
  {
   "cell_type": "markdown",
   "metadata": {},
   "source": [
    "<목차>\n",
    "- multiprocessing — 프로세스 기반 병렬 처리\n",
    "- Process 클래스\n",
    "- 프로세스를 시작하는 3가지 방법"
   ]
  },
  {
   "cell_type": "markdown",
   "metadata": {},
   "source": [
    "#### multiprocessing — 프로세스 기반 병렬 처리\n",
    "- multiprocessing 은 threading 모듈과 유사한 API를 사용하여 프로세스 스포닝(spawning)을 지원하는 패키지\n",
    "- multiprocessing 패키지는 지역(local)과 원격 동시성(remote concurrency)을 모두 제공하며 스레드 대신 서브 프로세스를 사용하여 전역 인터프리터 록 을 효과적으로 피한다.\n",
    "- 유닉스와 윈도우에서 모두 실행된다.\n",
    "  \n",
    "- multiprocessing 모듈을 threading 모듈에 없는 API도 제공한다. 대표적인 예가 Pool 객체.\n",
    "- Pool 객체는 여러 입력 값에 걸쳐 함수의 실행을 병렬 처리하고, 입력 데이터를 프로세스에 분산시키는 편리한 방법을 제공"
   ]
  },
  {
   "cell_type": "code",
   "execution_count": 1,
   "metadata": {},
   "outputs": [],
   "source": [
    "from multiprocessing import Pool\n",
    "\n",
    "def f(x):\n",
    "    return x ** 2\n",
    "\n",
    "if __name__ == '__main__':\n",
    "    with Pool(5) as p:\n",
    "        print(p.map(f, [1, 2, 3]))"
   ]
  },
  {
   "cell_type": "markdown",
   "metadata": {},
   "source": [
    "#### Process 클래스\n",
    "- multiprocessing에서 프로세스는 Process 객체를 생성한 후 start() 메서드를 호출해서 spawn 한다.\n",
    "- Process는 threading.Thread의 API를 따른다.\n",
    "- 이하 다중 프로세스 프로그램 간단 예"
   ]
  },
  {
   "cell_type": "code",
   "execution_count": 2,
   "metadata": {},
   "outputs": [],
   "source": [
    "from multiprocessing import Process\n",
    "\n",
    "def f(name):\n",
    "    print('hello', name)\n",
    "\n",
    "if __name__ == '__main__':\n",
    "    p = Process(target=f, args=('bob,'))\n",
    "    p.start()\n",
    "    p.join()"
   ]
  },
  {
   "cell_type": "markdown",
   "metadata": {},
   "source": [
    "- 이 과정에 참여하는 개별 프로세스의 ID를 보기 위해, 아래 처럼 예제를 확장한다"
   ]
  },
  {
   "cell_type": "code",
   "execution_count": null,
   "metadata": {},
   "outputs": [],
   "source": [
    "from multiprocessing import Process\n",
    "import os\n",
    "\n",
    "def info(title):\n",
    "    print(title)\n",
    "    print('module name:', __name__)\n",
    "    print('parent process:', os.getpid())\n",
    "    print('process id:', os.getpid())\n",
    "\n",
    "def f(name):\n",
    "    info('funtion f')\n",
    "    print('hello', name)\n",
    "\n",
    "if __name__ == '__main__':\n",
    "    info('main line')\n",
    "    p = Process(target=f, args=('bob',))\n",
    "    p.start()\n",
    "    p.join()"
   ]
  },
  {
   "cell_type": "markdown",
   "metadata": {},
   "source": [
    "#### 프로세스를 시작하는 3가지 방법\n",
    "- Spawn: 상위 프로세스는 새로운 Python 인터프리터 프로세스를 시작한다. 하위 프로세스는 프로세스 객체의 run() 메소드를 실행하는데 필요한 리소스만 상속.\n",
    "  - 특히, 상위 프로세스의 불필요한 파일 디스크립터와 핸들은 상속되지 않는다. 이 방법을 사용하여 프로세스를 시작하는 것은 fork/forkserver를 사용하는 것에 비해 다소 느리다.\n",
    "  - POSIX와 Windows 플랫폼에서 가능하다.\n",
    "- fork: 부모 프로세스는 os.fork() 를 사용하여 파이썬 인터프리터를 포크 합니다. 자식 프로세스는, 시작될 때, 부모 프로세스와 실질적으로 같습니다. \n",
    "  - `부모의 모든 자원이 자식 프로세스에 의해 상속`됩니다. 다중 스레드 프로세스를 안전하게 포크 하기 어렵다는 점에 주의하십시오.\n",
    "  - POSIX 플랫폼에서 가능하다.\n",
    "  - [3.12 버전] 파이썬이 프로세스에 여러 스레드가 있음을 감지할 수 있는 경우 이 시작 메소드가 내부적으로 호출하는 os.fork() 함수는 Deprecation Warning을 발생시킨다.\n",
    "- forkserver: 프로그램이 시작되고, 포크서버 시작 방법을 선택하면, 서버 프로세스가 생성된다(spawned). 그 이후에는 새 프로세스가 필요할 때 마다 상위 프로세스가 서버에 연결하여 새 프로새스를 fork 하도록 요청한다.\n",
    "  - 시스템 라이브러리나 미리 로드된 가져오기가 부작용으로 스레드를 생성하지 않는 한 포크 서버 프로세스는 단일 스레드이므로 일반적으로 os.fork()를 사용하는 것이 안전합니다. 불필요한 리소스는 상속되지 않습니다."
   ]
  },
  {
   "cell_type": "markdown",
   "metadata": {},
   "source": [
    "- POSIX에서 generate 또는 forkserver start() 메소드를 사용하면, 메소드는 자원 추적기(resource tracker) 프로세스도 같이 시작한다. 연결되지 않은 명명된(?) 시스템 자원(e.g. named semaphores or SharedMemory 객체)을 추적한다.\n",
    "- 모든 프로세스가 종료되면, 리소스 추적기는 나머지 추적 객체의 연결을 해제 한다.\n",
    "- 일반적으로 아무 것도 없어야 하지만, 프로세스가 signal에 의해 종료된 경우, 일부 누수(leak) 자원이 있을 수 있다.\n",
    "- `누수된 세마포어나 공유 메모리 segment는 다음 재부팅 시 까지 자동으로 연결 해제되지 않는다.`\n",
    "- 시스템은 제한된 수의 명명된 세마포어(named semaphore)만 허용하고, 공유 메모리 세그먼트가 주 메모리 공간 일부를 차지 하기 때문에 두 객체 모두에 문제가 된다."
   ]
  },
  {
   "cell_type": "markdown",
   "metadata": {},
   "source": [
    "8가지 종류가 있다.\n",
    "- Pool.apply()\n",
    "- Pool.apply_async()\n",
    "- Pool.map()\n",
    "- Pool.map_async()\n",
    "- Pool.imap()\n",
    "- Pool.imap_unordered()\n",
    "- Pool.starmap()\n",
    "- Pool.starmap_async()"
   ]
  },
  {
   "cell_type": "markdown",
   "metadata": {},
   "source": [
    "#### Pool 사용 예시"
   ]
  },
  {
   "cell_type": "code",
   "execution_count": null,
   "metadata": {},
   "outputs": [],
   "source": [
    "import time, os\n",
    "from multiprocessing import Pool\n",
    "\n",
    "def work_func(x):\n",
    "    print(\"work_func:\", x, \"PID\", os.getpid())\n",
    "    time.sleep(1)\n",
    "    return x ** 5\n",
    "\n",
    "if __name__ == \"__main__\":\n",
    "    start = int(time.time())\n",
    "    cpu = 4\n",
    "    pool = Pool(cpu)\n",
    "    print(pool.map(work_func, range(0, 12)))\n",
    "\n",
    "    print(\"***run time(sec) :\", int(time.time()) - start)"
   ]
  },
  {
   "cell_type": "markdown",
   "metadata": {},
   "source": [
    "#### map, async_result, imap 사용 예시\n",
    "- map: "
   ]
  },
  {
   "cell_type": "code",
   "execution_count": null,
   "metadata": {},
   "outputs": [],
   "source": [
    "import multiprocessing as mp\n",
    "import time\n",
    "import random\n",
    "import sys\n",
    "\n",
    "def calculate(func, args):\n",
    "    result = func(*args)\n",
    "    return '%s says that %s%s = %s' % (\n",
    "        mp.current_process().name, func.__name__, args, result\n",
    "        )\n",
    "\n",
    "def calculatestar(args):\n",
    "    '''\n",
    "    args -> (mul, (i, 7))\n",
    "    이렇게 튜플로 받아서 풀어서 전달하거나,\n",
    "    아래처럼 함수 내부에서 풀어서 전달한다.\n",
    "    '''\n",
    "    #print(*args)\n",
    "    return calculate(*args) # *args(arguments) : list of arguments 즉, [mul, (i, 7)]\n",
    "\n",
    "def calculate_rev(args):\n",
    "    func, arg = args[0], args[1]\n",
    "    res = func(*arg) # arg가 (0, 1) 의 튜플이기 때문에 (a, b) 인자를 받는 함수에 전달하려면 풀어서 전달해야 한다.\n",
    "    return '%s says that %s%s = %s' % (mp.current_process().name, func.__name__, args, res)\n",
    "\n",
    "def mul(a, b):\n",
    "    time.sleep(0.5 * random.random())\n",
    "    return a * b\n",
    "\n",
    "def plus(a, b):\n",
    "    time.sleep(0.5 * random.random())\n",
    "    return a + b\n",
    "\n",
    "if __name__ == '__main__':\n",
    "    cpu = 4\n",
    "    num_of_tasks = 10\n",
    "\n",
    "    with mp.Pool(cpu) as pool:\n",
    "        TASKS = [(mul, (i, 7)) for i in range(num_of_tasks)] + [(plus, (i, 8)) for i in range(num_of_tasks)] \n",
    "        '''\n",
    "        [ (mul, (0, 7)), (mul, (1, 7)), ..., (mul, (9, 7)), (plut, (0, 8)), ..., (plus, (9, 8)) ]\n",
    "        '''\n",
    "        #results = pool.map(calculatestar, TASKS)\n",
    "        map_result = pool.map(calculate_rev, TASKS) # TASK에는 일괄 적용할 인자가 들어간다!\n",
    "        async_result = [pool.apply_async(calculate, t) for t in TASKS]\n",
    "        imap_result = pool.imap(calculate_rev, TASKS)\n",
    "        imap_unordered_result = pool.imap_unordered(calculatestar, TASKS)\n",
    "\n",
    "        print('Ordered results - map():')\n",
    "        for r in map_result:\n",
    "            print('\\t', r)\n",
    "        print()\n",
    "\n",
    "        print('Ordered async_results - apply_async():')\n",
    "        for r in async_result:\n",
    "            print('\\t', r.get())\n",
    "        print()\n",
    "\n",
    "        print('Ordered results - imap():')\n",
    "        for x in imap_result:\n",
    "            print('\\t', x)\n",
    "        print()\n",
    "\n",
    "        print('Unordered results - imap_unordered():')\n",
    "        for x in imap_unordered_result:\n",
    "            print('\\t', x)\n",
    "        print()"
   ]
  },
  {
   "cell_type": "markdown",
   "metadata": {},
   "source": [
    "### GIL: global interpreter lock (전역 인터프리터 록) 이란\n",
    "- 한 번에 오직 하나의 스레드가 파이썬 바이트 코드 를 실행하도록 보장하기 위해 CPython 인터프리터가 사용하는 메커니즘\n",
    "- 객체 모델이 묵시적으로 동시 엑세스에 대해 안전하도록 만들어서, CPython 구현을 단순하게 만든다.\n",
    "- 인터프리터 전체를 잠그는 것은 인터프리터를 다중스레드화 하기 쉽게 만드는 대신, 다중 프로세서 기계가 제공하는 병렬성의 많은 부분을 희생한다.\n",
    "\n",
    "\n",
    "- 출처: https://docs.python.org/ko/3/glossary.html#term-global-interpreter-lock"
   ]
  },
  {
   "cell_type": "code",
   "execution_count": null,
   "metadata": {},
   "outputs": [],
   "source": []
  },
  {
   "cell_type": "markdown",
   "metadata": {},
   "source": [
    "### 바이트 코드란?\n",
    "- 파이썬 소스 코드는 바이트 코드로 컴파일되는데, CPython 인터프리터에서 파이썬 프로그램의 내부 표현이다.\n",
    "- 바이트 코드는 .pyc 파일에 캐시되어 같은 파일을 두번째 실행할 때 더 빨라지게 한다.                                              "
   ]
  },
  {
   "cell_type": "code",
   "execution_count": null,
   "metadata": {},
   "outputs": [],
   "source": []
  },
  {
   "cell_type": "markdown",
   "metadata": {},
   "source": [
    "### 예시 코드"
   ]
  },
  {
   "cell_type": "markdown",
   "metadata": {},
   "source": [
    "현재 파이썬 스크립트를 실행하는 프로세스는 '메인 프로세스' 이며 name과 pid를 얻을 수 있다."
   ]
  },
  {
   "cell_type": "code",
   "execution_count": 3,
   "metadata": {},
   "outputs": [
    {
     "name": "stdout",
     "output_type": "stream",
     "text": [
      "MainProcess\n",
      "54972\n"
     ]
    }
   ],
   "source": [
    "import multiprocessing as mp\n",
    "\n",
    "if __name__ == \"__main__\":\n",
    "    proc = mp.current_process()\n",
    "    print(proc.name)\n",
    "    print(proc.pid)\n"
   ]
  },
  {
   "cell_type": "markdown",
   "metadata": {},
   "source": [
    "프로세스 Spawning\n",
    "- Spawning은 부모 프로세스가 OS가 요청하여 자식 프로세스를 만들어 내는 과정입니다."
   ]
  },
  {
   "cell_type": "code",
   "execution_count": 7,
   "metadata": {},
   "outputs": [
    {
     "name": "stdout",
     "output_type": "stream",
     "text": [
      "MainProcess\n",
      "54972\n",
      "MainProcess End\n"
     ]
    }
   ],
   "source": [
    "import multiprocessing as mp\n",
    "import time\n",
    "\n",
    "def worker():\n",
    "    proc = mp.current_process()\n",
    "    print(proc.name)\n",
    "    print(proc.pid)\n",
    "    time.sleep(5)\n",
    "    print(\"SubProcess End\")\n",
    "\n",
    "if __name__ == \"__main__\":\n",
    "    # main process\n",
    "    proc = mp.current_process()\n",
    "    print(proc.name)\n",
    "    print(proc.pid)\n",
    "    \n",
    "    # process spawning\n",
    "    p = mp.Process(name=\"SubProcess\", target=worker)\n",
    "    p.start()\n",
    "\n",
    "    print(\"MainProcess End\")\n",
    "\n",
    "\"\"\"\n",
    "MainProcess\n",
    "59204\n",
    "MainProcess End\n",
    "SubProcess\n",
    "18956\n",
    "SubProcess End\n",
    "\"\"\""
   ]
  },
  {
   "cell_type": "markdown",
   "metadata": {},
   "source": []
  }
 ],
 "metadata": {
  "kernelspec": {
   "display_name": "Python 3.8.17 ('torchWin_rev')",
   "language": "python",
   "name": "python3"
  },
  "language_info": {
   "codemirror_mode": {
    "name": "ipython",
    "version": 3
   },
   "file_extension": ".py",
   "mimetype": "text/x-python",
   "name": "python",
   "nbconvert_exporter": "python",
   "pygments_lexer": "ipython3",
   "version": "3.8.17"
  },
  "orig_nbformat": 4,
  "vscode": {
   "interpreter": {
    "hash": "dcfd0bbc3e25ae79d1f134c08b87e3777d49169aec2e55e1b5fb8249822c085d"
   }
  }
 },
 "nbformat": 4,
 "nbformat_minor": 2
}
