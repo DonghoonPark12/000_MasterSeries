{
 "cells": [
  {
   "cell_type": "markdown",
   "metadata": {},
   "source": [
    "## [함수형 프로그래밍 HOWTO (4)](https://docs.python.org/ko/3/howto/functional.html)"
   ]
  },
  {
   "cell_type": "markdown",
   "metadata": {},
   "source": [
    "<목차>\n",
    "- functools 모듈\n",
    "  - functools.partial()\n",
    "  - functools.reduce(func, iter, [initial_value])\n",
    "- 람다 표현식"
   ]
  },
  {
   "cell_type": "markdown",
   "metadata": {},
   "source": [
    "#### functools 모듈\n",
    "- functools 모듈은 고차원의 기능을 포함하고 있다. \n",
    "- 고차원의 함수는 하나 이상의 입력을 받아 새로운 함수를 리턴한다.\n",
    "- 함수형 방식으로 작성된 프로그램 경우, 일부 매개 변수가 채워진 기존 함수의 변형이 필요한 경우가 있다. 파이썬 함수 f(a, b, c)가 있을 때, 함수 f(1, b, c)에 해당하는 새로운 함수 g(b, c)를 만들 수 있다.\n",
    "- 이를 부분 함수 적용 이라고 한다."
   ]
  },
  {
   "cell_type": "markdown",
   "metadata": {},
   "source": [
    "#####  functools.partial()\n",
    "- partial() 의 생성자는 (function, arg1, arg2, ..., kwarg1=value1, kwarg2=value2) 와 같은 인자를 취합니다. 결과 객체는 콜러블이므로, 채워진 인자로 function 을 실행하기 위해서는 결과 객체를 호출하면 됩니다."
   ]
  },
  {
   "cell_type": "code",
   "execution_count": 1,
   "metadata": {},
   "outputs": [
    {
     "name": "stdout",
     "output_type": "stream",
     "text": [
      "server: Unable to open socket\n"
     ]
    }
   ],
   "source": [
    "import functools\n",
    "\n",
    "def log(message, subsystem):\n",
    "    \"\"\"Write the contents of 'message' to the specified subsystem.\"\"\"\n",
    "    print('%s: %s' % (subsystem, message))\n",
    "\n",
    "# 이름 그대로 부분적으로 subsystem 인자를 채운다??\n",
    "server_log = functools.partial(log, subsystem='server')\n",
    "# 결과 객체인 server_log 는 callable 이다.\n",
    "server_log('Unable to open socket')"
   ]
  },
  {
   "cell_type": "markdown",
   "metadata": {},
   "source": [
    "##### functools.reduce(func, iter, [initial_value])  \n",
    "-  모든 이터러블 요소에 대해 누적 연산을 수행하므로 무한 이터러블에 적용할 수 없습니다. \n",
    "-  func 는 두 요소를 사용하여 하나의 값을 반환하는 함수이어야 합니다."
   ]
  },
  {
   "cell_type": "code",
   "execution_count": 3,
   "metadata": {},
   "outputs": [
    {
     "name": "stdout",
     "output_type": "stream",
     "text": [
      "ABBC\n"
     ]
    },
    {
     "ename": "TypeError",
     "evalue": "reduce() of empty sequence with no initial value",
     "output_type": "error",
     "traceback": [
      "\u001b[1;31m---------------------------------------------------------------------------\u001b[0m",
      "\u001b[1;31mTypeError\u001b[0m                                 Traceback (most recent call last)",
      "Cell \u001b[1;32mIn[3], line 4\u001b[0m\n\u001b[0;32m      2\u001b[0m fr \u001b[39m=\u001b[39m functools\u001b[39m.\u001b[39mreduce(operator\u001b[39m.\u001b[39mconcat, [\u001b[39m'\u001b[39m\u001b[39mA\u001b[39m\u001b[39m'\u001b[39m, \u001b[39m'\u001b[39m\u001b[39mBB\u001b[39m\u001b[39m'\u001b[39m, \u001b[39m'\u001b[39m\u001b[39mC\u001b[39m\u001b[39m'\u001b[39m])\n\u001b[0;32m      3\u001b[0m \u001b[39mprint\u001b[39m(fr)\n\u001b[1;32m----> 4\u001b[0m fr \u001b[39m=\u001b[39m functools\u001b[39m.\u001b[39;49mreduce(operator\u001b[39m.\u001b[39;49mconcat, [])\n\u001b[0;32m      5\u001b[0m \u001b[39mprint\u001b[39m(fr)\n",
      "\u001b[1;31mTypeError\u001b[0m: reduce() of empty sequence with no initial value"
     ]
    }
   ],
   "source": [
    "import operator, functools\n",
    "# fr = operator.concat(operator.concat('A', 'BB'), 'C')\n",
    "fr = functools.reduce(operator.concat, ['A', 'BB', 'C'])\n",
    "print(fr)\n",
    "fr = functools.reduce(operator.concat, [])\n",
    "print(fr)"
   ]
  },
  {
   "cell_type": "code",
   "execution_count": 8,
   "metadata": {},
   "outputs": [
    {
     "name": "stdout",
     "output_type": "stream",
     "text": [
      "6\n",
      "1\n",
      "6\n"
     ]
    }
   ],
   "source": [
    "fr = functools.reduce(operator.mul, [1, 2, 3], 1)\n",
    "print(fr)\n",
    "fr = functools.reduce(operator.mul, [], 1)\n",
    "print(fr)\n",
    "\n",
    "# You can write:\n",
    "product = 1\n",
    "for i in [1, 2, 3]:\n",
    "    product *= i\n",
    "print(product)"
   ]
  },
  {
   "cell_type": "markdown",
   "metadata": {},
   "source": [
    "##### itertools.accumulate(iterable, func=operator.add)\n",
    "- functools.reduce와 차이를 파악하도록 한다. 결과 값을 반환하는 functools.reduce와는 달리 itertools.accumulate는 이터레이터를 반환한다."
   ]
  },
  {
   "cell_type": "code",
   "execution_count": 12,
   "metadata": {},
   "outputs": [
    {
     "name": "stdout",
     "output_type": "stream",
     "text": [
      "1\n",
      "3\n",
      "6\n",
      "10\n",
      "\n",
      "1\n",
      "2\n",
      "6\n",
      "24\n"
     ]
    }
   ],
   "source": [
    "import itertools\n",
    "\n",
    "it = itertools.accumulate([1, 2, 3, 4, 5])\n",
    "print(next(it))\n",
    "print(next(it))\n",
    "print(next(it))\n",
    "print(next(it))\n",
    "\n",
    "print()\n",
    "\n",
    "it = itertools.accumulate([1, 2, 3, 4, 5], func=operator.mul)\n",
    "print(next(it))\n",
    "print(next(it))\n",
    "print(next(it))\n",
    "print(next(it))"
   ]
  },
  {
   "cell_type": "markdown",
   "metadata": {},
   "source": [
    "#### 작은 함수와 람다 표현식\n",
    "- 함수형 방식의 프로그램을 작성할 때, 서술자로 동작하거나 어떤 식으로든 요소를 결합하는 작은 함수가 필요할 것이다\n",
    "- 파이썬 내장 함수나 적당한 모듈 함수가 있다면, 새로운 함수를 정의할 필요가 전혀 없다.\n",
    "- lambda 는 여러 매개 변수와 이들 매개 변수를 결합하는 표현식을 취해 표현식의 값을 반환하는 익명의 함수를 만듭니다\n",
    "  - lambda는 if 문을 가질 수 없고, try 문을 가질 수 없다."
   ]
  },
  {
   "cell_type": "code",
   "execution_count": 13,
   "metadata": {},
   "outputs": [],
   "source": [
    "# 파이썬에서는 함수도 일급 객체이기 때문에 가능한 일\n",
    "# 함수로 리턴이 가능하고, 함수도 인자가 될 수 있다.\n",
    "adder = lambda x, y: x + y\n",
    "print_assign = lambda name, value: name + '=' + str(value)\n",
    "\n",
    "def adder(x, y):\n",
    "    return x + y\n",
    "\n",
    "def print_assign(name, value):\n",
    "    return name + '=' + str(value)"
   ]
  },
  {
   "cell_type": "code",
   "execution_count": 16,
   "metadata": {},
   "outputs": [
    {
     "name": "stdout",
     "output_type": "stream",
     "text": [
      "14\n",
      "14\n",
      "14\n",
      "14\n"
     ]
    }
   ],
   "source": [
    "items = [(1, 2), (4, 5), (6, 7)]\n",
    "total = sum(b for a, b in items)\n",
    "print(total)\n",
    "\n",
    "# 같은 의미 1, 이해하기 어렵다.\n",
    "import functools\n",
    "total = functools.reduce(lambda a, b: (0, a[1] + b[1]), items)[1]\n",
    "print(total)\n",
    "\n",
    "# 같은 의미 2, 이해하기 어렵다.\n",
    "import functools\n",
    "def combine(a, b):\n",
    "    return 0, a[1] + b[1]\n",
    "\n",
    "total = functools.reduce(combine, items)[1]\n",
    "print(total)\n",
    "\n",
    "# 같은 의미 3, 이해하기 어렵다.\n",
    "total = 0\n",
    "for a, b in items:\n",
    "    total += b\n",
    "print(total)\n"
   ]
  },
  {
   "cell_type": "markdown",
   "metadata": {},
   "source": [
    "- 본 글에서는 lambda 표현식을 잘 권하지 않는다.\n",
    "- functools.reduce() 를 사용하는 많은 경우, for 루프로 작성했을 때 더 명확합니다.\n",
    "  \n",
    "- Fredrik Lundh는 한때 lambda 사용법의 리팩토링을 위해 다음과 같은 규칙 집합을 제안했습니다:\n",
    "  - 람다 함수를 작성하세요.\n",
    "  - 람다가 하는 일에 관해 설명하는 글을 쓰세요.\n",
    "  - 잠깐 설명을 검토하고 설명의 본질을 포착하는 이름을 생각해보세요.\n",
    "  - 해당 이름을 사용하여 람다를 def 문으로 변환합니다.\n",
    "  - 설명을 삭제하세요.\n",
    "\n",
    "필자는 이 규칙을 정말 좋아하지만, 여러분은 이렇게 람다가 없는 방식이 더 나은지에 대해 동의하지 않을 수 있습니다."
   ]
  }
 ],
 "metadata": {
  "kernelspec": {
   "display_name": "Python 3.8.17 ('mm3d')",
   "language": "python",
   "name": "python3"
  },
  "language_info": {
   "codemirror_mode": {
    "name": "ipython",
    "version": 3
   },
   "file_extension": ".py",
   "mimetype": "text/x-python",
   "name": "python",
   "nbconvert_exporter": "python",
   "pygments_lexer": "ipython3",
   "version": "3.8.17"
  },
  "orig_nbformat": 4,
  "vscode": {
   "interpreter": {
    "hash": "d69b847d396095f32f676329057412de0235e6809d7fbe768ce2e81f9c069d24"
   }
  }
 },
 "nbformat": 4,
 "nbformat_minor": 2
}
