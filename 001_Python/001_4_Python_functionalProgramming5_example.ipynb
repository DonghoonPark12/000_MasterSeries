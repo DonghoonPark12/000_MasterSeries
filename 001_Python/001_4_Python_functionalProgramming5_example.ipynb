{
 "cells": [
  {
   "cell_type": "markdown",
   "metadata": {},
   "source": [
    "참고: https://wikidocs.net/109315\n"
   ]
  },
  {
   "cell_type": "markdown",
   "metadata": {},
   "source": [
    "data = [\n",
    "    {'name': '이민서', 'blood': 'O'},\n",
    "    {'name': '이영순', 'blood': 'B'},\n",
    "    {'name': '이상호', 'blood': 'AB'},\n",
    "    {'name': '김지민', 'blood': 'B'},\n",
    "    {'name': '최상현', 'blood': 'AB'},\n",
    "    {'name': '김지아', 'blood': 'A'},\n",
    "    {'name': '손우진', 'blood': 'A'},\n",
    "    {'name': '박은주', 'blood': 'A'}\n",
    "]\n",
    "\n",
    "위의 데이터를 아래와 같이 혈액형 별로 분류하고 싶다."
   ]
  },
  {
   "cell_type": "code",
   "execution_count": null,
   "metadata": {},
   "outputs": [],
   "source": []
  }
 ],
 "metadata": {
  "kernelspec": {
   "display_name": "Python 3.8.17 ('mm3d')",
   "language": "python",
   "name": "python3"
  },
  "language_info": {
   "name": "python",
   "version": "3.8.17"
  },
  "orig_nbformat": 4,
  "vscode": {
   "interpreter": {
    "hash": "d69b847d396095f32f676329057412de0235e6809d7fbe768ce2e81f9c069d24"
   }
  }
 },
 "nbformat": 4,
 "nbformat_minor": 2
}
