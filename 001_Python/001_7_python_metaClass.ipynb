{
 "cells": [
  {
   "cell_type": "markdown",
   "metadata": {},
   "source": [
    "<목차>\n",
    "- 메타클래스 정의\n",
    "- 메타클래스 활용\n",
    "- 커스텀 메타클래스 생성"
   ]
  },
  {
   "cell_type": "markdown",
   "metadata": {},
   "source": [
    "##### 메타클래스 정의\n",
    "1. 클래스를 만드는 역할 -> 의도하는 방향으로 클래스 커스텀 생성 가능\n",
    "2. 프레임워크 작성 시 필수\n",
    "3. 동적 생성(type함수), 커스텀 생성(type상속)\n",
    "4. 커스텀 클래스 -> 검증클래스 등\n",
    "5. 엄격한 Class 사용 요구, 메소드 오버라이드 요구\n",
    "   \n",
    "==> `메타클래스(metaclass)는 클래스를 만드는 클래스인데, "
   ]
  },
  {
   "cell_type": "code",
   "execution_count": null,
   "metadata": {},
   "outputs": [],
   "source": [
    "class SampleA(): # Class == Object\n",
    "    pass\n",
    "\n"
   ]
  },
  {
   "cell_type": "markdown",
   "metadata": {},
   "source": [
    "#### 메타클래스 정의\n",
    "1. 메타클래스 동적 생성 방법 중요\n",
    "2. 동적 생성 한 메타클래스 -> 커스텀 메타클래스 생성\n",
    "3. 의도하는 방향으로 직접 클래스 생성에 관여 할 수 있는 큰 장점"
   ]
  },
  {
   "cell_type": "markdown",
   "metadata": {},
   "source": [
    "##### 1. type 동적 클래스 생성 예제\n",
    "- Name(이름), Bases(상속), Dct(속성,메소드)"
   ]
  },
  {
   "cell_type": "code",
   "execution_count": 1,
   "metadata": {},
   "outputs": [
    {
     "name": "stdout",
     "output_type": "stream",
     "text": [
      "Ex1 >  <class '__main__.sample1'>\n",
      "Ex1 >  <class 'type'>\n",
      "Ex1 >  <class 'object'>\n",
      "Ex1 >  {'__module__': '__main__', '__dict__': <attribute '__dict__' of 'sample1' objects>, '__weakref__': <attribute '__weakref__' of 'sample1' objects>, '__doc__': None}\n"
     ]
    }
   ],
   "source": [
    "# Name(이름), Bases(상속), Dct(속성,메소드)\n",
    "s1 = type('sample1', (), {}) # 클래스의 클래스\n",
    "\n",
    "print('Ex1 > ', s1)\n",
    "print('Ex1 > ', type(s1))\n",
    "print('Ex1 > ', s1.__base__) # 모든 클래스는 'object' 클래스를 베이스로 상속 받는다.\n",
    "print('Ex1 > ', s1.__dict__)"
   ]
  },
  {
   "cell_type": "markdown",
   "metadata": {},
   "source": [
    "#### 2. 동적 생성 + 상속"
   ]
  },
  {
   "cell_type": "code",
   "execution_count": 3,
   "metadata": {},
   "outputs": [
    {
     "name": "stdout",
     "output_type": "stream",
     "text": [
      "Ex1 >  <class '__main__.Sample2'>\n",
      "Ex1 >  <class 'type'>\n",
      "Ex1 >  <class '__main__.Parent1'>\n",
      "Ex1 >  {'attr1': 100, 'attr2': 'hi', '__module__': '__main__', '__doc__': None}\n",
      "Ex1 > 100 hi\n"
     ]
    }
   ],
   "source": [
    "class Parent1:\n",
    "    pass\n",
    "\n",
    "s2 = type(\n",
    "    'Sample2',\n",
    "    (Parent1,),\n",
    "    dict(attr1=100, attr2='hi')\n",
    "    )\n",
    "\n",
    "print('Ex1 > ', s2)\n",
    "print('Ex1 > ', type(s2))\n",
    "print('Ex1 > ', s2.__base__)\n",
    "print('Ex1 > ', s2.__dict__)\n",
    "print('Ex1 >', s2.attr1, s2.attr2)"
   ]
  },
  {
   "cell_type": "markdown",
   "metadata": {},
   "source": [
    "#### 3. type 동적 클래스 생성 + 메소드"
   ]
  },
  {
   "cell_type": "code",
   "execution_count": 4,
   "metadata": {},
   "outputs": [
    {
     "name": "stdout",
     "output_type": "stream",
     "text": [
      "Ex2 > 30\n",
      "Ex2 > 100\n",
      "Ex2 > 300\n",
      "Ex2 > 2000\n",
      "\n"
     ]
    }
   ],
   "source": [
    "class SampleEx:\n",
    "    attr1 = 30\n",
    "    attr2 = 100\n",
    "\n",
    "    def add(self, m, n):\n",
    "        return m + n\n",
    "\n",
    "    def mul(self, m, n):\n",
    "        return m * n\n",
    "\n",
    "ex = SampleEx()\n",
    "print('Ex2 >', ex.attr1)\n",
    "print('Ex2 >', ex.attr2)\n",
    "print('Ex2 >', ex.add(100, 200))\n",
    "print('Ex2 >', ex.mul(100, 20))\n",
    "print()"
   ]
  },
  {
   "cell_type": "code",
   "execution_count": 9,
   "metadata": {},
   "outputs": [
    {
     "name": "stdout",
     "output_type": "stream",
     "text": [
      "Ex1 >  <class '__main__.Sample3'>\n",
      "Ex1 >  <class 'type'>\n",
      "Ex1 >  <class 'object'>\n",
      "Ex1 >  {'attr1': 30, 'attr2': 100, 'add': <function <lambda> at 0x000001C06643B1F0>, 'mul': <function <lambda> at 0x000001C0663791F0>, '__module__': '__main__', '__dict__': <attribute '__dict__' of 'Sample3' objects>, '__weakref__': <attribute '__weakref__' of 'Sample3' objects>, '__doc__': None}\n",
      "Ex1 > 30 hi\n",
      "\n",
      "Ex2 > 30\n",
      "Ex2 > 100\n",
      "Ex2 > 300\n",
      "Ex2 > 2000\n",
      "\n"
     ]
    }
   ],
   "source": [
    "s3 = type(\n",
    "    'Sample3',\n",
    "    (object,), # 혹은 (),\n",
    "    dict(attr1=30, attr2=100, add=lambda x, y: x + y, mul=lambda x, y: x * y)\n",
    ")\n",
    "print('Ex1 > ', s3)\n",
    "print('Ex1 > ', type(s3))\n",
    "print('Ex1 > ', s3.__base__)\n",
    "print('Ex1 > ', s3.__dict__)\n",
    "print('Ex1 >', s3.attr1, s2.attr2)\n",
    "\n",
    "print()\n",
    "print('Ex2 >', s3.attr1)\n",
    "print('Ex2 >', s3.attr2)\n",
    "print('Ex2 >', s3.add(100, 200))\n",
    "print('Ex2 >', s3.mul(100, 20))\n",
    "print()"
   ]
  },
  {
   "cell_type": "markdown",
   "metadata": {},
   "source": [
    "##### 커스텀 메타 클래스 생성\n",
    "- 메타 클래스를 상속한다는 것은 type 클래스를 상속 한다는 것 (type 클래스는 메타 클래스)\n",
    "- metaclass 속성 사용\n",
    "- 커스텀 메타 클래스 생성 (Type 상속 X)"
   ]
  },
  {
   "cell_type": "code",
   "execution_count": 17,
   "metadata": {},
   "outputs": [],
   "source": [
    "# type 클래스에 모듈 형식으로 끼워 넣을 수 있는 메소드 (외부에 빼 놓는 방법)\n",
    "def cus_mul(self, d):\n",
    "    for i in range(len(self)):\n",
    "        self[i] = self[i] * d\n",
    "\n",
    "def cus_replace(self, old, new):\n",
    "    while old in self:\n",
    "        self[self.index(old)] = new"
   ]
  },
  {
   "cell_type": "code",
   "execution_count": 14,
   "metadata": {},
   "outputs": [
    {
     "name": "stdout",
     "output_type": "stream",
     "text": [
      "Ex1 >  [7777, 2000, 3000, 4000, 5000, 6000, 7000, 8000, 9000]\n",
      "Ex1 >  커스텀 리스트1\n",
      "\n"
     ]
    }
   ],
   "source": [
    "# list를 상속 받는 메소드 2개 추가\n",
    "CustomList1 = type(\n",
    "    'CustomList1',\n",
    "    (list,), # list 클래스를 동적으로 상속 받음\n",
    "    {\n",
    "        'desc': '커스텀 리스트1',\n",
    "        'cus_mul': cus_mul,\n",
    "        'cus_replace': cus_replace\n",
    "    }\n",
    ")\n",
    "\n",
    "c1 = CustomList1([1, 2, 3, 4, 5, 6, 7, 8, 9]) # self가 리스트가 된다.\n",
    "c1.cus_mul(1000)\n",
    "c1.cus_replace(1000, 7777)\n",
    "\n",
    "print('Ex1 > ', c1)\n",
    "print('Ex1 > ', c1.desc)\n",
    "print()"
   ]
  },
  {
   "cell_type": "markdown",
   "metadata": {},
   "source": [
    "- 커스텀 메타클래스 생성 예제(Type 상속O)\n",
    "  - (아래의 것 들이 가능하다)\n",
    "  - 클래스 생성 가로채기(intercept)\n",
    "  - 클래스 수정하기(modify)\n",
    "  - 클래스 개선(기능추가)\n",
    "  - 수정된 클래스 반환\n",
    "  - (쓸 일이 거의 없다. 위의 까지만 알고 있어도 충분하다)"
   ]
  },
  {
   "cell_type": "code",
   "execution_count": 20,
   "metadata": {},
   "outputs": [
    {
     "name": "stdout",
     "output_type": "stream",
     "text": [
      "__new__ -> <class '__main__.CustomListMeta'> CustomList2 (<class 'list'>,) {}\n",
      "__init__ -> <class '__main__.CustomList2'> CustomList2 (<class 'list'>,) {'desc': '커스텀 리스트2', 'cus_mul': <function cus_mul at 0x000001C06643B280>, 'cus_replace': <function cus_replace at 0x000001C067828700>}\n",
      "__call__ -> <class '__main__.CustomList2'> ([1, 2, 3, 4, 5, 6, 7, 8, 9],) {}\n",
      "Ex2 >  [7777, 2000, 3000, 4000, 5000, 6000, 7000, 8000, 9000]\n",
      "Ex2 >  커스텀 리스트2\n",
      "\n",
      "(<class '__main__.CustomList2'>, <class 'list'>, <class 'object'>)\n"
     ]
    }
   ],
   "source": [
    "class MetaClssName(type):\n",
    "    def __new__(metacls, name, bases, namespace):\n",
    "        pass\n",
    "\n",
    "# new -> init -> call 순서\n",
    "class CustomListMeta(type):\n",
    "    # 생성된 인스턴스 초기화\n",
    "    def __init__(self, object_or_name, bases, dict):\n",
    "        print('__init__ ->', self, object_or_name, bases, dict)\n",
    "        super().__init__(object_or_name, bases, dict)\n",
    "\n",
    "    # 인스턴스 실행\n",
    "    def __call__(self, *args, **kwargs):\n",
    "        print('__call__ ->', self, args, kwargs)\n",
    "\n",
    "        return super().__call__(*args, **kwargs)\n",
    "\n",
    "    # 클래스 인스턴스 생성(메모리 초기화)\n",
    "    def __new__(metacls, name, bases, namespace):\n",
    "        print('__new__ ->', metacls, name, bases, namespace)\n",
    "        namespace['desc'] = '커스텀 리스트2'\n",
    "        namespace['cus_mul'] = cus_mul\n",
    "        namespace['cus_replace'] = cus_replace\n",
    "\n",
    "        return type.__new__(metacls, name, bases, namespace)\n",
    "\n",
    "CustomList2 = CustomListMeta(  # type을 생성 받은 클래스(커스텀 메타 클래스)로 클래스를 생성하였다. \n",
    "                'CustomList2', \n",
    "                (list, ), \n",
    "                {}\n",
    "            )\n",
    "\n",
    "c2 = CustomList2([1, 2, 3, 4, 5, 6, 7, 8, 9]) # self가 리스트가 된다.\n",
    "c2.cus_mul(1000)\n",
    "c2.cus_replace(1000, 7777)\n",
    "\n",
    "print('Ex2 > ', c2)\n",
    "print('Ex2 > ', c2.desc)\n",
    "print()\n",
    "# 상속 확인\n",
    "print(CustomList2.__mro__)"
   ]
  },
  {
   "cell_type": "code",
   "execution_count": null,
   "metadata": {},
   "outputs": [],
   "source": []
  }
 ],
 "metadata": {
  "kernelspec": {
   "display_name": "torchWin_rev",
   "language": "python",
   "name": "python3"
  },
  "language_info": {
   "codemirror_mode": {
    "name": "ipython",
    "version": 3
   },
   "file_extension": ".py",
   "mimetype": "text/x-python",
   "name": "python",
   "nbconvert_exporter": "python",
   "pygments_lexer": "ipython3",
   "version": "3.8.17"
  }
 },
 "nbformat": 4,
 "nbformat_minor": 2
}
