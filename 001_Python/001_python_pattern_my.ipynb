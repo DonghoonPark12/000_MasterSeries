{
 "cells": [
  {
   "cell_type": "markdown",
   "metadata": {},
   "source": [
    "#### 설계 원칙\n",
    "\n"
   ]
  },
  {
   "cell_type": "markdown",
   "metadata": {},
   "source": [
    "#### 객체 지향 설계 원칙\n",
    "- 처음 부터 어떤 항목을 객체로 두어야 하며, 어떤 기능을 포함해야 하는지 충분히 생각한다\n",
    "- 고정 값이 존재하고 (멤버 변수), 고정 값을 활용하는 기능 (멤버 함수)가 있다면 클래스를 생성한다.\n",
    "- 클래스가 다른 클래스와 상호 작용할 것을 염두 한다.\n",
    "  - 다른 클래스의 멤버로 들어갈 것인가\n",
    "  - 다른 클래스를 멤버로 둘 것인가\n",
    "  - 다른 클래스와 상호 정보 교환 할 것인가\n",
    "- "
   ]
  },
  {
   "cell_type": "code",
   "execution_count": null,
   "metadata": {},
   "outputs": [],
   "source": []
  }
 ],
 "metadata": {
  "language_info": {
   "name": "python"
  },
  "orig_nbformat": 4
 },
 "nbformat": 4,
 "nbformat_minor": 2
}
