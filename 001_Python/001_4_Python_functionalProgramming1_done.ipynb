{
 "cells": [
  {
   "cell_type": "markdown",
   "metadata": {},
   "source": [
    "## [함수형 프로그래밍 HOWTO](https://docs.python.org/ko/3/howto/functional.html)"
   ]
  },
  {
   "cell_type": "markdown",
   "metadata": {},
   "source": [
    "<목차>\n",
    "- 프로그래밍 언어 개요\n",
    "- 함수형 프로그래밍 특징\n",
    "- 함수형 프로그래밍 장점\n",
    "- 이터레이터, 이터레이터를 지원하는 데이터 형 + 예시\n",
    "- 이터레이터 -> 데이터형 복구 + 예시\n",
    "- 요약\n",
    "---\n",
    "- "
   ]
  },
  {
   "cell_type": "markdown",
   "metadata": {},
   "source": [
    "#### 프로그래밍 언어 개요\n",
    "- 객체 지향 프로그램에서 **객체는 내부적인 상태**를 갖고 있으며 이 **내부적인 상태를 어떤 방식으로 가져오거나 수정하는 메서드**를 제공합니다.\n",
    "\n",
    "- <span style=\"color:yellowgreen\"> **함수형 프로그래밍**은 함수들의 세트로 문제를 분해한다. 함수들은 입력을 받아서 출력만 만들어 낼 뿐, 주어진 입력에 대해 생성된 **출력에 영향을 끼지는 내부적인 상태를 가지지 않습니다**.</span> \n",
    " \n",
    "- Lisp, C++, 파이썬 등은 다중 패러다임 언어입니다. 이러한 언어에서는 절차적, 객체 지향적 혹은 함수형으로 프로그램이나 라이브러리를 작성할 수 있습니다 (다중 페러다임을 혼용할 수 있다)\n",
    "- 거대한 프로그램에서, 각 구역은 서로 다른 접근 방법을 사용하여 작성될 수 있다. 예를 들어, 처리 로직이 절차적 혹은 함수형으로 작성되었을 때, GUI는 객체 지향적으로 작성될 수 있습니다."
   ]
  },
  {
   "cell_type": "markdown",
   "metadata": {},
   "source": [
    "#### 함수형 프로그래밍 특징\n",
    "- 함수형 프로그램에서, 입력은 여러 함수의 세트를 통해 흘러 다닙니다. 각 함수는 입력으로부터 동작해서 출력을 만들어냅니다.   \n",
    "  \n",
    "- 함수형 방식은 내부 상태를 수정하거나 함수의 반환 값에서 보이지 않는 다른 변경사항들을 만드는 부작용이 있는 함수를 사용하지 않습니다. **부작용이 전혀 없는 함수를 순수 함수** 라고 합니다. \n",
    "\n",
    "- <span style=\"color:yellowgreen\"> 함수형 프로그래밍은 객체 지향 프로그래밍의 반대라고 생각할 수 있습니다. 객체는 내부 상태들을 갖고 있으며 이 상태들을 수정할 수 있는 메서드의 호출 모음이 포함된 작은 캡슐이며, 프로그램은 올바른 상태 변경 집합을 구성합니다.</span>\n",
    "\n",
    "- <span style=\"color:yellowgreen\"> 함수형 프로그래밍은 가능한 한 상태 변경을 피하고자 하며 함수 간의 데이터 흐름을 사용합니다. </span>\n"
   ]
  },
  {
   "cell_type": "markdown",
   "metadata": {},
   "source": [
    "#### 함수형 프로그래밍 장점\n",
    "- 형식적 증명 가능성\n",
    "- 모듈성\n",
    "- 결합성\n",
    "- 디버깅과 테스트 용이성"
   ]
  },
  {
   "cell_type": "markdown",
   "metadata": {},
   "source": [
    "■ 형식적 증명 가능성  \n",
    "프로그램이 올바른지 증명하기 위해 사용하는 기술은 항상 참인 입력 데이터와 프로그램의 변수라는 특성을 지닌 불변자 를 작성하는 것입니다. 각 코드 행에 대해, 그 행이 실행되기 전에 불변자 X와 Y가 참이라면, 그 행이 실행된 후에 약간 다른 불변자 X’ 및 Y’가 참이라는 것을 보여줍니다.  \n",
    "<span style=\"color:orange\"> ==> 요약하면, 입력이 같으면 출력이 같다?? </span>\n",
    "  \n",
    "■ 모듈성  \n",
    "<span style=\"color:yellowgreen\"> 함수형 프로그래밍의 실질적인 이점은 문제를 작은 조각으로 분해하도록 강제한다는 점. 읽기에도 쉽고, 오류를 확인하기도 쉽다.</span>\n",
    "  \n",
    "■ 디버깅과 테스트 용이성  \n",
    "함수가 작고, 분명하게 명시되기 때문에 디버깅이 단순화 된다. 각 함수는 잠재적으로 단위 테스트의 대상이기 때문에 테스트가 쉽다. 함수는 테스트를 실행하기 전에 복제해야 하는 시스템 상태에 의존하지 않는다. \n",
    "\n",
    "■ 결합성  \n",
    "함수 중 일부는 불가피하게 특정 응용 프로그램에 특화될 수 있지만, 대체로 다양한 프로그램에서 유용하게 사용할 수 있습니다.  \n",
    "==> 프로그램화, 재 사용성  "
   ]
  },
  {
   "cell_type": "markdown",
   "metadata": {},
   "source": [
    "#### 이터레이터\n",
    "- <span style=\"color:yellowgreen\"> 이터레이터는 데이터 스트림을 나타내는 객체(데이터 흐름을 나타내는 객체) </span>\n",
    "- 이 객체는 한번에 한 요소씩 반환한다.\n",
    "- <span style=\"color:yellowgreen\">파이썬 이터레이터는 반드시 __next__() 라는 메서드를 지원해야 한다.</ 이 메서드는 인자를 취하지 않고, 다음 스트림 값을 반환한다. 만약 스트림에 더는 요소가 없다면, __next__() 는 StopIteration 예외를 발생시킨다. </span>\n",
    "- 이터레이터는 유한할 필요는 없고, 무한한 데이터 스트림을 생성하는 이터레이터를 작성하는 것도 합리적이다.\n",
    "  \n",
    "- 내장 함수 iter()는 임의의 객체를 취하여 객체의 내용이나 요소를 반환하는 이터레이터를 반환한다. <span style=\"color:yellowgreen\">객체가 이터레이션을 지원하지 않으면 TypeError를 발생시킨다. </span>\n",
    "- 파이썬 내장형 데이터 중 이터레이션을 지원하는 객체는 리스트, 튜플, 딕셔너리, 집합(set), 문자열이 있다.\n",
    "==> <span style=\"color:orange\"> 다르게 표현하면, 리스트, 튜플, 딕셔너리, 집합, 문자열은 이터러블이다. </spane>"
   ]
  },
  {
   "cell_type": "markdown",
   "metadata": {},
   "source": [
    "#### 이터레이터를 지원하는 데이터 형"
   ]
  },
  {
   "cell_type": "code",
   "execution_count": 1,
   "metadata": {},
   "outputs": [
    {
     "name": "stdout",
     "output_type": "stream",
     "text": [
      "True\n",
      "True\n",
      "<list_iterator object at 0x000002155E7F5E50>\n",
      "1\n",
      "2\n",
      "3\n",
      "\n",
      "True\n",
      "True\n",
      "<tuple_iterator object at 0x000002155E7F5D30>\n",
      "1\n",
      "2\n",
      "3\n",
      "\n",
      "True\n",
      "True\n",
      "<dict_keyiterator object at 0x000002155E7ED400>\n",
      "1\n",
      "2\n",
      "3\n",
      "\n",
      "True\n",
      "True\n",
      "<set_iterator object at 0x000002155E447FC0>\n",
      "1\n",
      "2\n",
      "3\n",
      "\n",
      "True\n",
      "True\n",
      "<str_iterator object at 0x000002155E7F5D30>\n",
      "A\n",
      "B\n",
      "C\n"
     ]
    }
   ],
   "source": [
    "# ★★★ 이하 파이썬 강의 자료\n",
    "from collections import abc\n",
    "\n",
    "L = [1, 2, 3]\n",
    "print(hasattr(L, '__iter__'))\n",
    "print(isinstance(L, abc.Iterable))\n",
    "it = iter(L)\n",
    "print(it)\n",
    "print(it.__next__())\n",
    "print(next(it))\n",
    "print(next(it))\n",
    "#print(next(it)) # 스트림에 더는 요소가 없다면 StopIteration 예외를 발생 시킨다.\n",
    "\n",
    "print()\n",
    "\n",
    "T = (1, 2, 3)\n",
    "print(hasattr(T, '__iter__'))\n",
    "print(isinstance(T, abc.Iterable))\n",
    "it = iter(T)\n",
    "print(it)\n",
    "print(it.__next__())\n",
    "print(next(it))\n",
    "print(next(it))\n",
    "#print(next(it)) # 스트림에 더는 요소가 없다면 StopIteration 예외를 발생 시킨다.\n",
    "\n",
    "print()\n",
    "\n",
    "D = {1: 'mom', 2: 'Daddy', 3: 'Sister'}\n",
    "print(hasattr(D, '__iter__'))\n",
    "print(isinstance(D, abc.Iterable))\n",
    "it = iter(D)    # dict_keyiterator\n",
    "print(it)\n",
    "print(it.__next__())\n",
    "print(next(it))\n",
    "print(next(it))\n",
    "\n",
    "print()\n",
    "\n",
    "S = {1, 2, 3}\n",
    "it = iter(S)   # set_iterator\n",
    "print(hasattr(S, '__iter__'))\n",
    "print(isinstance(S, abc.Iterable))\n",
    "print(it)\n",
    "print(it.__next__())\n",
    "print(next(it))\n",
    "print(next(it))\n",
    "\n",
    "print()\n",
    "\n",
    "STR ='ABC123'\n",
    "it = iter(STR)   # set_iterator\n",
    "print(hasattr(STR, '__iter__'))\n",
    "print(isinstance(STR, abc.Iterable))\n",
    "print(it)\n",
    "print(it.__next__())\n",
    "print(next(it))\n",
    "print(next(it))"
   ]
  },
  {
   "cell_type": "markdown",
   "metadata": {},
   "source": [
    "##### 예시1\n",
    "- for X in Y에서 Y는 이터러블이어야 한다.\n",
    "- 아래 두 문장은 같은 의미이다 (왜냐하면 Y자리에 왔다는 의미는 이미 흐름을 발생시킬 수 있기 때문이다)"
   ]
  },
  {
   "cell_type": "code",
   "execution_count": 9,
   "metadata": {},
   "outputs": [
    {
     "name": "stdout",
     "output_type": "stream",
     "text": [
      "Z\n",
      "A\n",
      "E\n",
      "U\n",
      "\n",
      "Z\n",
      "A\n",
      "E\n",
      "U\n",
      "\n",
      "Z\n",
      "A\n",
      "E\n",
      "U\n"
     ]
    }
   ],
   "source": [
    "# 이하 강의 자료 2\n",
    "obj = 'ZAEU'\n",
    "for i in iter(obj):\n",
    "    print(i)\n",
    "\n",
    "print()\n",
    "\n",
    "# 아래 코드는 obj를 iter로 감싸 이터레이터로 바꿔준 후 next 메소드를 호출하여 원소를 가져오는 것이다.\n",
    "for i in obj:\n",
    "    print(i)\n",
    "\n",
    "print()\n",
    "\n",
    "# 즉 코드가 내부적으로는 아래 처럼 동작된다.\n",
    "it = iter(obj)\n",
    "while True:\n",
    "    try:\n",
    "        print(next(it))\n",
    "    except StopIteration:\n",
    "        break"
   ]
  },
  {
   "cell_type": "markdown",
   "metadata": {},
   "source": [
    "##### 예시2\n",
    "- 문자열은 이터러블이며, 내장함수 iter(obj) == obj.__iter__()를 호출하여 이터레이터가 될 수 있다.  \n",
    "==> <span style=\"color:orange\"> ★★★ 객체 자기 자신의 Built-In 함수를 호출하여 스스로가 이터레이터가 될 수 있다. </span> "
   ]
  },
  {
   "cell_type": "code",
   "execution_count": 10,
   "metadata": {},
   "outputs": [
    {
     "name": "stdout",
     "output_type": "stream",
     "text": [
      "['__add__', '__class__', '__contains__', '__delattr__', '__dir__', '__doc__', '__eq__', '__format__', '__ge__', '__getattribute__', '__getitem__', '__getnewargs__', '__gt__', '__hash__', '__init__', '__init_subclass__', '__iter__', '__le__', '__len__', '__lt__', '__mod__', '__mul__', '__ne__', '__new__', '__reduce__', '__reduce_ex__', '__repr__', '__rmod__', '__rmul__', '__setattr__', '__sizeof__', '__str__', '__subclasshook__', 'capitalize', 'casefold', 'center', 'count', 'encode', 'endswith', 'expandtabs', 'find', 'format', 'format_map', 'index', 'isalnum', 'isalpha', 'isascii', 'isdecimal', 'isdigit', 'isidentifier', 'islower', 'isnumeric', 'isprintable', 'isspace', 'istitle', 'isupper', 'join', 'ljust', 'lower', 'lstrip', 'maketrans', 'partition', 'replace', 'rfind', 'rindex', 'rjust', 'rpartition', 'rsplit', 'rstrip', 'split', 'splitlines', 'startswith', 'strip', 'swapcase', 'title', 'translate', 'upper', 'zfill']\n",
      "True\n",
      "True\n"
     ]
    }
   ],
   "source": [
    "# 이하 강의 자료 3\n",
    "from collections import abc\n",
    "\n",
    "obj = 'ZAEU'\n",
    "\n",
    "print(dir(obj))\n",
    "print(hasattr(obj, '__iter__'))\n",
    "print(isinstance(obj, abc.Iterable))"
   ]
  },
  {
   "cell_type": "markdown",
   "metadata": {},
   "source": [
    "#### 이터레이터 -> 데이터형으로 복구\n",
    "- 이터레이터는 생성자 함수를 사용하여 리스트, 튜플, 딕셔너리, 집합, 문자열로 나타낼 수 있다"
   ]
  },
  {
   "cell_type": "code",
   "execution_count": 11,
   "metadata": {},
   "outputs": [
    {
     "name": "stdout",
     "output_type": "stream",
     "text": [
      "(1, 2, 3)\n",
      "[1, 2, 3]\n",
      "<list_iterator object at 0x000001E67292A640>\n",
      "[]\n"
     ]
    }
   ],
   "source": [
    "L = [1, 2, 3]\n",
    "_iterator = iter(L)\n",
    "iterator = iter(L)\n",
    "\n",
    "t = tuple(_iterator)\n",
    "print(t)\n",
    "\n",
    "l = list(iterator)\n",
    "print(l)\n",
    "\n",
    "l = list(iterator) # 한번 리스트로 다시 변환되면 빈 리스트가 된다??\n",
    "print(l)"
   ]
  },
  {
   "cell_type": "markdown",
   "metadata": {},
   "source": [
    "#### 이터레이터 언패킹\n",
    "이터레이터는 언패킹도 지원한다. 이터레이터가 N개 요소를 반환한다는 것을 알고 있다면, 그것을 N 튜플로 언 패킹할 수 있다."
   ]
  },
  {
   "cell_type": "code",
   "execution_count": 7,
   "metadata": {},
   "outputs": [
    {
     "data": {
      "text/plain": [
       "(1, 2, 3)"
      ]
     },
     "execution_count": 7,
     "metadata": {},
     "output_type": "execute_result"
    }
   ],
   "source": [
    "L = [1, 2, 3]\n",
    "iterator = iter(L)\n",
    "a, b, c = iterator\n",
    "a, b, c"
   ]
  },
  {
   "cell_type": "markdown",
   "metadata": {},
   "source": [
    "##### 사용 예시\n",
    "딕셔너리--> iter()를 딕셔너리에 적용하면 딕셔너리 키를 반복하는 이터레이터를 반환한다"
   ]
  },
  {
   "cell_type": "code",
   "execution_count": 12,
   "metadata": {},
   "outputs": [
    {
     "name": "stdout",
     "output_type": "stream",
     "text": [
      "Jan 1 Feb 2 Mar 3 Apr 4 May 5 Jun 6 Jul 7 Aug 8 Sep 9 Oct 10 Nov 11 Dec 12 \n",
      "1 2 3 4 5 6 7 8 9 10 11 12 \n",
      "('Jan', 1) ('Feb', 2) ('Mar', 3) ('Apr', 4) ('May', 5) ('Jun', 6) ('Jul', 7) ('Aug', 8) ('Sep', 9) ('Oct', 10) ('Nov', 11) ('Dec', 12) "
     ]
    }
   ],
   "source": [
    "m = {'Jan': 1, 'Feb': 2, 'Mar': 3, 'Apr': 4, 'May': 5, 'Jun': 6,\n",
    "     'Jul': 7, 'Aug': 8, 'Sep': 9, 'Oct': 10, 'Nov': 11, 'Dec': 12}\n",
    "for key in m:\n",
    "    print(key, m[key], end=' ')\n",
    "print()\n",
    "\n",
    "for value in m.values():\n",
    "    print(value, end=' ')\n",
    "print()\n",
    "\n",
    "for item in m.items():\n",
    "    print(item, end=' ') # (key, value) 튜플로 반환된다!!\n"
   ]
  },
  {
   "cell_type": "markdown",
   "metadata": {},
   "source": [
    "dict() 생성자는 (키, 값) 튜플의 유한한 스트림을 반환하는 이터레이터를 받을 수 있다"
   ]
  },
  {
   "cell_type": "code",
   "execution_count": 16,
   "metadata": {},
   "outputs": [
    {
     "name": "stdout",
     "output_type": "stream",
     "text": [
      "{'Italy': 'Rome', 'France': 'Paris', 'US': 'Washington DC'}\n",
      "{'Italy': 'Rome', 'France': 'Paris', 'US': 'Washington DC'}\n"
     ]
    }
   ],
   "source": [
    "# 반대로 (key, value) 튜플의 스트림을 반환하는 이터레이터로 부터 딕셔러니를 만들 수 있다.\n",
    "L = [('Italy', 'Rome'), ('France', 'Paris'), ('US', 'Washington DC')] # 이게 이터레이터라고?? 왜 이렇게 묻냐면 두번째 에서 '이터레이터->딕셔너리' 예제이기 때문에\n",
    "print(dict(iter(L)))\n",
    "print(dict(L))"
   ]
  },
  {
   "cell_type": "markdown",
   "metadata": {},
   "source": [
    "집합 --> 집합의 원소를 반복할 수 있다."
   ]
  },
  {
   "cell_type": "code",
   "execution_count": 15,
   "metadata": {},
   "outputs": [
    {
     "name": "stdout",
     "output_type": "stream",
     "text": [
      "2 3 5 7 11 13 "
     ]
    }
   ],
   "source": [
    "S = {2, 3, 5, 7, 11, 13}\n",
    "for i in S:\n",
    "    print(i, end=' ')"
   ]
  },
  {
   "cell_type": "markdown",
   "metadata": {},
   "source": [
    "<요약> \n",
    "- 이터레이터는 데이터 스트림을 나타내는 객체. .\\_\\_next\\_\\_() 매서드를 지원해야 한다.\n",
    "- '리스트, 튜플, 딕셔너리, 집합, 문자열'은 이터레이터가 될 수 있다.  \n",
    "   반대로 '리스트, 튜플, 딕셔너리, 집합, 문자열' 생성자 함수로 이터레이터를 '리스트, 튜플, 딕셔너리, 집합, 문자열'으로 만들 수 있다.\n",
    "- 언패킹을 지원한다.\n",
    "- 스트림에 더는 요소가 없다면 StopIteration 예외를 발생 시킨다.\n",
    "- hasattr(L, '\\_\\_iter\\_\\_'), isinstance(L, abc.Iterable) 로 이터레이터 여부를 판단할 수 있다.\n",
    "\n",
    "(★★★ 파이썬 강의 자료)"
   ]
  },
  {
   "cell_type": "markdown",
   "metadata": {},
   "source": [
    "---"
   ]
  },
  {
   "cell_type": "markdown",
   "metadata": {},
   "source": [
    "#### 제너레이터 표현식'()'과 리스트 컴프리헨션\n",
    "- 이터레이터의 출력에 대한 두 가지 일반적인 연산은   \n",
    "1) 모든 요소에 대해 어떤 연산을 수행하고,  \n",
    "2) 어떤 조건을 만족하는 요소의 부분 집합을 선택하는 것\n",
    "  \n",
    "\n",
    "- 제너레이터 표현식은 필요에 따라 값을 계산하는 이터레이터를 반환하며 모든 값을 한 번에 구체화할 필요가 없다.  \n",
    "  즉, 무한 스트림이나 매우 많은 양을 데이터를 반환하는 이터레이터로 작업하는 경우 리스트 컴프리헨션은 유용하지 않다.\n",
    "- 제너레이터 표현식은 괄호(“()”)로 묶여 있으며 리스트 컴프리헨션은 대괄호(“[]”)로 묶여 있습니다. "
   ]
  },
  {
   "cell_type": "code",
   "execution_count": 3,
   "metadata": {},
   "outputs": [
    {
     "name": "stdout",
     "output_type": "stream",
     "text": [
      "<generator object <genexpr> at 0x000001E672633AC0>\n",
      "['line 1', 'line 2', '', '']\n",
      "['line 1', 'line 2', '']\n"
     ]
    }
   ],
   "source": [
    "line_list = ['  line 1\\n', 'line 2   \\n', ' \\n', '']\n",
    "\n",
    "# Generator expression -- returns iterator\n",
    "stripped_iter = (line.strip() for line in line_list) # () 괄호로 감싸면 제너레이터가 된다??\n",
    "print(stripped_iter)\n",
    "\n",
    "# List comprehension -- returns list\n",
    "stripped_list = [line.strip() for line in line_list]\n",
    "print(stripped_list)\n",
    "\n",
    "stripped_list = [line.strip() for line in line_list if line != \"\"]\n",
    "print(stripped_list)"
   ]
  },
  {
   "cell_type": "markdown",
   "metadata": {},
   "source": [
    "- 제너레이터 표현식은 항상 괄호 안에 작성해야 하지만 함수 호출을 알리는 괄호도 포함됩니다. \n",
    "- 함수에 즉시 전달되는 이터레이터를 만들고 싶다면 다음과 같이 작성할 수 있습니다:"
   ]
  },
  {
   "cell_type": "code",
   "execution_count": null,
   "metadata": {},
   "outputs": [],
   "source": [
    "obj_total = sum(obj.count for obj in list_all_objects())"
   ]
  },
  {
   "cell_type": "markdown",
   "metadata": {},
   "source": [
    "- 파이썬 문법의 모호함을 피하고자, expression 이 튜플을 생성하고 있다면, 괄호로 묶어야 합니다. 아래의 첫 번째 리스트 컴프리헨션은 구문 오류이며, 두 번째는 올바릅니다:"
   ]
  },
  {
   "cell_type": "code",
   "execution_count": 4,
   "metadata": {},
   "outputs": [
    {
     "data": {
      "text/plain": [
       "[('a', 1),\n",
       " ('a', 2),\n",
       " ('a', 3),\n",
       " ('b', 1),\n",
       " ('b', 2),\n",
       " ('b', 3),\n",
       " ('c', 1),\n",
       " ('c', 2),\n",
       " ('c', 3)]"
      ]
     },
     "execution_count": 4,
     "metadata": {},
     "output_type": "execute_result"
    }
   ],
   "source": [
    "seq1 = 'abc'\n",
    "seq2 = (1, 2, 3)\n",
    "# [x, y for x in seq1 for y in seq2] # Syntax error\n",
    "[(x, y) for x in seq1 for y in seq2] # Correct"
   ]
  },
  {
   "cell_type": "markdown",
   "metadata": {},
   "source": [
    "### 제너레이터\n",
    "- 제너레이터는 이터레이터를 작성하는 작업을 단순화 하는 특별한 클래스 함수\n",
    "- 일반 함수는 값을 계산하여 반환하지만, 제너레이터는 값의 스트림을 반환하는 '이터레이터를 반환'\n",
    "- 제너레이터는 함수가 종료되어도, 이름 공간과 지역변수 집합을 새로 생성하지 않고(!) 중단했던 곳에서 함수를 다시 시작한다. \n",
    "- yield 키워드를 포함하는 함수는 제너레이터 함수 이것은 파이썬 바이트 코드 컴파일러에 의해 감지된다. 결과적으로 컴파일러는 특별하게 함수를 컴파일 한다."
   ]
  },
  {
   "cell_type": "code",
   "execution_count": 19,
   "metadata": {},
   "outputs": [],
   "source": [
    "def generate_ints(N):\n",
    "   for i in range(N):\n",
    "       yield i"
   ]
  },
  {
   "cell_type": "markdown",
   "metadata": {},
   "source": [
    "- 제너레이터 함수를 호출하면 단일값을 반환하지 않고, 대신 이터레이터 프로토콜을 지원하는 제너레이터 객체를 반환한다.\n",
    "- yield 와 return 의 큰 차이점은 yield 에 도달하면 제너레이터의 실행 상태가 일시 중단되고 지역 변수가 보존된다는 것\n",
    "- 제너레이터의 __next__() 메서드가 다음에 실행될 때, 함수가 다시 실행된다."
   ]
  },
  {
   "cell_type": "code",
   "execution_count": 20,
   "metadata": {},
   "outputs": [
    {
     "name": "stdout",
     "output_type": "stream",
     "text": [
      "<generator object generate_ints at 0x000001F576D76120>\n",
      "0\n",
      "1\n",
      "2\n"
     ]
    },
    {
     "ename": "StopIteration",
     "evalue": "",
     "output_type": "error",
     "traceback": [
      "\u001b[1;31m---------------------------------------------------------------------------\u001b[0m",
      "\u001b[1;31mStopIteration\u001b[0m                             Traceback (most recent call last)",
      "Cell \u001b[1;32mIn[20], line 7\u001b[0m\n\u001b[0;32m      5\u001b[0m \u001b[39mprint\u001b[39m(\u001b[39mnext\u001b[39m(gen))\n\u001b[0;32m      6\u001b[0m \u001b[39mprint\u001b[39m(\u001b[39mnext\u001b[39m(gen))\n\u001b[1;32m----> 7\u001b[0m \u001b[39mprint\u001b[39m(\u001b[39mnext\u001b[39;49m(gen))\n\u001b[0;32m      8\u001b[0m \u001b[39m# Traceback (most recent call last):\u001b[39;00m\n\u001b[0;32m      9\u001b[0m \u001b[39m#   File \"stdin\", line 1, in <module>\u001b[39;00m\n\u001b[0;32m     10\u001b[0m \u001b[39m#   File \"stdin\", line 2, in generate_ints\u001b[39;00m\n\u001b[0;32m     11\u001b[0m \u001b[39m# StopIteration\u001b[39;00m\n",
      "\u001b[1;31mStopIteration\u001b[0m: "
     ]
    }
   ],
   "source": [
    "gen = generate_ints(3) # 이터레이터와 비슷하다\n",
    "print(gen)\n",
    "# <generator object generate_ints at ...>\n",
    "print(next(gen))\n",
    "print(next(gen))\n",
    "print(next(gen))\n",
    "print(next(gen))\n",
    "# Traceback (most recent call last):\n",
    "#   File \"stdin\", line 1, in <module>\n",
    "#   File \"stdin\", line 2, in generate_ints\n",
    "# StopIteration"
   ]
  },
  {
   "cell_type": "code",
   "execution_count": 23,
   "metadata": {},
   "outputs": [
    {
     "name": "stdout",
     "output_type": "stream",
     "text": [
      "0 1 2\n"
     ]
    }
   ],
   "source": [
    "# 아래와 같이 사용가능하다.\n",
    "for i in generate_ints(5):\n",
    "    pass\n",
    "\n",
    "a, b, c = generate_ints(3) \n",
    "print(a, b, c)"
   ]
  },
  {
   "cell_type": "code",
   "execution_count": null,
   "metadata": {},
   "outputs": [],
   "source": [
    "def inorder(t):\n",
    "    if t:\n",
    "        for x in inorder(t.left):\n",
    "            yield x\n",
    "\n",
    "        yield t.label\n",
    "\n",
    "        for x in inorder(t.right):\n",
    "            yield x"
   ]
  },
  {
   "cell_type": "markdown",
   "metadata": {},
   "source": [
    "- 제너레이터를 이용한 N_Queen 문제\n",
    "- 제너레이터를 이용한 NxN 기사의 여행 문제"
   ]
  },
  {
   "cell_type": "markdown",
   "metadata": {},
   "source": [
    "### 제너레이터에 값 전달하기\n",
    "- 파이썬 2.4 버전 이하에서는 제너레이터는 출력만 생성했다. 제너레이터 코드가 이터레이터를 만들기 위해 호출된 후에는 그 실행이 다시 시작될 때, 함수에 새로운 정보를 전달할 방법이 없었다.\n",
    "- 파이썬 2.5 부터 제너레이터에 값을 전달하는 간단한 방법이 있다. yield 는 표현식이 되어 변수에 대입하거나 다른 식으로 조작할 수 있는 값을 반환한다.\n",
    "- 아래 예제 처럼 반환 값으로 무엇인가 할때, yield 표현식 주위에 항상 괄호를 넣는 것이 좋다. \n",
    "- val = (yield i) + 12 처럼 연산이 있을 때는 괄호를 써야한다."
   ]
  },
  {
   "cell_type": "code",
   "execution_count": null,
   "metadata": {},
   "outputs": [],
   "source": [
    "val = (yield i)"
   ]
  },
  {
   "cell_type": "markdown",
   "metadata": {},
   "source": [
    "값은 send(value) 메서드를 호출하여 제너레이터롤 보내진다. 이 메서드는 제너레이터 코드를 다시 시작하고, yield 표현식은 지정된 값을 반환한다."
   ]
  },
  {
   "cell_type": "code",
   "execution_count": 1,
   "metadata": {},
   "outputs": [],
   "source": [
    "def counter(maximum):\n",
    "    i = 0\n",
    "    while i < maximum:\n",
    "        val = (yield i)\n",
    "        # If value provided, change counter\n",
    "        if val is not None:\n",
    "            i = val\n",
    "        else:\n",
    "            i += 1"
   ]
  },
  {
   "cell_type": "code",
   "execution_count": 7,
   "metadata": {},
   "outputs": [
    {
     "name": "stdout",
     "output_type": "stream",
     "text": [
      "0\n",
      "1\n",
      "2\n",
      "8\n",
      "9\n"
     ]
    },
    {
     "ename": "StopIteration",
     "evalue": "",
     "output_type": "error",
     "traceback": [
      "\u001b[1;31m---------------------------------------------------------------------------\u001b[0m",
      "\u001b[1;31mStopIteration\u001b[0m                             Traceback (most recent call last)",
      "Cell \u001b[1;32mIn[7], line 8\u001b[0m\n\u001b[0;32m      6\u001b[0m \u001b[39mprint\u001b[39m(\u001b[39mnext\u001b[39m(it))\n\u001b[0;32m      7\u001b[0m \u001b[39mprint\u001b[39m(\u001b[39mnext\u001b[39m(it))\n\u001b[1;32m----> 8\u001b[0m \u001b[39mprint\u001b[39m(\u001b[39mnext\u001b[39;49m(it))\n",
      "\u001b[1;31mStopIteration\u001b[0m: "
     ]
    }
   ],
   "source": [
    "it = counter(10)\n",
    "print(next(it))\n",
    "print(next(it))\n",
    "print(next(it))\n",
    "it.send(7)\n",
    "print(next(it))\n",
    "print(next(it))\n",
    "print(next(it))"
   ]
  },
  {
   "cell_type": "markdown",
   "metadata": {},
   "source": [
    "제너레이터는 코루틴이 되어 더 일반적인 형태의 서브루틴이 된다. 서브루틴은 한 지점에서 시작되고 다른 한 지점(함수의 맨 위와 return문)에서 빠져 나온다. 그러나, 여러 다른 지점에서 코루틴을 시작하고 빠져나오고 다시 시작할 수 있다(yield문)"
   ]
  },
  {
   "cell_type": "markdown",
   "metadata": {},
   "source": [
    "### 내장 함수\n",
    "- 파이썬의 두 가지 내장 함수인 map() 와 filter() 는 제너레이터 표현식의 기능을 복제한다."
   ]
  },
  {
   "cell_type": "markdown",
   "metadata": {},
   "source": [
    "#### map(function, iterA, iterB, ...) 은 다음과 같은 시퀀스에 대한 이터레이터를 반환한다.\n",
    "function(iterA[0], iterB[0]), function(iterA[1], iterB[1]), function(iterA[2], iterB[2]), ...."
   ]
  },
  {
   "cell_type": "code",
   "execution_count": 9,
   "metadata": {},
   "outputs": [
    {
     "name": "stdout",
     "output_type": "stream",
     "text": [
      "['SENTENCE', 'FRAGMENT']\n"
     ]
    },
    {
     "data": {
      "text/plain": [
       "['SENTENCE', 'FRAGMENT']"
      ]
     },
     "execution_count": 9,
     "metadata": {},
     "output_type": "execute_result"
    }
   ],
   "source": [
    "def upper(s):\n",
    "    return s.upper()\n",
    "\n",
    "print(list(map(upper, ['sentence', 'fragment'])))\n",
    "[upper(s) for s in ['sentence', 'fragment']]"
   ]
  },
  {
   "cell_type": "markdown",
   "metadata": {},
   "source": [
    "#### filter(predicate, iter) 는 특정 조건을 만족하는 모든 시퀀스 요소에 대한 이터레이터를 반환한다."
   ]
  },
  {
   "cell_type": "code",
   "execution_count": 11,
   "metadata": {},
   "outputs": [
    {
     "name": "stdout",
     "output_type": "stream",
     "text": [
      "[0, 2, 4, 6, 8]\n"
     ]
    },
    {
     "data": {
      "text/plain": [
       "[0, 2, 4, 6, 8]"
      ]
     },
     "execution_count": 11,
     "metadata": {},
     "output_type": "execute_result"
    }
   ],
   "source": [
    "def is_even(x):\n",
    "    return (x % 2) == 0\n",
    "\n",
    "print(list(filter(is_even, range(10))))\n",
    "[x for x in range(10) if is_even(x)]"
   ]
  },
  {
   "cell_type": "code",
   "execution_count": 14,
   "metadata": {},
   "outputs": [
    {
     "name": "stdout",
     "output_type": "stream",
     "text": [
      "True\n",
      "False\n",
      "True\n",
      "\n",
      "False\n",
      "False\n",
      "True\n"
     ]
    }
   ],
   "source": [
    "print(any([0, 1, 0]))\n",
    "print(any([0, 0, 0]))\n",
    "print(any([0, 1, 1]))\n",
    "\n",
    "print()\n",
    "\n",
    "print(all([0, 1, 0]))\n",
    "print(all([0, 0, 0]))\n",
    "print(all([1, 1, 1]))\n",
    "\n"
   ]
  },
  {
   "cell_type": "markdown",
   "metadata": {},
   "source": [
    "#### itertools 모듈\n",
    "모듈의 기능은 몇가지 광범위한 클래스로 분류 됩니다  \n",
    "- 기존 이터레이터를 기반으로 새로운 이터레이터를 만드는 함수\n",
    "- 이터레이터의 요소를 함수의 인자로 처리하는 함수\n",
    "- 이터레이터의 출력 부분을 선택하는 함수\n",
    "- 이터레이터의 출력을 분류하는 함수"
   ]
  },
  {
   "cell_type": "code",
   "execution_count": 2,
   "metadata": {},
   "outputs": [
    {
     "name": "stdout",
     "output_type": "stream",
     "text": [
      "0\n",
      "1\n",
      "\n",
      "10\n",
      "11\n",
      "\n",
      "10\n",
      "15\n"
     ]
    }
   ],
   "source": [
    "import itertools\n",
    "it1 = itertools.count()\n",
    "it2 = itertools.count(10)\n",
    "it3 = itertools.count(10, 5)\n",
    "print(next(it1))\n",
    "print(next(it1))\n",
    "\n",
    "print()\n",
    "\n",
    "print(next(it2))\n",
    "print(next(it2))\n",
    "\n",
    "print()\n",
    "\n",
    "print(next(it3))\n",
    "print(next(it3))"
   ]
  },
  {
   "cell_type": "code",
   "execution_count": 26,
   "metadata": {},
   "outputs": [
    {
     "name": "stdout",
     "output_type": "stream",
     "text": [
      "1\n",
      "2\n",
      "3\n",
      "1\n",
      "2\n"
     ]
    }
   ],
   "source": [
    "it = itertools.cycle([1, 2, 3])\n",
    "print(next(it))\n",
    "print(next(it))\n",
    "print(next(it))\n",
    "print(next(it))\n",
    "print(next(it))"
   ]
  },
  {
   "cell_type": "code",
   "execution_count": 29,
   "metadata": {},
   "outputs": [
    {
     "name": "stdout",
     "output_type": "stream",
     "text": [
      "abc\n",
      "abc\n",
      "abc\n"
     ]
    },
    {
     "ename": "StopIteration",
     "evalue": "",
     "output_type": "error",
     "traceback": [
      "\u001b[1;31m---------------------------------------------------------------------------\u001b[0m",
      "\u001b[1;31mStopIteration\u001b[0m                             Traceback (most recent call last)",
      "Cell \u001b[1;32mIn[29], line 5\u001b[0m\n\u001b[0;32m      3\u001b[0m \u001b[39mprint\u001b[39m(\u001b[39mnext\u001b[39m(it))\n\u001b[0;32m      4\u001b[0m \u001b[39mprint\u001b[39m(\u001b[39mnext\u001b[39m(it))\n\u001b[1;32m----> 5\u001b[0m \u001b[39mprint\u001b[39m(\u001b[39mnext\u001b[39;49m(it))\n",
      "\u001b[1;31mStopIteration\u001b[0m: "
     ]
    }
   ],
   "source": [
    "it = itertools.repeat('abc', 3)\n",
    "print(next(it))\n",
    "print(next(it))\n",
    "print(next(it))\n",
    "print(next(it))\n"
   ]
  },
  {
   "cell_type": "markdown",
   "metadata": {},
   "source": [
    "itertools.tee(iter, [n]) 는 이터레이터를 복제. 원본 이터레이터의 내용을 모두 반환하는 n개의 독립적인 이터레이터를 반환\n",
    "n에 대해 값을 제공하지 않으면 디폴트 '2'  "
   ]
  },
  {
   "cell_type": "code",
   "execution_count": 31,
   "metadata": {},
   "outputs": [
    {
     "name": "stdout",
     "output_type": "stream",
     "text": [
      "/bin\\python\n",
      "/usr\\bin\\java\n",
      "/usr\\bin\\perl\n",
      "/usr\\bin\\ruby\n"
     ]
    },
    {
     "ename": "StopIteration",
     "evalue": "",
     "output_type": "error",
     "traceback": [
      "\u001b[1;31m---------------------------------------------------------------------------\u001b[0m",
      "\u001b[1;31mStopIteration\u001b[0m                             Traceback (most recent call last)",
      "Cell \u001b[1;32mIn[31], line 9\u001b[0m\n\u001b[0;32m      7\u001b[0m \u001b[39mprint\u001b[39m(\u001b[39mnext\u001b[39m(it))\n\u001b[0;32m      8\u001b[0m \u001b[39mprint\u001b[39m(\u001b[39mnext\u001b[39m(it))\n\u001b[1;32m----> 9\u001b[0m \u001b[39mprint\u001b[39m(\u001b[39mnext\u001b[39;49m(it))\n",
      "\u001b[1;31mStopIteration\u001b[0m: "
     ]
    }
   ],
   "source": [
    "it = itertools.starmap(os.path.join,\n",
    "                  [('/bin', 'python'), ('/usr', 'bin', 'java'),\n",
    "                   ('/usr', 'bin', 'perl'), ('/usr', 'bin', 'ruby')])\n",
    "\n",
    "print(next(it))\n",
    "print(next(it))\n",
    "print(next(it))\n",
    "print(next(it))\n",
    "print(next(it))"
   ]
  },
  {
   "cell_type": "markdown",
   "metadata": {},
   "source": [
    "### 조합함수\n",
    "- itertools.combinations(iterable, r) 는 iterable 에 포함된 모든 요소의 가능한 r-튜플 조합을 제공하는 이터레이터를 반환\n",
    "- itertools.combinations_with_replacement(iterable, r) 함수는 다른 제약을 완화. 단일 튜플 내에서 반복될 수 있다"
   ]
  },
  {
   "cell_type": "code",
   "execution_count": 4,
   "metadata": {},
   "outputs": [
    {
     "name": "stdout",
     "output_type": "stream",
     "text": [
      "(1, 2, 3)\n",
      "(1, 2, 4)\n",
      "(1, 2, 5)\n",
      "(1, 3, 4)\n",
      "(1, 3, 5)\n",
      "\n",
      "(1, 1, 1)\n",
      "(1, 1, 2)\n",
      "(1, 1, 3)\n",
      "(1, 1, 4)\n",
      "(1, 1, 5)\n"
     ]
    }
   ],
   "source": [
    "it = itertools.combinations([1, 2, 3, 4, 5], 3)\n",
    "print(next(it))\n",
    "print(next(it))\n",
    "print(next(it))\n",
    "print(next(it))\n",
    "print(next(it))\n",
    "\n",
    "print()\n",
    "\n",
    "it2 = itertools.combinations_with_replacement([1, 2, 3, 4, 5], 3) \n",
    "print(next(it2))\n",
    "print(next(it2))\n",
    "print(next(it2))\n",
    "print(next(it2))\n",
    "print(next(it2))"
   ]
  },
  {
   "cell_type": "markdown",
   "metadata": {},
   "source": [
    "### 순열 함수\n",
    "- itertools.permutatons(iterable, r=None)은 순열 반환한다"
   ]
  },
  {
   "cell_type": "code",
   "execution_count": 37,
   "metadata": {},
   "outputs": [
    {
     "name": "stdout",
     "output_type": "stream",
     "text": [
      "(1, 2, 3)\n",
      "(1, 2, 4)\n",
      "(1, 2, 5)\n",
      "(1, 3, 2)\n",
      "(1, 3, 4)\n",
      "(1, 3, 5)\n",
      "(1, 4, 2)\n"
     ]
    }
   ],
   "source": [
    "it = itertools.permutations([1, 2, 3, 4, 5], 3)\n",
    "print(next(it))\n",
    "print(next(it))\n",
    "print(next(it))\n",
    "print(next(it))\n",
    "print(next(it))\n",
    "print(next(it))\n",
    "print(next(it))"
   ]
  },
  {
   "cell_type": "markdown",
   "metadata": {},
   "source": [
    "### 요소 분류\n",
    "- key_func(elem)는 이터러블에 의해 반환된 각 요소에 대한 키 값을 계산할 수 있는 함수\n",
    "- 키 함수를 제공하지 않으면 키는 단순히 각 요소 자체\n",
    "- groupby() 는 이터러블 내부에서 키값이 같은 연속된 모든 요소를 수집하여 키값과 해당 키를 가진 요소의 이터러블을 포함하는 2-튜플의 스트림을 반환"
   ]
  },
  {
   "cell_type": "code",
   "execution_count": 7,
   "metadata": {},
   "outputs": [
    {
     "name": "stdout",
     "output_type": "stream",
     "text": [
      "<itertools.groupby object at 0x000001AC3CCBC270>\n",
      "('AL', <itertools._grouper object at 0x000001AC3CB919D0>)\n",
      "('AK', <itertools._grouper object at 0x000001AC3CB91190>)\n"
     ]
    }
   ],
   "source": [
    "city_list = [('Decatur', 'AL'), ('Huntsville', 'AL'), ('Selma', 'AL'),\n",
    "             ('Anchorage', 'AK'), ('Nome', 'AK'),\n",
    "             ('Flagstaff', 'AZ'), ('Phoenix', 'AZ'), ('Tucson', 'AZ'),\n",
    "             ...\n",
    "            ]\n",
    "\n",
    "def get_state(city_state):\n",
    "    return city_state[1]\n",
    "\n",
    "print(itertools.groupby(city_list, get_state))\n",
    "it = itertools.groupby(city_list, get_state)\n",
    "\n",
    "print(next(it))\n",
    "print(next(it))"
   ]
  },
  {
   "cell_type": "code",
   "execution_count": null,
   "metadata": {},
   "outputs": [],
   "source": []
  }
 ],
 "metadata": {
  "kernelspec": {
   "display_name": "Python 3.8.17 ('torchWin_rev')",
   "language": "python",
   "name": "python3"
  },
  "language_info": {
   "codemirror_mode": {
    "name": "ipython",
    "version": 3
   },
   "file_extension": ".py",
   "mimetype": "text/x-python",
   "name": "python",
   "nbconvert_exporter": "python",
   "pygments_lexer": "ipython3",
   "version": "3.8.17"
  },
  "orig_nbformat": 4,
  "vscode": {
   "interpreter": {
    "hash": "dcfd0bbc3e25ae79d1f134c08b87e3777d49169aec2e55e1b5fb8249822c085d"
   }
  }
 },
 "nbformat": 4,
 "nbformat_minor": 2
}
