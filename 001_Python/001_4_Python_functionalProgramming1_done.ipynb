{
 "cells": [
  {
   "cell_type": "markdown",
   "metadata": {},
   "source": [
    "## [함수형 프로그래밍 HOWTO (1)](https://docs.python.org/ko/3/howto/functional.html)"
   ]
  },
  {
   "cell_type": "markdown",
   "metadata": {},
   "source": [
    "<목차>\n",
    "- 프로그래밍 언어 개요\n",
    "- 함수형 프로그래밍 특징\n",
    "- 함수형 프로그래밍 장점\n",
    "- 이터레이터, 이터레이터를 지원하는 데이터 형 + 예시\n",
    "- 이터레이터 -> 데이터형 복구 + 예시\n",
    "- 요약"
   ]
  },
  {
   "cell_type": "markdown",
   "metadata": {},
   "source": [
    "<요약> \n",
    "- 이터레이터는 데이터 스트림을 나타내는 객체. .\\_\\_next\\_\\_() 매서드를 지원해야 한다.\n",
    "- '리스트, 튜플, 딕셔너리, 집합, 문자열'은 이터레이터가 될 수 있다.  \n",
    "   반대로 '리스트, 튜플, 딕셔너리, 집합, 문자열' 생성자 함수로 이터레이터를 '리스트, 튜플, 딕셔너리, 집합, 문자열'으로 만들 수 있다.\n",
    "- 언패킹을 지원한다.\n",
    "- 스트림에 더는 요소가 없다면 StopIteration 예외를 발생 시킨다.\n",
    "- hasattr(L, '\\_\\_iter\\_\\_'), isinstance(L, abc.Iterable) 로 이터레이터 여부를 판단할 수 있다."
   ]
  },
  {
   "cell_type": "markdown",
   "metadata": {},
   "source": [
    "#### 프로그래밍 언어 개요\n",
    "- 객체 지향 프로그램에서 **객체는 내부적인 상태**를 갖고 있으며 이 **내부적인 상태를 어떤 방식으로 가져오거나 수정하는 메서드**를 제공합니다.\n",
    "\n",
    "- <span style=\"color:yellowgreen\"> **함수형 프로그래밍**은 함수들의 세트로 문제를 분해한다. 함수들은 입력을 받아서 출력만 만들어 낼 뿐, 주어진 입력에 대해 생성된 **출력에 영향을 끼지는 내부적인 상태를 가지지 않습니다**.</span> \n",
    " \n",
    "- Lisp, C++, 파이썬 등은 다중 패러다임 언어입니다. 이러한 언어에서는 절차적, 객체 지향적 혹은 함수형으로 프로그램이나 라이브러리를 작성할 수 있습니다 (다중 페러다임을 혼용할 수 있다)\n",
    "- 거대한 프로그램에서, 각 구역은 서로 다른 접근 방법을 사용하여 작성될 수 있다. 예를 들어, 처리 로직이 절차적 혹은 함수형으로 작성되었을 때, GUI는 객체 지향적으로 작성될 수 있습니다."
   ]
  },
  {
   "cell_type": "markdown",
   "metadata": {},
   "source": [
    "#### 함수형 프로그래밍 특징\n",
    "- 함수형 프로그램에서, 입력은 여러 함수의 세트를 통해 흘러 다닙니다. 각 함수는 입력으로부터 동작해서 출력을 만들어냅니다.   \n",
    "  \n",
    "- 함수형 방식은 내부 상태를 수정하거나 함수의 반환 값에서 보이지 않는 다른 변경사항들을 만드는 부작용이 있는 함수를 사용하지 않습니다. **부작용이 전혀 없는 함수를 순수 함수** 라고 합니다. \n",
    "\n",
    "- <span style=\"color:yellowgreen\"> 함수형 프로그래밍은 객체 지향 프로그래밍의 반대라고 생각할 수 있습니다. 객체는 내부 상태들을 갖고 있으며 이 상태들을 수정할 수 있는 메서드의 호출 모음이 포함된 작은 캡슐이며, 프로그램은 올바른 상태 변경 집합을 구성합니다.</span>\n",
    "\n",
    "- <span style=\"color:yellowgreen\"> 함수형 프로그래밍은 가능한 한 상태 변경을 피하고자 하며 함수 간의 데이터 흐름을 사용합니다. </span>\n"
   ]
  },
  {
   "cell_type": "markdown",
   "metadata": {},
   "source": [
    "#### 함수형 프로그래밍 장점\n",
    "- 형식적 증명 가능성\n",
    "- 모듈성\n",
    "- 결합성\n",
    "- 디버깅과 테스트 용이성"
   ]
  },
  {
   "cell_type": "markdown",
   "metadata": {},
   "source": [
    "■ 형식적 증명 가능성  \n",
    "프로그램이 올바른지 증명하기 위해 사용하는 기술은 항상 참인 입력 데이터와 프로그램의 변수라는 특성을 지닌 불변자 를 작성하는 것입니다. 각 코드 행에 대해, 그 행이 실행되기 전에 불변자 X와 Y가 참이라면, 그 행이 실행된 후에 약간 다른 불변자 X’ 및 Y’가 참이라는 것을 보여줍니다.  \n",
    "<span style=\"color:orange\"> ==> 요약하면, 입력이 같으면 출력이 같다?? </span>\n",
    "  \n",
    "■ 모듈성  \n",
    "<span style=\"color:yellowgreen\"> 함수형 프로그래밍의 실질적인 이점은 문제를 작은 조각으로 분해하도록 강제한다는 점. 읽기에도 쉽고, 오류를 확인하기도 쉽다.</span>\n",
    "  \n",
    "■ 디버깅과 테스트 용이성  \n",
    "함수가 작고, 분명하게 명시되기 때문에 디버깅이 단순화 된다. 각 함수는 잠재적으로 단위 테스트의 대상이기 때문에 테스트가 쉽다. 함수는 테스트를 실행하기 전에 복제해야 하는 시스템 상태에 의존하지 않는다. \n",
    "\n",
    "■ 결합성  \n",
    "함수 중 일부는 불가피하게 특정 응용 프로그램에 특화될 수 있지만, 대체로 다양한 프로그램에서 유용하게 사용할 수 있습니다.  \n",
    "==> 프로그램화, 재 사용성  "
   ]
  },
  {
   "cell_type": "markdown",
   "metadata": {},
   "source": [
    "#### 이터레이터\n",
    "- <span style=\"color:yellowgreen\"> 이터레이터는 데이터 스트림을 나타내는 객체(데이터 흐름을 나타내는 객체) </span>\n",
    "- 이 객체는 한번에 한 요소씩 반환한다.\n",
    "- <span style=\"color:yellowgreen\">파이썬 이터레이터는 반드시 __next__() 라는 메서드를 지원해야 한다.</ 이 메서드는 인자를 취하지 않고, 다음 스트림 값을 반환한다. 만약 스트림에 더는 요소가 없다면, __next__() 는 StopIteration 예외를 발생시킨다. </span>\n",
    "- 이터레이터는 유한할 필요는 없고, 무한한 데이터 스트림을 생성하는 이터레이터를 작성하는 것도 합리적이다.\n",
    "  \n",
    "- 내장 함수 iter()는 임의의 객체를 취하여 객체의 내용이나 요소를 반환하는 이터레이터를 반환한다. <span style=\"color:yellowgreen\">객체가 이터레이션을 지원하지 않으면 TypeError를 발생시킨다. </span>\n",
    "- 파이썬 내장형 데이터 중 이터레이션을 지원하는 객체는 리스트, 튜플, 딕셔너리, 집합(set), 문자열이 있다.\n",
    "==> <span style=\"color:orange\"> 다르게 표현하면, 리스트, 튜플, 딕셔너리, 집합, 문자열은 이터러블이다. </spane>"
   ]
  },
  {
   "cell_type": "markdown",
   "metadata": {},
   "source": [
    "#### 이터레이터를 지원하는 데이터 형"
   ]
  },
  {
   "cell_type": "code",
   "execution_count": 1,
   "metadata": {},
   "outputs": [
    {
     "name": "stdout",
     "output_type": "stream",
     "text": [
      "True\n",
      "True\n",
      "<list_iterator object at 0x000002155E7F5E50>\n",
      "1\n",
      "2\n",
      "3\n",
      "\n",
      "True\n",
      "True\n",
      "<tuple_iterator object at 0x000002155E7F5D30>\n",
      "1\n",
      "2\n",
      "3\n",
      "\n",
      "True\n",
      "True\n",
      "<dict_keyiterator object at 0x000002155E7ED400>\n",
      "1\n",
      "2\n",
      "3\n",
      "\n",
      "True\n",
      "True\n",
      "<set_iterator object at 0x000002155E447FC0>\n",
      "1\n",
      "2\n",
      "3\n",
      "\n",
      "True\n",
      "True\n",
      "<str_iterator object at 0x000002155E7F5D30>\n",
      "A\n",
      "B\n",
      "C\n"
     ]
    }
   ],
   "source": [
    "# ★★★ 이하 파이썬 강의 자료\n",
    "from collections import abc\n",
    "\n",
    "L = [1, 2, 3]\n",
    "print(hasattr(L, '__iter__'))\n",
    "print(isinstance(L, abc.Iterable))\n",
    "it = iter(L)\n",
    "print(it)\n",
    "print(it.__next__())\n",
    "print(next(it))\n",
    "print(next(it))\n",
    "#print(next(it)) # 스트림에 더는 요소가 없다면 StopIteration 예외를 발생 시킨다.\n",
    "\n",
    "print()\n",
    "\n",
    "T = (1, 2, 3)\n",
    "print(hasattr(T, '__iter__'))\n",
    "print(isinstance(T, abc.Iterable))\n",
    "it = iter(T)\n",
    "print(it)\n",
    "print(it.__next__())\n",
    "print(next(it))\n",
    "print(next(it))\n",
    "#print(next(it)) # 스트림에 더는 요소가 없다면 StopIteration 예외를 발생 시킨다.\n",
    "\n",
    "print()\n",
    "\n",
    "D = {1: 'mom', 2: 'Daddy', 3: 'Sister'}\n",
    "print(hasattr(D, '__iter__'))\n",
    "print(isinstance(D, abc.Iterable))\n",
    "it = iter(D)    # dict_keyiterator\n",
    "print(it)\n",
    "print(it.__next__())\n",
    "print(next(it))\n",
    "print(next(it))\n",
    "\n",
    "print()\n",
    "\n",
    "S = {1, 2, 3}\n",
    "it = iter(S)   # set_iterator\n",
    "print(hasattr(S, '__iter__'))\n",
    "print(isinstance(S, abc.Iterable))\n",
    "print(it)\n",
    "print(it.__next__())\n",
    "print(next(it))\n",
    "print(next(it))\n",
    "\n",
    "print()\n",
    "\n",
    "STR ='ABC123'\n",
    "it = iter(STR)   # set_iterator\n",
    "print(hasattr(STR, '__iter__'))\n",
    "print(isinstance(STR, abc.Iterable))\n",
    "print(it)\n",
    "print(it.__next__())\n",
    "print(next(it))\n",
    "print(next(it))"
   ]
  },
  {
   "cell_type": "markdown",
   "metadata": {},
   "source": [
    "##### 예시1\n",
    "- for X in Y에서 Y는 이터러블이어야 한다.\n",
    "- 아래 두 문장은 같은 의미이다 (왜냐하면 Y자리에 왔다는 의미는 이미 흐름을 발생시킬 수 있기 때문이다)"
   ]
  },
  {
   "cell_type": "code",
   "execution_count": 9,
   "metadata": {},
   "outputs": [
    {
     "name": "stdout",
     "output_type": "stream",
     "text": [
      "Z\n",
      "A\n",
      "E\n",
      "U\n",
      "\n",
      "Z\n",
      "A\n",
      "E\n",
      "U\n",
      "\n",
      "Z\n",
      "A\n",
      "E\n",
      "U\n"
     ]
    }
   ],
   "source": [
    "# 이하 강의 자료 2\n",
    "obj = 'ZAEU'\n",
    "for i in iter(obj):\n",
    "    print(i)\n",
    "\n",
    "print()\n",
    "\n",
    "# 아래 코드는 obj를 iter로 감싸 이터레이터로 바꿔준 후 next 메소드를 호출하여 원소를 가져오는 것이다.\n",
    "for i in obj:\n",
    "    print(i)\n",
    "\n",
    "print()\n",
    "\n",
    "# 즉 코드가 내부적으로는 아래 처럼 동작된다.\n",
    "it = iter(obj)\n",
    "while True:\n",
    "    try:\n",
    "        print(next(it))\n",
    "    except StopIteration:\n",
    "        break"
   ]
  },
  {
   "cell_type": "markdown",
   "metadata": {},
   "source": [
    "##### 예시2\n",
    "- 문자열은 이터러블이며, 내장함수 iter(obj) == obj.__iter__()를 호출하여 이터레이터가 될 수 있다.  \n",
    "==> <span style=\"color:orange\"> ★★★ 객체 자기 자신의 Built-In 함수를 호출하여 스스로가 이터레이터가 될 수 있다. </span> "
   ]
  },
  {
   "cell_type": "code",
   "execution_count": 10,
   "metadata": {},
   "outputs": [
    {
     "name": "stdout",
     "output_type": "stream",
     "text": [
      "['__add__', '__class__', '__contains__', '__delattr__', '__dir__', '__doc__', '__eq__', '__format__', '__ge__', '__getattribute__', '__getitem__', '__getnewargs__', '__gt__', '__hash__', '__init__', '__init_subclass__', '__iter__', '__le__', '__len__', '__lt__', '__mod__', '__mul__', '__ne__', '__new__', '__reduce__', '__reduce_ex__', '__repr__', '__rmod__', '__rmul__', '__setattr__', '__sizeof__', '__str__', '__subclasshook__', 'capitalize', 'casefold', 'center', 'count', 'encode', 'endswith', 'expandtabs', 'find', 'format', 'format_map', 'index', 'isalnum', 'isalpha', 'isascii', 'isdecimal', 'isdigit', 'isidentifier', 'islower', 'isnumeric', 'isprintable', 'isspace', 'istitle', 'isupper', 'join', 'ljust', 'lower', 'lstrip', 'maketrans', 'partition', 'replace', 'rfind', 'rindex', 'rjust', 'rpartition', 'rsplit', 'rstrip', 'split', 'splitlines', 'startswith', 'strip', 'swapcase', 'title', 'translate', 'upper', 'zfill']\n",
      "True\n",
      "True\n"
     ]
    }
   ],
   "source": [
    "# 이하 강의 자료 3\n",
    "from collections import abc\n",
    "\n",
    "obj = 'ZAEU'\n",
    "\n",
    "print(dir(obj))\n",
    "print(hasattr(obj, '__iter__'))\n",
    "print(isinstance(obj, abc.Iterable))"
   ]
  },
  {
   "cell_type": "markdown",
   "metadata": {},
   "source": [
    "#### 이터레이터 -> 데이터형으로 복구\n",
    "- 이터레이터는 생성자 함수를 사용하여 리스트, 튜플, 딕셔너리, 집합, 문자열로 나타낼 수 있다"
   ]
  },
  {
   "cell_type": "code",
   "execution_count": 11,
   "metadata": {},
   "outputs": [
    {
     "name": "stdout",
     "output_type": "stream",
     "text": [
      "(1, 2, 3)\n",
      "[1, 2, 3]\n",
      "<list_iterator object at 0x000001E67292A640>\n",
      "[]\n"
     ]
    }
   ],
   "source": [
    "L = [1, 2, 3]\n",
    "_iterator = iter(L)\n",
    "iterator = iter(L)\n",
    "\n",
    "t = tuple(_iterator)\n",
    "print(t)\n",
    "\n",
    "l = list(iterator)\n",
    "print(l)\n",
    "\n",
    "l = list(iterator) # 한번 리스트로 다시 변환되면 빈 리스트가 된다??\n",
    "print(l)"
   ]
  },
  {
   "cell_type": "markdown",
   "metadata": {},
   "source": [
    "#### 이터레이터 언패킹\n",
    "이터레이터는 언패킹도 지원한다. 이터레이터가 N개 요소를 반환한다는 것을 알고 있다면, 그것을 N 튜플로 언 패킹할 수 있다."
   ]
  },
  {
   "cell_type": "code",
   "execution_count": 1,
   "metadata": {},
   "outputs": [
    {
     "name": "stdout",
     "output_type": "stream",
     "text": [
      "1 2 3\n"
     ]
    }
   ],
   "source": [
    "L = [1, 2, 3]\n",
    "iterator = iter(L)\n",
    "a, b, c = iterator\n",
    "print(a, b, c)"
   ]
  },
  {
   "cell_type": "markdown",
   "metadata": {},
   "source": [
    "##### 사용 예시\n",
    "딕셔너리--> iter()를 딕셔너리에 적용하면 딕셔너리 키를 반복하는 이터레이터를 반환한다"
   ]
  },
  {
   "cell_type": "code",
   "execution_count": 12,
   "metadata": {},
   "outputs": [
    {
     "name": "stdout",
     "output_type": "stream",
     "text": [
      "Jan 1 Feb 2 Mar 3 Apr 4 May 5 Jun 6 Jul 7 Aug 8 Sep 9 Oct 10 Nov 11 Dec 12 \n",
      "1 2 3 4 5 6 7 8 9 10 11 12 \n",
      "('Jan', 1) ('Feb', 2) ('Mar', 3) ('Apr', 4) ('May', 5) ('Jun', 6) ('Jul', 7) ('Aug', 8) ('Sep', 9) ('Oct', 10) ('Nov', 11) ('Dec', 12) "
     ]
    }
   ],
   "source": [
    "m = {'Jan': 1, 'Feb': 2, 'Mar': 3, 'Apr': 4, 'May': 5, 'Jun': 6,\n",
    "     'Jul': 7, 'Aug': 8, 'Sep': 9, 'Oct': 10, 'Nov': 11, 'Dec': 12}\n",
    "for key in m:\n",
    "    print(key, m[key], end=' ')\n",
    "print()\n",
    "\n",
    "for value in m.values():\n",
    "    print(value, end=' ')\n",
    "print()\n",
    "\n",
    "for item in m.items():\n",
    "    print(item, end=' ') # (key, value) 튜플로 반환된다!!\n"
   ]
  },
  {
   "cell_type": "markdown",
   "metadata": {},
   "source": [
    "dict() 생성자는 (키, 값) 튜플의 유한한 스트림을 반환하는 이터레이터를 받을 수 있다"
   ]
  },
  {
   "cell_type": "code",
   "execution_count": 16,
   "metadata": {},
   "outputs": [
    {
     "name": "stdout",
     "output_type": "stream",
     "text": [
      "{'Italy': 'Rome', 'France': 'Paris', 'US': 'Washington DC'}\n",
      "{'Italy': 'Rome', 'France': 'Paris', 'US': 'Washington DC'}\n"
     ]
    }
   ],
   "source": [
    "# 반대로 (key, value) 튜플의 스트림을 반환하는 이터레이터로 부터 딕셔러니를 만들 수 있다.\n",
    "L = [('Italy', 'Rome'), ('France', 'Paris'), ('US', 'Washington DC')] # 이게 이터레이터라고?? 왜 이렇게 묻냐면 두번째 에서 '이터레이터->딕셔너리' 예제이기 때문에\n",
    "print(dict(iter(L)))\n",
    "print(dict(L))"
   ]
  },
  {
   "cell_type": "markdown",
   "metadata": {},
   "source": [
    "집합 --> 집합의 원소를 반복할 수 있다."
   ]
  },
  {
   "cell_type": "code",
   "execution_count": 15,
   "metadata": {},
   "outputs": [
    {
     "name": "stdout",
     "output_type": "stream",
     "text": [
      "2 3 5 7 11 13 "
     ]
    }
   ],
   "source": [
    "S = {2, 3, 5, 7, 11, 13}\n",
    "for i in S:\n",
    "    print(i, end=' ')"
   ]
  },
  {
   "cell_type": "markdown",
   "metadata": {},
   "source": [
    "<요약> \n",
    "- 이터레이터는 데이터 스트림을 나타내는 객체. .\\_\\_next\\_\\_() 매서드를 지원해야 한다.\n",
    "- '리스트, 튜플, 딕셔너리, 집합, 문자열'은 이터레이터가 될 수 있다.  \n",
    "   반대로 '리스트, 튜플, 딕셔너리, 집합, 문자열' 생성자 함수로 이터레이터를 '리스트, 튜플, 딕셔너리, 집합, 문자열'으로 만들 수 있다.\n",
    "- 언패킹을 지원한다.\n",
    "- 스트림에 더는 요소가 없다면 StopIteration 예외를 발생 시킨다.\n",
    "- hasattr(L, '\\_\\_iter\\_\\_'), isinstance(L, abc.Iterable) 로 이터레이터 여부를 판단할 수 있다.\n",
    "\n",
    "(★★★ 파이썬 강의 자료)"
   ]
  }
 ],
 "metadata": {
  "kernelspec": {
   "display_name": "Python 3.8.17 ('torchWin_rev')",
   "language": "python",
   "name": "python3"
  },
  "language_info": {
   "codemirror_mode": {
    "name": "ipython",
    "version": 3
   },
   "file_extension": ".py",
   "mimetype": "text/x-python",
   "name": "python",
   "nbconvert_exporter": "python",
   "pygments_lexer": "ipython3",
   "version": "3.8.17"
  },
  "orig_nbformat": 4,
  "vscode": {
   "interpreter": {
    "hash": "dcfd0bbc3e25ae79d1f134c08b87e3777d49169aec2e55e1b5fb8249822c085d"
   }
  }
 },
 "nbformat": 4,
 "nbformat_minor": 2
}
