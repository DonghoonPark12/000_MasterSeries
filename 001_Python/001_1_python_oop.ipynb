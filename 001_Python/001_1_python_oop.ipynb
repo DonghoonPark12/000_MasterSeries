{
 "cells": [
  {
   "cell_type": "markdown",
   "metadata": {},
   "source": [
    "### 데코레이터\n",
    "- 데코레이터는 함수를 장식한다.\n",
    "- 함수를 수정하지 않으면서 추가기능을 구현할 때 주로 사용한다."
   ]
  },
  {
   "cell_type": "markdown",
   "metadata": {},
   "source": [
    "#### 1) 데코레이터 사용 전"
   ]
  },
  {
   "cell_type": "code",
   "execution_count": 4,
   "metadata": {},
   "outputs": [
    {
     "name": "stdout",
     "output_type": "stream",
     "text": [
      "['__annotations__', '__call__', '__class__', '__closure__', '__code__', '__defaults__', '__delattr__', '__dict__', '__dir__', '__doc__', '__eq__', '__format__', '__ge__', '__get__', '__getattribute__', '__globals__', '__gt__', '__hash__', '__init__', '__init_subclass__', '__kwdefaults__', '__le__', '__lt__', '__module__', '__name__', '__ne__', '__new__', '__qualname__', '__reduce__', '__reduce_ex__', '__repr__', '__setattr__', '__sizeof__', '__str__', '__subclasshook__']\n",
      "\n",
      "hello function start\n",
      "hello\n",
      "hello function end\n",
      "\n",
      "world function start\n",
      "world\n",
      "world function end\n"
     ]
    }
   ],
   "source": [
    "def trace(func):\n",
    "    def wrapper():\n",
    "        print(func.__name__, 'function start')\n",
    "        func()\n",
    "        print(func.__name__, 'function end')\n",
    "    return wrapper\n",
    "\n",
    "def hello():\n",
    "    print('hello')\n",
    "\n",
    "def world():\n",
    "    print('world')\n",
    "\n",
    "print(dir(hello)) # dir은 해당 객체가 어떤 변수와 메소드를 가지고 있는지 나열해 준다.\n",
    "\n",
    "print()\n",
    "\n",
    "trace_hello = trace(hello) # 파이썬에서는 함수로 first class citizen을 만족하므로 \n",
    "                           # 매개변수에 전달할 수 있다.\n",
    "trace_hello() # 함수 호출 --> 런타임에 wrapper()가 생성된다.\n",
    "\n",
    "print()\n",
    "\n",
    "trace_world = trace(world)\n",
    "trace_world()\n"
   ]
  },
  {
   "cell_type": "markdown",
   "metadata": {},
   "source": [
    "#### 2) 데코레이터 사용 후\n",
    "- 데코레이터는 데코레이터 이름을 가지는 {데코레이터}(function)에 자기가 감싼 함수를 인자로 넣는다."
   ]
  },
  {
   "cell_type": "code",
   "execution_count": 5,
   "metadata": {},
   "outputs": [
    {
     "name": "stdout",
     "output_type": "stream",
     "text": [
      "hello function start\n",
      "hello\n",
      "hello function end\n",
      "\n",
      "world function start\n",
      "world\n",
      "world function end\n"
     ]
    }
   ],
   "source": [
    "def trace(func):\n",
    "    def wrapper():\n",
    "        print(func.__name__, 'function start')\n",
    "        func()\n",
    "        print(func.__name__, 'function end')\n",
    "    return wrapper\n",
    "\n",
    "@trace\n",
    "def hello():\n",
    "    print('hello')\n",
    "\n",
    "@trace\n",
    "def world():\n",
    "    print('world')\n",
    "\n",
    "hello()\n",
    "print()\n",
    "world()"
   ]
  },
  {
   "cell_type": "markdown",
   "metadata": {},
   "source": []
  },
  {
   "cell_type": "markdown",
   "metadata": {},
   "source": [
    "※ 일급 객체(First Class Object) 는 다음 조건을 만족하는 객체를 뜻한다.\n",
    "- 변수나 데이터 구조에 넣을 수 있어야 한다.\n",
    "- 매개변수에 전달 할 수 있어야 한다.\n",
    "- 반환 값으로 사용할 수 있어야 한다.\n",
    "  \n",
    "e.g   \n",
    "파이썬에서는 함수 이름을 변수에 담을 수 있다.  \n",
    "파이썬에서는 함수 이름을 또 다른 함수의 매개변수에 전달할 수 있다.  \n",
    "파이썬에서는 함수 이름을 또 다른 함수의 반환 값으로 사용할 수 있다.  "
   ]
  }
 ],
 "metadata": {
  "kernelspec": {
   "display_name": "Python 3.8.17 ('mm3d')",
   "language": "python",
   "name": "python3"
  },
  "language_info": {
   "codemirror_mode": {
    "name": "ipython",
    "version": 3
   },
   "file_extension": ".py",
   "mimetype": "text/x-python",
   "name": "python",
   "nbconvert_exporter": "python",
   "pygments_lexer": "ipython3",
   "version": "3.8.17"
  },
  "orig_nbformat": 4,
  "vscode": {
   "interpreter": {
    "hash": "d69b847d396095f32f676329057412de0235e6809d7fbe768ce2e81f9c069d24"
   }
  }
 },
 "nbformat": 4,
 "nbformat_minor": 2
}
