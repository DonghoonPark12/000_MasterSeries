{
 "cells": [
  {
   "cell_type": "markdown",
   "metadata": {},
   "source": [
    "### 목차\n",
    "- 파이썬 자료형(컨테이너(서로 다른 자료형), 플랫(Flat, 한개의 자료형))\n",
    "- 파이썬 자료형(가변 자료형, 불변 자료형)\n",
    "- 제너레이터\n",
    "- 깊은 복사 vs 얕은 복사\n",
    "- 언패킹\n",
    "- sort vs sorted \n",
    "- 해시 테이블\n",
    "- setdefault\n",
    "- 집합(Set)\n"
   ]
  },
  {
   "cell_type": "markdown",
   "metadata": {},
   "source": [
    "#### 파이썬 자료형  \n",
    "\n",
    "#### 서로 다른 자료형, 단일 자료형으로 구분  \n",
    "컨테이너(서로 다른 자료형)\n",
    "- list, tuple, collections.deque\n",
    "- 서로 다른 자료형을 담을 수 있다.\n",
    "\n",
    "플랫(Flat, 한개의 자료형)\n",
    "- str, byte, bytearray, array.array, memoryview\n",
    "- 한개의 자료형만 담을 수 있다.\n",
    "\n",
    "#### 가변 자료형, 불변 자료형으로 구분\n",
    "파이썬 가변 자료형\n",
    "- list, bytearray, array.array, memoryview, deque\n",
    "\n",
    "파이썬 불변 자료형\n",
    "- tuple, str, bytes"
   ]
  },
  {
   "cell_type": "code",
   "execution_count": 2,
   "metadata": {},
   "outputs": [
    {
     "ename": "TypeError",
     "evalue": "'str' object does not support item assignment",
     "output_type": "error",
     "traceback": [
      "\u001b[1;31m---------------------------------------------------------------------------\u001b[0m",
      "\u001b[1;31mTypeError\u001b[0m                                 Traceback (most recent call last)",
      "Cell \u001b[1;32mIn[2], line 2\u001b[0m\n\u001b[0;32m      1\u001b[0m chars \u001b[39m=\u001b[39m \u001b[39m'\u001b[39m\u001b[39m+_)(*&^\u001b[39m\u001b[39m%\u001b[39m\u001b[39m$#@!~)\u001b[39m\u001b[39m'\u001b[39m\n\u001b[1;32m----> 2\u001b[0m chars[\u001b[39m2\u001b[39;49m] \u001b[39m=\u001b[39m \u001b[39m'\u001b[39m\u001b[39mh\u001b[39m\u001b[39m'\u001b[39m\n",
      "\u001b[1;31mTypeError\u001b[0m: 'str' object does not support item assignment"
     ]
    }
   ],
   "source": [
    "chars = '+_)(*&^%$#@!~)'\n",
    "chars[2] = 'h' # str은 불변형 이므로 수정이 불가능 하다"
   ]
  },
  {
   "cell_type": "code",
   "execution_count": 31,
   "metadata": {},
   "outputs": [
    {
     "name": "stdout",
     "output_type": "stream",
     "text": [
      "(15, 20, 25) 2218907015104\n",
      "[15, 20, 25] 2218900169472\n",
      "2218901067808\n",
      "2218899093888\n",
      "2218891159152\n",
      "2218899093888\n"
     ]
    }
   ],
   "source": [
    "# Mutable(가변) vs Immutable(불변)\n",
    "l = (15, 20, 25)\n",
    "m = [15, 20, 25]\n",
    "\n",
    "print(l, id(l))\n",
    "print(m, id(m))\n",
    "\n",
    "l = l * 2    # 불변형인 튜플은 아이디 값이 계속 바뀐다. \n",
    "m = m * 2    # 깊은 복사를 수행한다. \n",
    "\n",
    "print(id(l)) \n",
    "print(id(m)) \n",
    "\n",
    "l *= 2       # 불변형인 튜플은 아이디 값이 계속 바뀐다.\n",
    "m *= 2       # 얖은 복사를 수행한다.\n",
    "\n",
    "print(id(l)) \n",
    "print(id(m))\n"
   ]
  },
  {
   "cell_type": "code",
   "execution_count": 6,
   "metadata": {},
   "outputs": [
    {
     "name": "stdout",
     "output_type": "stream",
     "text": [
      "[43, 95, 41, 40, 42, 38, 94, 37, 36, 35, 64, 33, 126, 41]\n",
      "[43, 95, 41, 42, 94, 64, 126, 41]\n",
      "[43, 95, 41, 42, 94, 64, 126, 41]\n"
     ]
    }
   ],
   "source": [
    "code_list = [ord(s) for s in chars] # ord 함수는 str의 유니코드 반환\n",
    "print(code_list)\n",
    "code_list2 = [ord(s) for s in chars if ord(s) > 40]\n",
    "print(code_list2)\n",
    "code_list3 = list(filter(lambda x : x > 40, map(ord, chars)))\n",
    "print(code_list3)"
   ]
  },
  {
   "cell_type": "markdown",
   "metadata": {},
   "source": [
    "#### 제너레이터\n"
   ]
  },
  {
   "cell_type": "code",
   "execution_count": 8,
   "metadata": {},
   "outputs": [
    {
     "name": "stdout",
     "output_type": "stream",
     "text": [
      "<class 'generator'>\n",
      "43\n",
      "95\n"
     ]
    }
   ],
   "source": [
    "# [] 대신에 ()로 감싸면 제너레이터가 된다.\n",
    "# 모든 값을 메모리에 할당하지 않는다.\n",
    "tuple_g = (ord(s) for s in chars) \n",
    "print(type(tuple_g))\n",
    "print(next(tuple_g))\n",
    "print(next(tuple_g))"
   ]
  },
  {
   "cell_type": "code",
   "execution_count": 10,
   "metadata": {},
   "outputs": [
    {
     "name": "stdout",
     "output_type": "stream",
     "text": [
      "<class 'array.array'>\n",
      "[43, 95, 41, 40, 42, 38, 94, 37, 36, 35, 64, 33, 126, 41]\n"
     ]
    }
   ],
   "source": [
    "import array\n",
    "array_g = array.array('I', (ord(s) for s in chars))\n",
    "print(type(array_g))\n",
    "print(array_g.tolist())"
   ]
  },
  {
   "cell_type": "code",
   "execution_count": 12,
   "metadata": {},
   "outputs": [
    {
     "name": "stdout",
     "output_type": "stream",
     "text": [
      "<generator object <genexpr> at 0x00000204A12B2C10>\n",
      "A1 A2 A3 A4 A5 A6 A7 A8 A9 A10 B1 B2 B3 B4 B5 B6 B7 B8 B9 B10 C1 C2 C3 C4 C5 C6 C7 C8 C9 C10 D1 D2 D3 D4 D5 D6 D7 D8 D9 D10 "
     ]
    }
   ],
   "source": [
    "# 아래는 제너레이터이므로 메모리에 값을 할당한 상태가 아니다.\n",
    "print(('%s' % c + str(n) for c in ['A', 'B', 'C', 'D'] for n in range(1,11)))\n",
    "\n",
    "for s in ('%s' % c + str(n) for c in ['A', 'B', 'C', 'D'] for n in range(1,11)):\n",
    "    print(s, end=' ')"
   ]
  },
  {
   "cell_type": "markdown",
   "metadata": {},
   "source": [
    "#### 깊은 복사 vs 얕은 복사"
   ]
  },
  {
   "cell_type": "code",
   "execution_count": 16,
   "metadata": {},
   "outputs": [
    {
     "name": "stdout",
     "output_type": "stream",
     "text": [
      "[['~', '~', '~'], ['~', '~', '~'], ['~', '~', '~']]\n",
      "[['~', '~', '~'], ['~', '~', '~'], ['~', '~', '~']]\n"
     ]
    }
   ],
   "source": [
    "# 아래의 출력은 동일하다, 하지만 메모리 적재 방식은 다르다.\n",
    "\n",
    "# 서로 다른 3개의 리스트를 만들어 낸다. 깊은 복사.\n",
    "marks1 = [['~'] * 3 for n in range(3)]  \n",
    "# 동일한 메모리의 리스트를 복사한다. 얕은 복사.\n",
    "marks2 = [['~'] * 3] * 3 \n",
    "\n",
    "print(marks1)\n",
    "print(marks2)"
   ]
  },
  {
   "cell_type": "code",
   "execution_count": 18,
   "metadata": {},
   "outputs": [
    {
     "name": "stdout",
     "output_type": "stream",
     "text": [
      "[['~', 'X', '~'], ['~', '~', '~'], ['~', '~', '~']]\n",
      "[['~', 'X', '~'], ['~', 'X', '~'], ['~', 'X', '~']]\n",
      "[2218903596928, 2218907053312, 2218907016064]\n",
      "[2218907006784, 2218907006784, 2218907006784]\n"
     ]
    }
   ],
   "source": [
    "# 하지만, 변경을 가하면, 다른 결과를 낸다\n",
    "marks1[0][1] = 'X'\n",
    "marks2[0][1] = 'X'\n",
    "\n",
    "print(marks1)\n",
    "print(marks2)\n",
    "\n",
    "# 증명\n",
    "print([id(i) for i in marks1]) # 리스트의 주소 값이 서로 다르다.\n",
    "print([id(i) for i in marks2]) # 리스트의 주소 값이 서로 같다."
   ]
  },
  {
   "cell_type": "markdown",
   "metadata": {},
   "source": [
    "#### 언패킹"
   ]
  },
  {
   "cell_type": "code",
   "execution_count": 19,
   "metadata": {},
   "outputs": [
    {
     "name": "stdout",
     "output_type": "stream",
     "text": [
      "(11, 1)\n",
      "(11, 1)\n",
      "11 1\n"
     ]
    }
   ],
   "source": [
    "print(divmod(100, 9))\n",
    "print(divmod(*(100, 9)))\n",
    "print(*divmod(100, 9))"
   ]
  },
  {
   "cell_type": "code",
   "execution_count": 21,
   "metadata": {},
   "outputs": [
    {
     "name": "stdout",
     "output_type": "stream",
     "text": [
      "0 1 [2, 3, 4, 5, 6, 7, 8, 9]\n",
      "0 1 []\n",
      "1 2 [3, 4, 5]\n"
     ]
    }
   ],
   "source": [
    "x, y, *rest = range(10)\n",
    "print(x, y, rest) # 나머지는 리스트에 담긴다\n",
    "x, y, *rest = range(2)\n",
    "print(x, y, rest) # rest는 언패킹 할 게 없으니 비어있다.\n",
    "x, y, *rest = 1, 2, 3, 4, 5\n",
    "print(x, y, rest)\n"
   ]
  },
  {
   "cell_type": "code",
   "execution_count": 22,
   "metadata": {},
   "outputs": [
    {
     "name": "stdout",
     "output_type": "stream",
     "text": [
      "(15, 20, 25) 2218905584320\n",
      "[15, 20, 25] 2218906985792\n"
     ]
    }
   ],
   "source": [
    "l = (15, 20, 25)\n",
    "m = [15, 20, 25]\n",
    "\n",
    "print(l, id(l))\n",
    "print(m, id(m))"
   ]
  },
  {
   "cell_type": "markdown",
   "metadata": {},
   "source": [
    "### sort vs sorted \n",
    "- sorted: 정렬 후 새로운 객체 반환\n",
    "- sort: 정렬 후 객체 직접 변경"
   ]
  },
  {
   "cell_type": "code",
   "execution_count": 38,
   "metadata": {},
   "outputs": [
    {
     "name": "stdout",
     "output_type": "stream",
     "text": [
      "sorted - ['apple', 'coconut', 'lemon', 'mango', 'orange', 'papaya', 'strawberry']\n",
      "sorted - ['strawberry', 'papaya', 'orange', 'mango', 'lemon', 'coconut', 'apple']\n",
      "sorted - ['apple', 'mango', 'lemon', 'orange', 'papaya', 'coconut', 'strawberry']\n",
      "sorted - ['papaya', 'orange', 'apple', 'lemon', 'mango', 'coconut', 'strawberry']\n",
      "sorted - ['strawberry', 'coconut', 'mango', 'lemon', 'orange', 'apple', 'papaya']\n",
      "sorted - ['orange', 'apple', 'mango', 'papaya', 'lemon', 'strawberry', 'coconut']\n"
     ]
    }
   ],
   "source": [
    "f_list = ['orange', 'apple', 'mango', 'papaya', 'lemon', 'strawberry', 'coconut']\n",
    "print('sorted -', sorted(f_list))\n",
    "print('sorted -', sorted(f_list, reverse=True))\n",
    "print('sorted -', sorted(f_list, key=len))\n",
    "print('sorted -', sorted(f_list, key=lambda x: x[-1]))\n",
    "print('sorted -', sorted(f_list, key=lambda x: x[-1], reverse=True))\n",
    "print('sorted -', f_list)"
   ]
  },
  {
   "cell_type": "code",
   "execution_count": 40,
   "metadata": {},
   "outputs": [
    {
     "name": "stdout",
     "output_type": "stream",
     "text": [
      "sort - None ['apple', 'coconut', 'lemon', 'mango', 'orange', 'papaya', 'strawberry']\n",
      "sort - None ['strawberry', 'papaya', 'orange', 'mango', 'lemon', 'coconut', 'apple']\n",
      "sort - None ['mango', 'lemon', 'apple', 'papaya', 'orange', 'coconut', 'strawberry']\n",
      "sort - None ['papaya', 'apple', 'orange', 'lemon', 'mango', 'coconut', 'strawberry']\n",
      "sort - None ['strawberry', 'coconut', 'mango', 'lemon', 'apple', 'orange', 'papaya']\n",
      "sorted - ['strawberry', 'coconut', 'mango', 'lemon', 'apple', 'orange', 'papaya']\n"
     ]
    }
   ],
   "source": [
    "# {리스트}.sort() 하면 리스트를 직접 수정하기 때문에 \n",
    "# 반환 값은 'None' 이며, 객체가 직접 변경된다.\n",
    "print('sort -', f_list.sort(), f_list)\n",
    "print('sort -', f_list.sort(reverse=True), f_list)\n",
    "print('sort -', f_list.sort(key=len), f_list)\n",
    "print('sort -', f_list.sort(key=lambda x: x[-1]), f_list)\n",
    "print('sort -', f_list.sort(key=lambda x: x[-1], reverse=True), f_list)\n",
    "print('sorted -', f_list)\n"
   ]
  },
  {
   "cell_type": "code",
   "execution_count": 41,
   "metadata": {},
   "outputs": [],
   "source": [
    "# List vs Array 적합 한 사용법 설명\n",
    "# 리스트 기반 : 융통성, 다양한 자료형, 범용적 사용\n",
    "# 숫자 기반 : 배열(리스트와 거의 호환)"
   ]
  },
  {
   "cell_type": "markdown",
   "metadata": {},
   "source": []
  },
  {
   "cell_type": "markdown",
   "metadata": {},
   "source": [
    "#### 해시 테이블\n",
    "- Dict -> Key 중복 허용 X, Set -> 중복 허용 X\n"
   ]
  },
  {
   "cell_type": "code",
   "execution_count": 50,
   "metadata": {},
   "outputs": [],
   "source": [
    "# Dict 구조\n",
    "#print(__builtin__.__dict__) # 파이썬 builtin 객체 속성 정보를 확인"
   ]
  },
  {
   "cell_type": "code",
   "execution_count": 43,
   "metadata": {},
   "outputs": [
    {
     "name": "stdout",
     "output_type": "stream",
     "text": [
      "465510690262297113\n"
     ]
    },
    {
     "ename": "TypeError",
     "evalue": "unhashable type: 'list'",
     "output_type": "error",
     "traceback": [
      "\u001b[1;31m---------------------------------------------------------------------------\u001b[0m",
      "\u001b[1;31mTypeError\u001b[0m                                 Traceback (most recent call last)",
      "Cell \u001b[1;32mIn[43], line 5\u001b[0m\n\u001b[0;32m      2\u001b[0m t2 \u001b[39m=\u001b[39m (\u001b[39m10\u001b[39m, \u001b[39m20\u001b[39m, [\u001b[39m30\u001b[39m, \u001b[39m40\u001b[39m, \u001b[39m50\u001b[39m])\n\u001b[0;32m      4\u001b[0m \u001b[39mprint\u001b[39m(\u001b[39mhash\u001b[39m(t1))\n\u001b[1;32m----> 5\u001b[0m \u001b[39mprint\u001b[39m(\u001b[39mhash\u001b[39;49m(t2)) \u001b[39m# 예외\u001b[39;00m\n",
      "\u001b[1;31mTypeError\u001b[0m: unhashable type: 'list'"
     ]
    }
   ],
   "source": [
    "t1 = (10, 20, (30, 40, 50)) # 불변형, 해쉬화 할 수 있다.\n",
    "t2 = (10, 20, [30, 40, 50]) # 가변형, 해쉬화 할 수 없다.\n",
    "\n",
    "print(hash(t1)) # 고유한 해쉬값 부여\n",
    "print(hash(t2)) # 예외, 리스트는 가변형이므로 해쉬화 할 수 없다."
   ]
  },
  {
   "cell_type": "code",
   "execution_count": 46,
   "metadata": {},
   "outputs": [
    {
     "name": "stdout",
     "output_type": "stream",
     "text": [
      "{'k1': ['val1', 'val2'], 'k2': ['val3', 'val4', 'val5']}\n"
     ]
    }
   ],
   "source": [
    "# Dict Setdefault 예제\n",
    "source = (('k1', 'val1'),\n",
    "            ('k1', 'val2'),\n",
    "            ('k2', 'val3'),\n",
    "            ('k2', 'val4'),\n",
    "            ('k2', 'val5'))\n",
    "\n",
    "# No use setdefault\n",
    "new_dict1 = {} \n",
    "for k, v in source:\n",
    "    if k in new_dict1:\n",
    "        new_dict1[k].append(v)\n",
    "    else:\n",
    "        new_dict1[k] = [v]\n",
    "print(new_dict1)"
   ]
  },
  {
   "cell_type": "code",
   "execution_count": 51,
   "metadata": {},
   "outputs": [
    {
     "name": "stdout",
     "output_type": "stream",
     "text": [
      "{'k1': ['val1', 'val2'], 'k2': ['val3', 'val4', 'val5']}\n"
     ]
    }
   ],
   "source": [
    "# Use setdefault\n",
    "new_dict2 = {}\n",
    "for k, v in source:\n",
    "    new_dict2.setdefault(k, []).append(v)\n",
    "print(new_dict2)"
   ]
  },
  {
   "cell_type": "code",
   "execution_count": 52,
   "metadata": {},
   "outputs": [
    {
     "name": "stdout",
     "output_type": "stream",
     "text": [
      "{'k1': 'val2', 'k2': 'val5'}\n"
     ]
    }
   ],
   "source": [
    "# 리스트와는 다르게 딕셔너리는 컴프리핸션이 안된다.\n",
    "new_dict3 = {k : v for k , v in source}\n",
    "print(new_dict3)"
   ]
  },
  {
   "cell_type": "markdown",
   "metadata": {},
   "source": [
    "#### 불변의 딕셔너리(immutable Dict)"
   ]
  },
  {
   "cell_type": "code",
   "execution_count": 56,
   "metadata": {},
   "outputs": [
    {
     "name": "stdout",
     "output_type": "stream",
     "text": [
      "{'key1': 'value1'} 2218903261568\n",
      "{'key1': 'value1'} 2218902864896\n",
      "False True\n"
     ]
    },
    {
     "ename": "TypeError",
     "evalue": "'mappingproxy' object does not support item assignment",
     "output_type": "error",
     "traceback": [
      "\u001b[1;31m---------------------------------------------------------------------------\u001b[0m",
      "\u001b[1;31mTypeError\u001b[0m                                 Traceback (most recent call last)",
      "Cell \u001b[1;32mIn[56], line 10\u001b[0m\n\u001b[0;32m      7\u001b[0m \u001b[39mprint\u001b[39m(d \u001b[39mis\u001b[39;00m d_frozen, d \u001b[39m==\u001b[39m d_frozen)\n\u001b[0;32m      9\u001b[0m \u001b[39m# MappingProxyType로 감싼 딕셔너리는 수정 불가\u001b[39;00m\n\u001b[1;32m---> 10\u001b[0m d_frozen[\u001b[39m'\u001b[39;49m\u001b[39mkey1\u001b[39;49m\u001b[39m'\u001b[39;49m] \u001b[39m=\u001b[39m \u001b[39m'\u001b[39m\u001b[39mvalue2\u001b[39m\u001b[39m'\u001b[39m \n",
      "\u001b[1;31mTypeError\u001b[0m: 'mappingproxy' object does not support item assignment"
     ]
    }
   ],
   "source": [
    "from types import MappingProxyType\n",
    "d = {'key1': 'value1'}\n",
    "\n",
    "d_frozen = MappingProxyType(d)\n",
    "print(d, id(d))\n",
    "print(d_frozen, id(d_frozen))\n",
    "print(d is d_frozen, d == d_frozen)\n",
    "\n",
    "# MappingProxyType로 감싼 딕셔너리는 수정 불가\n",
    "d_frozen['key1'] = 'value2' "
   ]
  },
  {
   "cell_type": "code",
   "execution_count": 58,
   "metadata": {},
   "outputs": [
    {
     "name": "stdout",
     "output_type": "stream",
     "text": [
      "{'key1': 'value1', 'key2': 'value2'}\n"
     ]
    }
   ],
   "source": [
    "d['key2'] = 'value2' # 삽입은 가능하다.\n",
    "print(d)"
   ]
  },
  {
   "cell_type": "markdown",
   "metadata": {},
   "source": [
    "#### Set"
   ]
  },
  {
   "cell_type": "code",
   "execution_count": 67,
   "metadata": {},
   "outputs": [
    {
     "name": "stdout",
     "output_type": "stream",
     "text": [
      "{'Kiwi', 'Orange', 'Apple'}\n",
      "{'Kiwi', 'Orange', 'Apple'}\n",
      "{3}\n",
      "set()\n",
      "frozenset({'Kiwi', 'Orange', 'Apple'})\n",
      "\n",
      "\n",
      "{'Kiwi', 'Orange', 'Apple', 'Melon'}\n"
     ]
    },
    {
     "ename": "AttributeError",
     "evalue": "'frozenset' object has no attribute 'add'",
     "output_type": "error",
     "traceback": [
      "\u001b[1;31m---------------------------------------------------------------------------\u001b[0m",
      "\u001b[1;31mAttributeError\u001b[0m                            Traceback (most recent call last)",
      "Cell \u001b[1;32mIn[67], line 17\u001b[0m\n\u001b[0;32m     15\u001b[0m s1\u001b[39m.\u001b[39madd(\u001b[39m'\u001b[39m\u001b[39mMelon\u001b[39m\u001b[39m'\u001b[39m)\n\u001b[0;32m     16\u001b[0m \u001b[39mprint\u001b[39m(s1)\n\u001b[1;32m---> 17\u001b[0m s5\u001b[39m.\u001b[39;49madd(\u001b[39m'\u001b[39m\u001b[39mMelon\u001b[39m\u001b[39m'\u001b[39m)\n",
      "\u001b[1;31mAttributeError\u001b[0m: 'frozenset' object has no attribute 'add'"
     ]
    }
   ],
   "source": [
    "s1 = {'Apple', 'Orange', 'Apple', 'Orange', 'Kiwi'}\n",
    "print(s1)\n",
    "s2 = set(['Apple', 'Orange', 'Apple', 'Orange', 'Kiwi'])\n",
    "print(s2) # 리스트 to 세트\n",
    "s3 = {3}\n",
    "print(s3)\n",
    "s4 = set() # s4 = {} 이렇게 하면 s4는 딕셔너리가 된다.\n",
    "print(s4)\n",
    "s5 = frozenset({'Apple', 'Orange', 'Apple', 'Orange', 'Kiwi'})\n",
    "print(s5)\n",
    "\n",
    "print()\n",
    "print()\n",
    "\n",
    "s1.add('Melon')\n",
    "print(s1)\n",
    "s5.add('Melon')\n"
   ]
  },
  {
   "cell_type": "code",
   "execution_count": 69,
   "metadata": {},
   "outputs": [
    {
     "name": "stdout",
     "output_type": "stream",
     "text": [
      "<class 'set'>\n",
      "<class 'set'>\n",
      "<class 'set'>\n",
      "<class 'set'>\n",
      "<class 'frozenset'>\n"
     ]
    }
   ],
   "source": [
    "print(type(s1))\n",
    "print(type(s2))\n",
    "print(type(s3))\n",
    "print(type(s4))\n",
    "print(type(s5))"
   ]
  },
  {
   "cell_type": "markdown",
   "metadata": {},
   "source": [
    "#### 선언 최적화\n",
    "- 파이썬은 내부적으로 스크립트를 바이트 코드로 변경"
   ]
  },
  {
   "cell_type": "code",
   "execution_count": 73,
   "metadata": {},
   "outputs": [
    {
     "name": "stdout",
     "output_type": "stream",
     "text": [
      "  1           0 LOAD_CONST               0 (10)\n",
      "              2 BUILD_SET                1\n",
      "              4 RETURN_VALUE\n",
      "None\n"
     ]
    }
   ],
   "source": [
    "from dis import dis\n",
    "print(dis('{10}')) # 바로 값을 대입하는 것이, 속도 면에서 미세하게 유리하다."
   ]
  },
  {
   "cell_type": "code",
   "execution_count": 74,
   "metadata": {},
   "outputs": [
    {
     "name": "stdout",
     "output_type": "stream",
     "text": [
      "  1           0 LOAD_NAME                0 (set)\n",
      "              2 LOAD_CONST               0 (10)\n",
      "              4 BUILD_LIST               1\n",
      "              6 CALL_FUNCTION            1\n",
      "              8 RETURN_VALUE\n",
      "None\n"
     ]
    }
   ],
   "source": [
    "print(dis('set([10])'))"
   ]
  },
  {
   "cell_type": "code",
   "execution_count": 80,
   "metadata": {},
   "outputs": [],
   "source": [
    "# 지능형 집합(Comprehending Set)\n",
    "from unicodedata import name\n",
    "#print({chr(i) for i in range(0, 256)})\n",
    "\n",
    "#print({name(chr(i), '') for i in range(0, 256)})"
   ]
  },
  {
   "cell_type": "markdown",
   "metadata": {},
   "source": [
    "#### [enum — 열거형 지원](https://docs.python.org/ko/3.9/library/enum.html)\n",
    "- 열거형(enumeration)은 고유한 상숫값에 연결된 기호 이름(멤버)의 집합\n",
    "- 열거형 내에서, 멤버를 ID로 비교할 수 있고 열거형 자체는 이터레이트 될 수 있다.\n",
    "\n",
    "class enum.Enum\n",
    "열거형 상수를 만들기 위한 베이스 클래스. 대체 구성 문법은 함수형 API 섹션을 참조하십시오.\n",
    "\n",
    "class enum.IntEnum\n",
    "int의 서브 클래스이기도 한 열거형 상수를 만들기 위한 베이스 클래스.\n",
    "\n",
    "class enum.IntFlag\n",
    "IntFlag 멤버십을 잃지 않고 비트 연산자를 사용하여 결합할 수 있는 열거형 상수를 만들기 위한 베이스 클래스. IntFlag 멤버도 int의 서브 클래스입니다.\n",
    "\n",
    "class enum.Flag\n",
    "Flag 멤버십을 잃지 않고 비트 연산을 사용하여 결합할 수 있는 열거형 상수를 만들기 위한 베이스 클래스.\n",
    "\n",
    "enum.unique()\n",
    "한 값에 하나의 이름 만 연결되도록 하는 Enum 클래스 데코레이터.\n",
    "\n",
    "class enum.auto\n",
    "인스턴스는 Enum 멤버에 적절한 값으로 바뀝니다. 기본적으로, 초깃값은 1부터 시작합니다."
   ]
  },
  {
   "cell_type": "code",
   "execution_count": 1,
   "metadata": {},
   "outputs": [],
   "source": [
    "from enum import Enum\n",
    "class Color(Enum):\n",
    "    RED = 1\n",
    "    GREEN = 2\n",
    "    BLUE = 3"
   ]
  },
  {
   "cell_type": "markdown",
   "metadata": {},
   "source": [
    "==>\n",
    "Color 클래스는 열거형이다. 일반적인 파이썬 클래스가 아니다.\n",
    "Color.RED, Color.GREEN 등의 속성은 열거형 멤버이며 상수이다."
   ]
  },
  {
   "cell_type": "code",
   "execution_count": 8,
   "metadata": {},
   "outputs": [
    {
     "name": "stdout",
     "output_type": "stream",
     "text": [
      "Color.RED\n",
      "<Color.RED: 1>\n",
      "<enum 'Color'>\n",
      "True\n",
      "RED\n",
      "1\n"
     ]
    }
   ],
   "source": [
    "print(Color.RED)\n",
    "print(repr(Color.RED))\n",
    "print(type(Color.RED))\n",
    "print(isinstance(Color.GREEN, Color))\n",
    "print(Color.RED.name)\n",
    "print(Color.RED.value)"
   ]
  },
  {
   "cell_type": "markdown",
   "metadata": {},
   "source": [
    "열거형은 정의 순서로 이터레이션을 지원합니다"
   ]
  },
  {
   "cell_type": "code",
   "execution_count": 7,
   "metadata": {},
   "outputs": [
    {
     "name": "stdout",
     "output_type": "stream",
     "text": [
      "Shake.VANILLA\n",
      "Shake.CHOCOLATE\n",
      "Shake.COOKIES\n",
      "Shake.MINT\n"
     ]
    }
   ],
   "source": [
    "class Shake(Enum):\n",
    "    VANILLA = 7\n",
    "    CHOCOLATE = 4\n",
    "    COOKIES = 9\n",
    "    MINT = 3\n",
    "\n",
    "for shake in Shake:\n",
    "    print(shake)"
   ]
  },
  {
   "cell_type": "markdown",
   "metadata": {},
   "source": [
    "열거형 멤버는 같은 값을 가질 수 있지만, 아래와 같이 고유한 열거형 값을 보장할 수도 있다."
   ]
  },
  {
   "cell_type": "code",
   "execution_count": 11,
   "metadata": {},
   "outputs": [
    {
     "name": "stdout",
     "output_type": "stream",
     "text": [
      "<enum 'Mistake'>\n"
     ]
    },
    {
     "ename": "ValueError",
     "evalue": "duplicate values found in <enum 'Mistake2'>: FOUR -> THREE",
     "output_type": "error",
     "traceback": [
      "\u001b[1;31m---------------------------------------------------------------------------\u001b[0m",
      "\u001b[1;31mValueError\u001b[0m                                Traceback (most recent call last)",
      "Cell \u001b[1;32mIn[11], line 10\u001b[0m\n\u001b[0;32m      6\u001b[0m     FOUR \u001b[39m=\u001b[39m \u001b[39m3\u001b[39m\n\u001b[0;32m      7\u001b[0m \u001b[39mprint\u001b[39m(Mistake)\n\u001b[0;32m      9\u001b[0m \u001b[39m@unique\u001b[39;49m\n\u001b[1;32m---> 10\u001b[0m \u001b[39mclass\u001b[39;49;00m \u001b[39mMistake2\u001b[39;49;00m(Enum):\n\u001b[0;32m     11\u001b[0m     ONE \u001b[39m=\u001b[39;49m \u001b[39m1\u001b[39;49m\n\u001b[0;32m     12\u001b[0m     TWO \u001b[39m=\u001b[39;49m \u001b[39m2\u001b[39;49m\n",
      "File \u001b[1;32mc:\\ProgramData\\miniconda3\\envs\\torchWin_rev\\lib\\enum.py:974\u001b[0m, in \u001b[0;36munique\u001b[1;34m(enumeration)\u001b[0m\n\u001b[0;32m    971\u001b[0m \u001b[39mif\u001b[39;00m duplicates:\n\u001b[0;32m    972\u001b[0m     alias_details \u001b[39m=\u001b[39m \u001b[39m'\u001b[39m\u001b[39m, \u001b[39m\u001b[39m'\u001b[39m\u001b[39m.\u001b[39mjoin(\n\u001b[0;32m    973\u001b[0m             [\u001b[39m\"\u001b[39m\u001b[39m%s\u001b[39;00m\u001b[39m -> \u001b[39m\u001b[39m%s\u001b[39;00m\u001b[39m\"\u001b[39m \u001b[39m%\u001b[39m (alias, name) \u001b[39mfor\u001b[39;00m (alias, name) \u001b[39min\u001b[39;00m duplicates])\n\u001b[1;32m--> 974\u001b[0m     \u001b[39mraise\u001b[39;00m \u001b[39mValueError\u001b[39;00m(\u001b[39m'\u001b[39m\u001b[39mduplicate values found in \u001b[39m\u001b[39m%r\u001b[39;00m\u001b[39m: \u001b[39m\u001b[39m%s\u001b[39;00m\u001b[39m'\u001b[39m \u001b[39m%\u001b[39m\n\u001b[0;32m    975\u001b[0m             (enumeration, alias_details))\n\u001b[0;32m    976\u001b[0m \u001b[39mreturn\u001b[39;00m enumeration\n",
      "\u001b[1;31mValueError\u001b[0m: duplicate values found in <enum 'Mistake2'>: FOUR -> THREE"
     ]
    }
   ],
   "source": [
    "from enum import Enum, unique\n",
    "class Mistake(Enum):\n",
    "    ONE = 1\n",
    "    TWO = 2\n",
    "    THREE = 3\n",
    "    FOUR = 3\n",
    "print(Mistake)\n",
    "\n",
    "@unique\n",
    "class Mistake2(Enum):\n",
    "    ONE = 1\n",
    "    TWO = 2\n",
    "    THREE = 3\n",
    "    FOUR = 3  # error"
   ]
  },
  {
   "cell_type": "code",
   "execution_count": null,
   "metadata": {},
   "outputs": [],
   "source": []
  }
 ],
 "metadata": {
  "kernelspec": {
   "display_name": "Python 3.8.17 ('mm3d')",
   "language": "python",
   "name": "python3"
  },
  "language_info": {
   "codemirror_mode": {
    "name": "ipython",
    "version": 3
   },
   "file_extension": ".py",
   "mimetype": "text/x-python",
   "name": "python",
   "nbconvert_exporter": "python",
   "pygments_lexer": "ipython3",
   "version": "3.8.17"
  },
  "orig_nbformat": 4,
  "vscode": {
   "interpreter": {
    "hash": "d69b847d396095f32f676329057412de0235e6809d7fbe768ce2e81f9c069d24"
   }
  }
 },
 "nbformat": 4,
 "nbformat_minor": 2
}
