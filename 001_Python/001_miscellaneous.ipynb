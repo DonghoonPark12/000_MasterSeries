{
 "cells": [
  {
   "cell_type": "markdown",
   "metadata": {},
   "source": [
    "<목차>\n",
    "- 객체를 함수 인자로 전달하기\n",
    "- 파이썬 기본 자료형을 상속하여 새로운 기능 추가하기\n",
    "- 파이썬에서 부모 메소드 호출하기\n",
    "- "
   ]
  },
  {
   "cell_type": "markdown",
   "metadata": {},
   "source": [
    "#### 객체를 함수 인자로 전달하기\n",
    "- https://stackoverflow.com/questions/28885018/passing-class-name-as-argument-to-function\n",
    "- 파이썬에서는 클래스, 객체, 함수, 모듈 또한 인자로 전달할 수 있다.\n",
    "- typing은 객체: 클래스이름 으로 한다."
   ]
  },
  {
   "cell_type": "code",
   "execution_count": 24,
   "metadata": {},
   "outputs": [
    {
     "name": "stdout",
     "output_type": "stream",
     "text": [
      "an object from class A is created\n"
     ]
    }
   ],
   "source": [
    "class A():\n",
    "    def __init__(self):\n",
    "        print (\"an object from class A is created\")\n",
    "\n",
    "def hello(args:A):\n",
    "    x = args()\n",
    "\n",
    "hello(A)\n"
   ]
  },
  {
   "cell_type": "markdown",
   "metadata": {},
   "source": [
    "- https://stackoverflow.com/questions/55751368/python-how-to-pass-to-a-function-argument-type-of-a-class-object-typing"
   ]
  },
  {
   "cell_type": "markdown",
   "metadata": {},
   "source": [
    "#### 파이썬 기본 자료형을 상속하여 새로운 기능 추가하기"
   ]
  },
  {
   "cell_type": "code",
   "execution_count": null,
   "metadata": {},
   "outputs": [],
   "source": [
    "class Advanced_list(list):\n",
    "    def replace(self, old, new):\n",
    "        while old in self: # self는 자기자신 즉 list를 가리킨다.\n",
    "            self[self.index(old)] = new"
   ]
  },
  {
   "cell_type": "markdown",
   "metadata": {},
   "source": [
    "- self로 리스트의 모든 메소드를 사용할 수 있다\n",
    "- 리스트 .index(원소) 메소드로 원소의 인덱스를 파악한다."
   ]
  },
  {
   "cell_type": "code",
   "execution_count": 2,
   "metadata": {},
   "outputs": [
    {
     "name": "stdout",
     "output_type": "stream",
     "text": [
      "2\n"
     ]
    }
   ],
   "source": [
    "_l = [1, 2, 3, 4]\n",
    "print(_l.index(3))"
   ]
  },
  {
   "cell_type": "markdown",
   "metadata": {},
   "source": [
    "#### 파이썬에서 부모 메소드 호출하기"
   ]
  },
  {
   "cell_type": "code",
   "execution_count": 3,
   "metadata": {},
   "outputs": [],
   "source": [
    "class Country:\n",
    "    \"\"\"Super Class\"\"\"\n",
    "\n",
    "    name = '국가명'\n",
    "    population = '인구'\n",
    "    capital = '수도'\n",
    "\n",
    "    def show(self):\n",
    "        print('국가 클래스의 메소드입니다.')"
   ]
  },
  {
   "cell_type": "code",
   "execution_count": 4,
   "metadata": {},
   "outputs": [
    {
     "name": "stdout",
     "output_type": "stream",
     "text": [
      "['__class__', '__delattr__', '__dict__', '__dir__', '__doc__', '__eq__', '__format__', '__ge__', '__getattribute__', '__gt__', '__hash__', '__init__', '__init_subclass__', '__le__', '__lt__', '__module__', '__ne__', '__new__', '__reduce__', '__reduce_ex__', '__repr__', '__setattr__', '__sizeof__', '__str__', '__subclasshook__', '__weakref__', 'capital', 'name', 'population', 'show', 'show_name']\n"
     ]
    }
   ],
   "source": [
    "class Korea(Country):\n",
    "    \"\"\"Sub Class\"\"\"\n",
    "\n",
    "    def __init__(self, name):\n",
    "        self.name = name\n",
    "\n",
    "    def show_name(self):\n",
    "        print('국가 이름은 : ', self.name)\n",
    "        \n",
    "print(dir(Korea))"
   ]
  },
  {
   "cell_type": "code",
   "execution_count": 6,
   "metadata": {},
   "outputs": [
    {
     "name": "stdout",
     "output_type": "stream",
     "text": [
      "국가 클래스의 메소드입니다.\n",
      "국가 이름은 :  대한민국\n"
     ]
    }
   ],
   "source": [
    "k = Korea('대한민국')\n",
    "k.show()\n",
    "k.show_name()"
   ]
  },
  {
   "cell_type": "code",
   "execution_count": 9,
   "metadata": {},
   "outputs": [],
   "source": [
    "class Korea(Country):\n",
    "    \"\"\"Sub Class\"\"\"\n",
    "\n",
    "    def __init__(self, name,population, capital):\n",
    "        self.name = name\n",
    "        self.population = population\n",
    "        self.capital = capital\n",
    "\n",
    "    def show(self):\n",
    "        super().show() # 부모 클래스는 super()로 호출한다.\n",
    "        print(\n",
    "            \"\"\"\n",
    "            국가의 이름은 {} 입니다.\n",
    "            국가의 인구는 {} 입니다.\n",
    "            국가의 수도는 {} 입니다.\n",
    "            \"\"\".format(self.name, self.population, self.capital)\n",
    "        )\n"
   ]
  },
  {
   "cell_type": "code",
   "execution_count": 10,
   "metadata": {},
   "outputs": [
    {
     "name": "stdout",
     "output_type": "stream",
     "text": [
      "국가 클래스의 메소드입니다.\n",
      "\n",
      "            국가의 이름은 대한민국 입니다.\n",
      "            국가의 인구는 50000000 입니다.\n",
      "            국가의 수도는 서울 입니다.\n",
      "            \n"
     ]
    }
   ],
   "source": [
    "k2 = Korea('대한민국', 50000000, '서울')\n",
    "k2.show() # 매소드 오버라이딩"
   ]
  },
  {
   "cell_type": "markdown",
   "metadata": {},
   "source": [
    "- mro()는 클래스의 상속 관계를 알게 해준다.\n",
    "- Korea -> Country -> object 순으로 상속 받았다.\n",
    "- 모든 클래스는 object의 상속이다."
   ]
  },
  {
   "cell_type": "code",
   "execution_count": 11,
   "metadata": {},
   "outputs": [
    {
     "data": {
      "text/plain": [
       "[__main__.Korea, __main__.Country, object]"
      ]
     },
     "execution_count": 11,
     "metadata": {},
     "output_type": "execute_result"
    }
   ],
   "source": [
    "Korea.mro()"
   ]
  },
  {
   "cell_type": "code",
   "execution_count": null,
   "metadata": {},
   "outputs": [],
   "source": []
  }
 ],
 "metadata": {
  "kernelspec": {
   "display_name": "Python 3.8.17 ('mm3d')",
   "language": "python",
   "name": "python3"
  },
  "language_info": {
   "codemirror_mode": {
    "name": "ipython",
    "version": 3
   },
   "file_extension": ".py",
   "mimetype": "text/x-python",
   "name": "python",
   "nbconvert_exporter": "python",
   "pygments_lexer": "ipython3",
   "version": "3.8.17"
  },
  "orig_nbformat": 4,
  "vscode": {
   "interpreter": {
    "hash": "d69b847d396095f32f676329057412de0235e6809d7fbe768ce2e81f9c069d24"
   }
  }
 },
 "nbformat": 4,
 "nbformat_minor": 2
}
