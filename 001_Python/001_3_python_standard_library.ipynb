{
 "cells": [
  {
   "cell_type": "markdown",
   "metadata": {},
   "source": [
    "[argparse — 명령행 옵션, 인자와 부속 명령을 위한 파서](https://docs.python.org/ko/3/library/argparse.html)\n",
    "- argparse 모듈은 argparse.ArgumentParser 객체로 구축되며, command-line 인터페이스를 제공한다."
   ]
  },
  {
   "cell_type": "code",
   "execution_count": null,
   "metadata": {},
   "outputs": [],
   "source": [
    "parser = argparse.ArgumentParser(\n",
    "                    prog='ProgramName',\n",
    "                    description='What the program does',\n",
    "                    epilog='Text at the bottom of help')"
   ]
  },
  {
   "cell_type": "code",
   "execution_count": null,
   "metadata": {},
   "outputs": [],
   "source": [
    "from glob import glob\n",
    "\n",
    "ans_names = []\n",
    "for split in splits:\n",
    "    ans_names += glob(os.path.join(config.dataroot, split, config.ans_names, \"*\"))\n"
   ]
  },
  {
   "cell_type": "markdown",
   "metadata": {},
   "source": []
  },
  {
   "cell_type": "markdown",
   "metadata": {},
   "source": [
    "### 파이썬 프로퍼티\n",
    "- 파이썬에서는 @property를 사용하면 getter, setter를 간단하게 구현할 수 있다."
   ]
  },
  {
   "cell_type": "code",
   "execution_count": 1,
   "metadata": {},
   "outputs": [
    {
     "name": "stdout",
     "output_type": "stream",
     "text": [
      "20\n"
     ]
    }
   ],
   "source": [
    "class Person:\n",
    "    def __init__(self):\n",
    "        self.__age = 0\n",
    "\n",
    "    @property             # 값을 가져오는 메서드에서는 @property 데코레이터를 붙이고\n",
    "    def age(self):\n",
    "        return self.__age\n",
    "\n",
    "    @age.setter           # 값을 저장하는 메서드에서는 @메서드이름.setter 데코레이터를 붙인다.\n",
    "    def age(self, value):\n",
    "        self.__age = value\n",
    "\n",
    "james = Person()\n",
    "james.age = 20    # @age.setter 데코레이터로 인해 메소드를 속성처럼 사용할 수 있다.\n",
    "print(james.age)  # @property 데코레이터로 인해 메소드를 속성처럼 사용할 수 있다."
   ]
  },
  {
   "cell_type": "markdown",
   "metadata": {},
   "source": [
    "#### pathlib\n",
    "- 객체 지향 파일 시스템 경로\n",
    "- "
   ]
  },
  {
   "cell_type": "code",
   "execution_count": null,
   "metadata": {},
   "outputs": [],
   "source": []
  }
 ],
 "metadata": {
  "kernelspec": {
   "display_name": "Python 3.8.17 ('torchWin_rev')",
   "language": "python",
   "name": "python3"
  },
  "language_info": {
   "codemirror_mode": {
    "name": "ipython",
    "version": 3
   },
   "file_extension": ".py",
   "mimetype": "text/x-python",
   "name": "python",
   "nbconvert_exporter": "python",
   "pygments_lexer": "ipython3",
   "version": "3.8.17"
  },
  "orig_nbformat": 4,
  "vscode": {
   "interpreter": {
    "hash": "dcfd0bbc3e25ae79d1f134c08b87e3777d49169aec2e55e1b5fb8249822c085d"
   }
  }
 },
 "nbformat": 4,
 "nbformat_minor": 2
}
