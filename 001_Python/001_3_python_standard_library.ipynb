{
 "cells": [
  {
   "cell_type": "markdown",
   "metadata": {},
   "source": [
    "[argparse — 명령행 옵션, 인자와 부속 명령을 위한 파서](https://docs.python.org/ko/3/library/argparse.html)\n",
    "- argparse 모듈은 argparse.ArgumentParser 객체로 구축되며, command-line 인터페이스를 제공한다."
   ]
  },
  {
   "cell_type": "code",
   "execution_count": null,
   "metadata": {},
   "outputs": [],
   "source": [
    "parser = argparse.ArgumentParser(\n",
    "                    prog='ProgramName',\n",
    "                    description='What the program does',\n",
    "                    epilog='Text at the bottom of help')"
   ]
  },
  {
   "cell_type": "code",
   "execution_count": null,
   "metadata": {},
   "outputs": [],
   "source": [
    "from glob import glob\n",
    "\n",
    "ans_names = []\n",
    "for split in splits:\n",
    "    ans_names += glob(os.path.join(config.dataroot, split, config.ans_names, \"*\"))\n"
   ]
  },
  {
   "cell_type": "markdown",
   "metadata": {},
   "source": []
  },
  {
   "cell_type": "markdown",
   "metadata": {},
   "source": [
    "### 파이썬 프로퍼티\n",
    "- 파이썬에서는 @property를 사용하면 getter, setter를 간단하게 구현할 수 있다."
   ]
  },
  {
   "cell_type": "code",
   "execution_count": 1,
   "metadata": {},
   "outputs": [
    {
     "name": "stdout",
     "output_type": "stream",
     "text": [
      "20\n"
     ]
    }
   ],
   "source": [
    "class Person:\n",
    "    def __init__(self):\n",
    "        self.__age = 0\n",
    "\n",
    "    @property             # 값을 가져오는 메서드에서는 @property 데코레이터를 붙이고\n",
    "    def age(self):\n",
    "        return self.__age\n",
    "\n",
    "    @age.setter           # 값을 저장하는 메서드에서는 @메서드이름.setter 데코레이터를 붙인다.\n",
    "    def age(self, value):\n",
    "        self.__age = value\n",
    "\n",
    "james = Person()\n",
    "james.age = 20    # @age.setter 데코레이터로 인해 메소드를 속성처럼 사용할 수 있다.\n",
    "print(james.age)  # @property 데코레이터로 인해 메소드를 속성처럼 사용할 수 있다."
   ]
  },
  {
   "cell_type": "markdown",
   "metadata": {},
   "source": [
    "#### pathlib\n",
    "- 객체 지향 파일 시스템 경로\n",
    "- "
   ]
  },
  {
   "cell_type": "markdown",
   "metadata": {},
   "source": [
    "#### dir()\n",
    "- 인자가 없으면, 현재 지역 스코프에 있는 이름들의 리스트를 돌려준다.\n",
    "- 인자가 있으면, 해당 객체에 유효한 속성들의 리스트를 돌려준다.\n",
    "\n",
    "- 기본 dir() 메커니즘은 다른 형의 객체에 대해서 다르게 동작하는데, 완전한 정보보다는 가장 적절한 정보를 만들려고 시도하기 때문\n",
    "  - 객체가 모듈 객체면, 리스트에는 모듈 어트리뷰트의 이름이 포함 (임포트한 모듈)\n",
    "  - 객체가 클래스 혹은 형 객체면, 리스트에는 그것의 어트리뷰트 이름과 자식 클래스의 어트리뷰트 이름들이 재귀적으로 포함\n",
    "  - 리스트에는 `객체의 어트리뷰트 이름`, 해당 `클래스의 어트리뷰트 이름` 및 해당 `클래스의 베이스 클래스들의 어트리뷰트 이름`을 재귀적으로 포함"
   ]
  },
  {
   "cell_type": "code",
   "execution_count": 17,
   "metadata": {},
   "outputs": [
    {
     "data": {
      "text/plain": [
       "['In',\n",
       " 'Out',\n",
       " '_',\n",
       " '_14',\n",
       " '__',\n",
       " '___',\n",
       " '__builtin__',\n",
       " '__builtins__',\n",
       " '__doc__',\n",
       " '__loader__',\n",
       " '__name__',\n",
       " '__package__',\n",
       " '__spec__',\n",
       " '__vsc_ipynb_file__',\n",
       " '_dh',\n",
       " '_i',\n",
       " '_i1',\n",
       " '_i10',\n",
       " '_i11',\n",
       " '_i12',\n",
       " '_i13',\n",
       " '_i14',\n",
       " '_i15',\n",
       " '_i16',\n",
       " '_i17',\n",
       " '_i2',\n",
       " '_i3',\n",
       " '_i4',\n",
       " '_i5',\n",
       " '_i6',\n",
       " '_i7',\n",
       " '_i8',\n",
       " '_i9',\n",
       " '_ih',\n",
       " '_ii',\n",
       " '_iii',\n",
       " '_oh',\n",
       " 'argparse',\n",
       " 'args',\n",
       " 'builtins',\n",
       " 'debugpy',\n",
       " 'exit',\n",
       " 'file',\n",
       " 'get_args',\n",
       " 'get_ipython',\n",
       " 'ipykernel',\n",
       " 'kwargs',\n",
       " 'open',\n",
       " 'pprint',\n",
       " 'quit',\n",
       " 'str2bool',\n",
       " 'struct']"
      ]
     },
     "execution_count": 17,
     "metadata": {},
     "output_type": "execute_result"
    }
   ],
   "source": [
    "import struct\n",
    "dir()"
   ]
  },
  {
   "cell_type": "code",
   "execution_count": 18,
   "metadata": {},
   "outputs": [
    {
     "data": {
      "text/plain": [
       "['Struct',\n",
       " '__all__',\n",
       " '__builtins__',\n",
       " '__cached__',\n",
       " '__doc__',\n",
       " '__file__',\n",
       " '__loader__',\n",
       " '__name__',\n",
       " '__package__',\n",
       " '__spec__',\n",
       " '_clearcache',\n",
       " 'calcsize',\n",
       " 'error',\n",
       " 'iter_unpack',\n",
       " 'pack',\n",
       " 'pack_into',\n",
       " 'unpack',\n",
       " 'unpack_from']"
      ]
     },
     "execution_count": 18,
     "metadata": {},
     "output_type": "execute_result"
    }
   ],
   "source": [
    "dir(struct)"
   ]
  },
  {
   "cell_type": "markdown",
   "metadata": {},
   "source": [
    "#### vars()\n",
    "- 모듈, 클래스, 인스턴스 또는 __dict__ 어트리뷰트가 있는 다른 객체의 __dict__ 속성을 돌려준다.\n",
    "- 모듈, 객체와 같은 객체는 업데이트 가능한 __dict__ 속성을 갖는다.\n",
    "    \n",
    "- 인자가 없으면, vars() 는 locals() 처럼 동작\n",
    "- locals 딕셔너리에 대한 변경이 무시되기 때문에 locals 딕셔너리는 읽기에만 유용\n",
    "- 객체가 지정되었지만 __dict__ 어트리뷰트가 없으면 TypeError 예외가 발생"
   ]
  },
  {
   "cell_type": "code",
   "execution_count": 13,
   "metadata": {},
   "outputs": [
    {
     "name": "stdout",
     "output_type": "stream",
     "text": [
      "Namespace(backbone='ViT-B-16-plus-240', batch_size=128, cal_pro=False, class_name='candle', dataset='visa', experiment_indx=0, gpu_id=1, img_cropsize=240, img_resize=240, k_shot=0, load_memory=True, pretrained_dataset='laion400m_e32', pure_test=False, resolution=400, root_dir='./result_winclip', scales=(2, 3), use_cpu=0, vis=True)\n",
      "['__class__', '__contains__', '__delattr__', '__dict__', '__dir__', '__doc__', '__eq__', '__format__', '__ge__', '__getattribute__', '__gt__', '__hash__', '__init__', '__init_subclass__', '__le__', '__lt__', '__module__', '__ne__', '__new__', '__reduce__', '__reduce_ex__', '__repr__', '__setattr__', '__sizeof__', '__str__', '__subclasshook__', '__weakref__', '_get_args', '_get_kwargs', 'backbone', 'batch_size', 'cal_pro', 'class_name', 'dataset', 'experiment_indx', 'gpu_id', 'img_cropsize', 'img_resize', 'k_shot', 'load_memory', 'pretrained_dataset', 'pure_test', 'resolution', 'root_dir', 'scales', 'use_cpu', 'vis']\n",
      "\n",
      "\n",
      "{'backbone': 'ViT-B-16-plus-240',\n",
      " 'batch_size': 128,\n",
      " 'cal_pro': False,\n",
      " 'class_name': 'candle',\n",
      " 'dataset': 'visa',\n",
      " 'experiment_indx': 0,\n",
      " 'gpu_id': 1,\n",
      " 'img_cropsize': 240,\n",
      " 'img_resize': 240,\n",
      " 'k_shot': 0,\n",
      " 'load_memory': True,\n",
      " 'pretrained_dataset': 'laion400m_e32',\n",
      " 'pure_test': False,\n",
      " 'resolution': 400,\n",
      " 'root_dir': './result_winclip',\n",
      " 'scales': (2, 3),\n",
      " 'use_cpu': 0,\n",
      " 'vis': True}\n"
     ]
    }
   ],
   "source": [
    "from pprint import pprint\n",
    "\n",
    "def str2bool(v):\n",
    "    return v.lower() in (\"yes\", \"true\", \"t\", \"1\")\n",
    "\n",
    "def get_args():\n",
    "    parser = argparse.ArgumentParser(description='Anomaly detection')\n",
    "    parser.add_argument('--dataset', type=str, default='visa', choices=['mvtec', 'visa'])\n",
    "    parser.add_argument('--class-name', type=str, default='candle')\n",
    "\n",
    "    parser.add_argument('--img-resize', type=int, default=240)\n",
    "    parser.add_argument('--img-cropsize', type=int, default=240)\n",
    "    parser.add_argument('--resolution', type=int, default=400)\n",
    "\n",
    "    parser.add_argument('--batch-size', type=int, default=128)\n",
    "    parser.add_argument('--vis', type=str2bool, choices=[True, False], default=True)\n",
    "    parser.add_argument(\"--root-dir\", type=str, default=\"./result_winclip\")\n",
    "    parser.add_argument(\"--load-memory\", type=str2bool, default=True)\n",
    "    parser.add_argument(\"--cal-pro\", type=str2bool, default=False)\n",
    "    parser.add_argument(\"--experiment_indx\", type=int, default=0)\n",
    "    parser.add_argument(\"--gpu-id\", type=int, default=1)\n",
    "\n",
    "    # pure test\n",
    "    parser.add_argument(\"--pure-test\", type=str2bool, default=False)\n",
    "\n",
    "    # method related parameters\n",
    "    parser.add_argument('--k-shot', type=int, default=0)\n",
    "    parser.add_argument('--scales', nargs='+', type=int, default=(2, 3, ))\n",
    "    parser.add_argument(\"--backbone\", type=str, default=\"ViT-B-16-plus-240\",\n",
    "                        choices=['ViT-B-16-plus-240'])\n",
    "    parser.add_argument(\"--pretrained_dataset\", type=str, default=\"laion400m_e32\")\n",
    "\n",
    "    parser.add_argument(\"--use-cpu\", type=int, default=0)\n",
    "\n",
    "    args = parser.parse_args('')\n",
    "\n",
    "    return args\n",
    "\n",
    "import argparse\n",
    "args = get_args()\n",
    "pprint(args)\n",
    "print(dir(args))\n",
    "\n",
    "print()\n",
    "print()\n",
    "\n",
    "kwargs = vars(args)\n",
    "pprint(kwargs)"
   ]
  },
  {
   "cell_type": "code",
   "execution_count": null,
   "metadata": {},
   "outputs": [],
   "source": []
  }
 ],
 "metadata": {
  "kernelspec": {
   "display_name": "Python 3.8.17 ('torchWin_rev')",
   "language": "python",
   "name": "python3"
  },
  "language_info": {
   "codemirror_mode": {
    "name": "ipython",
    "version": 3
   },
   "file_extension": ".py",
   "mimetype": "text/x-python",
   "name": "python",
   "nbconvert_exporter": "python",
   "pygments_lexer": "ipython3",
   "version": "3.8.17"
  },
  "orig_nbformat": 4,
  "vscode": {
   "interpreter": {
    "hash": "dcfd0bbc3e25ae79d1f134c08b87e3777d49169aec2e55e1b5fb8249822c085d"
   }
  }
 },
 "nbformat": 4,
 "nbformat_minor": 2
}
