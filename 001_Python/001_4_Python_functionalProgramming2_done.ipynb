{
 "cells": [
  {
   "cell_type": "markdown",
   "metadata": {},
   "source": [
    "## [함수형 프로그래밍 HOWTO (2)](https://docs.python.org/ko/3/howto/functional.html)"
   ]
  },
  {
   "cell_type": "markdown",
   "metadata": {},
   "source": [
    "<목차>\n",
    "- 제너레이터 표현식과 리스트 컴프리핸션의 차이\n",
    "- 제너레이터\n",
    "- 제너레이터에 값 전달하기\n",
    "- 요약"
   ]
  },
  {
   "cell_type": "markdown",
   "metadata": {},
   "source": [
    "<요약>\n",
    "- 제너레이터는 이터레이터의 일종으로, yield 표현식을 이용해 함수(!)를 이터레이터로 만들어 줄 수 있다. \n",
    "- () 를 이용한 제너레이터 표현식(\\<genexp\\>) 으로 만들 수 있으며, 함수와 yield 표현식을 이용하여서도 만들 수 있다.\n",
    "- yield 표현식을 포함하는 함수는 컴파일러에 의해 감지되어 '이터레이터 프로토콜'을 지원하는 제너레이터 객체를 반환하게 된다.\n",
    "- 이터레이터의 일종이므로, __iter__, __next__ 내장 함수와 언패킹을 지원한다.\n",
    "- 제너레이터에 값을 전달할 수 있으며, 코루틴(coroutine)의 기반이 된다."
   ]
  },
  {
   "cell_type": "markdown",
   "metadata": {},
   "source": [
    "#### 제너레이터 표현식과 리스트 컴프리헨션의 차이\n",
    "- 이터레이터의 출력에 대한 두 가지 일반적인 연산은   \n",
    "\n",
    "<span style=\"color:yellowgreen\"> 1) 모든 요소에 대해 어떤 연산을 수행하고,  \n",
    "2) 어떤 조건을 만족하는 요소의 부분 집합을 선택하는 것 </span>\n",
    "  \n",
    "- 리스트 컴프리핸션과 제너레이터 표현식은 함수형 프로그래밍 언어 하스켈에서 빌린 이러한 작업을 위한 간결한 표기법"
   ]
  },
  {
   "cell_type": "code",
   "execution_count": 1,
   "metadata": {},
   "outputs": [
    {
     "name": "stdout",
     "output_type": "stream",
     "text": [
      "['  line 1\\n', 'line 2   \\n', ' \\n', '']\n",
      "<generator object <genexpr> at 0x00000175599CDF90>\n",
      "['line 1', 'line 2', '', '']\n",
      "['line 1', 'line 2', '']\n"
     ]
    }
   ],
   "source": [
    "line_list = ['  line 1\\n', 'line 2   \\n', ' \\n', '']\n",
    "print(line_list)\n",
    "\n",
    "# Generator expression -- returns iterator\n",
    "stripped_iter = (line.strip() for line in line_list) # () 괄호로 감싸면 제너레이터가 된다??\n",
    "print(stripped_iter)\n",
    "\n",
    "# List comprehension -- returns list\n",
    "stripped_list = [line.strip() for line in line_list]\n",
    "print(stripped_list)\n",
    "\n",
    "stripped_list = [line.strip() for line in line_list if line != \"\"]\n",
    "print(stripped_list)"
   ]
  },
  {
   "cell_type": "markdown",
   "metadata": {},
   "source": [
    "- 제너레이터 표현식은 필요에 따라 값을 계산하는 이터레이터를 반환하며 모든 값을 한 번에 구체화할 필요가 없다.  \n",
    "  즉, 무한 스트림이나 매우 많은 양을 데이터를 반환하는 이터레이터로 작업하는 경우 리스트 컴프리헨션은 유용하지 않다.\n",
    "- 제너레이터 표현식은 괄호(“()”)로 묶여 있으며 리스트 컴프리헨션은 대괄호(“[]”)로 묶여 있다.  \n",
    "==> <span style=\"color:orange\">즉, 제너레이터와 리스트 컴프리핸션은 괄호 표기만 다르다. </spane>"
   ]
  },
  {
   "cell_type": "markdown",
   "metadata": {},
   "source": [
    "- 제너레이터 표현식은 항상 괄호 안에 작성해야 하지만 함수 호출을 알리는 괄호도 포함됩니다. \n",
    "- 함수에 즉시 전달되는 이터레이터를 만들고 싶다면 다음과 같이 작성할 수 있습니다  \n",
    "==> <span style=\"color:yellowgreen\"> ★★★ 제너레이터 표현식의 괄호 ()는 함수에 직접 전달될 수 있다??!! </span>"
   ]
  },
  {
   "cell_type": "code",
   "execution_count": 4,
   "metadata": {},
   "outputs": [
    {
     "name": "stdout",
     "output_type": "stream",
     "text": [
      "<generator object <genexpr> at 0x0000025BBE358C80>\n",
      "285\n",
      "285\n",
      "120\n",
      "165\n",
      "<generator object squares at 0x0000025BBE358270>\n",
      "260\n",
      "<generator object <genexpr> at 0x0000025BBE3582E0>\n",
      "['f', 'l', 'o', 'g']\n"
     ]
    }
   ],
   "source": [
    "#obj_total = sum(obj.count for obj in list_all_objects())\n",
    "gen1 = (i * i for i in range(10))  # generator object <genexpr> 임을 확인한다!!\n",
    "print(gen1)\n",
    "print(sum(gen1))\n",
    "print(sum(i * i for i in range(10)))\n",
    "print(sum(i * i for i in range(10) if i%2 == 0))\n",
    "print(sum(i * i for i in range(10) if i%2 == 1))\n",
    "\n",
    "def squares(N):\n",
    "    for i in range(N):\n",
    "        yield i * i\n",
    "\n",
    "gen2 = squares(10)                 # generator object squares 임을 확인한다!!\n",
    "print(gen2)\n",
    "\n",
    "xvec, yvec = [10, 20, 30], [7, 5 ,3]\n",
    "print(sum(x * y for x, y in zip(xvec, yvec))) # dot product\n",
    "\n",
    "data = 'golf'\n",
    "gen3 = (data[i] for i in range(len(data)-1, -1, -1))\n",
    "print(gen3)\n",
    "print(list(gen3))"
   ]
  },
  {
   "cell_type": "markdown",
   "metadata": {},
   "source": [
    "### Q. 제너레이터와 이터레이터의 정확한 차이는??\n",
    "- 이터레이터는 더 일반적인 개념이다. (return self를 수행하는) __next__, __iter__ 매소드를 가지는 어떠한 객체(왜냐하면 두 매소드는 객체 본인을 가지고 수행하기 때문에 e.g. iter(ListA)) 도 다 이터레이터다\n",
    "- 모든 제너레이터는 다 이터레이터다 (제너레이터 $\\in$ 이터레이터). 제너레이터는 한개 이상의 yield를 리턴하는 함수를 호출함으로써 생성된다.\n",
    "- https://stackoverflow.com/questions/2776829/difference-between-pythons-generators-and-iterators  \n",
    "==> <span style=\"color:orange\">개인적으로 제너레이터는 상태를 유지하는 객체의 장점을 간결하게 표현하는 방법이라고 생각한다. </span>  \n",
    "==> <span style=\"color:orange\"> (★★★) 또한, 앞서, 이터레이터는 리스트,튜플, 딕셔너리, 집합, 문자열 등 자료형을 대상으로 이터레이터를 만들었다면, 제너레이터는 yield 키워드를 이용해 함수를 이터레이터로 만들어 줄 수 있다. </span>  \n",
    "\n",
    "파이썬 공식 문서에도 아래와 같이 나와 있다.  \n",
    "  \n",
    "<span style=\"color:orange\"> \"직접 클래스를 작성하고 제너레이터의 모든 지역 변수를 인스턴스 변수로 저장하여 제너레이터의 효과를 수동으로 얻을 수 있습니다. 예를 들어, 정수 리스트를 반환하는 것은 self.count 를 0으로 설정하고 __next__() 메서드로 self.count 를 증가시켜 반환하는 식으로 수행할 수 있습니다. 그러나, 다소 복잡한 제너레이터의 경우에는 해당 클래스를 작성하는 것이 훨씬 더 복잡할 수 있습니다. ([link](https://docs.python.org/ko/3/howto/functional.html))\" </span>  \n",
    "  \n",
    "<span style=\"color:orange\"> \"제너레이터로 수행가능 한 것은 모두 클래스 기반 이터레이터로 구현이 가능하다. 하지만, 제너레이터를 compact하게 만들어 주는 것은 __iter__(), __next__()를 자동으로 생성해 준다는 것이다.([link](https://docs.python.org/ko/3/tutorial/classes.html#generators))\"\n",
    "</span>  "
   ]
  },
  {
   "cell_type": "code",
   "execution_count": 12,
   "metadata": {},
   "outputs": [
    {
     "name": "stdout",
     "output_type": "stream",
     "text": [
      "<generator object squares at 0x00000175597E1430>\n",
      "<__main__.Squares object at 0x00000175593E0130>\n"
     ]
    }
   ],
   "source": [
    "def squares(start, stop):\n",
    "    for i in range(start, stop):\n",
    "        yield i * i\n",
    "\n",
    "generator = squares(5, 10)\n",
    "print(generator)\n",
    "\n",
    "# 위의 제너레이터 기능을 이터레이터로 구현하려면 아래와 같다.\n",
    "\n",
    "class Squares(object):\n",
    "    def __init__(self, start, stop):\n",
    "        self.start = start\n",
    "        self.stop = stop\n",
    "    \n",
    "    def __iter__(self):\n",
    "        return self\n",
    "    \n",
    "    def __next__(self):\n",
    "        if self.start >= self.stop:\n",
    "            raise StopIteration\n",
    "        current = self.start **2\n",
    "        self.start += 1\n",
    "        return current\n",
    "        \n",
    "iterator = Squares(5, 10)\n",
    "print(iterator)"
   ]
  },
  {
   "cell_type": "markdown",
   "metadata": {},
   "source": [
    "##### 리스트 컴프리핸션 사용시 주의 사항\n",
    "- 파이썬 문법의 모호함을 피하고자, expression 이 튜플을 생성하고 있다면, 괄호로 묶어야 합니다. 아래의 첫 번째 리스트 컴프리헨션은 구문 오류이며, 두 번째는 올바릅니다:"
   ]
  },
  {
   "cell_type": "code",
   "execution_count": 4,
   "metadata": {},
   "outputs": [
    {
     "data": {
      "text/plain": [
       "[('a', 1),\n",
       " ('a', 2),\n",
       " ('a', 3),\n",
       " ('b', 1),\n",
       " ('b', 2),\n",
       " ('b', 3),\n",
       " ('c', 1),\n",
       " ('c', 2),\n",
       " ('c', 3)]"
      ]
     },
     "execution_count": 4,
     "metadata": {},
     "output_type": "execute_result"
    }
   ],
   "source": [
    "seq1 = 'abc'\n",
    "seq2 = (1, 2, 3)\n",
    "# [x, y for x in seq1 for y in seq2] # Syntax error\n",
    "[(x, y) for x in seq1 for y in seq2] # Correct"
   ]
  },
  {
   "cell_type": "markdown",
   "metadata": {},
   "source": [
    "### 제너레이터\n",
    "- <span style=\"color:yellowgreen\"> 제너레이터는 이터레이터를 작성하는 작업을 단순화 하는 특별한 클래스의 함수 </span>\n",
    "- <span style=\"color:yellowgreen\"> 일반 함수는 값을 계산하여 반환하지만, 제너레이터는 값의 스트림을 반환하는 '이터레이터를 반환' </span>\n",
    "- 제너레이터는 함수가 종료되어도, 이름 공간과 지역변수 집합을 새로 생성하지 않고(!) 중단했던 곳에서 함수를 다시 시작한다. \n",
    "- <span style=\"color:yellowgreen\"> yield 키워드를 포함하는 함수는 제너레이터 함수는 파이썬 바이트 코드 컴파일러에 의해 감지된다. 결과적으로 컴파일러는 특별하게 함수를 컴파일 한다. </span>  \n",
    "==> <span style=\"color:orange\"> 제너레이터는 이터레이터의 부분 집합이다.  \n",
    "왜 공식문서에서 클래스의 함수 라고 제너레이터를 표현했는지??는 이해가 안된다. </span>"
   ]
  },
  {
   "cell_type": "code",
   "execution_count": 19,
   "metadata": {},
   "outputs": [],
   "source": [
    "def generate_ints(N):\n",
    "   for i in range(N):\n",
    "       yield i"
   ]
  },
  {
   "cell_type": "markdown",
   "metadata": {},
   "source": [
    "- <span style=\"color:yellowgreen\"> 제너레이터 함수를 호출하면 단일값을 반환하지 않고, 대신 이터레이터 프로토콜을 지원하는 제너레이터 객체(★★★) 를 반환한다. </span>\n",
    "- yield 와 return 의 큰 차이점은 yield 에 도달하면 제너레이터의 실행 상태가 일시 중단되고 지역 변수가 보존된다는 것\n",
    "- 제너레이터의 __next__() 메서드가 다음에 실행될 때, 함수가 다시 실행된다."
   ]
  },
  {
   "cell_type": "code",
   "execution_count": 20,
   "metadata": {},
   "outputs": [
    {
     "name": "stdout",
     "output_type": "stream",
     "text": [
      "<generator object generate_ints at 0x000001F576D76120>\n",
      "0\n",
      "1\n",
      "2\n"
     ]
    },
    {
     "ename": "StopIteration",
     "evalue": "",
     "output_type": "error",
     "traceback": [
      "\u001b[1;31m---------------------------------------------------------------------------\u001b[0m",
      "\u001b[1;31mStopIteration\u001b[0m                             Traceback (most recent call last)",
      "Cell \u001b[1;32mIn[20], line 7\u001b[0m\n\u001b[0;32m      5\u001b[0m \u001b[39mprint\u001b[39m(\u001b[39mnext\u001b[39m(gen))\n\u001b[0;32m      6\u001b[0m \u001b[39mprint\u001b[39m(\u001b[39mnext\u001b[39m(gen))\n\u001b[1;32m----> 7\u001b[0m \u001b[39mprint\u001b[39m(\u001b[39mnext\u001b[39;49m(gen))\n\u001b[0;32m      8\u001b[0m \u001b[39m# Traceback (most recent call last):\u001b[39;00m\n\u001b[0;32m      9\u001b[0m \u001b[39m#   File \"stdin\", line 1, in <module>\u001b[39;00m\n\u001b[0;32m     10\u001b[0m \u001b[39m#   File \"stdin\", line 2, in generate_ints\u001b[39;00m\n\u001b[0;32m     11\u001b[0m \u001b[39m# StopIteration\u001b[39;00m\n",
      "\u001b[1;31mStopIteration\u001b[0m: "
     ]
    }
   ],
   "source": [
    "gen = generate_ints(3) # 이터레이터와 비슷하다\n",
    "print(gen)\n",
    "# <generator object generate_ints at ...>\n",
    "print(next(gen))\n",
    "print(next(gen))\n",
    "print(next(gen))\n",
    "print(next(gen))\n",
    "# Traceback (most recent call last):\n",
    "#   File \"stdin\", line 1, in <module>\n",
    "#   File \"stdin\", line 2, in generate_ints\n",
    "# StopIteration"
   ]
  },
  {
   "cell_type": "code",
   "execution_count": 1,
   "metadata": {},
   "outputs": [
    {
     "name": "stdout",
     "output_type": "stream",
     "text": [
      "e\n",
      "k\n",
      "i\n",
      "r\n",
      "t\n",
      "s\n"
     ]
    }
   ],
   "source": [
    "def reverse(data):\n",
    "    for idx in range(len(data) - 1, -1, -1):\n",
    "        yield data[idx]\n",
    "for c in reverse('strike'): # in 뒤에는 이터러블이 위치한다. 제너레이터는 이터레이터이므로 이터러블이다. \n",
    "    print(c)                # for은 iter()로 객체를 감싸고 .__next__()를 호출한다."
   ]
  },
  {
   "cell_type": "markdown",
   "metadata": {},
   "source": [
    "##### 제너레이터 언패킹 지원\n",
    "- 제너레이터도 이터레이터 이기 때문에 이터레이터가 언패킹을 지원하듯, 제너레이터도 언패킹을 지원한다."
   ]
  },
  {
   "cell_type": "code",
   "execution_count": 16,
   "metadata": {},
   "outputs": [
    {
     "name": "stdout",
     "output_type": "stream",
     "text": [
      "0 1 2\n"
     ]
    },
    {
     "ename": "ValueError",
     "evalue": "not enough values to unpack (expected 4, got 3)",
     "output_type": "error",
     "traceback": [
      "\u001b[1;31m---------------------------------------------------------------------------\u001b[0m",
      "\u001b[1;31mValueError\u001b[0m                                Traceback (most recent call last)",
      "Cell \u001b[1;32mIn[16], line 13\u001b[0m\n\u001b[0;32m     10\u001b[0m a, b, c \u001b[39m=\u001b[39m generate_ints(\u001b[39m3\u001b[39m) \n\u001b[0;32m     11\u001b[0m \u001b[39mprint\u001b[39m(a, b, c)\n\u001b[1;32m---> 13\u001b[0m a, b, c, d \u001b[39m=\u001b[39m generate_ints2(\u001b[39m3\u001b[39m) \n\u001b[0;32m     14\u001b[0m \u001b[39mprint\u001b[39m(a, b, c, d)\n",
      "\u001b[1;31mValueError\u001b[0m: not enough values to unpack (expected 4, got 3)"
     ]
    }
   ],
   "source": [
    "def generate_ints(N):\n",
    "   for i in range(N):\n",
    "       yield i\n",
    "\n",
    "def generate_ints2(N):\n",
    "   for i in range(N):\n",
    "       yield i\n",
    "\n",
    "a, b, c = generate_ints(3) \n",
    "print(a, b, c)\n",
    "\n",
    "a, b, c, d = generate_ints2(3) \n",
    "print(a, b, c, d)"
   ]
  },
  {
   "cell_type": "code",
   "execution_count": null,
   "metadata": {},
   "outputs": [],
   "source": [
    "def inorder(t):\n",
    "    if t:\n",
    "        for x in inorder(t.left):\n",
    "            yield x\n",
    "\n",
    "        yield t.label\n",
    "\n",
    "        for x in inorder(t.right):\n",
    "            yield x"
   ]
  },
  {
   "cell_type": "markdown",
   "metadata": {},
   "source": [
    "- 제너레이터의 특수한 사용은 본 사이트를 참고하자(https://github.com/python/cpython/blob/3.11/Lib/test/test_generators.py)\n",
    "  - 제너레이터를 이용한 N_Queen 문제\n",
    "  - 제너레이터를 이용한 NxN 기사의 여행 문제"
   ]
  },
  {
   "cell_type": "markdown",
   "metadata": {},
   "source": [
    "### 제너레이터에 값 전달하기\n",
    "- 파이썬 2.4 버전 이하에서는 제너레이터는 출력만 생성했다. 제너레이터 코드가 이터레이터를 만들기 위해 호출된 후에는 그 실행이 다시 시작될 때, 함수에 새로운 정보를 전달할 방법이 없었다.\n",
    "- 파이썬 2.5 부터 제너레이터에 값을 전달하는 간단한 방법이 있다. yield 는 표현식이 되어 변수에 대입하거나 다른 식으로 조작할 수 있는 값을 반환한다.\n",
    "- 아래 예제 처럼 반환 값으로 무엇인가 할때, yield 표현식 주위에 항상 괄호를 넣는 것이 좋다. \n",
    "- val = (yield i) + 12 처럼 연산이 있을 때는 괄호를 써야한다."
   ]
  },
  {
   "cell_type": "code",
   "execution_count": null,
   "metadata": {},
   "outputs": [],
   "source": [
    "val = (yield i)"
   ]
  },
  {
   "cell_type": "markdown",
   "metadata": {},
   "source": [
    "- 값은 send(value) 메서드를 호출하여 제너레이터를 보내진다. 이 메서드는 제너레이터 코드를 다시 시작하고, yield 표현식은 지정된 값을 반환한다.  \n",
    "==> <span style=\"color:orange\"> ★★★ 제너레이터가 내보내는 값은 yield 오른쪽에(None 반환),  \n",
    "제너레이터가 받는 값은 yield 왼쪽에 놓인다. </span>"
   ]
  },
  {
   "cell_type": "code",
   "execution_count": 1,
   "metadata": {},
   "outputs": [],
   "source": [
    "def counter(maximum):\n",
    "    i = 0\n",
    "    while i < maximum:\n",
    "        val = (yield i) \n",
    "        # If value provided, change counter\n",
    "        if val is not None:\n",
    "            i = val\n",
    "        else:\n",
    "            i += 1"
   ]
  },
  {
   "cell_type": "code",
   "execution_count": 7,
   "metadata": {},
   "outputs": [
    {
     "name": "stdout",
     "output_type": "stream",
     "text": [
      "0\n",
      "1\n",
      "2\n",
      "8\n",
      "9\n"
     ]
    },
    {
     "ename": "StopIteration",
     "evalue": "",
     "output_type": "error",
     "traceback": [
      "\u001b[1;31m---------------------------------------------------------------------------\u001b[0m",
      "\u001b[1;31mStopIteration\u001b[0m                             Traceback (most recent call last)",
      "Cell \u001b[1;32mIn[7], line 8\u001b[0m\n\u001b[0;32m      6\u001b[0m \u001b[39mprint\u001b[39m(\u001b[39mnext\u001b[39m(it))\n\u001b[0;32m      7\u001b[0m \u001b[39mprint\u001b[39m(\u001b[39mnext\u001b[39m(it))\n\u001b[1;32m----> 8\u001b[0m \u001b[39mprint\u001b[39m(\u001b[39mnext\u001b[39;49m(it))\n",
      "\u001b[1;31mStopIteration\u001b[0m: "
     ]
    }
   ],
   "source": [
    "it = counter(10)\n",
    "print(next(it))\n",
    "print(next(it))\n",
    "print(next(it))\n",
    "it.send(7)\n",
    "print(next(it))\n",
    "print(next(it))\n",
    "print(next(it))"
   ]
  },
  {
   "cell_type": "markdown",
   "metadata": {},
   "source": [
    "- <span style=\"color:yellowgreen\"> 제너레이터는 코루틴이 되어 더 일반적인 형태의 서브루틴이 된다. 서브루틴은 한 지점에서 시작되고 다른 한 지점(함수의 맨 위와 return문)에서 빠져 나온다. 그러나, 여러 다른 지점에서 코루틴을 시작하고 빠져나오고 다시 시작할 수 있다(yield문) </span>"
   ]
  },
  {
   "cell_type": "markdown",
   "metadata": {},
   "source": [
    "<요약>\n",
    "- 제너레이터는 이터레이터의 일종으로, yield 표현식을 이용해 함수(!)를 이터레이터로 만들어 줄 수 있다. \n",
    "- () 를 이용한 제너레이터 표현식(\\<genexp\\>) 으로 만들 수 있으며, 함수와 yield 표현식을 이용하여서도 만들 수 있다.\n",
    "- yield 표현식을 포함하는 함수는 컴파일러에 의해 감지되어 '이터레이터 프로토콜'을 지원하는 제너레이터 객체를 반환하게 된다.\n",
    "- 이터레이터의 일종이므로, __iter__, __next__ 내장 함수와 언패킹을 지원한다.\n",
    "- 제너레이터에 값을 전달할 수 있으며, 코루틴(coroutine)의 기반이 된다."
   ]
  }
 ],
 "metadata": {
  "kernelspec": {
   "display_name": "Python 3.8.17 ('torchWin_rev')",
   "language": "python",
   "name": "python3"
  },
  "language_info": {
   "codemirror_mode": {
    "name": "ipython",
    "version": 3
   },
   "file_extension": ".py",
   "mimetype": "text/x-python",
   "name": "python",
   "nbconvert_exporter": "python",
   "pygments_lexer": "ipython3",
   "version": "3.8.17"
  },
  "orig_nbformat": 4,
  "vscode": {
   "interpreter": {
    "hash": "dcfd0bbc3e25ae79d1f134c08b87e3777d49169aec2e55e1b5fb8249822c085d"
   }
  }
 },
 "nbformat": 4,
 "nbformat_minor": 2
}
