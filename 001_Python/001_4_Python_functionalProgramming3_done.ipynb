{
 "cells": [
  {
   "cell_type": "markdown",
   "metadata": {},
   "source": [
    "## [함수형 프로그래밍 HOWTO (3)](https://docs.python.org/ko/3/howto/functional.html)"
   ]
  },
  {
   "cell_type": "markdown",
   "metadata": {},
   "source": [
    "<목차>\n",
    "- 내장함수 : **map**(f, iterA, iterB, ...), **filter**(predicate, iter), **enumerate**(iter, start=0), **sorted**(iterable, key=None, reverse=False) , **all**(iter), **any**(iter), **zip**(iterA, iterB, ...)\n",
    "- itertools 모듈\n",
    "  - 새로운 이터레이터 만들기 : .**count**(start, stop), .**cycle**(iter), .**repeat**(elem, n), .**chain**(iterA, iterB, ...), .**islice**(iter, [start], stop, [step]), .**tee**(iter, n), .**accumulate**(iter, func=operator.add)\n",
    "  - 요소에 대한 함수 호출 : .**starmap**(func, iter)\n",
    "  - 요소 선택하기 : .**filterfalse**(pred, iter), .**takewhile**(pred, iter), .**dropwhile**(pred, iter), .**compress**(data, selectors)\n",
    "  - 요소 분류 : .**groupby**(iter, key_func=None)\n",
    "  - 조합함수 : .**combinations**(iter, r), .**permutations**(iter, r=None), .**combinations_with_replacement**(iter, r) "
   ]
  },
  {
   "cell_type": "markdown",
   "metadata": {},
   "source": [
    "<총평>\n",
    "- 잘 기억해 뒀다가, 필요할 때마다 다양하게 사용해 보는 것이 좋은 것 같다.\n",
    "- map, filter는 이터레이터 객체이므로, 자료형으로 반환하려면 list()로 감싼다. \n",
    "- sorted는 자료형을 그대로 반환한다.\n",
    "- any, all은 boolean을 반환하므로 슬라이싱을 위한 인덱스로 자주 사용하도록 한다.\n",
    "- itertools.filterfalse(predicate, iter)는 filter()와 반대이고, takewhile은 dropwhile의 반대이다. 한쪽만 잘 익힌다면, 굳이 반대의미를 가지는 것을 쓸 이유가 있나 싶다.\n",
    "- https://docs.python.org/ko/3/library/itertools.html#module-itertools 를 상시 참조한다."
   ]
  },
  {
   "cell_type": "markdown",
   "metadata": {},
   "source": [
    "### 내장 함수\n",
    "- 파이썬의 두 가지 내장 함수인 map() 와 filter() 는 제너레이터 표현식의 기능을 복제한다.  \n",
    "==> <span style=\"color:yellowgreen\"> f(iterA[0]), f(iterA[1]) 이런식으로 iter의 내부 요소가 함수에 다중으로 적용될 수 있게 복사한다고 공식문서는 표현하였다. </span>"
   ]
  },
  {
   "cell_type": "markdown",
   "metadata": {},
   "source": [
    "##### map(function, iterA, iterB, ...)\n",
    "- 다음과 같은 시퀀스에 대한 이터레이터를 반환한다.\n",
    "- function(iterA[0], iterB[0]), function(iterA[1], iterB[1]), function(iterA[2], iterB[2]), ...."
   ]
  },
  {
   "cell_type": "code",
   "execution_count": 9,
   "metadata": {},
   "outputs": [
    {
     "name": "stdout",
     "output_type": "stream",
     "text": [
      "<map object at 0x000001F834EC5490>\n",
      "['SENTENCE', 'FRAGMENT']\n",
      "['SENTENCE', 'FRAGMENT']\n"
     ]
    }
   ],
   "source": [
    "def upper(s):\n",
    "    return s.upper()\n",
    "print(map(upper, ['sentence', 'fragment']))\n",
    "print(list(map(upper, ['sentence', 'fragment']))) # 이터레이터를 데이터 형으로 변환\n",
    "print([upper(s) for s in (['sentence', 'fragment'])])"
   ]
  },
  {
   "cell_type": "markdown",
   "metadata": {},
   "source": [
    "##### filter(predicate, iter)\n",
    "- 특정 조건을 만족하는 모든 시퀀스 요소에 대한 이터레이터를 반환한다.\n",
    "- map과 마찬가지로 리스트 컴프리핸션에 의해 복제 된다  \n",
    "==> <span style=\"color:yellowgreen\"> 함수에 반환 값을 남기는 map과는 달리 Boolean 값이 True인 경우만 남긴다. </span>"
   ]
  },
  {
   "cell_type": "code",
   "execution_count": 10,
   "metadata": {},
   "outputs": [
    {
     "name": "stdout",
     "output_type": "stream",
     "text": [
      "[0, 2, 4, 6, 8]\n",
      "[0, 2, 4, 6, 8]\n"
     ]
    }
   ],
   "source": [
    "def is_even(x):\n",
    "    return (x % 2) == 0\n",
    "\n",
    "print(list(filter(is_even, range(10))))\n",
    "print([x for x in range(10) if is_even(x)])"
   ]
  },
  {
   "cell_type": "code",
   "execution_count": null,
   "metadata": {},
   "outputs": [],
   "source": [
    "existing_files = filter(os.path.exists, file_list)"
   ]
  },
  {
   "cell_type": "markdown",
   "metadata": {},
   "source": [
    "##### enumerate(iter, start=0)\n",
    "- 카운트(start 부터)와 각 요소를 포함하는 2-튜플을 반환하는 이터러블의 요소를 계산"
   ]
  },
  {
   "cell_type": "markdown",
   "metadata": {},
   "source": [
    "#### sorted(iterable, key=None, reverse=False)\n",
    "- 이터러블의 모든 요소를 리스트로 모으고, 리스트를 정렬하고, 정렬된 결과를 반환\n",
    "- key 와 reverse 인자는 생성된 리스트의 sort() 메서드로 전달"
   ]
  },
  {
   "cell_type": "markdown",
   "metadata": {},
   "source": [
    "#### zip(iterA, iterB, ...)\n",
    "- 각 이터러블에서 한 요소를 취해 튜플로 반환"
   ]
  },
  {
   "cell_type": "code",
   "execution_count": 13,
   "metadata": {},
   "outputs": [
    {
     "name": "stdout",
     "output_type": "stream",
     "text": [
      "<class 'zip'>\n",
      "[('a', 1), ('b', 2), ('c', 3)]\n",
      "[('a', 1), ('b', 2), ('c', 3), ('d', 4)]\n"
     ]
    }
   ],
   "source": [
    "z1 = zip(['a', 'b', 'c'], (1, 2, 3))\n",
    "print(zip)\n",
    "print(list(z1))\n",
    "\n",
    "z2 = zip(['a', 'b', 'c', 'd'], (1, 2, 3, 4, 5))\n",
    "print(list(z2))"
   ]
  },
  {
   "cell_type": "markdown",
   "metadata": {},
   "source": [
    "#### any(iter), all(iter)"
   ]
  },
  {
   "cell_type": "code",
   "execution_count": 14,
   "metadata": {},
   "outputs": [
    {
     "name": "stdout",
     "output_type": "stream",
     "text": [
      "True\n",
      "False\n",
      "True\n",
      "\n",
      "False\n",
      "False\n",
      "True\n"
     ]
    }
   ],
   "source": [
    "print(any([0, 1, 0]))\n",
    "print(any([0, 0, 0]))\n",
    "print(any([0, 1, 1]))\n",
    "\n",
    "print()\n",
    "\n",
    "print(all([0, 1, 0]))\n",
    "print(all([0, 0, 0]))\n",
    "print(all([1, 1, 1]))\n",
    "\n"
   ]
  },
  {
   "cell_type": "markdown",
   "metadata": {},
   "source": [
    "#### itertools 모듈\n",
    "모듈의 기능은 몇가지 광범위한 클래스로 분류 됩니다  \n",
    "- 새로운 이터레이터를 만드는 함수\n",
    "- 이터레이터의 요소를 함수의 인자로 처리하는 함수\n",
    "- 이터레이터의 출력을 선택하는 함수\n",
    "- 이터레이터의 출력을 분류하는 함수"
   ]
  },
  {
   "cell_type": "markdown",
   "metadata": {},
   "source": [
    "##### 1) 새로운 이터레이터 만들기"
   ]
  },
  {
   "cell_type": "markdown",
   "metadata": {},
   "source": [
    "- itertools.count(start, step) 는 균등하게 간격을 둔 값들의 무한한 스트림을 반환"
   ]
  },
  {
   "cell_type": "code",
   "execution_count": 14,
   "metadata": {},
   "outputs": [
    {
     "name": "stdout",
     "output_type": "stream",
     "text": [
      "0\n",
      "1\n",
      "\n",
      "10\n",
      "11\n",
      "\n",
      "10\n",
      "15\n"
     ]
    }
   ],
   "source": [
    "import itertools\n",
    "it1 = itertools.count() # ==> 0, 1, 2, 3, 4, 5, 6, 7, 8, 9, ...\n",
    "it2 = itertools.count(10) # ==> 10, 11, 12, 13, 14, 15, 16, ...\n",
    "it3 = itertools.count(10, 5) # ==> 10, 15, 20, 25, ...\n",
    "print(next(it1))\n",
    "print(next(it1))\n",
    "\n",
    "print()\n",
    "\n",
    "print(next(it2))\n",
    "print(next(it2))\n",
    "\n",
    "print()\n",
    "\n",
    "print(next(it3))\n",
    "print(next(it3))"
   ]
  },
  {
   "cell_type": "markdown",
   "metadata": {},
   "source": [
    "- itertools.cycle(iter) 은 제공된 이터러블의 내용 사본을 저장하고 처음부터 마지막까지 요소를 반환하는 새로운 이터레이터를 반환"
   ]
  },
  {
   "cell_type": "code",
   "execution_count": 26,
   "metadata": {},
   "outputs": [
    {
     "name": "stdout",
     "output_type": "stream",
     "text": [
      "1\n",
      "2\n",
      "3\n",
      "1\n",
      "2\n"
     ]
    }
   ],
   "source": [
    "it = itertools.cycle([1, 2, 3])\n",
    "print(next(it))\n",
    "print(next(it))\n",
    "print(next(it))\n",
    "print(next(it))\n",
    "print(next(it))"
   ]
  },
  {
   "cell_type": "markdown",
   "metadata": {},
   "source": [
    "- itertools.repeat(elem, [n]) 는 제공된 요소를 n 번 반환하거나, n 이 제공되지 않으면 끝없이 요소를 반환"
   ]
  },
  {
   "cell_type": "code",
   "execution_count": 16,
   "metadata": {},
   "outputs": [
    {
     "name": "stdout",
     "output_type": "stream",
     "text": [
      "abc\n",
      "abc\n",
      "abc\n",
      "cdf\n"
     ]
    }
   ],
   "source": [
    "it = itertools.repeat('abc', 3)\n",
    "print(next(it))\n",
    "print(next(it))\n",
    "print(next(it))\n",
    "# print(next(it)) # error\n",
    "\n",
    "it2 = itertools.repeat('cdf')\n",
    "print(next(it2))"
   ]
  },
  {
   "cell_type": "markdown",
   "metadata": {},
   "source": [
    "##### itertools.chain(iterA, iterB, ...)\n",
    "- 임의의 수의 이터러블을 입력으로 취하여, 첫 번째 이터러블의 모든 요소를 반환한 다음 두 번째 요소의 모든 요소를 반환\n",
    "- 모든 이터러블이 다 소모될 때까지 이 동작을 반복"
   ]
  },
  {
   "cell_type": "code",
   "execution_count": 19,
   "metadata": {},
   "outputs": [
    {
     "name": "stdout",
     "output_type": "stream",
     "text": [
      "a\n",
      "b\n",
      "c\n",
      "1\n",
      "2\n"
     ]
    },
    {
     "ename": "StopIteration",
     "evalue": "",
     "output_type": "error",
     "traceback": [
      "\u001b[1;31m---------------------------------------------------------------------------\u001b[0m",
      "\u001b[1;31mStopIteration\u001b[0m                             Traceback (most recent call last)",
      "Cell \u001b[1;32mIn[19], line 8\u001b[0m\n\u001b[0;32m      6\u001b[0m \u001b[39mprint\u001b[39m(\u001b[39mnext\u001b[39m(it))\n\u001b[0;32m      7\u001b[0m \u001b[39mprint\u001b[39m(\u001b[39mnext\u001b[39m(it))\n\u001b[1;32m----> 8\u001b[0m \u001b[39mprint\u001b[39m(\u001b[39mnext\u001b[39;49m(it)) \u001b[39m# error\u001b[39;00m\n",
      "\u001b[1;31mStopIteration\u001b[0m: "
     ]
    }
   ],
   "source": [
    "# 리스트와 튜플 모두 이터러블이기 때문에 연결\n",
    "it = itertools.chain(['a', 'b', 'c'], (1, 2))\n",
    "print(next(it))\n",
    "print(next(it))\n",
    "print(next(it))\n",
    "print(next(it))\n",
    "print(next(it))\n",
    "print(next(it)) # error"
   ]
  },
  {
   "cell_type": "markdown",
   "metadata": {},
   "source": [
    "##### itertools.islice(iter, [start], stop, [step])\n",
    "- 이터레이터의 조각 스트림을 반환. "
   ]
  },
  {
   "cell_type": "code",
   "execution_count": 24,
   "metadata": {},
   "outputs": [
    {
     "name": "stdout",
     "output_type": "stream",
     "text": [
      "0\n",
      "1\n",
      "2\n",
      "\n",
      "2\n",
      "3\n",
      "4\n",
      "\n",
      "2\n",
      "4\n"
     ]
    }
   ],
   "source": [
    "it = itertools.islice(range(10), 5)\n",
    "print(next(it))\n",
    "print(next(it))\n",
    "print(next(it))\n",
    "\n",
    "print()\n",
    "\n",
    "it2 = itertools.islice(range(10), 2, 5)\n",
    "print(next(it2))\n",
    "print(next(it2))\n",
    "print(next(it2))\n",
    "#print(next(it2))\n",
    "\n",
    "print()\n",
    "\n",
    "it3 = itertools.islice(range(10), 2, 5, 2)\n",
    "print(next(it3))\n",
    "print(next(it3))\n",
    "#print(next(it3)) #error\n"
   ]
  },
  {
   "cell_type": "markdown",
   "metadata": {},
   "source": [
    "##### itertools.tee(iter, [n])\n",
    "-  이터레이터를 복제. 원본 이터레이터의 내용을 모두 반환하는 n개의 독립적인 이터레이터를 반환\n",
    "n에 대해 값을 제공하지 않으면 디폴트 '2'  "
   ]
  },
  {
   "cell_type": "code",
   "execution_count": 27,
   "metadata": {},
   "outputs": [
    {
     "name": "stdout",
     "output_type": "stream",
     "text": [
      "(<itertools._tee object at 0x000001F834E76380>, <itertools._tee object at 0x000001F834E76600>, <itertools._tee object at 0x000001F834E76040>)\n",
      "10\n",
      "10\n",
      "10\n",
      "\n",
      "11\n",
      "11\n",
      "11\n"
     ]
    }
   ],
   "source": [
    "it = itertools.tee(itertools.count(10), 3) # 이터레이터 3개를 반환\n",
    "print(it)\n",
    "print(next(it[0]))\n",
    "print(next(it[1]))\n",
    "print(next(it[2]))\n",
    "\n",
    "print()\n",
    "\n",
    "print(next(it[0]))\n",
    "print(next(it[1]))\n",
    "print(next(it[2]))"
   ]
  },
  {
   "cell_type": "markdown",
   "metadata": {},
   "source": [
    "##### itertools.accumulate(iterable, func=operator.add)\n",
    "- functools.reduce와 차이를 파악하도록 한다. 결과 값을 반환하는 functools.reduce와는 달리 itertools.accumulate는 이터레이터를 반환한다."
   ]
  },
  {
   "cell_type": "code",
   "execution_count": null,
   "metadata": {},
   "outputs": [
    {
     "name": "stdout",
     "output_type": "stream",
     "text": [
      "1\n",
      "3\n",
      "6\n",
      "10\n",
      "\n",
      "1\n",
      "2\n",
      "6\n",
      "24\n"
     ]
    }
   ],
   "source": [
    "import itertools\n",
    "\n",
    "it = itertools.accumulate([1, 2, 3, 4, 5])\n",
    "print(next(it))\n",
    "print(next(it))\n",
    "print(next(it))\n",
    "print(next(it))\n",
    "\n",
    "print()\n",
    "\n",
    "it = itertools.accumulate([1, 2, 3, 4, 5], func=operator.mul)\n",
    "print(next(it))\n",
    "print(next(it))\n",
    "print(next(it))\n",
    "print(next(it))"
   ]
  },
  {
   "cell_type": "code",
   "execution_count": 1,
   "metadata": {},
   "outputs": [
    {
     "name": "stdout",
     "output_type": "stream",
     "text": [
      "[1161, 1814, 1814, 2256, 2256, 2256, 2256, 2256, 2450, 2823, 2823, 2823]\n"
     ]
    }
   ],
   "source": [
    "# 1월에서 12월 동안 그때까지의 최대 월수입을 표시하고 싶다면, 함수 두번째 인자로 max를 전달한다.\n",
    "import itertools\n",
    "monthly_income = [1161, 1814, 1270, 2256, 1413, 1842, 2221, 2207, 2450, 2823, 2540, 2134]\n",
    "result = list(itertools.accumulate(monthly_income, max))\n",
    "print(result)"
   ]
  },
  {
   "cell_type": "markdown",
   "metadata": {},
   "source": [
    "#### 2) 요소에 대한 함수 호출\n",
    "- operator 모듈은 파이썬의 연산자에 대응하는 함수 집합을 포함\n",
    "- 예를 들어 operator.add(a, b) (두 개의 값을 더하기), operator.ne(a, b) (a != b 와 동일) 및 operator.attrgetter('id') (.id 어트리뷰트를 가져오는 콜러블을 반환)와 같은 함수가 있다."
   ]
  },
  {
   "cell_type": "code",
   "execution_count": 29,
   "metadata": {},
   "outputs": [
    {
     "name": "stdout",
     "output_type": "stream",
     "text": [
      "/bin\\python\n",
      "/usr\\bin\\java\n",
      "/usr\\bin\\perl\n",
      "/usr\\bin\\ruby\n"
     ]
    }
   ],
   "source": [
    "it = itertools.starmap(os.path.join,\n",
    "                  [('/bin', 'python'), ('/usr', 'bin', 'java'),\n",
    "                   ('/usr', 'bin', 'perl'), ('/usr', 'bin', 'ruby')])\n",
    "\n",
    "print(next(it))\n",
    "print(next(it))\n",
    "print(next(it))\n",
    "print(next(it))\n",
    "#print(next(it))"
   ]
  },
  {
   "cell_type": "code",
   "execution_count": 28,
   "metadata": {},
   "outputs": [
    {
     "ename": "TypeError",
     "evalue": "expected str, bytes or os.PathLike object, not tuple",
     "output_type": "error",
     "traceback": [
      "\u001b[1;31m---------------------------------------------------------------------------\u001b[0m",
      "\u001b[1;31mTypeError\u001b[0m                                 Traceback (most recent call last)",
      "Cell \u001b[1;32mIn[28], line 3\u001b[0m\n\u001b[0;32m      1\u001b[0m it2 \u001b[39m=\u001b[39m \u001b[39mmap\u001b[39m(os\u001b[39m.\u001b[39mpath\u001b[39m.\u001b[39mjoin, [(\u001b[39m'\u001b[39m\u001b[39m/bin\u001b[39m\u001b[39m'\u001b[39m, \u001b[39m'\u001b[39m\u001b[39mpython\u001b[39m\u001b[39m'\u001b[39m), (\u001b[39m'\u001b[39m\u001b[39m/usr\u001b[39m\u001b[39m'\u001b[39m, \u001b[39m'\u001b[39m\u001b[39mbin\u001b[39m\u001b[39m'\u001b[39m, \u001b[39m'\u001b[39m\u001b[39mjava\u001b[39m\u001b[39m'\u001b[39m),\n\u001b[0;32m      2\u001b[0m                    (\u001b[39m'\u001b[39m\u001b[39m/usr\u001b[39m\u001b[39m'\u001b[39m, \u001b[39m'\u001b[39m\u001b[39mbin\u001b[39m\u001b[39m'\u001b[39m, \u001b[39m'\u001b[39m\u001b[39mperl\u001b[39m\u001b[39m'\u001b[39m), (\u001b[39m'\u001b[39m\u001b[39m/usr\u001b[39m\u001b[39m'\u001b[39m, \u001b[39m'\u001b[39m\u001b[39mbin\u001b[39m\u001b[39m'\u001b[39m, \u001b[39m'\u001b[39m\u001b[39mruby\u001b[39m\u001b[39m'\u001b[39m)])\n\u001b[1;32m----> 3\u001b[0m \u001b[39mprint\u001b[39m(\u001b[39mnext\u001b[39;49m(it2))\n",
      "File \u001b[1;32mc:\\ProgramData\\miniconda3\\envs\\torchWin_rev\\lib\\ntpath.py:78\u001b[0m, in \u001b[0;36mjoin\u001b[1;34m(path, *paths)\u001b[0m\n\u001b[0;32m     77\u001b[0m \u001b[39mdef\u001b[39;00m \u001b[39mjoin\u001b[39m(path, \u001b[39m*\u001b[39mpaths):\n\u001b[1;32m---> 78\u001b[0m     path \u001b[39m=\u001b[39m os\u001b[39m.\u001b[39;49mfspath(path)\n\u001b[0;32m     79\u001b[0m     \u001b[39mif\u001b[39;00m \u001b[39misinstance\u001b[39m(path, \u001b[39mbytes\u001b[39m):\n\u001b[0;32m     80\u001b[0m         sep \u001b[39m=\u001b[39m \u001b[39mb\u001b[39m\u001b[39m'\u001b[39m\u001b[39m\\\\\u001b[39;00m\u001b[39m'\u001b[39m\n",
      "\u001b[1;31mTypeError\u001b[0m: expected str, bytes or os.PathLike object, not tuple"
     ]
    }
   ],
   "source": [
    "# 위와 유사하게 아래도 동작할 거라 생각했지만, 동작하지 않는다.\n",
    "it2 = map(os.path.join, [('/bin', 'python'), ('/usr', 'bin', 'java'),\n",
    "                   ('/usr', 'bin', 'perl'), ('/usr', 'bin', 'ruby')])\n",
    "print(next(it2))"
   ]
  },
  {
   "cell_type": "markdown",
   "metadata": {},
   "source": [
    "#### 3) 요소 선택하기"
   ]
  },
  {
   "cell_type": "markdown",
   "metadata": {},
   "source": [
    "#### itertools.takewhile(predicate, iter)\n",
    "- predicate가 참을 반환하는 한 요소를 반환. predicate가 거짓을 반환하면 결과 종료"
   ]
  },
  {
   "cell_type": "code",
   "execution_count": 35,
   "metadata": {},
   "outputs": [
    {
     "name": "stdout",
     "output_type": "stream",
     "text": [
      "0\n",
      "1\n",
      "2\n",
      "3\n",
      "4\n",
      "\n",
      "0\n"
     ]
    },
    {
     "ename": "StopIteration",
     "evalue": "",
     "output_type": "error",
     "traceback": [
      "\u001b[1;31m---------------------------------------------------------------------------\u001b[0m",
      "\u001b[1;31mStopIteration\u001b[0m                             Traceback (most recent call last)",
      "Cell \u001b[1;32mIn[35], line 19\u001b[0m\n\u001b[0;32m     17\u001b[0m it2 \u001b[39m=\u001b[39m itertools\u001b[39m.\u001b[39mtakewhile(is_even, itertools\u001b[39m.\u001b[39mcount())\n\u001b[0;32m     18\u001b[0m \u001b[39mprint\u001b[39m(\u001b[39mnext\u001b[39m(it2))\n\u001b[1;32m---> 19\u001b[0m \u001b[39mprint\u001b[39m(\u001b[39mnext\u001b[39;49m(it2)) \u001b[39m# error\u001b[39;00m\n",
      "\u001b[1;31mStopIteration\u001b[0m: "
     ]
    }
   ],
   "source": [
    "def less_than_5(x):\n",
    "    return x < 5\n",
    "\n",
    "def is_even(x):\n",
    "    return x%2 == 0\n",
    "\n",
    "it = itertools.takewhile(less_than_5, itertools.count())\n",
    "print(next(it))\n",
    "print(next(it))\n",
    "print(next(it))\n",
    "print(next(it))\n",
    "print(next(it))\n",
    "#print(next(it))\n",
    "\n",
    "print()\n",
    "\n",
    "it2 = itertools.takewhile(is_even, itertools.count())\n",
    "print(next(it2))\n",
    "print(next(it2)) # error"
   ]
  },
  {
   "cell_type": "code",
   "execution_count": 36,
   "metadata": {},
   "outputs": [
    {
     "name": "stdout",
     "output_type": "stream",
     "text": [
      "5\n",
      "6\n",
      "7\n",
      "8\n"
     ]
    }
   ],
   "source": [
    "it3 = itertools.dropwhile(less_than_5, itertools.count())\n",
    "print(next(it3))\n",
    "print(next(it3))\n",
    "print(next(it3))\n",
    "print(next(it3))"
   ]
  },
  {
   "cell_type": "markdown",
   "metadata": {},
   "source": [
    "##### itertools.compress(data, selectors)\n",
    "- 두 개의 이터레이터를 취하고 selectors 의 해당 요소가 참인 data 의 요소만을 반환하고, 한쪽이 고갈될 때마다 중단"
   ]
  },
  {
   "cell_type": "code",
   "execution_count": 38,
   "metadata": {},
   "outputs": [
    {
     "name": "stdout",
     "output_type": "stream",
     "text": [
      "1\n",
      "2\n",
      "5\n"
     ]
    }
   ],
   "source": [
    "it = itertools.compress([1, 2, 3, 4, 5], [True, True, False, False, True])\n",
    "print(next(it))\n",
    "print(next(it))\n",
    "print(next(it))"
   ]
  },
  {
   "cell_type": "markdown",
   "metadata": {},
   "source": [
    "#### 4) 요소 분류\n",
    "- key_func(elem)는 이터러블에 의해 반환된 각 요소에 대한 키 값을 계산할 수 있는 함수\n",
    "- 키 함수를 제공하지 않으면 키는 단순히 각 요소 자체\n",
    "- groupby() 는 이터러블 내부에서 키값이 같은 연속된 모든 요소를 수집하여 키값과 해당 키를 가진 요소의 이터러블을 포함하는 2-튜플의 스트림을 반환"
   ]
  },
  {
   "cell_type": "code",
   "execution_count": 46,
   "metadata": {},
   "outputs": [
    {
     "name": "stdout",
     "output_type": "stream",
     "text": [
      "<itertools.groupby object at 0x000001F8353EB450>\n",
      "('AL', <itertools._grouper object at 0x000001F8351044F0>)\n",
      "('AK', <itertools._grouper object at 0x000001F8351041F0>)\n",
      "('AZ', <itertools._grouper object at 0x000001F8351044F0>)\n"
     ]
    }
   ],
   "source": [
    "city_list = [('Decatur', 'AL'), ('Huntsville', 'AL'), ('Selma', 'AL'),\n",
    "             ('Anchorage', 'AK'), ('Nome', 'AK'),\n",
    "             ('Flagstaff', 'AZ'), ('Phoenix', 'AZ'), ('Tucson', 'AZ')\n",
    "            ]\n",
    "\n",
    "def get_state(city_state):\n",
    "    return city_state[1]\n",
    "\n",
    "print(itertools.groupby(city_list, get_state))\n",
    "it = itertools.groupby(city_list, get_state)\n",
    "\n",
    "print(next(it))\n",
    "print()\n",
    "print(next(it))\n",
    "print(next(it))\n"
   ]
  },
  {
   "cell_type": "markdown",
   "metadata": {},
   "source": [
    "### 조합함수\n",
    "- itertools.combinations(iterable, r) 는 iterable 에 포함된 모든 요소의 가능한 r-튜플 조합을 제공하는 이터레이터를 반환\n",
    "- itertools.combinations_with_replacement(iterable, r) 함수는 다른 제약을 완화. 단일 튜플 내에서 반복될 수 있다"
   ]
  },
  {
   "cell_type": "code",
   "execution_count": 4,
   "metadata": {},
   "outputs": [
    {
     "name": "stdout",
     "output_type": "stream",
     "text": [
      "(1, 2, 3)\n",
      "(1, 2, 4)\n",
      "(1, 2, 5)\n",
      "(1, 3, 4)\n",
      "(1, 3, 5)\n",
      "\n",
      "(1, 1, 1)\n",
      "(1, 1, 2)\n",
      "(1, 1, 3)\n",
      "(1, 1, 4)\n",
      "(1, 1, 5)\n"
     ]
    }
   ],
   "source": [
    "it = itertools.combinations([1, 2, 3, 4, 5], 3)\n",
    "print(next(it))\n",
    "print(next(it))\n",
    "print(next(it))\n",
    "print(next(it))\n",
    "print(next(it))\n",
    "\n",
    "print()\n",
    "\n",
    "it2 = itertools.combinations_with_replacement([1, 2, 3, 4, 5], 3) \n",
    "print(next(it2))\n",
    "print(next(it2))\n",
    "print(next(it2))\n",
    "print(next(it2))\n",
    "print(next(it2))"
   ]
  },
  {
   "cell_type": "markdown",
   "metadata": {},
   "source": [
    "### 순열 함수\n",
    "- itertools.permutatons(iterable, r=None)은 순열 반환한다"
   ]
  },
  {
   "cell_type": "code",
   "execution_count": 37,
   "metadata": {},
   "outputs": [
    {
     "name": "stdout",
     "output_type": "stream",
     "text": [
      "(1, 2, 3)\n",
      "(1, 2, 4)\n",
      "(1, 2, 5)\n",
      "(1, 3, 2)\n",
      "(1, 3, 4)\n",
      "(1, 3, 5)\n",
      "(1, 4, 2)\n"
     ]
    }
   ],
   "source": [
    "it = itertools.permutations([1, 2, 3, 4, 5], 3)\n",
    "print(next(it))\n",
    "print(next(it))\n",
    "print(next(it))\n",
    "print(next(it))\n",
    "print(next(it))\n",
    "print(next(it))\n",
    "print(next(it))"
   ]
  }
 ],
 "metadata": {
  "kernelspec": {
   "display_name": "Python 3.8.17 ('torchWin_rev')",
   "language": "python",
   "name": "python3"
  },
  "language_info": {
   "codemirror_mode": {
    "name": "ipython",
    "version": 3
   },
   "file_extension": ".py",
   "mimetype": "text/x-python",
   "name": "python",
   "nbconvert_exporter": "python",
   "pygments_lexer": "ipython3",
   "version": "3.8.17"
  },
  "orig_nbformat": 4,
  "vscode": {
   "interpreter": {
    "hash": "dcfd0bbc3e25ae79d1f134c08b87e3777d49169aec2e55e1b5fb8249822c085d"
   }
  }
 },
 "nbformat": 4,
 "nbformat_minor": 2
}
