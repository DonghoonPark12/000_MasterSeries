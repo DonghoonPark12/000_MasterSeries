{
 "cells": [
  {
   "cell_type": "markdown",
   "metadata": {},
   "source": [
    "## DANN\n",
    "<배경 지식>\n",
    "- 학습 법 요약: label predictor (classifier)의 역할은 잘하도록 유지하되 sample의 feature representation이 source domain에서 왔는지 target domain에서 왔는지를 구별 못하게 domain discriminator를 약화하는 방향(gradient reverse @backprop)으로 학습시키겠다는 것\n",
    "- 아래 SVHN, MNIST 예제를 예로 들면 두 데이터 셋은 10개의 클래스 분류가 가능한 데이터 셋이고, 0 ~9 까지 숫자의 클래스 분류는 수행 가능하되, MNIST, SVHN 중 어느 데이터 셋으로 부터 왔는지는 구분할 수 없게 학습을 진행\n",
    "- (위와 같이 학습하는 이유는 상대적으로 데이터를 구하기 힘든 데이터 셋에서 이와 유사하면서도 상대적으로 쉽게 구할 수 있는 데이터 셋을 이용해 학습 효과를 얻기 위해서 domain adaptation 학습 법을 사용한다)\n",
    "  \n",
    "- 수식으로 표현하면: DANN Loss는 class label 분류 학습과 함께 domain 분류를 진행하되 domain 분류 layer의 gradient에 음수 배를 취하여 domain 간의 거리를 줄이도록 학습을 유도한다.\n",
    "  \n",
    "- 아래 예시에서는 MNIST(Source)를 SVHN(Target)에 domain adaptation 하는 예제이다\n",
    "\n",
    "![img](https://img1.daumcdn.net/thumb/R1280x0/?scode=mtistory2&fname=https%3A%2F%2Fblog.kakaocdn.net%2Fdn%2FbpRiJm%2FbtrOwkX7ud0%2FtOWDFi7JjyWvtG5s56O5D1%2Fimg.jpg)"
   ]
  },
  {
   "cell_type": "markdown",
   "metadata": {},
   "source": [
    "#### 수식 상세\n",
    "X  : input space, Y={0,⋯,L−1} : set of L possible labels일 때,  \n",
    "  \n",
    "$ \\mathbb{D}_S: source~domain~~~~\\mathbb{D}_T: target~domain $  \n",
    "  \n",
    "비지도 학습 DA의 경우 S에 대해서는 라벨이 존재하지만, T에 대해서는 label이 전혀 없는 상황이면  \n",
    "  \n",
    "$ S = \\{ (x_i,y_i) \\}_{i=1}^n  \\overset{i.i.d.}{\\sim} (\\mathbb{D}_S)^n;~~T=\\{x_i\\}_{i=n+1}^N  \\overset{i.i.d.}{\\sim} (\\mathbb{D}_T^X)^{n'} $  \n",
    "  \n",
    "전체 셈플 수는 위의 수식에 나와 있는 것 처럼 N = n + n' 개 이고  \n",
    "  \n",
    "분류기 $ \\eta: X\\rightarrow Y $ 를 만드는데, $ \\mathbb{D}_T $의 라벨이 없어도, 아래의 Target Risk가 낮도록 학습한다.  \n",
    "  \n",
    "$ R_{\\mathbb{D}_T}(\\eta)=\\Pr_{(x,y)\\sim\\mathbb{D}_T}\\left( \\eta(x) \\neq y \\right) $"
   ]
  },
  {
   "cell_type": "markdown",
   "metadata": {},
   "source": [
    "### 1. 데이터 로드"
   ]
  },
  {
   "cell_type": "code",
   "execution_count": 1,
   "metadata": {},
   "outputs": [],
   "source": [
    "import torchvision.transforms as transforms\n",
    "\n",
    "mnist_transform = transforms.Compose([\n",
    "    transforms.ToTensor(), \n",
    "    transforms.Normalize((0.5,), (1.0,))\n",
    "])\n",
    "\n",
    "# RGB -> GRAY 및 28 * 28 사이즈 변환\n",
    "svhn_transform = transforms.Compose([\n",
    "    transforms.Grayscale(num_output_channels=1),\n",
    "    transforms.CenterCrop(28),\n",
    "    transforms.ToTensor(), \n",
    "    transforms.Normalize((0.5,), (1.0,))\n",
    "])"
   ]
  },
  {
   "cell_type": "code",
   "execution_count": 2,
   "metadata": {},
   "outputs": [
    {
     "name": "stdout",
     "output_type": "stream",
     "text": [
      "Using downloaded and verified file: ./data\\train_32x32.mat\n"
     ]
    }
   ],
   "source": [
    "from torchvision.datasets import MNIST, SVHN\n",
    "import torch.utils.data as data_utils\n",
    "import torch\n",
    "\n",
    "download_root = './data'\n",
    "\n",
    "train_mnist = MNIST(download_root, transform=mnist_transform, train=True, download=True)\n",
    "test_mnist = MNIST(download_root, transform=mnist_transform, train=False, download=True)\n",
    "\n",
    "svhn = SVHN(download_root, transform=svhn_transform, download=True)\n",
    "\n",
    "# target domain 데이터 train 6만개, test 1만개 활용\n",
    "train_indices = torch.arange(0, 60000)\n",
    "test_indices = torch.arange(60000, 70000)\n",
    "train_svhn = data_utils.Subset(svhn, train_indices)\n",
    "test_svhn = data_utils.Subset(svhn, test_indices)"
   ]
  },
  {
   "cell_type": "markdown",
   "metadata": {},
   "source": [
    "### 2. 모델 선언"
   ]
  },
  {
   "cell_type": "code",
   "execution_count": 12,
   "metadata": {},
   "outputs": [],
   "source": [
    "import torch.nn as nn\n",
    "import torch.nn.functional as F\n",
    "\n",
    "class CNN(nn.Module):\n",
    "    def __init__(self):\n",
    "        super(CNN, self).__init__()\n",
    "        self.conv1 = nn.Conv2d(in_channels=1, out_channels=10, kernel_size=5, stride=1)\n",
    "        self.conv2 = nn.Conv2d(in_channels=10, out_channels=20, kernel_size=5, stride=1)\n",
    "        self.fc = nn.Linear(4 * 4 * 20, 100)\n",
    "\n",
    "    def forward(self, x):\n",
    "        x = F.relu(self.conv1(x)) # (batch, 1, 28, 28) -> (B, 10, 24, 24)\n",
    "        x = F.max_pool2d(x, kernel_size=2, stride=2) # (B, 10, 24, 24) -> (B, 10, 12, 12)\n",
    "        x = F.relu(self.conv2(x)) # (batch, 10, 12, 12) -> (batch, 20, 8, 8)\n",
    "        x = F.max_pool2d(x, kernel_size=2, stride=2) # (batch, 20, 8, 8) -> (batch, 20, 4, 4)\n",
    "        x = x.view(-1, 4 * 4 * 20) # (batch, 20, 4, 4) -> (batch, 320)\n",
    "        x = F.relu(self.fc(x)) # (batch, 320) -> (batch, 100)\n",
    "        return x # (batch, 100)\n",
    "\n",
    "class GradReverse(torch.autograd.Function):\n",
    "    def forward(self, x):\n",
    "        return x.view_as(x)\n",
    "\n",
    "    def backward(self, grad_output):\n",
    "        return (grad_output * -1) # 역전파 시에 gradient에 음수를 취함\n",
    "\n",
    "class domain_classifier(nn.Module):\n",
    "    def __init__(self):\n",
    "        super(domain_classifier, self).__init__()\n",
    "        self.fc1 = nn.Linear(100, 10)\n",
    "        self.fc2 = nn.Linear(10, 1) # mnist = 0, svhn = 1 회귀 가정\n",
    "\n",
    "    def forward(self, x):\n",
    "        x = GradReverse.apply(x) # gradient reverse\n",
    "        x = F.leaky_relu(self.fc1(x))\n",
    "        x = self.fc2(x)\n",
    "        return torch.sigmoid(x)\n",
    "\n",
    "class label_classifier(nn.Module):\n",
    "    def __init__(self):\n",
    "        super(label_classifier, self).__init__()\n",
    "        self.fc1 = nn.Linear(100, 25)\n",
    "        self.fc2 = nn.Linear(25, 10) # class 개수 = 10개\n",
    "\n",
    "    def forward(self, x):\n",
    "        x = F.leaky_relu(self.fc1(x))\n",
    "        x = self.fc2(x)\n",
    "        return x"
   ]
  },
  {
   "cell_type": "code",
   "execution_count": 13,
   "metadata": {},
   "outputs": [],
   "source": [
    "class DANN_CNN(nn.Module):\n",
    "    def __init__(self, CNN):\n",
    "        super(DANN_CNN, self).__init__()\n",
    "\n",
    "        self.cnn = CNN() # CNN 구조 모델 받아오기\n",
    "\n",
    "        self.domain_classifier = domain_classifier() # 도메인 분류 layer, 도메인 분류시에는 Gradient에 음수를 취한다.\n",
    "\n",
    "        self.label_classifier = label_classifier() # 숫자 0 ~ 9 클래스 분류 layer\n",
    "\n",
    "    def forward(self, img):\n",
    "        cnn_output = self.cnn(img) # (B, 100)\n",
    "\n",
    "        domain_logits =  self.domain_classifier(cnn_output) # (batch, 100) -> (batch, 1)\n",
    "\n",
    "        label_logits = self.label_classifier(cnn_output) # (batch, 100) -> (batch, 10)\n",
    "\n",
    "        return domain_logits, label_logits"
   ]
  },
  {
   "cell_type": "markdown",
   "metadata": {},
   "source": [
    "### 3. LOSS\n",
    "- domain 분류 및 class 분류 loss를 혼합한 DANN loss 함수\n",
    "- alpha는 domain 분류 loss 함수의 가중치로 하이퍼파라미터이다"
   ]
  },
  {
   "cell_type": "code",
   "execution_count": 14,
   "metadata": {},
   "outputs": [],
   "source": [
    "class DANN_LOSS(nn.Module):\n",
    "    def __init__(self):\n",
    "        super(DANN_LOSS, self).__init__()\n",
    "        self.CE = nn.CrossEntropyLoss() # 0~9 class 분류용\n",
    "        self.BCE = nn.BCELoss() # 도메인 분류용\n",
    "\n",
    "    # result : DANN_CNN에서 반환된 값\n",
    "    # label : 숫자 0 ~ 9에 대한 라벨\n",
    "    # domain_num : 0(mnist) or 1(svhn)\n",
    "\n",
    "    def forward(self, result, label, domain_num, alpha=1):\n",
    "        domain_logits, label_logits = result\n",
    "\n",
    "        batch_size = domain_logits.shape[0]\n",
    "\n",
    "        domain_target = torch.FloatTensor([domain_num] * batch_size).unsqueeze(1).to(device)\n",
    "\n",
    "        domain_loss = self.BCE(domain_logits, domain_target)  # domain 분류 loss\n",
    "        target_loss = self.CE(label_logits, label) # class 분류 loss\n",
    "\n",
    "        loss = target_loss + alpha * domain_loss\n",
    "\n",
    "        return loss"
   ]
  },
  {
   "cell_type": "markdown",
   "metadata": {},
   "source": [
    "### 4. Training"
   ]
  },
  {
   "cell_type": "code",
   "execution_count": 15,
   "metadata": {},
   "outputs": [
    {
     "data": {
      "application/json": {
       "ascii": false,
       "bar_format": null,
       "colour": null,
       "elapsed": 0.00598454475402832,
       "initial": 0,
       "n": 0,
       "ncols": null,
       "nrows": null,
       "postfix": null,
       "prefix": "",
       "rate": null,
       "total": 938,
       "unit": "it",
       "unit_divisor": 1000,
       "unit_scale": false
      },
      "application/vnd.jupyter.widget-view+json": {
       "model_id": "1f14b344919146558db938ec871c6e10",
       "version_major": 2,
       "version_minor": 0
      },
      "text/plain": [
       "  0%|          | 0/938 [00:00<?, ?it/s]"
      ]
     },
     "metadata": {},
     "output_type": "display_data"
    },
    {
     "name": "stdout",
     "output_type": "stream",
     "text": [
      "Epoch : 1, Avg Loss : 3.3478\n"
     ]
    },
    {
     "data": {
      "application/json": {
       "ascii": false,
       "bar_format": null,
       "colour": null,
       "elapsed": 0.002991914749145508,
       "initial": 0,
       "n": 0,
       "ncols": null,
       "nrows": null,
       "postfix": null,
       "prefix": "",
       "rate": null,
       "total": 938,
       "unit": "it",
       "unit_divisor": 1000,
       "unit_scale": false
      },
      "application/vnd.jupyter.widget-view+json": {
       "model_id": "23f619d28b614f12a0d5d08b8a153dea",
       "version_major": 2,
       "version_minor": 0
      },
      "text/plain": [
       "  0%|          | 0/938 [00:00<?, ?it/s]"
      ]
     },
     "metadata": {},
     "output_type": "display_data"
    },
    {
     "name": "stdout",
     "output_type": "stream",
     "text": [
      "Epoch : 2, Avg Loss : 2.3484\n"
     ]
    },
    {
     "data": {
      "application/json": {
       "ascii": false,
       "bar_format": null,
       "colour": null,
       "elapsed": 0.003991127014160156,
       "initial": 0,
       "n": 0,
       "ncols": null,
       "nrows": null,
       "postfix": null,
       "prefix": "",
       "rate": null,
       "total": 938,
       "unit": "it",
       "unit_divisor": 1000,
       "unit_scale": false
      },
      "application/vnd.jupyter.widget-view+json": {
       "model_id": "97e14ac3bca24510b8ec5e0690314c63",
       "version_major": 2,
       "version_minor": 0
      },
      "text/plain": [
       "  0%|          | 0/938 [00:00<?, ?it/s]"
      ]
     },
     "metadata": {},
     "output_type": "display_data"
    },
    {
     "name": "stdout",
     "output_type": "stream",
     "text": [
      "Epoch : 3, Avg Loss : 1.9194\n"
     ]
    },
    {
     "data": {
      "application/json": {
       "ascii": false,
       "bar_format": null,
       "colour": null,
       "elapsed": 0.0035996437072753906,
       "initial": 0,
       "n": 0,
       "ncols": null,
       "nrows": null,
       "postfix": null,
       "prefix": "",
       "rate": null,
       "total": 938,
       "unit": "it",
       "unit_divisor": 1000,
       "unit_scale": false
      },
      "application/vnd.jupyter.widget-view+json": {
       "model_id": "335c0c2d4cc34e6781ea8663eaa6beb0",
       "version_major": 2,
       "version_minor": 0
      },
      "text/plain": [
       "  0%|          | 0/938 [00:00<?, ?it/s]"
      ]
     },
     "metadata": {},
     "output_type": "display_data"
    },
    {
     "name": "stdout",
     "output_type": "stream",
     "text": [
      "Epoch : 4, Avg Loss : 1.6782\n"
     ]
    },
    {
     "data": {
      "application/json": {
       "ascii": false,
       "bar_format": null,
       "colour": null,
       "elapsed": 0.0029921531677246094,
       "initial": 0,
       "n": 0,
       "ncols": null,
       "nrows": null,
       "postfix": null,
       "prefix": "",
       "rate": null,
       "total": 938,
       "unit": "it",
       "unit_divisor": 1000,
       "unit_scale": false
      },
      "application/vnd.jupyter.widget-view+json": {
       "model_id": "a69712848481469585906f49cabca848",
       "version_major": 2,
       "version_minor": 0
      },
      "text/plain": [
       "  0%|          | 0/938 [00:00<?, ?it/s]"
      ]
     },
     "metadata": {},
     "output_type": "display_data"
    },
    {
     "name": "stdout",
     "output_type": "stream",
     "text": [
      "Epoch : 5, Avg Loss : 1.5495\n"
     ]
    },
    {
     "data": {
      "application/json": {
       "ascii": false,
       "bar_format": null,
       "colour": null,
       "elapsed": 0.006975889205932617,
       "initial": 0,
       "n": 0,
       "ncols": null,
       "nrows": null,
       "postfix": null,
       "prefix": "",
       "rate": null,
       "total": 938,
       "unit": "it",
       "unit_divisor": 1000,
       "unit_scale": false
      },
      "application/vnd.jupyter.widget-view+json": {
       "model_id": "797f0624bb34478ebc7a4bb216885879",
       "version_major": 2,
       "version_minor": 0
      },
      "text/plain": [
       "  0%|          | 0/938 [00:00<?, ?it/s]"
      ]
     },
     "metadata": {},
     "output_type": "display_data"
    },
    {
     "name": "stdout",
     "output_type": "stream",
     "text": [
      "Epoch : 6, Avg Loss : 1.5096\n"
     ]
    },
    {
     "data": {
      "application/json": {
       "ascii": false,
       "bar_format": null,
       "colour": null,
       "elapsed": 0.005983829498291016,
       "initial": 0,
       "n": 0,
       "ncols": null,
       "nrows": null,
       "postfix": null,
       "prefix": "",
       "rate": null,
       "total": 938,
       "unit": "it",
       "unit_divisor": 1000,
       "unit_scale": false
      },
      "application/vnd.jupyter.widget-view+json": {
       "model_id": "70b435f930064c2eac0080e21fe6961f",
       "version_major": 2,
       "version_minor": 0
      },
      "text/plain": [
       "  0%|          | 0/938 [00:00<?, ?it/s]"
      ]
     },
     "metadata": {},
     "output_type": "display_data"
    },
    {
     "name": "stdout",
     "output_type": "stream",
     "text": [
      "Epoch : 7, Avg Loss : 1.4969\n"
     ]
    },
    {
     "data": {
      "application/json": {
       "ascii": false,
       "bar_format": null,
       "colour": null,
       "elapsed": 0.00498652458190918,
       "initial": 0,
       "n": 0,
       "ncols": null,
       "nrows": null,
       "postfix": null,
       "prefix": "",
       "rate": null,
       "total": 938,
       "unit": "it",
       "unit_divisor": 1000,
       "unit_scale": false
      },
      "application/vnd.jupyter.widget-view+json": {
       "model_id": "9a048d1de2f54419a6dcaba11fa0b4e4",
       "version_major": 2,
       "version_minor": 0
      },
      "text/plain": [
       "  0%|          | 0/938 [00:00<?, ?it/s]"
      ]
     },
     "metadata": {},
     "output_type": "display_data"
    },
    {
     "name": "stdout",
     "output_type": "stream",
     "text": [
      "Epoch : 8, Avg Loss : 1.4631\n"
     ]
    },
    {
     "data": {
      "application/json": {
       "ascii": false,
       "bar_format": null,
       "colour": null,
       "elapsed": 0.004524707794189453,
       "initial": 0,
       "n": 0,
       "ncols": null,
       "nrows": null,
       "postfix": null,
       "prefix": "",
       "rate": null,
       "total": 938,
       "unit": "it",
       "unit_divisor": 1000,
       "unit_scale": false
      },
      "application/vnd.jupyter.widget-view+json": {
       "model_id": "7d7ae99d87f1471fb6c4798d3dfb0b55",
       "version_major": 2,
       "version_minor": 0
      },
      "text/plain": [
       "  0%|          | 0/938 [00:00<?, ?it/s]"
      ]
     },
     "metadata": {},
     "output_type": "display_data"
    },
    {
     "name": "stdout",
     "output_type": "stream",
     "text": [
      "Epoch : 9, Avg Loss : 1.4108\n"
     ]
    },
    {
     "data": {
      "application/json": {
       "ascii": false,
       "bar_format": null,
       "colour": null,
       "elapsed": 0.003989458084106445,
       "initial": 0,
       "n": 0,
       "ncols": null,
       "nrows": null,
       "postfix": null,
       "prefix": "",
       "rate": null,
       "total": 938,
       "unit": "it",
       "unit_divisor": 1000,
       "unit_scale": false
      },
      "application/vnd.jupyter.widget-view+json": {
       "model_id": "49297ceb6bf941c897513dedffd31d2c",
       "version_major": 2,
       "version_minor": 0
      },
      "text/plain": [
       "  0%|          | 0/938 [00:00<?, ?it/s]"
      ]
     },
     "metadata": {},
     "output_type": "display_data"
    },
    {
     "name": "stdout",
     "output_type": "stream",
     "text": [
      "Epoch : 10, Avg Loss : 1.4148\n"
     ]
    }
   ],
   "source": [
    "from torch.optim.lr_scheduler import LinearLR\n",
    "from tqdm.notebook import tqdm\n",
    "from torch.utils.data import DataLoader\n",
    "\n",
    "batch_size = 64\n",
    "\n",
    "# dataloader 선언\n",
    "mnist_loader = DataLoader(dataset=train_mnist, \n",
    "                         batch_size=batch_size,\n",
    "                         shuffle=True)\n",
    "\n",
    "svhn_loader = DataLoader(dataset=train_svhn, \n",
    "                         batch_size=batch_size,\n",
    "                         shuffle=True)\n",
    "\n",
    "device = torch.device('cuda') if torch.cuda.is_available() else torch.device('cpu')\n",
    "\n",
    "my_cnn = CNN()\n",
    "\n",
    "model = DANN_CNN(my_cnn).to(device) # 모델은 미리 GPU에 업로드??\n",
    "loss_fn = DANN_LOSS().to(device)\n",
    "\n",
    "epochs = 10\n",
    "\n",
    "model.train()\n",
    "\n",
    "optimizer = torch.optim.AdamW(model.parameters(), lr=1e-3, weight_decay=0.01)\n",
    "scheduler = LinearLR(optimizer, start_factor=1.0, end_factor=0.0, total_iters=epochs * len(mnist_loader))\n",
    "alpha = 0.5\n",
    "\n",
    "for i in range(1, epochs + 1):\n",
    "    total_loss = 0\n",
    "\n",
    "    for step in tqdm(range(len(mnist_loader))):\n",
    "        # mnist, svhn 에서 1B 씩 가져오기\n",
    "        src_data = next(iter(mnist_loader))\n",
    "        tgt_data = next(iter(svhn_loader))\n",
    "\n",
    "        # 각 batch 내 데이터 : 0번은 이미지 픽셀 값, 1번은 0 ~ 9 class 라벨 값\n",
    "        mnist_data = src_data[0].to(device)\n",
    "        mnist_target = src_data[1].to(device)\n",
    "\n",
    "        svhn_data = tgt_data[0].to(device)\n",
    "        svhn_target = tgt_data[1].to(device)\n",
    "\n",
    "        # 순전파 결과 구하기\n",
    "        source_result = model(mnist_data)\n",
    "        target_result = model(svhn_data)\n",
    "\n",
    "        # 순전파 결과, class label, domain label(0 = mnist, 1 = svhn), alpha 순서\n",
    "        source_loss = loss_fn(source_result, mnist_target, 0, alpha = alpha)\n",
    "        target_loss = loss_fn(target_result, svhn_target, 1, alpha = alpha)\n",
    "\n",
    "        loss = source_loss + target_loss # 두개의 loss를 합친다???\n",
    "\n",
    "        total_loss += loss.item()\n",
    "\n",
    "        optimizer.zero_grad()\n",
    "        loss.backward()\n",
    "        optimizer.step()\n",
    "        scheduler.step()\n",
    "\n",
    "    print('Epoch : %d, Avg Loss : %.4f'%(i, total_loss / len(mnist_loader)))\n",
    "\n",
    "torch.save(model.state_dict(), './dann.py')"
   ]
  },
  {
   "cell_type": "markdown",
   "metadata": {},
   "source": [
    "### 5. Test"
   ]
  },
  {
   "cell_type": "code",
   "execution_count": 23,
   "metadata": {},
   "outputs": [
    {
     "data": {
      "application/json": {
       "ascii": false,
       "bar_format": null,
       "colour": null,
       "elapsed": 0.010822057723999023,
       "initial": 0,
       "n": 0,
       "ncols": null,
       "nrows": null,
       "postfix": null,
       "prefix": "",
       "rate": null,
       "total": 157,
       "unit": "it",
       "unit_divisor": 1000,
       "unit_scale": false
      },
      "application/vnd.jupyter.widget-view+json": {
       "model_id": "3819b070a4354f35bdccc1f802996291",
       "version_major": 2,
       "version_minor": 0
      },
      "text/plain": [
       "  0%|          | 0/157 [00:00<?, ?it/s]"
      ]
     },
     "metadata": {},
     "output_type": "display_data"
    },
    {
     "name": "stdout",
     "output_type": "stream",
     "text": [
      "MNIST Test Accuracy : 100.00%\n",
      "SVHN Test Accuracy : 78.12%\n"
     ]
    }
   ],
   "source": [
    "batch_size = 64\n",
    "\n",
    "mnist_loader_test = DataLoader(dataset=test_mnist, \n",
    "                         batch_size=batch_size)\n",
    "\n",
    "svhn_loader_test = DataLoader(dataset=test_svhn, \n",
    "                         batch_size=batch_size)\n",
    "\n",
    "model = DANN_CNN(my_cnn).to(device)\n",
    "model.load_state_dict(torch.load('./dann.pt')) # torch.load()는 역직렬화\n",
    "model.eval()\n",
    "\n",
    "'''\n",
    "# ref1) https://stackoverflow.com/questions/42703500/how-do-i-save-a-trained-model-in-pytorch\n",
    "# ref2) https://tutorials.pytorch.kr/beginner/saving_loading_models.html\n",
    "\n",
    "# 만약 pretrained_dict이 설계한 모델과 일부 틀리다면\n",
    "\n",
    "# filter out unne\n",
    "'''\n",
    "\n",
    "m_correct = 0\n",
    "s_correct = 0\n",
    "\n",
    "for step in tqdm(range(len(mnist_loader_test))):\n",
    "\n",
    "    source_data = next(iter(mnist_loader_test))\n",
    "    target_data = next(iter(svhn_loader_test))\n",
    "\n",
    "    mnist_data = source_data[0].to(device)\n",
    "    mnist_target = source_data[1].to(device)\n",
    "\n",
    "    svhn_data = target_data[0].to(device)\n",
    "    svhn_target = target_data[1].to(device)\n",
    "\n",
    "    # domain 분류와 관련된 logits은 사용하지 않기에 _로 받아서 처리\n",
    "    _, mnist_logits = model(mnist_data)\n",
    "    _, svhn_logits = model(svhn_data)\n",
    "\n",
    "    # 정확도 산출을 위하여 정답 개수 누적\n",
    "    m_correct += torch.sum(torch.argmax(mnist_logits, 1) == mnist_target).item()\n",
    "    s_correct += torch.sum(torch.argmax(svhn_logits, 1) == svhn_target).item()\n",
    "\n",
    "\n",
    "print('MNIST Test Accuracy : %.2f%%'%(m_correct * 100 / (len(mnist_loader_test) * batch_size)))\n",
    "print('SVHN Test Accuracy : %.2f%%'%(s_correct * 100 / (len(svhn_loader_test) * batch_size)))\n"
   ]
  },
  {
   "cell_type": "markdown",
   "metadata": {},
   "source": [
    "### 6. Domain Embedding Space 시각화\n",
    "- DANN Loss를 통해 두 domain의 임베딩 space가 가까워 졌는지 살펴본다\n",
    "- 가장 앞 batch의 250개씩의 데이터만 샘플링 하여 100차원 벡터를 구해본다."
   ]
  },
  {
   "cell_type": "code",
   "execution_count": 27,
   "metadata": {},
   "outputs": [],
   "source": [
    "mnist_loader = DataLoader(dataset=train_mnist, \n",
    "                         batch_size=250,\n",
    "                         shuffle=True)\n",
    "\n",
    "svhn_loader = DataLoader(dataset=train_svhn, \n",
    "                         batch_size=250,\n",
    "                         shuffle=True)\n",
    "\n",
    "source_data = next(iter(mnist_loader))\n",
    "target_data = next(iter(svhn_loader))\n",
    "\n",
    "mnist_data = source_data[0].to(device)\n",
    "mnist_target = source_data[1].to(device)\n",
    "\n",
    "svhn_data = target_data[0].to(device)\n",
    "svhn_target = target_data[1].to(device)\n",
    "\n",
    "mnist_vector = model.cnn(mnist_data) # 학습된 모델의 CNN 부분만 활용(100차원 임베딩 벡터를 받아오는 과정)\n",
    "svhn_vector = model.cnn(svhn_data)\n",
    "\n",
    "# 임베딩 결과를 가져와 2차원 t-SNE 임베딩을 구하는 코드\n",
    "\n",
    "import pandas as pd\n",
    "import numpy as np\n",
    "from sklearn.manifold import TSNE\n",
    "\n",
    "df = pd.DataFrame(np.concatenate([mnist_vector.cpu().detach().numpy(), svhn_vector.cpu().detach().numpy()], 0))\n",
    "tsne_np = TSNE(n_components=2).fit_transform(df)\n",
    "tsne_df = pd.DataFrame(tsne_np, columns = ['component 0', 'component 1'])"
   ]
  },
  {
   "cell_type": "code",
   "execution_count": 28,
   "metadata": {},
   "outputs": [
    {
     "data": {
      "image/png": "[encoded data removed]",
      "text/plain": [
       "<Figure size 640x480 with 1 Axes>"
      ]
     },
     "metadata": {},
     "output_type": "display_data"
    }
   ],
   "source": [
    "import matplotlib.pyplot as plt\n",
    "\n",
    "tsne_df_0 = tsne_df.loc[:250]\n",
    "tsne_df_1 = tsne_df.loc[250:]\n",
    "\n",
    "plt.scatter(tsne_df_0['component 0'], tsne_df_0['component 1'], color = 'red', label = 'MNIST', alpha = 0.5)\n",
    "plt.scatter(tsne_df_1['component 0'], tsne_df_1['component 1'], color = 'blue', label = 'SVHN', alpha = 0.5)\n",
    "plt.title('alpha = 1.0')\n",
    "plt.xlabel('component 0')\n",
    "plt.ylabel('component 1')\n",
    "plt.legend()\n",
    "plt.show()"
   ]
  },
  {
   "cell_type": "markdown",
   "metadata": {},
   "source": [
    "```\n",
    "CustomMetricLearning\n",
    "    |-lib\n",
    "        dataset.py\n",
    "        |-models\n",
    "            dann.py\n",
    "    dann_trainer.py\n",
    "    main.py\n",
    "```"
   ]
  },
  {
   "cell_type": "code",
   "execution_count": null,
   "metadata": {},
   "outputs": [],
   "source": [
    "# CustomMetricLearning/main.py\n",
    "import argparse, os, sys, yaml\n",
    "from datetime import datetime\n",
    "import torch\n",
    "\n",
    "sys.path.append(\".\")\n",
    "\n",
    "from dann_trainer import DomainAdaptationTrainer\n",
    "from triplet_trainer import TripletTrainer\n",
    "from trainer import Trainer\n",
    "\n",
    "\n",
    "def read_config(file):\n",
    "    with open(file, \"r\") as f:\n",
    "        config = yaml.load(f, Loader=yaml.FullLoader)\n",
    "        config[\"datetime\"] = datetime.today().strftime(\"%d%m%y-%H%M\")\n",
    "        #os.environ[\"CUDA_VISIBLE_DEVICES\"] = config[\"device_ids\"]\n",
    "        config[\"device\"] = \"cuda\" if torch.cuda.is_available() else \"cpu\"\n",
    "        \n",
    "        # if config[\"normalize\"] is None:\n",
    "        #     config[\"normalize\"] = get_normalize_params(config[\"dataroot\"], config[\"img_size\"])\n",
    "        \n",
    "        config = argparse.Namespace(**config)\n",
    "    \n",
    "    return config\n",
    "\n",
    "\n",
    "if __name__ == \"__main__\":\n",
    "    parser = argparse.ArgumentParser()\n",
    "    parser.add_argument(\"--model\", type=str, default=\"DANN\")\n",
    "    parser.add_argument(\"--cfg\", type=str, default=\"D:/001_Code/WG1/hdmap_inspector_models/CustomMetricLearning/configs/dann.yaml\")\n",
    "    args = parser.parse_args()\n",
    "    \n",
    "    cfg = read_config(args.cfg)\n",
    "    if args.model == \"DANN\":\n",
    "        trainer = DomainAdaptationTrainer(cfg) # #src는 lasTopView, tgt는 TopView HDMap 에 도메인 적응을 수행한다.\n",
    "    elif args.model == \"Triplet\":\n",
    "        trainer = TripletTrainer(cfg)\n",
    "    elif args.model == \"Dual\":\n",
    "        trainer = Trainer(cfg)\n",
    "    else:\n",
    "        raise NotImplementedError\n",
    "    \n",
    "    trainer.run()"
   ]
  },
  {
   "cell_type": "code",
   "execution_count": null,
   "metadata": {},
   "outputs": [],
   "source": [
    "# CustomMetricLearning/dann_trainer.py \n",
    "class DomainAdaptationTrainer:\n",
    "    def __init__(self, config) -> None:\n",
    "        self.config = config\n",
    "        os.makedirs(self.config.work_dir, exist_ok=True)\n",
    "        \n",
    "        self.model = DANN(config.emb_dim).to(self.config.device)\n",
    "        self.model = torch.nn.DataParallel(self.model)\n",
    "        \n",
    "        trn_ds = DomainAdaptationDataset(config, config.train_split)\n",
    "        val_ds = DomainAdaptationDataset(config, config.valid_split)\n",
    "        \n",
    "        self.trn_loader = DataLoader(trn_ds, batch_size=config.batch_size, num_workers=4, shuffle=True)\n",
    "        self.val_loader = DataLoader(val_ds, batch_size=config.batch_size, num_workers=4, shuffle=False)\n",
    "        \n",
    "        self.optimizer = torch.optim.Adam(self.model.parameters(), lr=config.lr)\n",
    "        self.writer = SummaryWriter(os.path.join(self.config.work_dir, self.config.datetime))\n",
    "        \n",
    "    def train_step(self, source, target):\n",
    "        source = source.to(self.config.device)\n",
    "        target = target.to(self.config.device)\n",
    "        \n",
    "        self.optimizer.zero_grad()\n",
    "        \n",
    "        source_domain_output = self.model(source)\n",
    "        source_domain_labels = torch.zeros((source.size(0), )).unsqueeze(-1).to(self.config.device)\n",
    "        source_loss = F.binary_cross_entropy_with_logits(source_domain_output, source_domain_labels)\n",
    "        \n",
    "        target_domain_output = self.model(target)\n",
    "        target_domain_labels = torch.ones((target.size(0), )).unsqueeze(-1).to(self.config.device)\n",
    "        target_loss = F.binary_cross_entropy_with_logits(target_domain_output, target_domain_labels)\n",
    "        \n",
    "        total_loss = source_loss + target_loss\n",
    "        total_loss.backward()\n",
    "        \n",
    "        self.optimizer.step()\n",
    "        return source_loss.item(), target_loss.item()\n",
    "    \n",
    "    def valid_step(self, source, target):\n",
    "        source = source.to(self.config.device)\n",
    "        target = target.to(self.config.device)\n",
    "        \n",
    "        source_domain_output = self.model(source)\n",
    "        source_domain_labels = torch.zeros((source.size(0), )).unsqueeze(-1).to(self.config.device)\n",
    "        source_loss = F.binary_cross_entropy_with_logits(source_domain_output, source_domain_labels)\n",
    "        \n",
    "        target_domain_output = self.model(target)\n",
    "        target_domain_labels = torch.ones((target.size(0), )).unsqueeze(-1).to(self.config.device)\n",
    "        target_loss = F.binary_cross_entropy_with_logits(target_domain_output, target_domain_labels)\n",
    "        \n",
    "        return source_loss.item(), target_loss.item()\n",
    "    \n",
    "    def run(self):\n",
    "        \n",
    "        best_loss = torch.inf\n",
    "        for epoch in range(1, self.config.epochs + 1):\n",
    "            trn_src_loss = 0.\n",
    "            trn_tgt_loss = 0.\n",
    "            val_src_loss = 0.\n",
    "            val_tgt_loss = 0.\n",
    "\n",
    "            self.model.train()\n",
    "            trn_iterator = tqdm(self.trn_loader, desc=f\"TRAIN {epoch}\")\n",
    "            for idx, (src, tgt) in enumerate(trn_iterator):\n",
    "                src_loss, tgt_loss = self.train_step(src, tgt) #src는 lasTopView, tgt는 TopView HDMap\n",
    "                trn_src_loss += src_loss\n",
    "                trn_tgt_loss += tgt_loss\n",
    "                trn_iterator.set_postfix_str(\n",
    "                    f\"src_loss: {trn_src_loss / (idx+1):.4f}, tgt_loss: {trn_tgt_loss / (idx+1):.4f}\"\n",
    "                )\n",
    "            self.writer.add_scalar(\"source_loss/train\", (trn_src_loss / (idx+1)), epoch)\n",
    "            self.writer.add_scalar(\"target_loss/train\", (trn_tgt_loss / (idx+1)), epoch)\n",
    "            \n",
    "            self.model.eval()\n",
    "            val_iterator = tqdm(self.val_loader, desc=f\"VALID {epoch}\")\n",
    "            for idx, (src, tgt) in enumerate(val_iterator):\n",
    "                with torch.no_grad():\n",
    "                    src_loss, tgt_loss = self.valid_step(src, tgt)\n",
    "                val_src_loss += src_loss\n",
    "                val_tgt_loss += tgt_loss\n",
    "                val_iterator.set_postfix_str(\n",
    "                    f\"src_loss: {val_src_loss / (idx+1):.4f}, tgt_loss: {val_tgt_loss / (idx+1):.4f}\"\n",
    "                )\n",
    "            self.writer.add_scalar(\"source_loss/valid\", (val_src_loss / (idx+1)), epoch)\n",
    "            self.writer.add_scalar(\"target_loss/valid\", (val_tgt_loss / (idx+1)), epoch)\n",
    "                \n",
    "            current_loss = (val_src_loss + val_tgt_loss) / (idx + 1)\n",
    "            if best_loss > current_loss:\n",
    "                best_loss = current_loss\n",
    "                \n",
    "                # torch.save(\n",
    "                #     {\"weight\": self.model.state_dict(), \"cfg\": self.config.__dict__},\n",
    "                #     os.path.join(self.config.work_dir, f\"{self.config.datetime}.pt\")\n",
    "                # )\n",
    "                torch.save(self.model.state_dict(), \n",
    "                           os.path.join(self.config.work_dir, f\"{self.config.datetime}.pt\"))\n",
    "                with open(os.path.join(self.config.work_dir, f\"{self.config.datetime}.yaml\"), \"w\") as f:\n",
    "                    yaml.dump(self.config.__dict__, f)\n",
    "                print(\"Model saved\")\n",
    "            \n",
    "        self.writer.add_hparams(\n",
    "            {k: str(v) for k, v in self.config.__dict__.items()}, \n",
    "            metric_dict={\"loss\": best_loss}\n",
    "        )"
   ]
  },
  {
   "cell_type": "code",
   "execution_count": null,
   "metadata": {},
   "outputs": [],
   "source": [
    "class Embedding(nn.Module):\n",
    "    def __init__(self, emb_dim=512):\n",
    "        super(Embedding, self).__init__()\n",
    "        self.resnet = models.resnet18(weights=models.ResNet18_Weights.IMAGENET1K_V1)\n",
    "        self.resnet.avgpool = nn.AdaptiveAvgPool2d(output_size=(1, 1))\n",
    "        self.resnet.fc = nn.Linear(in_features=self.resnet.fc.in_features, out_features=emb_dim)\n",
    "        \n",
    "    def forward(self, x):\n",
    "        x = self.resnet(x)\n",
    "        return x\n",
    "\n",
    "# CustomMetricLearning/dann_trainer.py        \n",
    "class DANN(torch.nn.Module):\n",
    "    def __init__(self, emb_dim) -> None:\n",
    "        super().__init__()\n",
    "        self.embedding_net = Embedding(emb_dim)\n",
    "        self.domain_classifier = torch.nn.Sequential(\n",
    "            torch.nn.ReLU(),\n",
    "            torch.nn.Linear(emb_dim, emb_dim//2),\n",
    "            torch.nn.ReLU(),\n",
    "            torch.nn.Linear(emb_dim//2, 1),\n",
    "        )\n",
    "\n",
    "    def forward(self, inp):\n",
    "        emb = self.embedding_net(inp)\n",
    "        domain_output = self.domain_classifier(emb)\n",
    "        return domain_output"
   ]
  }
 ],
 "metadata": {
  "kernelspec": {
   "display_name": "Python 3.8.17 ('torchWin_rev')",
   "language": "python",
   "name": "python3"
  },
  "language_info": {
   "codemirror_mode": {
    "name": "ipython",
    "version": 3
   },
   "file_extension": ".py",
   "mimetype": "text/x-python",
   "name": "python",
   "nbconvert_exporter": "python",
   "pygments_lexer": "ipython3",
   "version": "3.8.17"
  },
  "orig_nbformat": 4,
  "vscode": {
   "interpreter": {
    "hash": "dcfd0bbc3e25ae79d1f134c08b87e3777d49169aec2e55e1b5fb8249822c085d"
   }
  }
 },
 "nbformat": 4,
 "nbformat_minor": 2
}
