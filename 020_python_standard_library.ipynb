{
 "cells": [
  {
   "cell_type": "markdown",
   "metadata": {},
   "source": [
    "argparse — 명령행 옵션, 인자와 부속 명령을 위한 파서\n",
    "- argparse 모듈은 argparse.ArgumentParser 객체로 구축되며, command-line 인터페이스를 제공한다."
   ]
  },
  {
   "cell_type": "code",
   "execution_count": null,
   "metadata": {},
   "outputs": [],
   "source": [
    "parser = argparse.ArgumentParser(\n",
    "                    prog='ProgramName',\n",
    "                    description='What the program does',\n",
    "                    epilog='Text at the bottom of help')"
   ]
  },
  {
   "cell_type": "code",
   "execution_count": null,
   "metadata": {},
   "outputs": [],
   "source": []
  }
 ],
 "metadata": {
  "language_info": {
   "name": "python"
  },
  "orig_nbformat": 4
 },
 "nbformat": 4,
 "nbformat_minor": 2
}
