{
 "cells": [
  {
   "cell_type": "markdown",
   "metadata": {},
   "source": [
    "#### Introduction"
   ]
  },
  {
   "cell_type": "markdown",
   "metadata": {},
   "source": [
    "- LangChain은 언어 모델을 기반으로 하는 어플리케이션 개발을 위한 프레임워크 입니다.\n",
    "- 다음과 같은 어플리케이션을 가능하게 합니다 \n",
    "    - Are context-aware : (상황 인식) 언어 모델을 문맥에 기반한 소스(프롬프트 명령, Few-Shot 예시, 응답을 기반으로 하는 콘텐츠 등)에 연결합니다. \n",
    "    - Reason : (추론) 추론하기 위해 언어 모델에 의존합니다 (제공된 맥락에 따라 대답하는 방법, 취해야 할 조치 등에 대해).\n",
    "\n",
    "LangChain 프레임워크는 다음의 파트로 구성이 됩니다."
   ]
  },
  {
   "cell_type": "markdown",
   "metadata": {},
   "source": [
    "- `랭 체인 라이브러리`: 파이썬 과 JS 라이브러리 포함. 수 많은 구성요소에 대한 인터페이스 및 통합. 그리고 이러한 구성 요소를 체인 및 에이전트로 결합하기 위한 기본 런타임(?), 체인 및 에이전트의 기성 구현이 포함되어 있습니다.\n",
    "- [`랭 체인 템플릿`](https://python.langchain.com/docs/templates) : 다양한 작업을 위해 쉽게 배포할 수 있는 참조 가능한 아키텍처 모음\n",
    "- ['랭 서브'](https://python.langchain.com/docs/langserve) : 랭 체인을 REST API로 배포하기 위한 라이브러리\n",
    "- ['랭 스미스'](https://python.langchain.com/docs/langsmith) : LLM 프레임워크에 구축된 체인을 디버그, 테스트, 평가 및 모니터링하고 LangChain과 원활하게 통합할 수 있는 개발자 플랫폼\n",
    "![image.png](./asset/00_introduction.png)"
   ]
  },
  {
   "cell_type": "markdown",
   "metadata": {},
   "source": [
    "- 이들 제품을 함께 사용하면 전체 어플리케이션 라이프 사이클이 단순화 됩니다.\n",
    "    - Develop: LangChain/LangChain.js에 애플리케이션을 작성합니다. 참조용 템플릿을 사용하여 순조롭게 진행하세요.\n",
    "    - 생산화: LangSmith를 사용하여 체인을 검사, 테스트 및 모니터링하면 자신감을 갖고 지속적으로 개선하고 배포할 수 있습니다.\n",
    "    - 배포: LangServe를 사용하여 모든 체인을 API로 전환합니다."
   ]
  },
  {
   "cell_type": "markdown",
   "metadata": {},
   "source": [
    "https://python.langchain.com/docs/get_started/introduction"
   ]
  },
  {
   "cell_type": "markdown",
   "metadata": {},
   "source": []
  }
 ],
 "metadata": {
  "language_info": {
   "name": "python"
  }
 },
 "nbformat": 4,
 "nbformat_minor": 2
}
