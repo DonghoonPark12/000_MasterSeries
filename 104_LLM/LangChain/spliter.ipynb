{
 "cells": [
  {
   "cell_type": "markdown",
   "metadata": {},
   "source": [
    "#### Document transformers\n",
    "- 문서 로드를 마쳤다면, 로드된 문서가 사용자의 어플리케이션에 맞게끔 변환되길 원할 것이다.\n",
    "- 가장 간단한 예시는 긴 문서를 작은 청크 단위로 쪼개서, 사용자 모델 Context Window에 맞게 분할하는 것 일 것이다.\n",
    "- LangChain은 분할, 결합, 필터링 등 다양한 빌트인 문서 변환기를 가지고 있다. \n",
    "- https://python.langchain.com/docs/modules/data_connection/document_transformers/\n"
   ]
  },
  {
   "cell_type": "markdown",
   "metadata": {},
   "source": [
    "##### Text splitters\n",
    "- \"semantically related\" 것들을 묶어서 chunk 하고 싶다\n",
    "- 1. 텍스트를 의미론적 청킹으로 분할한다\n",
    "- 2. 특정한 크기에 도달할 떄 까지 합친다(함수가 받아 들일 수 있을 단위 까지)\n",
    "- 3. "
   ]
  },
  {
   "cell_type": "code",
   "execution_count": 2,
   "metadata": {},
   "outputs": [
    {
     "ename": "ModuleNotFoundError",
     "evalue": "No module named 'langchain'",
     "output_type": "error",
     "traceback": [
      "\u001b[1;31m---------------------------------------------------------------------------\u001b[0m",
      "\u001b[1;31mModuleNotFoundError\u001b[0m                       Traceback (most recent call last)",
      "\u001b[1;32md:\\00_PILSA\\000_MasterSeries\\104_LLM\\LangChain\\spliter.ipynb 셀 3\u001b[0m line \u001b[0;36m4\n\u001b[0;32m      <a href='vscode-notebook-cell:/d%3A/00_PILSA/000_MasterSeries/104_LLM/LangChain/spliter.ipynb#W0sZmlsZQ%3D%3D?line=0'>1</a>\u001b[0m \u001b[39mwith\u001b[39;00m \u001b[39mopen\u001b[39m(\u001b[39m'\u001b[39m\u001b[39m./state_of_the_union.txt\u001b[39m\u001b[39m'\u001b[39m) \u001b[39mas\u001b[39;00m f:\n\u001b[0;32m      <a href='vscode-notebook-cell:/d%3A/00_PILSA/000_MasterSeries/104_LLM/LangChain/spliter.ipynb#W0sZmlsZQ%3D%3D?line=1'>2</a>\u001b[0m     state_of_the_union \u001b[39m=\u001b[39m f\u001b[39m.\u001b[39mread()\n\u001b[1;32m----> <a href='vscode-notebook-cell:/d%3A/00_PILSA/000_MasterSeries/104_LLM/LangChain/spliter.ipynb#W0sZmlsZQ%3D%3D?line=3'>4</a>\u001b[0m \u001b[39mfrom\u001b[39;00m \u001b[39mlangchain\u001b[39;00m\u001b[39m.\u001b[39;00m\u001b[39mtext_splitter\u001b[39;00m \u001b[39mimport\u001b[39;00m RecursiveCharacterTextSplitter\n",
      "\u001b[1;31mModuleNotFoundError\u001b[0m: No module named 'langchain'"
     ]
    }
   ],
   "source": [
    "with open('./state_of_the_union.txt') as f:\n",
    "    state_of_the_union = f.read()\n",
    "\n",
    "from langchain.text_splitter import RecursiveCharacterTextSplitter"
   ]
  },
  {
   "cell_type": "markdown",
   "metadata": {},
   "source": [
    "-----"
   ]
  },
  {
   "cell_type": "code",
   "execution_count": null,
   "metadata": {},
   "outputs": [],
   "source": [
    "# !pip install python-dotenv\n",
    "#!pip install python-certifi-win32"
   ]
  },
  {
   "cell_type": "code",
   "execution_count": 16,
   "metadata": {},
   "outputs": [],
   "source": [
    "import os, time\n",
    "import ssl\n",
    "ssl._create_default_https_context = ssl._create_unverified_context\n",
    "\n",
    "from dotenv import load_dotenv\n",
    "\n",
    "from pymilvus import connections\n",
    "from pymilvus import Collection, CollectionSchema\n",
    "from pymilvus import FieldSchema, DataType\n",
    "from pymilvus import utility\n",
    "\n",
    "\n",
    "from langchain.embeddings import HuggingFaceEmbeddings\n",
    "from langchain.document_loaders import PyPDFLoader\n",
    "from langchain.vectorstores import Milvus\n",
    "from langchain.text_splitter import RecursiveCharacterTextSplitter\n",
    "\n",
    "from sentence_transformers import SentenceTransformer\n",
    "\n",
    "import sys\n",
    "sys.path.append('D:/203_GenAI_IBM/Manual')"
   ]
  },
  {
   "cell_type": "code",
   "execution_count": 24,
   "metadata": {},
   "outputs": [
    {
     "name": "stdout",
     "output_type": "stream",
     "text": [
      "len(pages):  575\n"
     ]
    }
   ],
   "source": [
    "## load embedding model\n",
    "# model_name = 'sentence-transformers/all-MiniLM-L6-v2' # Try out with different model\n",
    "\n",
    "# embeddings = HuggingFaceEmbeddings(model_name=model_name)\n",
    "\n",
    "## text splitter parmas\n",
    "chunk_size = 1000\n",
    "chunk_overlap = 150\n",
    "separator = \"\\n\"\n",
    "\n",
    "## create text splicter instance\n",
    "r_splitter = RecursiveCharacterTextSplitter(chunk_size=chunk_size, chunk_overlap=chunk_overlap)\n",
    "\n",
    "filename = './[국문 G90 2023] genesis-g90-manual-kor-230601.pdf'\n",
    "loader = PyPDFLoader(filename)\n",
    "pages = loader.load()\n",
    "print('len(pages): ', len(pages))\n",
    "\n",
    "\n",
    "docs = r_splitter.split_documents(pages)\n",
    "#print(docs)"
   ]
  },
  {
   "cell_type": "code",
   "execution_count": 5,
   "metadata": {},
   "outputs": [
    {
     "ename": "MilvusException",
     "evalue": "<MilvusException: (code=2, message=Fail connecting to server on 127.0.0.1:19530. Timeout)>",
     "output_type": "error",
     "traceback": [
      "\u001b[1;31m---------------------------------------------------------------------------\u001b[0m",
      "\u001b[1;31mFutureTimeoutError\u001b[0m                        Traceback (most recent call last)",
      "File \u001b[1;32mc:\\ProgramData\\miniconda3\\envs\\watson\\Lib\\site-packages\\pymilvus\\client\\grpc_handler.py:133\u001b[0m, in \u001b[0;36mGrpcHandler._wait_for_channel_ready\u001b[1;34m(self, timeout)\u001b[0m\n\u001b[0;32m    132\u001b[0m \u001b[39mtry\u001b[39;00m:\n\u001b[1;32m--> 133\u001b[0m     grpc\u001b[39m.\u001b[39;49mchannel_ready_future(\u001b[39mself\u001b[39;49m\u001b[39m.\u001b[39;49m_channel)\u001b[39m.\u001b[39;49mresult(timeout\u001b[39m=\u001b[39;49mtimeout)\n\u001b[0;32m    134\u001b[0m     \u001b[39mself\u001b[39m\u001b[39m.\u001b[39m_setup_identifier_interceptor(\u001b[39mself\u001b[39m\u001b[39m.\u001b[39m_user, timeout\u001b[39m=\u001b[39mtimeout)\n",
      "File \u001b[1;32mc:\\ProgramData\\miniconda3\\envs\\watson\\Lib\\site-packages\\grpc\\_utilities.py:162\u001b[0m, in \u001b[0;36m_ChannelReadyFuture.result\u001b[1;34m(self, timeout)\u001b[0m\n\u001b[0;32m    161\u001b[0m \u001b[39mdef\u001b[39;00m \u001b[39mresult\u001b[39m(\u001b[39mself\u001b[39m, timeout: Optional[\u001b[39mfloat\u001b[39m] \u001b[39m=\u001b[39m \u001b[39mNone\u001b[39;00m) \u001b[39m-\u001b[39m\u001b[39m>\u001b[39m \u001b[39mNone\u001b[39;00m:\n\u001b[1;32m--> 162\u001b[0m     \u001b[39mself\u001b[39;49m\u001b[39m.\u001b[39;49m_block(timeout)\n",
      "File \u001b[1;32mc:\\ProgramData\\miniconda3\\envs\\watson\\Lib\\site-packages\\grpc\\_utilities.py:106\u001b[0m, in \u001b[0;36m_ChannelReadyFuture._block\u001b[1;34m(self, timeout)\u001b[0m\n\u001b[0;32m    105\u001b[0m \u001b[39mif\u001b[39;00m remaining \u001b[39m<\u001b[39m \u001b[39m0\u001b[39m:\n\u001b[1;32m--> 106\u001b[0m     \u001b[39mraise\u001b[39;00m grpc\u001b[39m.\u001b[39mFutureTimeoutError()\n\u001b[0;32m    107\u001b[0m \u001b[39melse\u001b[39;00m:\n",
      "\u001b[1;31mFutureTimeoutError\u001b[0m: ",
      "\nThe above exception was the direct cause of the following exception:\n",
      "\u001b[1;31mMilvusException\u001b[0m                           Traceback (most recent call last)",
      "\u001b[1;32md:\\00_PILSA\\000_MasterSeries\\104_LLM\\LangChain\\spliter.ipynb 셀 6\u001b[0m line \u001b[0;36m2\n\u001b[0;32m      <a href='vscode-notebook-cell:/d%3A/00_PILSA/000_MasterSeries/104_LLM/LangChain/spliter.ipynb#W5sZmlsZQ%3D%3D?line=0'>1</a>\u001b[0m \u001b[39mfrom\u001b[39;00m \u001b[39mpymilvus\u001b[39;00m \u001b[39mimport\u001b[39;00m connections\n\u001b[1;32m----> <a href='vscode-notebook-cell:/d%3A/00_PILSA/000_MasterSeries/104_LLM/LangChain/spliter.ipynb#W5sZmlsZQ%3D%3D?line=1'>2</a>\u001b[0m connections\u001b[39m.\u001b[39;49mconnect(\n\u001b[0;32m      <a href='vscode-notebook-cell:/d%3A/00_PILSA/000_MasterSeries/104_LLM/LangChain/spliter.ipynb#W5sZmlsZQ%3D%3D?line=2'>3</a>\u001b[0m   alias\u001b[39m=\u001b[39;49m\u001b[39m\"\u001b[39;49m\u001b[39mdefault\u001b[39;49m\u001b[39m\"\u001b[39;49m,\n\u001b[0;32m      <a href='vscode-notebook-cell:/d%3A/00_PILSA/000_MasterSeries/104_LLM/LangChain/spliter.ipynb#W5sZmlsZQ%3D%3D?line=3'>4</a>\u001b[0m   host\u001b[39m=\u001b[39;49m\u001b[39m\"\u001b[39;49m\u001b[39m127.0.0.1\u001b[39;49m\u001b[39m\"\u001b[39;49m, \u001b[39m# YOUR IP\u001b[39;49;00m\n\u001b[0;32m      <a href='vscode-notebook-cell:/d%3A/00_PILSA/000_MasterSeries/104_LLM/LangChain/spliter.ipynb#W5sZmlsZQ%3D%3D?line=4'>5</a>\u001b[0m   port\u001b[39m=\u001b[39;49m\u001b[39m\"\u001b[39;49m\u001b[39m19530\u001b[39;49m\u001b[39m\"\u001b[39;49m      \u001b[39m# YOUR PORT\u001b[39;49;00m\n\u001b[0;32m      <a href='vscode-notebook-cell:/d%3A/00_PILSA/000_MasterSeries/104_LLM/LangChain/spliter.ipynb#W5sZmlsZQ%3D%3D?line=5'>6</a>\u001b[0m )\n",
      "File \u001b[1;32mc:\\ProgramData\\miniconda3\\envs\\watson\\Lib\\site-packages\\pymilvus\\orm\\connections.py:356\u001b[0m, in \u001b[0;36mConnections.connect\u001b[1;34m(self, alias, user, password, db_name, token, **kwargs)\u001b[0m\n\u001b[0;32m    353\u001b[0m         \u001b[39mif\u001b[39;00m parsed_uri\u001b[39m.\u001b[39mscheme \u001b[39m==\u001b[39m \u001b[39m\"\u001b[39m\u001b[39mhttps\u001b[39m\u001b[39m\"\u001b[39m:\n\u001b[0;32m    354\u001b[0m             kwargs[\u001b[39m\"\u001b[39m\u001b[39msecure\u001b[39m\u001b[39m\"\u001b[39m] \u001b[39m=\u001b[39m \u001b[39mTrue\u001b[39;00m\n\u001b[1;32m--> 356\u001b[0m     connect_milvus(\u001b[39m*\u001b[39;49m\u001b[39m*\u001b[39;49mkwargs, user\u001b[39m=\u001b[39;49muser, password\u001b[39m=\u001b[39;49mpassword, token\u001b[39m=\u001b[39;49mtoken, db_name\u001b[39m=\u001b[39;49mdb_name)\n\u001b[0;32m    357\u001b[0m     \u001b[39mreturn\u001b[39;00m\n\u001b[0;32m    359\u001b[0m \u001b[39m# 2nd Priority, connection configs from env\u001b[39;00m\n",
      "File \u001b[1;32mc:\\ProgramData\\miniconda3\\envs\\watson\\Lib\\site-packages\\pymilvus\\orm\\connections.py:302\u001b[0m, in \u001b[0;36mConnections.connect.<locals>.connect_milvus\u001b[1;34m(**kwargs)\u001b[0m\n\u001b[0;32m    299\u001b[0m t \u001b[39m=\u001b[39m kwargs\u001b[39m.\u001b[39mget(\u001b[39m\"\u001b[39m\u001b[39mtimeout\u001b[39m\u001b[39m\"\u001b[39m)\n\u001b[0;32m    300\u001b[0m timeout \u001b[39m=\u001b[39m t \u001b[39mif\u001b[39;00m \u001b[39misinstance\u001b[39m(t, (\u001b[39mint\u001b[39m, \u001b[39mfloat\u001b[39m)) \u001b[39melse\u001b[39;00m Config\u001b[39m.\u001b[39mMILVUS_CONN_TIMEOUT\n\u001b[1;32m--> 302\u001b[0m gh\u001b[39m.\u001b[39;49m_wait_for_channel_ready(timeout\u001b[39m=\u001b[39;49mtimeout)\n\u001b[0;32m    303\u001b[0m kwargs\u001b[39m.\u001b[39mpop(\u001b[39m\"\u001b[39m\u001b[39mpassword\u001b[39m\u001b[39m\"\u001b[39m)\n\u001b[0;32m    304\u001b[0m kwargs\u001b[39m.\u001b[39mpop(\u001b[39m\"\u001b[39m\u001b[39mtoken\u001b[39m\u001b[39m\"\u001b[39m, \u001b[39mNone\u001b[39;00m)\n",
      "File \u001b[1;32mc:\\ProgramData\\miniconda3\\envs\\watson\\Lib\\site-packages\\pymilvus\\client\\grpc_handler.py:136\u001b[0m, in \u001b[0;36mGrpcHandler._wait_for_channel_ready\u001b[1;34m(self, timeout)\u001b[0m\n\u001b[0;32m    134\u001b[0m     \u001b[39mself\u001b[39m\u001b[39m.\u001b[39m_setup_identifier_interceptor(\u001b[39mself\u001b[39m\u001b[39m.\u001b[39m_user, timeout\u001b[39m=\u001b[39mtimeout)\n\u001b[0;32m    135\u001b[0m \u001b[39mexcept\u001b[39;00m grpc\u001b[39m.\u001b[39mFutureTimeoutError \u001b[39mas\u001b[39;00m e:\n\u001b[1;32m--> 136\u001b[0m     \u001b[39mraise\u001b[39;00m MilvusException(\n\u001b[0;32m    137\u001b[0m         code\u001b[39m=\u001b[39mStatus\u001b[39m.\u001b[39mCONNECT_FAILED,\n\u001b[0;32m    138\u001b[0m         message\u001b[39m=\u001b[39m\u001b[39mf\u001b[39m\u001b[39m\"\u001b[39m\u001b[39mFail connecting to server on \u001b[39m\u001b[39m{\u001b[39;00m\u001b[39mself\u001b[39m\u001b[39m.\u001b[39m_address\u001b[39m}\u001b[39;00m\u001b[39m. Timeout\u001b[39m\u001b[39m\"\u001b[39m,\n\u001b[0;32m    139\u001b[0m     ) \u001b[39mfrom\u001b[39;00m \u001b[39me\u001b[39;00m\n\u001b[0;32m    140\u001b[0m \u001b[39mexcept\u001b[39;00m \u001b[39mException\u001b[39;00m \u001b[39mas\u001b[39;00m e:\n\u001b[0;32m    141\u001b[0m     \u001b[39mraise\u001b[39;00m e \u001b[39mfrom\u001b[39;00m \u001b[39me\u001b[39;00m\n",
      "\u001b[1;31mMilvusException\u001b[0m: <MilvusException: (code=2, message=Fail connecting to server on 127.0.0.1:19530. Timeout)>"
     ]
    }
   ],
   "source": [
    "\"\"\"\n",
    "도커 \n",
    "\"\"\"\n",
    "from pymilvus import connections\n",
    "connections.connect(\n",
    "  alias=\"default\",\n",
    "  host=\"127.0.0.1\", # YOUR IP\n",
    "  port=\"19530\"      # YOUR PORT\n",
    "\n",
    ")\n",
    "\n",
    "## check if collection exist\n",
    "COLLECTION_NAME = \"test01\"\n",
    "has = utility.has_collection(COLLECTION_NAME)\n",
    "print(f\"Does collection hello_milvus exist in Milvus: {has}\")\n",
    "\n",
    "## create collection\n",
    "fields = [\n",
    "    FieldSchema(name = \"id\", dtype = DataType.INT64, description = \"Ids\", is_primary = True, auto_id = False),\n",
    "    FieldSchema(name = \"content\", dtype = DataType.VARCHAR, description = \"Content texts\", max_length = 768*8),\n",
    "    FieldSchema(name = \"embedding\", dtype = DataType.FLOAT_VECTOR, description = \"Embedding vectors\", dim = 384)\n",
    "]\n",
    "schema = CollectionSchema(fields = fields, description = \"content collection\")\n",
    "collection = Collection(name = COLLECTION_NAME, schema = schema)\n",
    "\n",
    "## create index \n",
    "index_params = {\n",
    "    \"index_type\": \"IVF_FLAT\",\n",
    "    \"metric_type\": \"L2\",\n",
    "    \"params\": {\"nlist\": 1024}\n",
    "}\n",
    "collection.create_index(field_name = \"embedding\", index_params = index_params)"
   ]
  }
 ],
 "metadata": {
  "kernelspec": {
   "display_name": "torchWin_rev",
   "language": "python",
   "name": "python3"
  },
  "language_info": {
   "codemirror_mode": {
    "name": "ipython",
    "version": 3
   },
   "file_extension": ".py",
   "mimetype": "text/x-python",
   "name": "python",
   "nbconvert_exporter": "python",
   "pygments_lexer": "ipython3",
   "version": "3.11.6"
  }
 },
 "nbformat": 4,
 "nbformat_minor": 2
}
