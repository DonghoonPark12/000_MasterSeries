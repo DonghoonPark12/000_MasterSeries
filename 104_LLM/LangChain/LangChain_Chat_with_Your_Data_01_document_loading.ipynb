{
 "cells": [
  {
   "cell_type": "markdown",
   "metadata": {},
   "source": [
    "### Document Loading 하기\n",
    "목차\n",
    "- PDF\n",
    "- YouTube\n",
    "- URLs\n",
    "- Notion"
   ]
  },
  {
   "cell_type": "markdown",
   "metadata": {},
   "source": [
    "심화\n",
    "- https://python.langchain.com/docs/modules/data_connection/document_loaders/\n",
    "- https://python.langchain.com/docs/integrations/document_loaders"
   ]
  },
  {
   "cell_type": "code",
   "execution_count": null,
   "metadata": {},
   "outputs": [],
   "source": [
    "import os\n",
    "import openai\n",
    "import sys\n",
    "sys.path.append('../..')\n",
    "\n",
    "from dotenv import load_dotenv, find_dotenv\n",
    "_ = load_dotenv(find_dotenv()) # read local .env file\n",
    "\n",
    "openai.api_key  = os.environ['OPENAI_API_KEY']"
   ]
  },
  {
   "cell_type": "markdown",
   "metadata": {},
   "source": [
    "#### PDF"
   ]
  },
  {
   "cell_type": "code",
   "execution_count": 2,
   "metadata": {},
   "outputs": [
    {
     "name": "stdout",
     "output_type": "stream",
     "text": [
      "len(pages):  575\n"
     ]
    }
   ],
   "source": [
    "from langchain.document_loaders import PyPDFLoader\n",
    "filename = './[국문 G90 2023] genesis-g90-manual-kor-230601.pdf'\n",
    "loader = PyPDFLoader(filename)\n",
    "pages = loader.load()\n",
    "print('len(pages): ', len(pages)) # <class 'langchain.schema.document.Document'> 의 리스트"
   ]
  },
  {
   "cell_type": "code",
   "execution_count": 3,
   "metadata": {},
   "outputs": [
    {
     "name": "stdout",
     "output_type": "stream",
     "text": [
      "<class 'langchain.schema.document.Document'>\n",
      "page_content=\"2-4안전 및 주의 사항\\n올바른 운전 자세\\n올바른 운전 자세가 되도록 운전석과 스티어\\n링 휠을 조절하십시오.\\n바람직한 운전 자세는 좌석에 깊숙이 앉아\\n브레이크 페달을 끝까지 밟았을 때 무릎이\\n약간 굽혀지고, 손목이 스티어링 휠의 가장\\n먼 곳에 닿아야 합니다. 또한, 헤드레스트의\\n높이가 조절되는 차량인 경우는 운전자의 귀\\n상단이 헤드레스트 중심에 올 수 있도록 헤\\n드레스트를 조절하십시오.\\n좌석, 스티어링 휠, 미러 조\\n정\\n•좌석, 스티어링 휠, 미러는 출발 전에 조\\n절하시고 주행 중에 절대로 조작하지 마\\n십시오.\\n•내·외측의 미러를 조정하여, 충분한 시\\n야를 확보하십시오.\\n•모든 게이지 및 경고등을 확인하십시오.\\n•주차 브레이크를 풀고 브레이크 경고등이\\n꺼지는지 확인하십시오.\\n•차 주위에 사람이나 물체 등이 없는지 확\\n인하십시오.\\n҃Ҋ\\n \\n•운전할 때 하이힐 등 운전하기 불편한 신\\n발을 신지 마십시오. 가속 페달, 브레이크\\n페달 등의 조작능력이 저하되어 사고의 원\\n인이 됩니다.\\n•주차 브레이크를 풀 때에는 차량이 움직일\\n수 있으므로 반드시 브레이크 페달을 확실\\n히 밟으십시오.\\n 운전석 주변 점검\\n•운전석 주변은 항상 깨끗하게 유지하십시\\n오. 빈 깡통 등이 페달 밑으로 굴러 들어갈\\n경우 페달 조작이 불가능하게 되어 매우\\n위험합니다.\\n•바닥 매트는 페달의 움직임을 방해하지 않\\n는 것으로 너무 두껍지 않으면서 바닥에\\n고정되는 제품이어야 합니다.\\n•차 안에는 화물을 좌석 높이 이상으로 적\\n재하지 마십시오.\\n안전벨트 착용\\nORS021004\\n모든 좌석의 탑승자들은 가까운 거리라도주행 전에 반드시 안전벨트를 착용하십시오.\\n1. 엉덩이를 좌석 가장 안쪽으로 넣고 등을\\n등받이에 기대어 앉으십시오. 등을 구부리\\n거나 좌석 끝에 걸터앉지 마십시오. \\n2. 안전벨트의 어깨띠가 어깨와 가슴을 지나\\n도록 하십시오.\\n3. 안전벨트가 꼬이거나 짓눌리지 않게 하십\\n시오.\\n4. 안전벨트의 골반띠가 골반을 부드럽게 지\\n나도록 하십시오.\\n5. '찰칵' 소리가 날 때까지 버클에 밀어 넣으\\n십시오.\\n탑승자 전원 안전벨트를 착용하십시오.\\n•3점식 안전벨트를 착용할 수 없는 어린이\\n의 경우 뒷좌석에 어린이용 보조 좌석을\\n장착해 앉히십시오.\\nRS4_G90_KO.book  Page 4  \" metadata={'source': './[국문 G90 2023] genesis-g90-manual-kor-230601.pdf', 'page': 24}\n"
     ]
    },
    {
     "data": {
      "text/plain": [
       "\"\\nDocument(page_content='', metadata={'source': './layout-parser-paper.pdf', 'page': 0}) 의\\n리스트가 담겨있다.\\n\""
      ]
     },
     "execution_count": 3,
     "metadata": {},
     "output_type": "execute_result"
    }
   ],
   "source": [
    "# <class 'langchain.schema.document.Document'> 객체 하나.\n",
    "# .page_content, .metadata를 멤버로 가지고 있다.\n",
    "pages_d = pages[24] \n",
    "print(type(pages_d))\n",
    "print(pages_d)\n",
    "\"\"\"\n",
    "Document(page_content='', metadata={'source': './layout-parser-paper.pdf', 'page': 0}) 의\n",
    "리스트가 담겨있다.\n",
    "\"\"\""
   ]
  },
  {
   "cell_type": "code",
   "execution_count": 4,
   "metadata": {},
   "outputs": [
    {
     "data": {
      "text/plain": [
       "\"2-4안전 및 주의 사항\\n올바른 운전 자세\\n올바른 운전 자세가 되도록 운전석과 스티어\\n링 휠을 조절하십시오.\\n바람직한 운전 자세는 좌석에 깊숙이 앉아\\n브레이크 페달을 끝까지 밟았을 때 무릎이\\n약간 굽혀지고, 손목이 스티어링 휠의 가장\\n먼 곳에 닿아야 합니다. 또한, 헤드레스트의\\n높이가 조절되는 차량인 경우는 운전자의 귀\\n상단이 헤드레스트 중심에 올 수 있도록 헤\\n드레스트를 조절하십시오.\\n좌석, 스티어링 휠, 미러 조\\n정\\n•좌석, 스티어링 휠, 미러는 출발 전에 조\\n절하시고 주행 중에 절대로 조작하지 마\\n십시오.\\n•내·외측의 미러를 조정하여, 충분한 시\\n야를 확보하십시오.\\n•모든 게이지 및 경고등을 확인하십시오.\\n•주차 브레이크를 풀고 브레이크 경고등이\\n꺼지는지 확인하십시오.\\n•차 주위에 사람이나 물체 등이 없는지 확\\n인하십시오.\\n҃Ҋ\\n \\n•운전할 때 하이힐 등 운전하기 불편한 신\\n발을 신지 마십시오. 가속 페달, 브레이크\\n페달 등의 조작능력이 저하되어 사고의 원\\n인이 됩니다.\\n•주차 브레이크를 풀 때에는 차량이 움직일\\n수 있으므로 반드시 브레이크 페달을 확실\\n히 밟으십시오.\\n 운전석 주변 점검\\n•운전석 주변은 항상 깨끗하게 유지하십시\\n오. 빈 깡통 등이 페달 밑으로 굴러 들어갈\\n경우 페달 조작이 불가능하게 되어 매우\\n위험합니다.\\n•바닥 매트는 페달의 움직임을 방해하지 않\\n는 것으로 너무 두껍지 않으면서 바닥에\\n고정되는 제품이어야 합니다.\\n•차 안에는 화물을 좌석 높이 이상으로 적\\n재하지 마십시오.\\n안전벨트 착용\\nORS021004\\n모든 좌석의 탑승자들은 가까운 거리라도주행 전에 반드시 안전벨트를 착용하십시오.\\n1. 엉덩이를 좌석 가장 안쪽으로 넣고 등을\\n등받이에 기대어 앉으십시오. 등을 구부리\\n거나 좌석 끝에 걸터앉지 마십시오. \\n2. 안전벨트의 어깨띠가 어깨와 가슴을 지나\\n도록 하십시오.\\n3. 안전벨트가 꼬이거나 짓눌리지 않게 하십\\n시오.\\n4. 안전벨트의 골반띠가 골반을 부드럽게 지\\n나도록 하십시오.\\n5. '찰칵' 소리가 날 때까지 버클에 밀어 넣으\\n십시오.\\n탑승자 전원 안전벨트를 착용하십시오.\\n•3점식 안전벨트를 착용할 수 없는 어린이\\n의 경우 뒷좌석에 어린이용 보조 좌석을\\n장착해 앉히십시오.\\nRS4_G90_KO.book  Page 4  \""
      ]
     },
     "execution_count": 4,
     "metadata": {},
     "output_type": "execute_result"
    }
   ],
   "source": [
    "pages_d.page_content"
   ]
  },
  {
   "cell_type": "code",
   "execution_count": 5,
   "metadata": {},
   "outputs": [
    {
     "data": {
      "text/plain": [
       "{'source': './[국문 G90 2023] genesis-g90-manual-kor-230601.pdf', 'page': 24}"
      ]
     },
     "execution_count": 5,
     "metadata": {},
     "output_type": "execute_result"
    }
   ],
   "source": [
    "pages_d.metadata"
   ]
  },
  {
   "cell_type": "markdown",
   "metadata": {},
   "source": [
    "#### YouTube"
   ]
  },
  {
   "cell_type": "code",
   "execution_count": 6,
   "metadata": {},
   "outputs": [],
   "source": [
    "from langchain.document_loaders.generic import GenericLoader\n",
    "from langchain.document_loaders.parsers import OpenAIWhisperParser\n",
    "from langchain.document_loaders.blob_loaders.youtube_audio import YoutubeAudioLoader"
   ]
  },
  {
   "cell_type": "code",
   "execution_count": 7,
   "metadata": {},
   "outputs": [],
   "source": [
    "#! pip install ffprobe-python\n",
    "#! pip install ffmpeg-python"
   ]
  },
  {
   "cell_type": "code",
   "execution_count": null,
   "metadata": {},
   "outputs": [],
   "source": [
    "url=\"https://www.youtube.com/watch?v=jGwO_UgTS7I\"\n",
    "save_dir=\"docs/youtube/\"\n",
    "loader = GenericLoader(\n",
    "    YoutubeAudioLoader([url],save_dir),\n",
    "    OpenAIWhisperParser()\n",
    ")\n",
    "docs = loader.load()\n"
   ]
  },
  {
   "cell_type": "code",
   "execution_count": null,
   "metadata": {},
   "outputs": [
    {
     "ename": "NameError",
     "evalue": "name 'docs' is not defined",
     "output_type": "error",
     "traceback": [
      "\u001b[1;31m---------------------------------------------------------------------------\u001b[0m",
      "\u001b[1;31mNameError\u001b[0m                                 Traceback (most recent call last)",
      "\u001b[1;32md:\\00_PILSA\\000_MasterSeries\\104_LLM\\LangChain\\LangChain_Chat_with_Your_Data.ipynb 셀 12\u001b[0m line \u001b[0;36m1\n\u001b[1;32m----> <a href='vscode-notebook-cell:/d%3A/00_PILSA/000_MasterSeries/104_LLM/LangChain/LangChain_Chat_with_Your_Data.ipynb#X22sZmlsZQ%3D%3D?line=0'>1</a>\u001b[0m \u001b[39mprint\u001b[39m(\u001b[39m'\u001b[39m\u001b[39mlen(docs):\u001b[39m\u001b[39m'\u001b[39m, \u001b[39mlen\u001b[39m(docs))\n",
      "\u001b[1;31mNameError\u001b[0m: name 'docs' is not defined"
     ]
    }
   ],
   "source": [
    "print('len(docs):', len(docs))"
   ]
  },
  {
   "cell_type": "markdown",
   "metadata": {},
   "source": [
    "#### URLs"
   ]
  },
  {
   "cell_type": "code",
   "execution_count": 10,
   "metadata": {},
   "outputs": [],
   "source": [
    "from langchain.document_loaders import WebBaseLoader\n",
    "loader = WebBaseLoader(\"https://github.com/basecamp/handbook/blob/master/37signals-is-you.md\")"
   ]
  },
  {
   "cell_type": "code",
   "execution_count": null,
   "metadata": {},
   "outputs": [],
   "source": [
    "docs = loader.load()\n",
    "print(docs[0].page_content[:500]) # 후처리 필요"
   ]
  },
  {
   "cell_type": "markdown",
   "metadata": {},
   "source": [
    "#### Notion"
   ]
  },
  {
   "cell_type": "code",
   "execution_count": 15,
   "metadata": {},
   "outputs": [
    {
     "name": "stdout",
     "output_type": "stream",
     "text": [
      "len(docs): 1\n"
     ]
    }
   ],
   "source": [
    "from langchain.document_loaders import NotionDirectoryLoader\n",
    "loader = NotionDirectoryLoader(\"docs/Notion_DB\")\n",
    "docs = loader.load()\n",
    "print('len(docs):', len(docs))"
   ]
  },
  {
   "cell_type": "code",
   "execution_count": 14,
   "metadata": {},
   "outputs": [
    {
     "name": "stdout",
     "output_type": "stream",
     "text": [
      "# High-Performance Large-Scale Image Recognition Without Normalization\n",
      "\n",
      "### Authors\n",
      "\n",
      "Andrew Brock \n",
      "\n",
      "Soham De\n",
      "\n",
      "Samuel L. Smith\n",
      "\n",
      "Karen Simonyan\n",
      "\n",
      "DeepMind\n",
      "\n",
      "### Prerequisites\n",
      "\n",
      "1. Batch Normalization \n",
      "    \n"
     ]
    }
   ],
   "source": [
    "print(docs[0].page_content[0:200])"
   ]
  },
  {
   "cell_type": "code",
   "execution_count": 16,
   "metadata": {},
   "outputs": [
    {
     "name": "stdout",
     "output_type": "stream",
     "text": [
      "{'source': 'docs\\\\Notion_DB\\\\High-Performance Large-Scale Image Recognition Wit 8519dcd750294c8aa6672373d3df65ad.md'}\n"
     ]
    }
   ],
   "source": [
    "print(docs[0].metadata)"
   ]
  }
 ],
 "metadata": {
  "kernelspec": {
   "display_name": "watson",
   "language": "python",
   "name": "python3"
  },
  "language_info": {
   "codemirror_mode": {
    "name": "ipython",
    "version": 3
   },
   "file_extension": ".py",
   "mimetype": "text/x-python",
   "name": "python",
   "nbconvert_exporter": "python",
   "pygments_lexer": "ipython3",
   "version": "3.11.6"
  }
 },
 "nbformat": 4,
 "nbformat_minor": 2
}
