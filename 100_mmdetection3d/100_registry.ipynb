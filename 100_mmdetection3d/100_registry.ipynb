{
 "cells": [
  {
   "cell_type": "markdown",
   "metadata": {},
   "source": [
    "### REGISTRY\n",
    "- OpenMMLab은 풍부한 알고리즘 과 데이터 셋 집합을 지원한다. 따라서, 유사 기능을 가진 많은 모듈이 구현되어 있다.\n",
    "- 예를 들어, ResNet과 SE-ResNet은 각각 '클래스 ResNet'과 'SEResNet'을 기반으로 하고 있으며, 유사한 함수와 인터페이스를 가지며, (OpenMMLab의) 알고리즘 라이브러리의 모델 구성요소에 속하고 있다.\n",
    "- 해당 모듈들을 관리하게 위해 MM 라이브러리는 registry를 사용한다."
   ]
  },
  {
   "cell_type": "markdown",
   "metadata": {},
   "source": [
    "#### 레지스트리란 무엇인가\n",
    "- 레지스트리는 일종의 매핑테이블이며, 사용자가 입력한 문자열(string)과 대응되는 함수와 클래스를 정의한 것이다.\n",
    "- 모듈 빌드 함수는 대응되는 클래스 혹은 함수를 어떻게 객체화 하고 호출할 것인지를 정의한다.\n",
    "- build_from_cfg는 기본적으로 문자열과 대응되는 클래스와 함수를 찾는 함수이다."
   ]
  },
  {
   "cell_type": "markdown",
   "metadata": {},
   "source": [
    "- 예를 들어, 레지스트리 MODELS는 모든 모델의 추상화로 간주될 수 있다.  \n",
    "  ResNet, SEResNet, RegNetX와 같은 클래스를 관리하거나, build_ResNet, build_SEResNet, build_RegNetx과 같은 생성자를 관리한다."
   ]
  },
  {
   "cell_type": "markdown",
   "metadata": {},
   "source": [
    "#### Getting started\n"
   ]
  },
  {
   "cell_type": "code",
   "execution_count": 13,
   "metadata": {},
   "outputs": [],
   "source": [
    "from mmengine import Registry\n",
    "# 'scope'는 레지스트리 도메인을 나타내고, 설정되지 않으면 (호출한) 패키지 이름을 가리킨다. e.g. mm3d\n",
    "# 'location'은 어디 모듈에 호출하는 레지스트리가 정의되어 있는지 나타낸다.\n",
    "ACTIVATION = Registry('activation', scope='mmengine', locations=['mmengine.models.activations'])"
   ]
  },
  {
   "cell_type": "markdown",
   "metadata": {},
   "source": [
    "location 인자로 'mmengine.models.activations' 모듈이 구체화 되었고, mmengine/models/activations.py에 대응된다.  \n",
    "--> 위의 행위가 구현된 모듈을 임포트 하는 행위인가 보다"
   ]
  },
  {
   "cell_type": "code",
   "execution_count": 14,
   "metadata": {},
   "outputs": [],
   "source": [
    "import torch.nn as nn\n",
    "\n",
    "# 클래스 이름 Sigmoid가 Registry 클래스의 메소드 register_module의 인자로 들어간다.\n",
    "# use the register_module \n",
    "@ACTIVATION.register_module()\n",
    "class Sigmoid(nn.Module): \n",
    "    def __init__(self):\n",
    "        super().__init__()\n",
    "\n",
    "    def forward(self, x):\n",
    "        print('call Sigmoid.forward')\n",
    "        return x\n",
    "\n",
    "@ACTIVATION.register_module()\n",
    "class ReLU(nn.Module):\n",
    "    def __init__(self, inplace=False):\n",
    "        super().__init__()\n",
    "\n",
    "    def forward(self, x):\n",
    "        print('call ReLU.forward')\n",
    "        return x\n",
    "\n",
    "@ACTIVATION.register_module() # same as @ACTIVATION.register_module(module=Softmax)\n",
    "class Softmax(nn.Module):\n",
    "    def __init__(self):\n",
    "        super().__init__()\n",
    "\n",
    "    def forward(self, x):\n",
    "        print('call Softmax.forward')\n",
    "        return x\n",
    "    "
   ]
  },
  {
   "cell_type": "code",
   "execution_count": 15,
   "metadata": {},
   "outputs": [
    {
     "name": "stdout",
     "output_type": "stream",
     "text": [
      "{'Sigmoid': <class '__main__.Sigmoid'>, 'ReLU': <class '__main__.ReLU'>, 'Softmax': <class '__main__.Softmax'>}\n"
     ]
    }
   ],
   "source": [
    "print(ACTIVATION.module_dict)"
   ]
  },
  {
   "cell_type": "markdown",
   "metadata": {},
   "source": [
    "- registry 모듈 사용의 핵심은 구현된 모듈을 ACTIVATION 레지스트에서 등록하는 것이다.\n",
    "- 데코레이터를 쓰거나,  다음과 같이 사용해도 된다."
   ]
  },
  {
   "cell_type": "code",
   "execution_count": 16,
   "metadata": {},
   "outputs": [
    {
     "ename": "IndentationError",
     "evalue": "unexpected indent (1198796832.py, line 2)",
     "output_type": "error",
     "traceback": [
      "\u001b[1;36m  Cell \u001b[1;32mIn[16], line 2\u001b[1;36m\u001b[0m\n\u001b[1;33m    def _register_module(self,\u001b[0m\n\u001b[1;37m    ^\u001b[0m\n\u001b[1;31mIndentationError\u001b[0m\u001b[1;31m:\u001b[0m unexpected indent\n"
     ]
    }
   ],
   "source": [
    "# 이하 Registry 클래스 메소드 일부\n",
    "    def _register_module(self,\n",
    "                         module: Type,\n",
    "                         module_name: Optional[Union[str, List[str]]] = None,\n",
    "                         force: bool = False) -> None:\n",
    "        \"\"\"Register a module.\n",
    "\n",
    "        Args:\n",
    "            module (type): Module to be registered. Typically a class or a\n",
    "                function, but generally all ``Callable`` are acceptable.\n",
    "            module_name (str or list of str, optional): The module name to be\n",
    "                registered. If not specified, the class name will be used.\n",
    "                Defaults to None.\n",
    "            force (bool): Whether to override an existing class with the same\n",
    "                name. Defaults to False.\n",
    "        \"\"\"\n",
    "        if not callable(module):\n",
    "            raise TypeError(f'module must be Callable, but got {type(module)}')\n",
    "\n",
    "        if module_name is None:\n",
    "            module_name = module.__name__\n",
    "        if isinstance(module_name, str):\n",
    "            module_name = [module_name]\n",
    "        for name in module_name:\n",
    "            if not force and name in self._module_dict:\n",
    "                existed_module = self.module_dict[name]\n",
    "                raise KeyError(f'{name} is already registered in {self.name} '\n",
    "                               f'at {existed_module.__module__}')\n",
    "            self._module_dict[name] = module # 모듈을 Registry 클래스의 멤버인 _module_dict 딕셔너리에 저장한다."
   ]
  },
  {
   "cell_type": "markdown",
   "metadata": {},
   "source": [
    "※ NOTE\n",
    "- 레지스트르 메커니즘을 활성화 하는 핵심은 모듈이 임포트 되게 하는 것이다.\n",
    "- 레지스트리에 등록하는 3가지 방법이 있다.\n",
    "  - 1. 모듈을 location에 정의된 곳에 구현하는 것이다. Registry는 모듈을 자동으로 임포트한다. 사용자는 REGISTRY.build(cfg)로 사용할 수 있다."
   ]
  },
  {
   "cell_type": "markdown",
   "metadata": {},
   "source": [
    "Q. 등록하는 것(.register_module())과 빌드(.build) 하는 것의 차이는?\n",
    "- 등록하는 것은 구현하여 등록할때, 빌드는 사용할 때"
   ]
  },
  {
   "cell_type": "code",
   "execution_count": null,
   "metadata": {},
   "outputs": [],
   "source": [
    "import torch\n",
    "\n",
    "input = torch.randn(2)\n",
    "\n",
    "act_cfg = dict(type='Sigmoid')\n",
    "activation = ACTIVATION.build(act_cfg)\n",
    "output = activation(input)\n",
    "print(output) # call Sigmoid.forward\n",
    "\n",
    "act_cfg = dict(type='ReLU', inplace=True)\n",
    "activation = ACTIVATION.build(act_cfg)\n",
    "output = activation(input)\n",
    "print(output) # call ReLU.forward"
   ]
  },
  {
   "cell_type": "markdown",
   "metadata": {},
   "source": [
    "- 객체를 생성하기 전에 입력 파라미터의 타입을 체크해 보고자 한다면, build 메로스를 구현하여 레지스트리에 전달하면 된다."
   ]
  },
  {
   "cell_type": "code",
   "execution_count": null,
   "metadata": {},
   "outputs": [],
   "source": [
    "# Create a build_activation function\n",
    "def build_activation(cfg, registry, *args, **kwargs):\n",
    "    cfg_ = cfg.copy()\n",
    "    act_type = cfg_.pop('type')\n",
    "    print(f'build activation: {act_type}')\n",
    "\n",
    "ACTIVATION = Registry('activation', build_func=build_activation, scope='mmengine', locations=['mmengine.models.activations'])\n",
    "\n",
    "@ACTIVATION.register_module()\n",
    "class Tanh(nn.Module):\n",
    "    def __init__(self):\n",
    "        super().__init__()\n",
    "\n",
    "    def forward(self, x):\n",
    "        print('call Tanh.forward')\n",
    "        return x\n",
    "\n",
    "act_cfg = dict(type='Tanh')\n",
    "activation = ACTIVATION.build(act_cfg)\n",
    "output = activation(input)\n",
    "# build activation: Tanh\n",
    "# call Tanh.forward\n",
    "print(output)"
   ]
  },
  {
   "cell_type": "markdown",
   "metadata": {},
   "source": []
  },
  {
   "cell_type": "markdown",
   "metadata": {},
   "source": [
    "#### [CLASS mmengine.registry.Registry(name, build_func=None, parent=None, scope=None, locations=[])](https://mmengine.readthedocs.io/en/latest/api/generated/mmengine.registry.Registry.html#mmengine.registry.Registry)  \n",
    "- 문자열을 클래스나 함수에 매핑하는 레지스트리  \n",
    "- 등록된 객체는 레지스트리에서 빌드 될 수 있다. 등록된 함수는 레지스트리에서 호출될 수 있다.\n",
    "- "
   ]
  },
  {
   "cell_type": "markdown",
   "metadata": {},
   "source": [
    "#### mmengine.registry.build_from_cfg(cfg, registry, default_args=None)\n",
    ": cfg (dict or ConfigDict or Config) – Config dict. It should at least contain the key “type”.  \n",
    ": registry (Registry) – The registry to search the type from.  \n",
    ": default_args (dict or ConfigDict or Config, optional) – Default initialization arguments. Defaults to None.  \n"
   ]
  },
  {
   "cell_type": "code",
   "execution_count": null,
   "metadata": {},
   "outputs": [],
   "source": [
    "# 사용법 예시\n",
    "from mmengine import Registry, build_from_cfg\n",
    "MODELS = Registry('models')\n",
    "\n",
    "@MODELS.register_module() # ResNet 클래스를 등록한다. \n",
    "class ResNet:\n",
    "     def __init__(self, depth, stages=4):\n",
    "        self.depth = depth\n",
    "        self.stages = stages    \n",
    "\n",
    "cfg = dict(type='ResNet', depth=50)\n",
    "#model = build_from_cfg(cfg, MODELS)\n",
    "resnet = MODELS.build(dict(type='ResNet'))\n",
    "\n",
    "# Returns an instantiated object\n",
    "@MODELS.register_module()\n",
    "def resnet50():           # Resnet 함수를 등록한다.\n",
    "    pass\n",
    "#reset = build_from_cfg(dict(type='reset50'), MODELS)\n",
    "# Return a result of the calling function\n",
    "\n",
    "resnet = MODELS.build(dict(type='resnet50'))"
   ]
  },
  {
   "cell_type": "code",
   "execution_count": null,
   "metadata": {},
   "outputs": [],
   "source": []
  }
 ],
 "metadata": {
  "kernelspec": {
   "display_name": "Python 3.8.17 ('mm3d')",
   "language": "python",
   "name": "python3"
  },
  "language_info": {
   "codemirror_mode": {
    "name": "ipython",
    "version": 3
   },
   "file_extension": ".py",
   "mimetype": "text/x-python",
   "name": "python",
   "nbconvert_exporter": "python",
   "pygments_lexer": "ipython3",
   "version": "3.8.17"
  },
  "orig_nbformat": 4,
  "vscode": {
   "interpreter": {
    "hash": "d69b847d396095f32f676329057412de0235e6809d7fbe768ce2e81f9c069d24"
   }
  }
 },
 "nbformat": 4,
 "nbformat_minor": 2
}
