{
 "cells": [
  {
   "cell_type": "markdown",
   "metadata": {},
   "source": [
    "### TRAIN WITH CUSTOMIZED DATASETS\n",
    "아래 예시는 Waymo 데이터 셋을 이용해 3가지 단계를 진행한다.  \n",
    "1. 커스텀 데이터 셋 준비\n",
    "2. Config 준비\n",
    "3. 커스텀 데이터로 학습, 테스트, 추론"
   ]
  },
  {
   "cell_type": "markdown",
   "metadata": {},
   "source": [
    "#### Prepatre the custimized dataset\n",
    "MMDetection3D에서는 새로운 데이터셋을 지원하는 3가지 방법이 존재한다.\n",
    "1. 데이터 셋을 존재하는 format으로 변경\n",
    "2. 데이터 셋을 표준 format으로 변경\n",
    "3. 새로운 데이터셋을 구현\n",
    "일반적으로 위의 두 방법을 추천한다."
   ]
  },
  {
   "cell_type": "markdown",
   "metadata": {},
   "source": []
  },
  {
   "cell_type": "markdown",
   "metadata": {},
   "source": []
  }
 ],
 "metadata": {
  "kernelspec": {
   "display_name": "Python 3.8.17 ('mm3d')",
   "language": "python",
   "name": "python3"
  },
  "language_info": {
   "name": "python",
   "version": "3.8.17"
  },
  "orig_nbformat": 4,
  "vscode": {
   "interpreter": {
    "hash": "d69b847d396095f32f676329057412de0235e6809d7fbe768ce2e81f9c069d24"
   }
  }
 },
 "nbformat": 4,
 "nbformat_minor": 2
}
