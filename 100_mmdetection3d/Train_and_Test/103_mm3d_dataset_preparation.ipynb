{
 "cells": [
  {
   "cell_type": "markdown",
   "metadata": {},
   "source": [
    "### 데이터 준비\n",
    "- 아래 구조를 따르길 권고한다.\n",
    "- "
   ]
  },
  {
   "cell_type": "code",
   "execution_count": null,
   "metadata": {},
   "outputs": [],
   "source": [
    "mmdetection3d\n",
    "├── mmdet3d\n",
    "├── tools\n",
    "├── configs\n",
    "├── data\n",
    "│   ├── nuscenes\n",
    "│   │   ├── maps\n",
    "│   │   ├── samples\n",
    "│   │   ├── sweeps\n",
    "│   │   ├── v1.0-test\n",
    "|   |   ├── v1.0-trainval\n",
    "│   ├── kitti\n",
    "│   │   ├── ImageSets\n",
    "│   │   ├── testing\n",
    "│   │   │   ├── calib\n",
    "│   │   │   ├── image_2\n",
    "│   │   │   ├── velodyne\n",
    "│   │   ├── training\n",
    "│   │   │   ├── calib\n",
    "│   │   │   ├── image_2\n",
    "│   │   │   ├── label_2\n",
    "│   │   │   ├── velodyne\n",
    "│   ├── waymo\n",
    "│   │   ├── waymo_format\n",
    "│   │   │   ├── training\n",
    "│   │   │   ├── validation\n",
    "│   │   │   ├── testing\n",
    "│   │   │   ├── gt.bin\n",
    "│   │   ├── kitti_format\n",
    "│   │   │   ├── ImageSets\n",
    "│   ├── lyft\n",
    "│   │   ├── v1.01-train\n",
    "│   │   │   ├── v1.01-train (train_data)\n",
    "│   │   │   ├── lidar (train_lidar)\n",
    "│   │   │   ├── images (train_images)\n",
    "│   │   │   ├── maps (train_maps)\n",
    "│   │   ├── v1.01-test\n",
    "│   │   │   ├── v1.01-test (test_data)\n",
    "│   │   │   ├── lidar (test_lidar)\n",
    "│   │   │   ├── images (test_images)\n",
    "│   │   │   ├── maps (test_maps)\n",
    "│   │   ├── train.txt\n",
    "│   │   ├── val.txt\n",
    "│   │   ├── test.txt\n",
    "│   │   ├── sample_submission.csv\n",
    "│   ├── s3dis\n",
    "│   │   ├── meta_data\n",
    "│   │   ├── Stanford3dDataset_v1.2_Aligned_Version\n",
    "│   │   ├── collect_indoor3d_data.py\n",
    "│   │   ├── indoor3d_util.py\n",
    "│   │   ├── README.md\n",
    "│   ├── scannet\n",
    "│   │   ├── meta_data\n",
    "│   │   ├── scans\n",
    "│   │   ├── scans_test\n",
    "│   │   ├── batch_load_scannet_data.py\n",
    "│   │   ├── load_scannet_data.py\n",
    "│   │   ├── scannet_utils.py\n",
    "│   │   ├── README.md\n",
    "│   ├── sunrgbd\n",
    "│   │   ├── OFFICIAL_SUNRGBD\n",
    "│   │   ├── matlab\n",
    "│   │   ├── sunrgbd_data.py\n",
    "│   │   ├── sunrgbd_utils.py\n",
    "│   │   ├── README.md\n",
    "│   ├── semantickitti\n",
    "│   │   ├── sequences\n",
    "│   │   │   ├── 00\n",
    "│   │   │   │   ├── labels\n",
    "│   │   │   │   ├── velodyne\n",
    "│   │   │   ├── 01\n",
    "│   │   │   ├── ..\n",
    "│   │   │   ├── 22\n"
   ]
  },
  {
   "cell_type": "markdown",
   "metadata": {},
   "source": [
    "#### Waymo\n",
    "- Waymo open dataset V1.4.1 다운로드 [HERE](https://waymo.com/open/download/) \n",
    "- data split [HERE](https://drive.google.com/drive/folders/18BVuF_RYJF0NjZpt8SnfzANiakoRMf0o?usp=sharing)\n",
    "- .tfrecord를 data/waymo/waymo_format/ 에 놓음"
   ]
  },
  {
   "cell_type": "markdown",
   "metadata": {},
   "source": [
    "#### SemanticKITTI\n",
    "- SemanticKITTI 데이터 셋을 다운로드 [HERE](http://semantic-kitti.org/dataset.html#download)\n",
    "- 다운 받은 파일을 모두 unzip\n",
    "- 혹은 MIM을 이용해 [OpenDataLab](https://opendatalab.com/)에서 다운할 수 있다.\n",
    "  (아래 명령은 mim을 이용해 OpenDataLab에서 다운하고 unzip 하는 명령어)"
   ]
  },
  {
   "cell_type": "code",
   "execution_count": null,
   "metadata": {},
   "outputs": [],
   "source": [
    "# install OpenDataLab CLI tools\n",
    "pip install -U opendatalab\n",
    "# log in OpenDataLab. Note that you should register an account on [OpenDataLab](https://opendatalab.com/) before.\n",
    "pip install odl\n",
    "odl login\n",
    "# download and preprocess by MIM\n",
    "mim download mmdet3d --dataset semantickitti"
   ]
  },
  {
   "cell_type": "markdown",
   "metadata": {},
   "source": [
    "- 이하 info 파일(pickle 파일)을 생성하기 위한 명령어\n",
    "- 참고로, mm3d에서는 이미 pickle 파일을 만들어서 공유해 놓았다. [HERE]()"
   ]
  },
  {
   "cell_type": "code",
   "execution_count": null,
   "metadata": {},
   "outputs": [],
   "source": [
    "python ./tools/create_data.py semantickitti \\\n",
    "    --root-path ./data/semantickitti \\\n",
    "    --out-dir ./data/semantickitti \n",
    "    --extra-tag semantickitti"
   ]
  }
 ],
 "metadata": {
  "kernelspec": {
   "display_name": "Python 3.8.17 ('mm3d')",
   "language": "python",
   "name": "python3"
  },
  "language_info": {
   "name": "python",
   "version": "3.8.17"
  },
  "orig_nbformat": 4,
  "vscode": {
   "interpreter": {
    "hash": "d69b847d396095f32f676329057412de0235e6809d7fbe768ce2e81f9c069d24"
   }
  }
 },
 "nbformat": 4,
 "nbformat_minor": 2
}
