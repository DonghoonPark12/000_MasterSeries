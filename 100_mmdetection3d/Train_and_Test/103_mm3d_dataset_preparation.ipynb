{
 "cells": [
  {
   "cell_type": "markdown",
   "metadata": {},
   "source": [
    "#### Waymo\n",
    "- Waymo open dataset V1.4.1 다운로드 [HERE](https://waymo.com/open/download/) \n",
    "- data split [HERE](https://drive.google.com/drive/folders/18BVuF_RYJF0NjZpt8SnfzANiakoRMf0o?usp=sharing)\n",
    "- .tfrecord를 data/waymo/waymo_format/ 에 놓음"
   ]
  },
  {
   "cell_type": "markdown",
   "metadata": {},
   "source": [
    "#### SemanticKITTI\n",
    "- SemanticKITTI 데이터 셋을 다운로드 [HERE](http://semantic-kitti.org/dataset.html#download)\n",
    "- 다운 받은 파일을 모두 unzip\n",
    "- 혹은 MIM을 이용해 [OpenDataLab](https://opendatalab.com/)에서 다운할 수 있다.\n",
    "  (아래 명령은 mim을 이용해 OpenDataLab에서 다운하고 unzip 하는 명령어)"
   ]
  },
  {
   "cell_type": "code",
   "execution_count": null,
   "metadata": {},
   "outputs": [],
   "source": [
    "# install OpenDataLab CLI tools\n",
    "pip install -U opendatalab\n",
    "# log in OpenDataLab. Note that you should register an account on [OpenDataLab](https://opendatalab.com/) before.\n",
    "pip install odl\n",
    "odl login\n",
    "# download and preprocess by MIM\n",
    "mim download mmdet3d --dataset semantickitti"
   ]
  },
  {
   "cell_type": "markdown",
   "metadata": {},
   "source": [
    "- 이하 info 파일(pickle 파일)을 생성하기 위한 명령어\n",
    "- 참고로, mm3d에서는 이미 pickle 파일을 만들어서 공유해 놓았다. [HERE]()"
   ]
  },
  {
   "cell_type": "code",
   "execution_count": null,
   "metadata": {},
   "outputs": [],
   "source": [
    "python ./tools/create_data.py semantickitti \\\n",
    "    --root-path ./data/semantickitti \\\n",
    "    --out-dir ./data/semantickitti \n",
    "    --extra-tag semantickitti"
   ]
  }
 ],
 "metadata": {
  "kernelspec": {
   "display_name": "Python 3.8.17 ('mm3d')",
   "language": "python",
   "name": "python3"
  },
  "language_info": {
   "name": "python",
   "version": "3.8.17"
  },
  "orig_nbformat": 4,
  "vscode": {
   "interpreter": {
    "hash": "d69b847d396095f32f676329057412de0235e6809d7fbe768ce2e81f9c069d24"
   }
  }
 },
 "nbformat": 4,
 "nbformat_minor": 2
}
