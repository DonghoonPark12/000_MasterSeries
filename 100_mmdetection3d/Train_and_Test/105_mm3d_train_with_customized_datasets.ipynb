{
 "cells": [
  {
   "cell_type": "markdown",
   "metadata": {},
   "source": [
    "### TRAIN WITH CUSTOMIZED DATASETS\n",
    "아래 예시는 Waymo 데이터 셋을 이용해 3가지 단계를 진행한다.  \n",
    "1. 커스텀 데이터 셋 준비\n",
    "2. Config 준비\n",
    "3. 커스텀 데이터로 학습, 테스트, 추론"
   ]
  },
  {
   "cell_type": "markdown",
   "metadata": {},
   "source": [
    "#### 1. 커스텀 데이터셋 준비\n",
    "MMDetection3D에서는 새로운 데이터셋을 지원하는 3가지 방법이 존재한다.\n",
    "1. 데이터 셋을 존재하는 format으로 변경\n",
    "2. 데이터 셋을 표준 format으로 변경\n",
    "3. 새로운 데이터셋을 구현  \n",
    "일반적으로 위의 두 방법을 추천한다.  \n",
    "\n",
    "  \n",
    "※ 본 글에서는 Waymo 형식을 Kitti 포맷으로 변환하는 것을 예로 든다. 다른 예로 Lyft를 nuScenes로 변환하는 것은 새로운 데이터 컨버터를 구현하는 것이, 다른 데이터 포맷으로 변환하는 것 대비 쉽다(?)  \n",
    "--> 표준 fotmat이 무엇을 말하는지는 뒤에 살펴본다."
   ]
  },
  {
   "cell_type": "markdown",
   "metadata": {},
   "source": [
    "#### 1-1. KITTI dataset format 으로 변환하기\n",
    "- Imageset은 training/validation/testing 으로 나눌 데이터 목록 txt 파일을 포함한다.\n",
    "- calib은 켈리브레이션 정보, image_2, velodyne, label_2는 각각 이미지, 라이다, 라벨 정보 포함."
   ]
  },
  {
   "cell_type": "code",
   "execution_count": null,
   "metadata": {},
   "outputs": [],
   "source": [
    "mmdetection3d\n",
    "├── mmdet3d\n",
    "├── tools\n",
    "├── configs\n",
    "├── data\n",
    "│   ├── kitti\n",
    "│   │   ├── ImageSets\n",
    "│   │   ├── testing\n",
    "│   │   │   ├── calib\n",
    "│   │   │   ├── image_2\n",
    "│   │   │   ├── velodyne\n",
    "│   │   ├── training\n",
    "│   │   │   ├── calib\n",
    "│   │   │   ├── image_2\n",
    "│   │   │   ├── label_2\n",
    "│   │   │   ├── velodyne"
   ]
  },
  {
   "cell_type": "code",
   "execution_count": null,
   "metadata": {},
   "outputs": [],
   "source": [
    "#Values    Name      Description\n",
    "----------------------------------------------------------------------------\n",
    "   1    type         Describes the type of object: 'Car', 'Van', 'Truck',\n",
    "                     'Pedestrian', 'Person_sitting', 'Cyclist', 'Tram',\n",
    "                     'Misc' or 'DontCare'\n",
    "   1    truncated    Float from 0 (non-truncated) to 1 (truncated), where\n",
    "                     truncated refers to the object leaving image boundaries     : 이미지 경계를 벗어낫는지 유무\n",
    "   1    occluded     Integer (0,1,2,3) indicating occlusion state:\n",
    "                     0 = fully visible, 1 = partly occluded\n",
    "                     2 = largely occluded, 3 = unknown\n",
    "   1    alpha        Observation angle of object, ranging [-pi..pi]              : 관찰 각도\n",
    "   4    bbox         2D bounding box of object in the image (0-based index):\n",
    "                     contains left, top, right, bottom pixel coordinates\n",
    "   3    dimensions   3D object dimensions: height, width, length (in meters)\n",
    "   3    location     3D object location x,y,z in camera coordinates (in meters)   : 카메라 좌표계 기준 물체 위치\n",
    "   1    rotation_y   Rotation ry around Y-axis in camera coordinates [-pi..pi]\n",
    "   1    score        Only for results: Float, indicating confidence in\n",
    "                     detection, needed for p/r curves, higher is better."
   ]
  },
  {
   "cell_type": "markdown",
   "metadata": {},
   "source": [
    "- Waymo 데이터셋 다운 후에 입력 데이터와 라벨을 KITTI 형식으로 바꿔야 한다.\n",
    "- 다음 KittiDataset을 상속한 WaymoDataset을 구현하여 학습하고, KittiMetric을 상속한 WaymoMetric을 구현하여 평가 가능하다.\n",
    "    \n",
    "- Waymo를 KITTI 포맷으로 변환하는 컨버터를 구현해 놓았다."
   ]
  },
  {
   "cell_type": "markdown",
   "metadata": {},
   "source": [
    "#### 1-2. standard format dataset 으로 변환하기\n"
   ]
  },
  {
   "cell_type": "markdown",
   "metadata": {},
   "source": []
  },
  {
   "cell_type": "markdown",
   "metadata": {},
   "source": [
    "#### Waymo Converter"
   ]
  },
  {
   "cell_type": "code",
   "execution_count": null,
   "metadata": {},
   "outputs": [],
   "source": [
    "# https://github.com/open-mmlab/mmdetection3d/blob/dev-1.x/tools/dataset_converters/waymo_converter.py\n",
    "\n",
    "# Copyright (c) OpenMMLab. All rights reserved.\n",
    "r\"\"\"Adapted from `Waymo to KITTI converter\n",
    "    <https://github.com/caizhongang/waymo_kitti_converter>`_.\n",
    "\"\"\"\n",
    "\n",
    "try:\n",
    "    from waymo_open_dataset import dataset_pb2\n",
    "except ImportError:\n",
    "    raise ImportError('Please run \"pip install waymo-open-dataset-tf-2-6-0\" '\n",
    "                      '>1.4.5 to install the official devkit first.')\n",
    "\n",
    "import os\n",
    "from glob import glob\n",
    "from os.path import exists, join\n",
    "\n",
    "import mmengine\n",
    "import numpy as np\n",
    "import tensorflow as tf\n",
    "from waymo_open_dataset.utils import range_image_utils, transform_utils\n",
    "from waymo_open_dataset.utils.frame_utils import \\\n",
    "    parse_range_image_and_camera_projection\n",
    "\n",
    "class Waymo2KITTI(object):\n",
    "    \"\"\"Waymo to KITTI converter.\n",
    "\n",
    "    This class serves as the converter to change the waymo raw data to KITTI\n",
    "    format.\n",
    "\n",
    "    Args:\n",
    "        load_dir (str): Directory to load waymo raw data.\n",
    "        save_dir (str): Directory to save data in KITTI format.\n",
    "        prefix (str): Prefix of filename. In general, 0 for training, 1 for\n",
    "            validation and 2 for testing.\n",
    "        workers (int, optional): Number of workers for the parallel process.\n",
    "            Defaults to 64.\n",
    "        test_mode (bool, optional): Whether in the test_mode.\n",
    "            Defaults to False.\n",
    "        save_cam_sync_labels (bool, optional): Whether to save cam sync labels.\n",
    "            Defaults to True.\n",
    "    \"\"\"    "
   ]
  }
 ],
 "metadata": {
  "kernelspec": {
   "display_name": "Python 3.8.17 ('mm3d')",
   "language": "python",
   "name": "python3"
  },
  "language_info": {
   "codemirror_mode": {
    "name": "ipython",
    "version": 3
   },
   "file_extension": ".py",
   "mimetype": "text/x-python",
   "name": "python",
   "nbconvert_exporter": "python",
   "pygments_lexer": "ipython3",
   "version": "3.8.17"
  },
  "orig_nbformat": 4,
  "vscode": {
   "interpreter": {
    "hash": "d69b847d396095f32f676329057412de0235e6809d7fbe768ce2e81f9c069d24"
   }
  }
 },
 "nbformat": 4,
 "nbformat_minor": 2
}
