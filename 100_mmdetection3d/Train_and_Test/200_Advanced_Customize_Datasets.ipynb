{
 "cells": [
  {
   "cell_type": "markdown",
   "metadata": {},
   "source": [
    "#### Customize Datasets\n",
    "- 본 노트에서는 사전 정의도니 모델의 학습/테스트를 커스텀 데이터로 진행하는 법을 알려준다\n",
    "- 다음 3가지 단계\n",
    "  - 1. 데이터 셋 준비\n",
    "  - 2. Config 준비\n",
    "  - 3. 커스텀 데이터로 학습, 테스트, 추론"
   ]
  },
  {
   "cell_type": "markdown",
   "metadata": {},
   "source": [
    "#### 데이터 준비\n",
    "- 이상적인 상황은 커스텀 데이터를 KITTI 스타일로 바꾸는 것이지만, Calibration 파일이나 3D 어노테이션 파일은 커스텀데이터에서 구하기가 쉽지 않다."
   ]
  },
  {
   "cell_type": "markdown",
   "metadata": {},
   "source": [
    "##### 기본 데이터 포맷\n",
    "  \n",
    "##### 1. Point Cloud Format\n",
    "- 본 라이브러리는 .bin 포맷 포인트 클라우드만 학습/추론을 제공한다.\n",
    "- 따라서, 학습 전에 당신의 포인트 클라우드(일반적으로 .pcd, .las)를 .bin 포맷으로 변환해야 한다."
   ]
  },
  {
   "cell_type": "markdown",
   "metadata": {},
   "source": [
    "1. Convert .pcd to .bin: https://github.com/DanielPollithy/pypcd"
   ]
  },
  {
   "cell_type": "code",
   "execution_count": null,
   "metadata": {},
   "outputs": [],
   "source": [
    "# You can install pypcd with the following command\n",
    "pip install git+https://github.com/DanielPollithy/pypcd.git\n",
    "\n",
    "# You can use the following script to read the .pcd file \n",
    "# and convert it to .bin format for saving:\n",
    "import numpy as np\n",
    "from pypcd import pypcd\n",
    "\n",
    "pcd_data = pypcd.PointCloud.from_path('point_cloud_data.pcd')\n",
    "points = np.zeros([pcd_data.width, 4], dtype=np.float32)\n",
    "points[:, 0] = pcd_data.pc_data['x'].copy()\n",
    "points[:, 1] = pcd_data.pc_data['y'].copy()\n",
    "points[:, 2] = pcd_data.pc_data['z'].copy()\n",
    "points[:, 3] = pcd_data.pc_data['intensity'].copy().astype(np.float32)\n",
    "with open('point_cloud_data.bin', 'wb') as f:\n",
    "    f.write(points.tobytes())"
   ]
  },
  {
   "cell_type": "markdown",
   "metadata": {},
   "source": [
    "2. Convert .las to .bin: The common conversion path is .las -> .pcd -> .bin, and the conversion path .las -> .pcd can be achieved through [this tool](https://github.com/Hitachi-Automotive-And-Industry-Lab/semantic-segmentation-editor)."
   ]
  },
  {
   "cell_type": "markdown",
   "metadata": {},
   "source": [
    "##### 2. Label Format\n",
    "- 각 Scene의 3D 박스와 카테고리 정보는 일반적으로 .txt 파일로 저장된다.\n",
    "  "
   ]
  },
  {
   "cell_type": "code",
   "execution_count": null,
   "metadata": {},
   "outputs": [],
   "source": [
    "# format: [x, y, z, dx, dy, dz, yaw, category_name]\n",
    "1.23 1.42 0.23 3.96 1.65 1.55 1.56 Car\n",
    "3.51 2.15 0.42 1.05 0.87 1.86 1.23 Pedestrian\n",
    "..."
   ]
  },
  {
   "cell_type": "markdown",
   "metadata": {},
   "source": [
    "- 3D 박스는 통합된 3D 좌표계로 저장되어야 한다(상호 통일되어 있어야 한다)"
   ]
  },
  {
   "cell_type": "markdown",
   "metadata": {},
   "source": [
    "##### 3. Calibration Format\n"
   ]
  },
  {
   "cell_type": "markdown",
   "metadata": {},
   "source": [
    "(이하 생략)"
   ]
  },
  {
   "cell_type": "markdown",
   "metadata": {},
   "source": [
    "#### An example of customized dataset\n",
    "- 데이터 준비가 끝다면, 데이터를 로드하기 위한 다음 파일을 생성한다.\n",
    "- mmdet3d/datasets/my_dataset.py"
   ]
  },
  {
   "cell_type": "code",
   "execution_count": null,
   "metadata": {},
   "outputs": [],
   "source": [
    "import mmengine\n",
    "\n",
    "from mmdet3d.registry import DATASETS\n",
    "from mmdet3d.datasets import Det3DDataset\n",
    "\n",
    "@DATASETS.register_module()\n",
    "class CustomDataset(Seg3DDataset):\n",
    "    METAINFO = {\n",
    "        'classes': ()\n",
    "        'palette': []\n",
    "        'seg_valid_class_ids':\n",
    "        tuple(range(XX)),\n",
    "        'seg_all_class_ids':\n",
    "        tuple(range(XX)),\n",
    "    }\n",
    "\n",
    "    def __init__(self,\n",
    "                data_root: Optional[str] = None,\n",
    "                ann_fileL: str = '',\n",
    "                metainfo: Optional[dict] = None,\n",
    "                data_prefix: dict = dict(\n",
    "                    pts = 'points',\n",
    "                    img = '',\n",
    "                    pts_instance_mask='',\n",
    "                    pts_semantic_mask=''),\n",
    "                pipeline: List[Union[dict, Callable]] = [],\n",
    "                modality: dict = dict(use_lidar=True, use_camera=False),\n",
    "                \n",
    "\n",
    "                )\n",
    "                "
   ]
  }
 ],
 "metadata": {
  "kernelspec": {
   "display_name": "Python 3.8.17 ('mm3d')",
   "language": "python",
   "name": "python3"
  },
  "language_info": {
   "name": "python",
   "version": "3.8.17"
  },
  "orig_nbformat": 4,
  "vscode": {
   "interpreter": {
    "hash": "d69b847d396095f32f676329057412de0235e6809d7fbe768ce2e81f9c069d24"
   }
  }
 },
 "nbformat": 4,
 "nbformat_minor": 2
}
