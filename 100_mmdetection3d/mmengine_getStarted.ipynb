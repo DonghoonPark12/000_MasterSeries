{
 "cells": [
  {
   "cell_type": "markdown",
   "metadata": {},
   "source": [
    "#### Module Introduction\n",
    "- MMEngine은 훈련 프로세스와 그 관계에 관련된 구성요소를 추상화한다.\n",
    "- 서로 다른 알고리즘 라이브러리에 있는 동일한 유형의 구성 요소는 동일한 인터페이스 정의를 공유합니다.\n",
    "  \n",
    "#### Core Modules and Related Components\n"
   ]
  },
  {
   "cell_type": "code",
   "execution_count": null,
   "metadata": {},
   "outputs": [],
   "source": []
  }
 ],
 "metadata": {
  "language_info": {
   "name": "python"
  },
  "orig_nbformat": 4
 },
 "nbformat": 4,
 "nbformat_minor": 2
}
