{
 "cells": [
  {
   "cell_type": "markdown",
   "metadata": {},
   "source": [
    "### Text generation models"
   ]
  },
  {
   "cell_type": "markdown",
   "metadata": {},
   "source": [
    "OpenAI의 텍스트 생성 모델(종종 사전 훈련된 생성 변환기 또는 대규모 언어 모델이라고도 함)은 자연어, 코드 및 이미지를 이해하도록 훈련되었습니다.  \n",
    "모델은 입력에 대한 응답으로 텍스트 출력을 제공합니다. 이러한 모델에 대한 입력을 `\"프롬프트\"`라고도 합니다.  \n",
    "프롬프트 디자인은 기본적으로 대규모 언어 모델 모델을 \"프로그래밍\"하는 방법으로, 일반적으로 `작업을 성공적으로 완료하는 방법에 대한 지침이나 몇 가지 예`를 제공합니다."
   ]
  },
  {
   "cell_type": "markdown",
   "metadata": {},
   "source": [
    "OpenAI의 텍스트 생성 모델을 사용하면 다음을 수행하는 애플리케이션을 구축할 수 있습니다.\n",
    "\n",
    "- 초안 문서\n",
    "- 컴퓨터 코드 작성\n",
    "- 지식창고에 대한 질문에 답하기\n",
    "- 텍스트 분석\n",
    "- 소프트웨어에 자연어 인터페이스 제공\n",
    "- 다양한 과목의 교사\n",
    "- 언어 번역\n",
    "- 게임용 캐릭터 시뮬레이션\n",
    "  \n",
    "gpt-4-vision-preview가 출시되면서 이제 이미지를 처리하고 이해하는 시스템을 구축할 수 있습니다."
   ]
  },
  {
   "cell_type": "markdown",
   "metadata": {},
   "source": [
    "OpenAI API를 통해 이러한 모델 중 하나를 사용하려면 입력과 API 키가 포함된 요청을 보내고 모델의 출력이 포함된 응답을 받게 됩니다.  \n",
    "최신 모델인 gpt-4 및 gpt-3.5-turbo는 채팅 완료 API 엔드포인트를 통해 액세스됩니다.\n",
    "\n",
    "| |모델 제품군| API 엔드포인트  \n",
    "|---|---|---|\n",
    "|최신 모델(2023년~)| gpt-4, gpt-4-turbo-preview, gpt-3.5-turbo| https://api.openai.com/v1/chat/completions|\n",
    "|레거시 모델 업데이트(2023)| gpt-3.5-turbo-instruct, Babbage-002, davinci-002| https://api.openai.com/v1/completions  \n",
    "\n",
    "채팅 놀이터에서는 다양한 모델을 실험해볼 수 있습니다. 어떤 모델을 사용해야 할지 잘 모르겠으면 gpt-3.5-turbo 또는 gpt-4-turbo-preview를 사용하세요."
   ]
  },
  {
   "cell_type": "markdown",
   "metadata": {},
   "source": [
    "채팅 놀이터에서는 다양한 모델을 실험해볼 수 있습니다. 어떤 모델을 사용해야 할지 잘 모르겠으면 gpt-3.5-turbo 또는 gpt-4-turbo-preview를 사용하세요."
   ]
  },
  {
   "cell_type": "markdown",
   "metadata": {},
   "source": [
    "\n",
    "#### Chat Completions API\n",
    "\n",
    "채팅 모델은 메시지 목록을 입력으로 사용하고 모델 생성 메시지를 출력으로 반환합니다. 채팅 형식은 여러 차례 대화를 쉽게 할 수 있도록 설계되었지만 대화가 없는 단일 차례 작업에도 마찬가지로 유용합니다.\n",
    "\n",
    "Chat Completions API 호출의 예는 다음과 같습니다."
   ]
  },
  {
   "cell_type": "code",
   "execution_count": null,
   "metadata": {},
   "outputs": [],
   "source": [
    "# Python\n",
    "from openai import OpenAI\n",
    "client = OpenAI()\n",
    "\n",
    "response = client.chat.completions.create(\n",
    "  model=\"gpt-3.5-turbo\",\n",
    "  messages=[\n",
    "    {\"role\": \"system\", \"content\": \"You are a helpful assistant.\"},\n",
    "    {\"role\": \"user\", \"content\": \"Who won the world series in 2020?\"},\n",
    "    {\"role\": \"assistant\", \"content\": \"The Los Angeles Dodgers won the World Series in 2020.\"},\n",
    "    {\"role\": \"user\", \"content\": \"Where was it played?\"}\n",
    "  ]\n",
    ")"
   ]
  },
  {
   "cell_type": "code",
   "execution_count": null,
   "metadata": {
    "vscode": {
     "languageId": "javascript"
    }
   },
   "outputs": [],
   "source": [
    "// JavaScript\n",
    "import OpenAI from \"openai\";\n",
    "\n",
    "const openai = new OpenAI();\n",
    "\n",
    "async function main() {\n",
    "  const completion = await openai.chat.completions.create({\n",
    "    messages: [{\"role\": \"system\", \"content\": \"You are a helpful assistant.\"},\n",
    "        {\"role\": \"user\", \"content\": \"Who won the world series in 2020?\"},\n",
    "        {\"role\": \"assistant\", \"content\": \"The Los Angeles Dodgers won the World Series in 2020.\"},\n",
    "        {\"role\": \"user\", \"content\": \"Where was it played?\"}],\n",
    "    model: \"gpt-3.5-turbo\",\n",
    "  });\n",
    "\n",
    "  console.log(completion.choices[0]);\n",
    "}\n",
    "main();"
   ]
  },
  {
   "cell_type": "markdown",
   "metadata": {},
   "source": [
    "주요 입력은 message 매개변수입니다. 메시지는 메시지 개체의 배열이어야 하며, 각 개체에는 역할(`\"system\", \"user\" 또는  \"assistant\"`)과 콘텐츠가 있습니다. 대화는 하나의 메시지만큼 짧을 수도 있고 여러 번 주고받을 수도 있습니다.\n",
    "\n",
    "일반적으로 대화는 먼저 \"system\" 메시지로 형식화되고 이어서 \"user\" 메시지와 \"assistant\" 메시지가 교대로 표시됩니다.\n",
    "\n",
    "`\"system\" 메시지는 \"assistant\"의 동작을 설정하는 데 도움`이 됩니다. 예를 들어, \"assistant\"의 성격을 수정하거나 대화 전반에 걸쳐 \"assistant\"가 어떻게 행동해야 하는지에 대한 구체적인 지침을 제공할 수 있습니다. 그러나 `\"system\" 메시지는 선택 사항`이며 시스템 메시지가 없는 모델의 동작은  \"You are a helpful assistant\"와 같은 일반적인 메시지를 사용하는 것과 유사할 가능성이 높습니다.\n",
    "\n",
    "(★)`\"user\" 메시지는 \"assistant\"가 응답할 요청이나 설명을 제공합니다. \"assistant\" 메시지는 \"previous assistant\" 응답을 저장하지만 원하는 동작의 예를 제공하기 위해 \"user\"가 작성할 수도 있습니다`."
   ]
  },
  {
   "cell_type": "markdown",
   "metadata": {},
   "source": [
    "사용자 지침이 이전 메시지를 참조할 때 대화 기록을 포함하는 것이 중요합니다. 위의 예에서 사용자의 마지막 질문인 \"어디서 재생되었나요?\" 이는 2020년 월드 시리즈에 대한 이전 메시지의 맥락에서만 의미가 있습니다. 모델에는 과거 요청에 대한 기억이 없기 때문에 모든 관련 정보는 각 요청의 대화 기록의 일부로 제공되어야 합니다. 대화가 모델의 토큰 한도에 맞지 않으면 어떤 방식으로든 줄여야 합니다.\n",
    "==> Assistant에게 맥락을 제공하기 위해, 사용자가 assistant의 대답을 넣을 수도 있다. 왜냐하면, assistant의 대답은 과거 user 요청과 assistant 대답을 활용하기 때문이다."
   ]
  }
 ],
 "metadata": {
  "language_info": {
   "name": "python"
  }
 },
 "nbformat": 4,
 "nbformat_minor": 2
}
