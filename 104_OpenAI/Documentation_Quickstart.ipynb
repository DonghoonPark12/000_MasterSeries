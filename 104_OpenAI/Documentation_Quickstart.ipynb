{
 "cells": [
  {
   "cell_type": "markdown",
   "metadata": {},
   "source": [
    "### Developer quickstart"
   ]
  },
  {
   "cell_type": "markdown",
   "metadata": {},
   "source": [
    "<목차>\n",
    "- Get up and running with the OpenAI API\n",
    "- Account setup"
   ]
  },
  {
   "cell_type": "markdown",
   "metadata": {},
   "source": [
    "#### Get up and running with the OpenAI API"
   ]
  },
  {
   "cell_type": "markdown",
   "metadata": {},
   "source": [
    "OpenAI API는 개발자가 OpenAI의 최첨단 모델을 기반으로 애플리케이션에서 인텔리전스 계층을 생성할 수 있는 간단한 인터페이스를 제공합니다.  \n",
    "Chat Completions 엔드포인트는 ChatGPT를 지원하며 텍스트를 입력으로 사용하고 GPT-4와 같은 모델을 사용하여 출력을 생성하는 간단한 방법을 제공합니다.\n",
    "  \n",
    "이 빠른 시작은 로컬 개발 환경을 설정하고 첫 번째 API 요청을 보내는 데 도움이 되도록 설계되었습니다.  \n",
    "숙련된 개발자이거나 OpenAI API 사용에 대해 자세히 알고 싶다면 GPT 가이드의 API 참조를 시작하는 것이 좋습니다. 이 빠른 시작을 통해 다음 내용을 알아봅니다.\n",
    "\n",
    "추가 참조: https://platform.openai.com/docs/api-reference"
   ]
  },
  {
   "cell_type": "markdown",
   "metadata": {},
   "source": [
    "- 개발 환경을 설정하는 방법\n",
    "- 최신 SDK를 설치하는 방법\n",
    "- OpenAI API의 기본 개념 중 일부\n",
    "- 첫 번째 API 요청을 보내는 방법\n",
    "시작하는 데 어려움이 있거나 질문이 있는 경우 개발자 포럼에 참여하세요."
   ]
  },
  {
   "cell_type": "markdown",
   "metadata": {},
   "source": [
    "#### Account setup\n",
    "먼저 OpenAI 계정을 만들거나 로그인합니다. 그런 다음 API 키 페이지로 이동하여 \"새 비밀 키 만들기\"를 선택하고 선택적으로 키 이름을 지정합니다.  \n",
    "안전한 곳에 보관하시고, 누구와도 공유하지 마세요."
   ]
  },
  {
   "cell_type": "markdown",
   "metadata": {},
   "source": [
    "---"
   ]
  },
  {
   "cell_type": "markdown",
   "metadata": {},
   "source": [
    "#### Node.js\n",
    "Node.js는 웹 개발에 일반적으로 사용되는 인기 있는 JavaScript 프레임워크입니다.  \n",
    "OpenAI는 JavaScript에서 OpenAI API를 간단하고 효율적으로 작업할 수 있게 해주는 맞춤형 Node.js/TypeScript 라이브러리를 제공합니다."
   ]
  },
  {
   "cell_type": "code",
   "execution_count": null,
   "metadata": {
    "vscode": {
     "languageId": "javascript"
    }
   },
   "outputs": [],
   "source": [
    "import OpenAI from \"openai\";\n",
    "\n",
    "const openai = new OpenAI();\n",
    "\n",
    "async function main() {\n",
    "  const completion = await openai.chat.completions.create({\n",
    "    messages: [{ role: \"system\", content: \"You are a helpful assistant.\" }],\n",
    "    model: \"gpt-3.5-turbo\",\n",
    "  });\n",
    "\n",
    "  console.log(completion.choices[0]);\n",
    "}\n",
    "\n",
    "main();"
   ]
  },
  {
   "cell_type": "markdown",
   "metadata": {},
   "source": [
    "---"
   ]
  },
  {
   "cell_type": "markdown",
   "metadata": {},
   "source": []
  }
 ],
 "metadata": {
  "language_info": {
   "name": "python"
  }
 },
 "nbformat": 4,
 "nbformat_minor": 2
}
